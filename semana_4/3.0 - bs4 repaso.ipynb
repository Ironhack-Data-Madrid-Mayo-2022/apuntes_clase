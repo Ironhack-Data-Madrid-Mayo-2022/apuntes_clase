{
 "cells": [
  {
   "cell_type": "code",
   "execution_count": 82,
   "id": "61d5179e",
   "metadata": {},
   "outputs": [],
   "source": [
    "import requests as req\n",
    "\n",
    "from bs4 import BeautifulSoup as bs\n",
    "\n",
    "import pandas as pd"
   ]
  },
  {
   "cell_type": "markdown",
   "id": "2c2ea4aa",
   "metadata": {},
   "source": [
    "## Ejemplo Terremotos"
   ]
  },
  {
   "cell_type": "code",
   "execution_count": 2,
   "id": "4cdf4d2a",
   "metadata": {},
   "outputs": [],
   "source": [
    "url='https://www.emsc-csem.org/Earthquake/'"
   ]
  },
  {
   "cell_type": "code",
   "execution_count": 3,
   "id": "d16cd56a",
   "metadata": {},
   "outputs": [],
   "source": [
    "html=req.get(url).content"
   ]
  },
  {
   "cell_type": "code",
   "execution_count": 4,
   "id": "f36a1f5c",
   "metadata": {},
   "outputs": [],
   "source": [
    "sopa=bs(html, 'html.parser')"
   ]
  },
  {
   "cell_type": "code",
   "execution_count": 9,
   "id": "3d9d4f28",
   "metadata": {},
   "outputs": [],
   "source": [
    "tablas=sopa.find_all('table')"
   ]
  },
  {
   "cell_type": "code",
   "execution_count": 30,
   "id": "196532af",
   "metadata": {},
   "outputs": [
    {
     "data": {
      "text/plain": [
       "bs4.element.Tag"
      ]
     },
     "execution_count": 30,
     "metadata": {},
     "output_type": "execute_result"
    }
   ],
   "source": [
    "tabla=tablas[3]\n",
    "\n",
    "type(tabla)"
   ]
  },
  {
   "cell_type": "code",
   "execution_count": 29,
   "id": "fc8e2696",
   "metadata": {},
   "outputs": [
    {
     "data": {
      "text/plain": [
       "bs4.element.ResultSet"
      ]
     },
     "execution_count": 29,
     "metadata": {},
     "output_type": "execute_result"
    }
   ],
   "source": [
    "cabeceras=tabla.find('thead').find_all('th')\n",
    "\n",
    "type(cabeceras)"
   ]
  },
  {
   "cell_type": "code",
   "execution_count": 26,
   "id": "5f2e932e",
   "metadata": {},
   "outputs": [],
   "source": [
    "cabezas=[]\n",
    "\n",
    "for e in cabeceras:\n",
    "    \n",
    "    cabezas.append(e.text)"
   ]
  },
  {
   "cell_type": "code",
   "execution_count": 43,
   "id": "105c53ff",
   "metadata": {},
   "outputs": [
    {
     "data": {
      "text/plain": [
       "['Date & Time UTC',\n",
       " 'Latitude degrees',\n",
       " 'Longitude degrees',\n",
       " 'Depth km',\n",
       " 'Mag  [+]',\n",
       " 'Region name  [+]']"
      ]
     },
     "execution_count": 43,
     "metadata": {},
     "output_type": "execute_result"
    }
   ],
   "source": [
    "cabeceras=[e.text for e in tabla.find('thead').find_all('th')][1:-1]\n",
    "\n",
    "cabeceras"
   ]
  },
  {
   "cell_type": "code",
   "execution_count": 32,
   "id": "30042d8d",
   "metadata": {},
   "outputs": [],
   "source": [
    "body=tabla.find('tbody')\n",
    "\n",
    "filas=body.find_all('tr')  # filas de la tabla"
   ]
  },
  {
   "cell_type": "code",
   "execution_count": 37,
   "id": "9ddc3028",
   "metadata": {},
   "outputs": [
    {
     "data": {
      "text/plain": [
       "['earthquake2022-06-22',\n",
       " '07:07:12.603min ago19.15',\n",
       " 'N',\n",
       " '155.46',\n",
       " 'W',\n",
       " '32Md2.2',\n",
       " 'ISLAND OF HAWAII, HAWAII2022-06-22 07:10']"
      ]
     },
     "execution_count": 37,
     "metadata": {},
     "output_type": "execute_result"
    }
   ],
   "source": [
    "[e for e in filas[0].text.split('\\xa0') if e!='']"
   ]
  },
  {
   "cell_type": "code",
   "execution_count": 44,
   "id": "c691da6d",
   "metadata": {},
   "outputs": [
    {
     "data": {
      "text/plain": [
       "['earthquake2022-06-22\\xa0\\xa0\\xa007:00:34.010min ago',\n",
       " '7.33',\n",
       " 'S',\n",
       " '129.50',\n",
       " 'E',\n",
       " '165',\n",
       " 'M',\n",
       " '4.6',\n",
       " 'KEPULAUAN BABAR, INDONESIA',\n",
       " '2022-06-22 07:10']"
      ]
     },
     "execution_count": 44,
     "metadata": {},
     "output_type": "execute_result"
    }
   ],
   "source": [
    "[e.text.strip() for e in filas[1].find_all('td') if e.text.strip()!='']"
   ]
  },
  {
   "cell_type": "code",
   "execution_count": 65,
   "id": "37da40a3",
   "metadata": {},
   "outputs": [
    {
     "data": {
      "text/plain": [
       "['2022-06-22   07:07:12.603min ago',\n",
       " '19.15 N',\n",
       " 'N',\n",
       " '155.46 W',\n",
       " 'W',\n",
       " '32',\n",
       " 'Md',\n",
       " '2.2',\n",
       " 'ISLAND OF HAWAII, HAWAII']"
      ]
     },
     "execution_count": 65,
     "metadata": {},
     "output_type": "execute_result"
    }
   ],
   "source": [
    "fila_uno=[e.text.strip() for e in filas[0].find_all('td') if e.text.strip()!='']\n",
    "\n",
    "\n",
    "fila_uno_prima=[]\n",
    "\n",
    "for i,e in enumerate(fila_uno):\n",
    "    \n",
    "    limpio=e.replace('earthquake', '').replace('\\xa0', ' ')\n",
    "    \n",
    "    junto=''\n",
    "    \n",
    "    if i==1 or i==3:\n",
    "        junto=fila_uno[i]+' '+fila_uno[i+1]\n",
    "        \n",
    "        fila_uno_prima.append(junto)\n",
    "        \n",
    "        continue\n",
    "        \n",
    "    \n",
    "    fila_uno_prima.append(limpio)\n",
    "\n",
    "    \n",
    "fila_uno_prima=fila_uno_prima[:-1]\n",
    "\n",
    "fila_uno_prima"
   ]
  },
  {
   "cell_type": "code",
   "execution_count": 66,
   "id": "ff51d4a1",
   "metadata": {},
   "outputs": [],
   "source": [
    "lst=[2, 3, 4]\n",
    "\n",
    "for e in lst:\n",
    "    fila_uno_prima.pop(e)"
   ]
  },
  {
   "cell_type": "code",
   "execution_count": 67,
   "id": "e303b765",
   "metadata": {},
   "outputs": [
    {
     "data": {
      "text/plain": [
       "['2022-06-22   07:07:12.603min ago',\n",
       " '19.15 N',\n",
       " '155.46 W',\n",
       " '32',\n",
       " '2.2',\n",
       " 'ISLAND OF HAWAII, HAWAII']"
      ]
     },
     "execution_count": 67,
     "metadata": {},
     "output_type": "execute_result"
    }
   ],
   "source": [
    "fila_uno_prima"
   ]
  },
  {
   "cell_type": "code",
   "execution_count": 84,
   "id": "023a5c69",
   "metadata": {},
   "outputs": [
    {
     "data": {
      "text/html": [
       "<div>\n",
       "<style scoped>\n",
       "    .dataframe tbody tr th:only-of-type {\n",
       "        vertical-align: middle;\n",
       "    }\n",
       "\n",
       "    .dataframe tbody tr th {\n",
       "        vertical-align: top;\n",
       "    }\n",
       "\n",
       "    .dataframe thead th {\n",
       "        text-align: right;\n",
       "    }\n",
       "</style>\n",
       "<table border=\"1\" class=\"dataframe\">\n",
       "  <thead>\n",
       "    <tr style=\"text-align: right;\">\n",
       "      <th></th>\n",
       "      <th>fecha</th>\n",
       "      <th>latitud</th>\n",
       "      <th>longitud</th>\n",
       "      <th>region</th>\n",
       "      <th>profundidad</th>\n",
       "      <th>magnitud</th>\n",
       "    </tr>\n",
       "  </thead>\n",
       "  <tbody>\n",
       "    <tr>\n",
       "      <th>0</th>\n",
       "      <td>2022-06-22   07:07:12.6</td>\n",
       "      <td>19.15 N</td>\n",
       "      <td>155.46 W</td>\n",
       "      <td>ISLAND OF HAWAII, HAWAII</td>\n",
       "      <td>32</td>\n",
       "      <td>2.2</td>\n",
       "    </tr>\n",
       "    <tr>\n",
       "      <th>1</th>\n",
       "      <td>2022-06-22   07:00:34.0</td>\n",
       "      <td>7.33 S</td>\n",
       "      <td>129.50 E</td>\n",
       "      <td>KEPULAUAN BABAR, INDONESIA</td>\n",
       "      <td>165</td>\n",
       "      <td>4.6</td>\n",
       "    </tr>\n",
       "    <tr>\n",
       "      <th>2</th>\n",
       "      <td>2022-06-22   06:49:12.9</td>\n",
       "      <td>2.72 N</td>\n",
       "      <td>128.78 E</td>\n",
       "      <td>HALMAHERA, INDONESIA</td>\n",
       "      <td>40</td>\n",
       "      <td>4.8</td>\n",
       "    </tr>\n",
       "    <tr>\n",
       "      <th>3</th>\n",
       "      <td>2022-06-22   06:48:09.2</td>\n",
       "      <td>2.08 N</td>\n",
       "      <td>96.49 E</td>\n",
       "      <td>SIMEULUE, INDONESIA</td>\n",
       "      <td>21</td>\n",
       "      <td>4.9</td>\n",
       "    </tr>\n",
       "    <tr>\n",
       "      <th>4</th>\n",
       "      <td>2022-06-22   06:38:42.0</td>\n",
       "      <td>11.58 N</td>\n",
       "      <td>86.82 W</td>\n",
       "      <td>NEAR COAST OF NICARAGUA</td>\n",
       "      <td>34</td>\n",
       "      <td>2.8</td>\n",
       "    </tr>\n",
       "  </tbody>\n",
       "</table>\n",
       "</div>"
      ],
      "text/plain": [
       "                     fecha    latitud    longitud  \\\n",
       "0  2022-06-22   07:07:12.6  19.15 N    155.46 W     \n",
       "1  2022-06-22   07:00:34.0   7.33 S    129.50 E     \n",
       "2  2022-06-22   06:49:12.9   2.72 N    128.78 E     \n",
       "3  2022-06-22   06:48:09.2   2.08 N     96.49 E     \n",
       "4  2022-06-22   06:38:42.0  11.58 N     86.82 W     \n",
       "\n",
       "                        region profundidad magnitud  \n",
       "0     ISLAND OF HAWAII, HAWAII          32      2.2  \n",
       "1   KEPULAUAN BABAR, INDONESIA         165      4.6  \n",
       "2         HALMAHERA, INDONESIA          40      4.8  \n",
       "3          SIMEULUE, INDONESIA          21      4.9  \n",
       "4      NEAR COAST OF NICARAGUA          34      2.8  "
      ]
     },
     "execution_count": 84,
     "metadata": {},
     "output_type": "execute_result"
    }
   ],
   "source": [
    "tabla=sopa.find_all('tr', class_= 'normal')\n",
    "\n",
    "data=[]\n",
    "\n",
    "for tr in tabla:\n",
    "    \n",
    "    fecha=tr.contents[3].find('a').text\n",
    "    \n",
    "    latitud=tr.contents[4].text + tr.contents[5].text\n",
    "    longitud=tr.contents[6].text + tr.contents[7].text\n",
    "    \n",
    "    profundidad=tr.contents[8].text\n",
    "    magnitud=tr.contents[10].text\n",
    "    \n",
    "    region=tr.contents[11].text\n",
    "    \n",
    "    data.append([fecha, latitud, longitud, region, profundidad, magnitud])\n",
    "    \n",
    "    \n",
    "terremotos=pd.DataFrame(data, columns=['fecha', 'latitud', 'longitud', 'region', 'profundidad', 'magnitud'])\n",
    "\n",
    "terremotos.head()"
   ]
  },
  {
   "cell_type": "code",
   "execution_count": null,
   "id": "469ad4e9",
   "metadata": {},
   "outputs": [],
   "source": []
  },
  {
   "cell_type": "code",
   "execution_count": null,
   "id": "a892a740",
   "metadata": {},
   "outputs": [],
   "source": []
  },
  {
   "cell_type": "code",
   "execution_count": null,
   "id": "bfdd351b",
   "metadata": {},
   "outputs": [],
   "source": []
  },
  {
   "cell_type": "code",
   "execution_count": null,
   "id": "f834f1ac",
   "metadata": {},
   "outputs": [],
   "source": []
  },
  {
   "cell_type": "code",
   "execution_count": null,
   "id": "4a8cc6dd",
   "metadata": {},
   "outputs": [],
   "source": []
  }
 ],
 "metadata": {
  "kernelspec": {
   "display_name": "clase",
   "language": "python",
   "name": "clase"
  },
  "language_info": {
   "codemirror_mode": {
    "name": "ipython",
    "version": 3
   },
   "file_extension": ".py",
   "mimetype": "text/x-python",
   "name": "python",
   "nbconvert_exporter": "python",
   "pygments_lexer": "ipython3",
   "version": "3.9.7"
  }
 },
 "nbformat": 4,
 "nbformat_minor": 5
}
