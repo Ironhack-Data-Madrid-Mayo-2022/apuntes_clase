{
 "cells": [
  {
   "cell_type": "markdown",
   "id": "296c3fa2",
   "metadata": {},
   "source": [
    "# 4.1 - MongoDB\n",
    "\n",
    "![mongo](images/mongodb.jpeg)\n",
    "\n",
    "https://docs.mongodb.com/manual/administration/install-community/\n",
    "\n",
    "https://docs.mongodb.com/compass/current/install/\n",
    "\n",
    "MongoDB es una base de datos orientada a documentos. Esto quiere decir que en lugar de guardar los datos en registros, guarda los datos en documentos. Estos documentos son almacenados en BSON, que es una representación binaria de JSON.\n",
    "\n",
    "Una de las diferencias más importantes con respecto a las bases de datos relacionales, es que no es necesario seguir un esquema. Los documentos de una misma colección, concepto similar a una tabla de una base de datos relacional, pueden tener esquemas diferentes.\n"
   ]
  },
  {
   "cell_type": "code",
   "execution_count": 1,
   "id": "d686b82b",
   "metadata": {},
   "outputs": [
    {
     "name": "stdout",
     "output_type": "stream",
     "text": [
      "Requirement already satisfied: pymongo in /Users/iudh/miniforge3/envs/clase/lib/python3.9/site-packages (4.1.0)\n",
      "Note: you may need to restart the kernel to use updated packages.\n"
     ]
    }
   ],
   "source": [
    "%pip install pymongo"
   ]
  },
  {
   "cell_type": "code",
   "execution_count": 2,
   "id": "b53f90eb",
   "metadata": {},
   "outputs": [],
   "source": [
    "from pymongo import MongoClient\n",
    "\n",
    "import warnings\n",
    "warnings.filterwarnings('ignore')"
   ]
  },
  {
   "cell_type": "code",
   "execution_count": 4,
   "id": "87c2662e",
   "metadata": {},
   "outputs": [
    {
     "data": {
      "text/plain": [
       "MongoClient(host=['localhost:27017'], document_class=dict, tz_aware=False, connect=True)"
      ]
     },
     "execution_count": 4,
     "metadata": {},
     "output_type": "execute_result"
    }
   ],
   "source": [
    "cliente=MongoClient('mongodb://localhost:27017')    # esto es el cursor/motor\n",
    "\n",
    "cliente"
   ]
  },
  {
   "cell_type": "code",
   "execution_count": 5,
   "id": "0eff5667",
   "metadata": {},
   "outputs": [
    {
     "data": {
      "text/plain": [
       "['admin',\n",
       " 'arbbot',\n",
       " 'companies',\n",
       " 'complete_exchange_matches',\n",
       " 'config',\n",
       " 'ironcomes',\n",
       " 'local',\n",
       " 'telegram_messages']"
      ]
     },
     "execution_count": 5,
     "metadata": {},
     "output_type": "execute_result"
    }
   ],
   "source": [
    "cliente.list_database_names()   # lista de las bases de datos"
   ]
  },
  {
   "cell_type": "code",
   "execution_count": 6,
   "id": "882a8427",
   "metadata": {},
   "outputs": [],
   "source": [
    "db=cliente.nueva_db   # nueva base de datos"
   ]
  },
  {
   "cell_type": "code",
   "execution_count": 7,
   "id": "ae026dc9",
   "metadata": {},
   "outputs": [
    {
     "data": {
      "text/plain": [
       "['admin',\n",
       " 'arbbot',\n",
       " 'companies',\n",
       " 'complete_exchange_matches',\n",
       " 'config',\n",
       " 'ironcomes',\n",
       " 'local',\n",
       " 'telegram_messages']"
      ]
     },
     "execution_count": 7,
     "metadata": {},
     "output_type": "execute_result"
    }
   ],
   "source": [
    "cliente.list_database_names()  "
   ]
  },
  {
   "cell_type": "code",
   "execution_count": 8,
   "id": "af4151db",
   "metadata": {},
   "outputs": [],
   "source": [
    "colec=db.n_colec   # nueva coleccion"
   ]
  },
  {
   "cell_type": "code",
   "execution_count": 9,
   "id": "bc989056",
   "metadata": {},
   "outputs": [
    {
     "data": {
      "text/plain": [
       "[]"
      ]
     },
     "execution_count": 9,
     "metadata": {},
     "output_type": "execute_result"
    }
   ],
   "source": [
    "db.list_collection_names()    # lista de las colecciones"
   ]
  },
  {
   "cell_type": "code",
   "execution_count": 11,
   "id": "85c8002d",
   "metadata": {},
   "outputs": [
    {
     "data": {
      "text/plain": [
       "<pymongo.results.InsertOneResult at 0x103c6b6d0>"
      ]
     },
     "execution_count": 11,
     "metadata": {},
     "output_type": "execute_result"
    }
   ],
   "source": [
    "# insertar datos\n",
    "\n",
    "\n",
    "dictio={'nombre': 'poepe', 'edad': 22}\n",
    "\n",
    "colec.insert_one(dictio)"
   ]
  },
  {
   "cell_type": "code",
   "execution_count": 12,
   "id": "6afb0b69",
   "metadata": {},
   "outputs": [
    {
     "data": {
      "text/plain": [
       "['n_colec']"
      ]
     },
     "execution_count": 12,
     "metadata": {},
     "output_type": "execute_result"
    }
   ],
   "source": [
    "db.list_collection_names()"
   ]
  },
  {
   "cell_type": "code",
   "execution_count": 13,
   "id": "f4320811",
   "metadata": {},
   "outputs": [
    {
     "data": {
      "text/plain": [
       "['admin',\n",
       " 'arbbot',\n",
       " 'companies',\n",
       " 'complete_exchange_matches',\n",
       " 'config',\n",
       " 'ironcomes',\n",
       " 'local',\n",
       " 'nueva_db',\n",
       " 'telegram_messages']"
      ]
     },
     "execution_count": 13,
     "metadata": {},
     "output_type": "execute_result"
    }
   ],
   "source": [
    "cliente.list_database_names()"
   ]
  },
  {
   "cell_type": "code",
   "execution_count": 14,
   "id": "812407c3",
   "metadata": {},
   "outputs": [
    {
     "data": {
      "text/plain": [
       "<pymongo.results.InsertManyResult at 0x104455310>"
      ]
     },
     "execution_count": 14,
     "metadata": {},
     "output_type": "execute_result"
    }
   ],
   "source": [
    "# insertar varios\n",
    "\n",
    "# insert into colec (columnas) values (valores);\n",
    "\n",
    "\n",
    "json=[{'nombre': 'Ana', 'edad': 24},\n",
    "      {'_id': 20, 'actividad': 'natacion', 'hora': '22:00', 'lugar': 'jultayu'}]\n",
    "\n",
    "colec.insert_many(json)"
   ]
  },
  {
   "cell_type": "code",
   "execution_count": 17,
   "id": "e54fc648",
   "metadata": {},
   "outputs": [
    {
     "data": {
      "text/plain": [
       "<pymongo.results.InsertManyResult at 0x104317e50>"
      ]
     },
     "execution_count": 17,
     "metadata": {},
     "output_type": "execute_result"
    }
   ],
   "source": [
    "json=[{'nombre': 'Ana', 'edad': 24},\n",
    "      {'_id': 22, 'actividad': 'natacion', 'hora': '22:00', 'lugar': 'jultayu'}]\n",
    "\n",
    "colec.insert_many(json)"
   ]
  },
  {
   "cell_type": "code",
   "execution_count": 18,
   "id": "0dcf515f",
   "metadata": {},
   "outputs": [
    {
     "data": {
      "text/plain": [
       "<pymongo.cursor.Cursor at 0x10445a760>"
      ]
     },
     "execution_count": 18,
     "metadata": {},
     "output_type": "execute_result"
    }
   ],
   "source": [
    "# llamar a la base de datos, como el select\n",
    "\n",
    "colec.find()  # select * from colec"
   ]
  },
  {
   "cell_type": "code",
   "execution_count": 21,
   "id": "51f1daf9",
   "metadata": {},
   "outputs": [
    {
     "data": {
      "text/plain": [
       "[{'_id': ObjectId('62aaddb31762c4d459a44934'), 'nombre': 'poepe', 'edad': 22},\n",
       " {'_id': ObjectId('62aadea21762c4d459a44935'), 'nombre': 'Ana', 'edad': 24},\n",
       " {'_id': 20, 'actividad': 'natacion', 'hora': '22:00', 'lugar': 'jultayu'},\n",
       " {'_id': ObjectId('62aaded01762c4d459a44936'), 'nombre': 'Ana', 'edad': 24},\n",
       " {'_id': ObjectId('62aadede1762c4d459a44937'), 'nombre': 'Ana', 'edad': 24},\n",
       " {'_id': 21, 'actividad': 'natacion', 'hora': '22:00', 'lugar': 'jultayu'},\n",
       " {'_id': ObjectId('62aadf481762c4d459a44938'), 'nombre': 'Ana', 'edad': 24},\n",
       " {'_id': 22, 'actividad': 'natacion', 'hora': '22:00', 'lugar': 'jultayu'}]"
      ]
     },
     "execution_count": 21,
     "metadata": {},
     "output_type": "execute_result"
    }
   ],
   "source": [
    "list(colec.find())"
   ]
  },
  {
   "cell_type": "code",
   "execution_count": 23,
   "id": "45b50423",
   "metadata": {},
   "outputs": [],
   "source": [
    "c=list(colec.find())"
   ]
  },
  {
   "cell_type": "code",
   "execution_count": 27,
   "id": "20e41237",
   "metadata": {},
   "outputs": [
    {
     "data": {
      "text/plain": [
       "dict_values([20, 'natacion', '22:00', 'jultayu'])"
      ]
     },
     "execution_count": 27,
     "metadata": {},
     "output_type": "execute_result"
    }
   ],
   "source": [
    "c[2].values()"
   ]
  },
  {
   "cell_type": "code",
   "execution_count": 29,
   "id": "db7dc826",
   "metadata": {},
   "outputs": [
    {
     "data": {
      "text/plain": [
       "<pymongo.results.InsertManyResult at 0x1057eb1f0>"
      ]
     },
     "execution_count": 29,
     "metadata": {},
     "output_type": "execute_result"
    }
   ],
   "source": [
    "json=[{'nombre': 'Ana', 'edad': 42},\n",
    "      {'nombre': 'Juan', 'edad': 30},\n",
    "      {'nombre': 'Maria', 'edad': 12},\n",
    "      {'nombre': 'Joase', 'edad': 5},\n",
    "      {'nombre': 'Hola', 'edad': 70},\n",
    "      ]\n",
    "\n",
    "colec.insert_many(json)"
   ]
  },
  {
   "cell_type": "markdown",
   "id": "5cec891a",
   "metadata": {},
   "source": [
    "### Queries"
   ]
  },
  {
   "cell_type": "code",
   "execution_count": 30,
   "id": "308bdc0f",
   "metadata": {},
   "outputs": [
    {
     "data": {
      "text/plain": [
       "[{'_id': ObjectId('62aaddb31762c4d459a44934'), 'nombre': 'poepe', 'edad': 22},\n",
       " {'_id': ObjectId('62aadea21762c4d459a44935'), 'nombre': 'Ana', 'edad': 24},\n",
       " {'_id': 20, 'actividad': 'natacion', 'hora': '22:00', 'lugar': 'jultayu'},\n",
       " {'_id': ObjectId('62aaded01762c4d459a44936'), 'nombre': 'Ana', 'edad': 24},\n",
       " {'_id': ObjectId('62aadede1762c4d459a44937'), 'nombre': 'Ana', 'edad': 24},\n",
       " {'_id': 21, 'actividad': 'natacion', 'hora': '22:00', 'lugar': 'jultayu'},\n",
       " {'_id': ObjectId('62aadf481762c4d459a44938'), 'nombre': 'Ana', 'edad': 24},\n",
       " {'_id': 22, 'actividad': 'natacion', 'hora': '22:00', 'lugar': 'jultayu'},\n",
       " {'_id': ObjectId('62aae52a1762c4d459a44939'), 'nombre': 'Ana', 'edad': 42},\n",
       " {'_id': ObjectId('62aae52a1762c4d459a4493a'), 'nombre': 'Juan', 'edad': 30},\n",
       " {'_id': ObjectId('62aae52a1762c4d459a4493b'), 'nombre': 'Maria', 'edad': 12},\n",
       " {'_id': ObjectId('62aae52a1762c4d459a4493c'), 'nombre': 'Joase', 'edad': 5},\n",
       " {'_id': ObjectId('62aae52a1762c4d459a4493d'), 'nombre': 'Hola', 'edad': 70},\n",
       " {'_id': ObjectId('62aae5341762c4d459a4493e'), 'nombre': 'Ana', 'edad': 42},\n",
       " {'_id': ObjectId('62aae5341762c4d459a4493f'), 'nombre': 'Juan', 'edad': 30},\n",
       " {'_id': ObjectId('62aae5341762c4d459a44940'), 'nombre': 'Maria', 'edad': 12},\n",
       " {'_id': ObjectId('62aae5341762c4d459a44941'), 'nombre': 'Joase', 'edad': 5},\n",
       " {'_id': ObjectId('62aae5341762c4d459a44942'), 'nombre': 'Hola', 'edad': 70}]"
      ]
     },
     "execution_count": 30,
     "metadata": {},
     "output_type": "execute_result"
    }
   ],
   "source": [
    "list(colec.find())"
   ]
  },
  {
   "cell_type": "code",
   "execution_count": 31,
   "id": "52107153",
   "metadata": {},
   "outputs": [
    {
     "data": {
      "text/plain": [
       "[{'_id': ObjectId('62aae52a1762c4d459a4493b'), 'nombre': 'Maria', 'edad': 12},\n",
       " {'_id': ObjectId('62aae5341762c4d459a44940'), 'nombre': 'Maria', 'edad': 12}]"
      ]
     },
     "execution_count": 31,
     "metadata": {},
     "output_type": "execute_result"
    }
   ],
   "source": [
    "list(colec.find({'edad': 12}))"
   ]
  },
  {
   "cell_type": "code",
   "execution_count": 32,
   "id": "dbfc33db",
   "metadata": {},
   "outputs": [
    {
     "data": {
      "text/plain": [
       "[{'_id': ObjectId('62aadea21762c4d459a44935'), 'nombre': 'Ana', 'edad': 24},\n",
       " {'_id': ObjectId('62aaded01762c4d459a44936'), 'nombre': 'Ana', 'edad': 24},\n",
       " {'_id': ObjectId('62aadede1762c4d459a44937'), 'nombre': 'Ana', 'edad': 24},\n",
       " {'_id': ObjectId('62aadf481762c4d459a44938'), 'nombre': 'Ana', 'edad': 24},\n",
       " {'_id': ObjectId('62aae52a1762c4d459a44939'), 'nombre': 'Ana', 'edad': 42},\n",
       " {'_id': ObjectId('62aae5341762c4d459a4493e'), 'nombre': 'Ana', 'edad': 42}]"
      ]
     },
     "execution_count": 32,
     "metadata": {},
     "output_type": "execute_result"
    }
   ],
   "source": [
    "list(colec.find({'nombre': 'Ana'}))   # equivalente sql: select * from colec where nombre = Ana;"
   ]
  },
  {
   "cell_type": "code",
   "execution_count": 33,
   "id": "b2294eb5",
   "metadata": {},
   "outputs": [
    {
     "data": {
      "text/plain": [
       "[{'_id': ObjectId('62aaddb31762c4d459a44934'), 'nombre': 'poepe', 'edad': 22},\n",
       " {'_id': ObjectId('62aadea21762c4d459a44935'), 'nombre': 'Ana', 'edad': 24},\n",
       " {'_id': ObjectId('62aaded01762c4d459a44936'), 'nombre': 'Ana', 'edad': 24},\n",
       " {'_id': ObjectId('62aadede1762c4d459a44937'), 'nombre': 'Ana', 'edad': 24},\n",
       " {'_id': ObjectId('62aadf481762c4d459a44938'), 'nombre': 'Ana', 'edad': 24},\n",
       " {'_id': ObjectId('62aae52a1762c4d459a44939'), 'nombre': 'Ana', 'edad': 42},\n",
       " {'_id': ObjectId('62aae52a1762c4d459a4493a'), 'nombre': 'Juan', 'edad': 30},\n",
       " {'_id': ObjectId('62aae52a1762c4d459a4493b'), 'nombre': 'Maria', 'edad': 12},\n",
       " {'_id': ObjectId('62aae52a1762c4d459a4493d'), 'nombre': 'Hola', 'edad': 70},\n",
       " {'_id': ObjectId('62aae5341762c4d459a4493e'), 'nombre': 'Ana', 'edad': 42},\n",
       " {'_id': ObjectId('62aae5341762c4d459a4493f'), 'nombre': 'Juan', 'edad': 30},\n",
       " {'_id': ObjectId('62aae5341762c4d459a44940'), 'nombre': 'Maria', 'edad': 12},\n",
       " {'_id': ObjectId('62aae5341762c4d459a44942'), 'nombre': 'Hola', 'edad': 70}]"
      ]
     },
     "execution_count": 33,
     "metadata": {},
     "output_type": "execute_result"
    }
   ],
   "source": [
    "list(colec.find({'edad': {'$gte': 12}})) # equivalente sql: select * from colec where edad >= 12;"
   ]
  },
  {
   "cell_type": "code",
   "execution_count": 34,
   "id": "347ac0ff",
   "metadata": {},
   "outputs": [
    {
     "data": {
      "text/plain": [
       "[{'_id': ObjectId('62aaddb31762c4d459a44934'), 'nombre': 'poepe', 'edad': 22},\n",
       " {'_id': ObjectId('62aadea21762c4d459a44935'), 'nombre': 'Ana', 'edad': 24},\n",
       " {'_id': ObjectId('62aaded01762c4d459a44936'), 'nombre': 'Ana', 'edad': 24},\n",
       " {'_id': ObjectId('62aadede1762c4d459a44937'), 'nombre': 'Ana', 'edad': 24},\n",
       " {'_id': ObjectId('62aadf481762c4d459a44938'), 'nombre': 'Ana', 'edad': 24},\n",
       " {'_id': ObjectId('62aae52a1762c4d459a44939'), 'nombre': 'Ana', 'edad': 42},\n",
       " {'_id': ObjectId('62aae52a1762c4d459a4493a'), 'nombre': 'Juan', 'edad': 30},\n",
       " {'_id': ObjectId('62aae52a1762c4d459a4493d'), 'nombre': 'Hola', 'edad': 70},\n",
       " {'_id': ObjectId('62aae5341762c4d459a4493e'), 'nombre': 'Ana', 'edad': 42},\n",
       " {'_id': ObjectId('62aae5341762c4d459a4493f'), 'nombre': 'Juan', 'edad': 30},\n",
       " {'_id': ObjectId('62aae5341762c4d459a44942'), 'nombre': 'Hola', 'edad': 70}]"
      ]
     },
     "execution_count": 34,
     "metadata": {},
     "output_type": "execute_result"
    }
   ],
   "source": [
    "list(colec.find({'edad': {'$gt': 12}}))# equivalente sql: select * from colec where edad > 12;"
   ]
  },
  {
   "cell_type": "code",
   "execution_count": 35,
   "id": "18f2b6d7",
   "metadata": {},
   "outputs": [
    {
     "data": {
      "text/plain": [
       "[{'_id': ObjectId('62aaddb31762c4d459a44934'), 'nombre': 'poepe', 'edad': 22},\n",
       " {'_id': ObjectId('62aadea21762c4d459a44935'), 'nombre': 'Ana', 'edad': 24},\n",
       " {'_id': ObjectId('62aaded01762c4d459a44936'), 'nombre': 'Ana', 'edad': 24},\n",
       " {'_id': ObjectId('62aadede1762c4d459a44937'), 'nombre': 'Ana', 'edad': 24},\n",
       " {'_id': ObjectId('62aadf481762c4d459a44938'), 'nombre': 'Ana', 'edad': 24},\n",
       " {'_id': ObjectId('62aae52a1762c4d459a4493b'), 'nombre': 'Maria', 'edad': 12},\n",
       " {'_id': ObjectId('62aae52a1762c4d459a4493c'), 'nombre': 'Joase', 'edad': 5},\n",
       " {'_id': ObjectId('62aae5341762c4d459a44940'), 'nombre': 'Maria', 'edad': 12},\n",
       " {'_id': ObjectId('62aae5341762c4d459a44941'), 'nombre': 'Joase', 'edad': 5}]"
      ]
     },
     "execution_count": 35,
     "metadata": {},
     "output_type": "execute_result"
    }
   ],
   "source": [
    "list(colec.find({'edad': {'$lte': 24}}))# equivalente sql: select * from colec where edad <= 24;"
   ]
  },
  {
   "cell_type": "code",
   "execution_count": 36,
   "id": "834043b6",
   "metadata": {},
   "outputs": [
    {
     "data": {
      "text/plain": [
       "[{'_id': ObjectId('62aaddb31762c4d459a44934'), 'nombre': 'poepe', 'edad': 22},\n",
       " {'_id': ObjectId('62aae52a1762c4d459a4493b'), 'nombre': 'Maria', 'edad': 12},\n",
       " {'_id': ObjectId('62aae52a1762c4d459a4493c'), 'nombre': 'Joase', 'edad': 5},\n",
       " {'_id': ObjectId('62aae5341762c4d459a44940'), 'nombre': 'Maria', 'edad': 12},\n",
       " {'_id': ObjectId('62aae5341762c4d459a44941'), 'nombre': 'Joase', 'edad': 5}]"
      ]
     },
     "execution_count": 36,
     "metadata": {},
     "output_type": "execute_result"
    }
   ],
   "source": [
    "list(colec.find({'edad': {'$lt': 24}}))# equivalente sql: select * from colec where edad < 24;"
   ]
  },
  {
   "cell_type": "code",
   "execution_count": 37,
   "id": "27846ebb",
   "metadata": {},
   "outputs": [
    {
     "data": {
      "text/plain": [
       "[{'_id': ObjectId('62aaddb31762c4d459a44934'), 'nombre': 'poepe', 'edad': 22},\n",
       " {'_id': ObjectId('62aae52a1762c4d459a4493b'), 'nombre': 'Maria', 'edad': 12},\n",
       " {'_id': ObjectId('62aae52a1762c4d459a4493c'), 'nombre': 'Joase', 'edad': 5}]"
      ]
     },
     "execution_count": 37,
     "metadata": {},
     "output_type": "execute_result"
    }
   ],
   "source": [
    "list(colec.find({'edad': {'$lt': 24}}).limit(3)  )    # equivalente sql: select * from colec where edad < 24 limit 3;"
   ]
  },
  {
   "cell_type": "code",
   "execution_count": 40,
   "id": "0442338a",
   "metadata": {},
   "outputs": [
    {
     "data": {
      "text/plain": [
       "[{'_id': ObjectId('62aaddb31762c4d459a44934'), 'nombre': 'poepe', 'edad': 22},\n",
       " {'_id': ObjectId('62aae5341762c4d459a44940'), 'nombre': 'Maria', 'edad': 12},\n",
       " {'_id': ObjectId('62aae52a1762c4d459a4493b'), 'nombre': 'Maria', 'edad': 12}]"
      ]
     },
     "execution_count": 40,
     "metadata": {},
     "output_type": "execute_result"
    }
   ],
   "source": [
    "list(colec.find({'edad': {'$lt': 24}}).sort('edad', -1).limit(3))  \n",
    "# equivalente sql: select * from colec where edad < 24 order by edad desc limit 3;"
   ]
  },
  {
   "cell_type": "code",
   "execution_count": 50,
   "id": "dce6127a",
   "metadata": {},
   "outputs": [
    {
     "data": {
      "text/plain": [
       "[{'_id': '', 'count': 18}]"
      ]
     },
     "execution_count": 50,
     "metadata": {},
     "output_type": "execute_result"
    }
   ],
   "source": [
    "list(colec.aggregate([\n",
    "    {\"$group\" : {'_id':'', 'count':{'$sum': 1}}}\n",
    "]))\n",
    "\n",
    "\n",
    "# select count(*) from colec group by _id;   # por cada id suma 1"
   ]
  },
  {
   "cell_type": "code",
   "execution_count": 51,
   "id": "cb1b6794",
   "metadata": {},
   "outputs": [
    {
     "data": {
      "text/plain": [
       "<pymongo.results.DeleteResult at 0x1065f47f0>"
      ]
     },
     "execution_count": 51,
     "metadata": {},
     "output_type": "execute_result"
    }
   ],
   "source": [
    "# borrar documento\n",
    "\n",
    "\n",
    "colec.delete_one({'_id': 20})"
   ]
  },
  {
   "cell_type": "code",
   "execution_count": 52,
   "id": "bd5b3f2d",
   "metadata": {},
   "outputs": [
    {
     "data": {
      "text/plain": [
       "[{'_id': ObjectId('62aaddb31762c4d459a44934'), 'nombre': 'poepe', 'edad': 22},\n",
       " {'_id': ObjectId('62aadea21762c4d459a44935'), 'nombre': 'Ana', 'edad': 24},\n",
       " {'_id': ObjectId('62aaded01762c4d459a44936'), 'nombre': 'Ana', 'edad': 24},\n",
       " {'_id': ObjectId('62aadede1762c4d459a44937'), 'nombre': 'Ana', 'edad': 24},\n",
       " {'_id': 21, 'actividad': 'natacion', 'hora': '22:00', 'lugar': 'jultayu'},\n",
       " {'_id': ObjectId('62aadf481762c4d459a44938'), 'nombre': 'Ana', 'edad': 24},\n",
       " {'_id': 22, 'actividad': 'natacion', 'hora': '22:00', 'lugar': 'jultayu'},\n",
       " {'_id': ObjectId('62aae52a1762c4d459a44939'), 'nombre': 'Ana', 'edad': 42},\n",
       " {'_id': ObjectId('62aae52a1762c4d459a4493a'), 'nombre': 'Juan', 'edad': 30},\n",
       " {'_id': ObjectId('62aae52a1762c4d459a4493b'), 'nombre': 'Maria', 'edad': 12},\n",
       " {'_id': ObjectId('62aae52a1762c4d459a4493c'), 'nombre': 'Joase', 'edad': 5},\n",
       " {'_id': ObjectId('62aae52a1762c4d459a4493d'), 'nombre': 'Hola', 'edad': 70},\n",
       " {'_id': ObjectId('62aae5341762c4d459a4493e'), 'nombre': 'Ana', 'edad': 42},\n",
       " {'_id': ObjectId('62aae5341762c4d459a4493f'), 'nombre': 'Juan', 'edad': 30},\n",
       " {'_id': ObjectId('62aae5341762c4d459a44940'), 'nombre': 'Maria', 'edad': 12},\n",
       " {'_id': ObjectId('62aae5341762c4d459a44941'), 'nombre': 'Joase', 'edad': 5},\n",
       " {'_id': ObjectId('62aae5341762c4d459a44942'), 'nombre': 'Hola', 'edad': 70}]"
      ]
     },
     "execution_count": 52,
     "metadata": {},
     "output_type": "execute_result"
    }
   ],
   "source": [
    "list(colec.find())"
   ]
  },
  {
   "cell_type": "code",
   "execution_count": 53,
   "id": "509215c5",
   "metadata": {},
   "outputs": [
    {
     "data": {
      "text/plain": [
       "<pymongo.results.DeleteResult at 0x1067aafa0>"
      ]
     },
     "execution_count": 53,
     "metadata": {},
     "output_type": "execute_result"
    }
   ],
   "source": [
    "colec.delete_many({'nombre': 'Ana'})   # delete from colec where nombre=Ana;"
   ]
  },
  {
   "cell_type": "code",
   "execution_count": 54,
   "id": "3596c61e",
   "metadata": {},
   "outputs": [
    {
     "data": {
      "text/plain": [
       "[{'_id': ObjectId('62aaddb31762c4d459a44934'), 'nombre': 'poepe', 'edad': 22},\n",
       " {'_id': 21, 'actividad': 'natacion', 'hora': '22:00', 'lugar': 'jultayu'},\n",
       " {'_id': 22, 'actividad': 'natacion', 'hora': '22:00', 'lugar': 'jultayu'},\n",
       " {'_id': ObjectId('62aae52a1762c4d459a4493a'), 'nombre': 'Juan', 'edad': 30},\n",
       " {'_id': ObjectId('62aae52a1762c4d459a4493b'), 'nombre': 'Maria', 'edad': 12},\n",
       " {'_id': ObjectId('62aae52a1762c4d459a4493c'), 'nombre': 'Joase', 'edad': 5},\n",
       " {'_id': ObjectId('62aae52a1762c4d459a4493d'), 'nombre': 'Hola', 'edad': 70},\n",
       " {'_id': ObjectId('62aae5341762c4d459a4493f'), 'nombre': 'Juan', 'edad': 30},\n",
       " {'_id': ObjectId('62aae5341762c4d459a44940'), 'nombre': 'Maria', 'edad': 12},\n",
       " {'_id': ObjectId('62aae5341762c4d459a44941'), 'nombre': 'Joase', 'edad': 5},\n",
       " {'_id': ObjectId('62aae5341762c4d459a44942'), 'nombre': 'Hola', 'edad': 70}]"
      ]
     },
     "execution_count": 54,
     "metadata": {},
     "output_type": "execute_result"
    }
   ],
   "source": [
    "list(colec.find())"
   ]
  },
  {
   "cell_type": "code",
   "execution_count": 55,
   "id": "d3462603",
   "metadata": {},
   "outputs": [],
   "source": [
    "colec.drop()"
   ]
  },
  {
   "cell_type": "code",
   "execution_count": 57,
   "id": "bb1ec1ca",
   "metadata": {
    "scrolled": false
   },
   "outputs": [
    {
     "data": {
      "text/plain": [
       "[]"
      ]
     },
     "execution_count": 57,
     "metadata": {},
     "output_type": "execute_result"
    }
   ],
   "source": [
    "db.list_collection_names()"
   ]
  },
  {
   "cell_type": "markdown",
   "id": "be3cedee",
   "metadata": {},
   "source": [
    "### DB Companies"
   ]
  },
  {
   "cell_type": "code",
   "execution_count": 58,
   "id": "501d1ab6",
   "metadata": {},
   "outputs": [],
   "source": [
    "db=cliente.companies   # cliente.base_de_datos"
   ]
  },
  {
   "cell_type": "code",
   "execution_count": 59,
   "id": "03fe7510",
   "metadata": {},
   "outputs": [],
   "source": [
    "colec=db.companies     # base_de_datos.coleccion"
   ]
  },
  {
   "cell_type": "code",
   "execution_count": 63,
   "id": "96a82439",
   "metadata": {
    "scrolled": false
   },
   "outputs": [],
   "source": [
    "#list(colec.find().limit(1))"
   ]
  },
  {
   "cell_type": "code",
   "execution_count": 71,
   "id": "d163257f",
   "metadata": {},
   "outputs": [
    {
     "data": {
      "text/plain": [
       "[{'name': 'Nokaut', 'category_code': 'ecommerce'},\n",
       " {'name': 'Atlantic BT', 'category_code': 'web'},\n",
       " {'name': 'Gambolio', 'category_code': 'web'},\n",
       " {'name': 'Kicker Films', 'category_code': 'ecommerce'},\n",
       " {'name': 'iGuiders', 'category_code': 'web'},\n",
       " {'name': 'Optemo', 'category_code': 'web'},\n",
       " {'name': 'Zoomission', 'category_code': 'web'},\n",
       " {'name': 'Eazeeloans', 'category_code': 'web'},\n",
       " {'name': 'DocASAP', 'category_code': 'web'},\n",
       " {'name': 'goBookmaker', 'category_code': 'web'}]"
      ]
     },
     "execution_count": 71,
     "metadata": {},
     "output_type": "execute_result"
    }
   ],
   "source": [
    "list(colec.find({'$or': [{'category_code': 'web'}, \n",
    "                         {'category_code': 'ecommerce'}]},\n",
    "               \n",
    "               {'_id': False, 'name':True, 'category_code': True}\n",
    "               \n",
    "               ))[-10:]"
   ]
  },
  {
   "cell_type": "code",
   "execution_count": 74,
   "id": "39053424",
   "metadata": {},
   "outputs": [
    {
     "data": {
      "text/plain": [
       "[{'name': 'SmallWorlds', 'category_code': 'web', 'founded_year': 1800},\n",
       " {'name': 'WeGame', 'category_code': 'web', 'founded_year': 1840},\n",
       " {'name': 'The Economist Group', 'category_code': 'web', 'founded_year': 1843},\n",
       " {'name': 'Elsevier', 'category_code': 'web', 'founded_year': 1880},\n",
       " {'name': 'Los Angeles Times Media Group',\n",
       "  'category_code': 'web',\n",
       "  'founded_year': 1881},\n",
       " {'name': 'National Geographic', 'category_code': 'web', 'founded_year': 1888},\n",
       " {'name': 'Financial Times', 'category_code': 'web', 'founded_year': 1888},\n",
       " {'name': 'PA SportsTicker', 'category_code': 'web', 'founded_year': 1909},\n",
       " {'name': 'Nielsen', 'category_code': 'web', 'founded_year': 1922},\n",
       " {'name': 'Consumers Union', 'category_code': 'web', 'founded_year': 1936}]"
      ]
     },
     "execution_count": 74,
     "metadata": {},
     "output_type": "execute_result"
    }
   ],
   "source": [
    "list(colec.find({'$and': [{'category_code': 'web'}, \n",
    "                          {'founded_year': {'$lte': 2002}}]},\n",
    "               \n",
    "               {'_id': False, 'name':True, 'category_code': True, 'founded_year': True}\n",
    "               \n",
    "               ).sort('founded_year', 1).limit(10)\n",
    "    \n",
    "    )"
   ]
  },
  {
   "cell_type": "code",
   "execution_count": 76,
   "id": "2e4f4e5c",
   "metadata": {},
   "outputs": [
    {
     "data": {
      "text/html": [
       "<div>\n",
       "<style scoped>\n",
       "    .dataframe tbody tr th:only-of-type {\n",
       "        vertical-align: middle;\n",
       "    }\n",
       "\n",
       "    .dataframe tbody tr th {\n",
       "        vertical-align: top;\n",
       "    }\n",
       "\n",
       "    .dataframe thead th {\n",
       "        text-align: right;\n",
       "    }\n",
       "</style>\n",
       "<table border=\"1\" class=\"dataframe\">\n",
       "  <thead>\n",
       "    <tr style=\"text-align: right;\">\n",
       "      <th></th>\n",
       "      <th>_id</th>\n",
       "      <th>name</th>\n",
       "      <th>category_code</th>\n",
       "      <th>founded_year</th>\n",
       "    </tr>\n",
       "  </thead>\n",
       "  <tbody>\n",
       "    <tr>\n",
       "      <th>0</th>\n",
       "      <td>52cdef7d4bab8bd675298b5a</td>\n",
       "      <td>SmallWorlds</td>\n",
       "      <td>web</td>\n",
       "      <td>1800</td>\n",
       "    </tr>\n",
       "    <tr>\n",
       "      <th>1</th>\n",
       "      <td>52cdef7c4bab8bd675298140</td>\n",
       "      <td>WeGame</td>\n",
       "      <td>web</td>\n",
       "      <td>1840</td>\n",
       "    </tr>\n",
       "    <tr>\n",
       "      <th>2</th>\n",
       "      <td>52cdef7d4bab8bd675298a13</td>\n",
       "      <td>The Economist Group</td>\n",
       "      <td>web</td>\n",
       "      <td>1843</td>\n",
       "    </tr>\n",
       "    <tr>\n",
       "      <th>3</th>\n",
       "      <td>52cdef7f4bab8bd67529c22d</td>\n",
       "      <td>Elsevier</td>\n",
       "      <td>web</td>\n",
       "      <td>1880</td>\n",
       "    </tr>\n",
       "    <tr>\n",
       "      <th>4</th>\n",
       "      <td>52cdef7c4bab8bd67529834c</td>\n",
       "      <td>Los Angeles Times Media Group</td>\n",
       "      <td>web</td>\n",
       "      <td>1881</td>\n",
       "    </tr>\n",
       "  </tbody>\n",
       "</table>\n",
       "</div>"
      ],
      "text/plain": [
       "                        _id                           name category_code  \\\n",
       "0  52cdef7d4bab8bd675298b5a                    SmallWorlds           web   \n",
       "1  52cdef7c4bab8bd675298140                         WeGame           web   \n",
       "2  52cdef7d4bab8bd675298a13            The Economist Group           web   \n",
       "3  52cdef7f4bab8bd67529c22d                       Elsevier           web   \n",
       "4  52cdef7c4bab8bd67529834c  Los Angeles Times Media Group           web   \n",
       "\n",
       "   founded_year  \n",
       "0          1800  \n",
       "1          1840  \n",
       "2          1843  \n",
       "3          1880  \n",
       "4          1881  "
      ]
     },
     "execution_count": 76,
     "metadata": {},
     "output_type": "execute_result"
    }
   ],
   "source": [
    "import pandas as pd\n",
    "\n",
    "df=pd.DataFrame(list(colec.find({'$and': [{'category_code': 'web'}, \n",
    "                          {'founded_year': {'$lte': 2002}}]},\n",
    "               \n",
    "               {'name':True, 'category_code': True, 'founded_year': True}\n",
    "               \n",
    "               ).sort('founded_year', 1).limit(10)\n",
    "    \n",
    "    ))\n",
    "\n",
    "\n",
    "df.head()"
   ]
  },
  {
   "cell_type": "code",
   "execution_count": 80,
   "id": "e457d14d",
   "metadata": {},
   "outputs": [
    {
     "data": {
      "text/plain": [
       "[{'_id': ObjectId('52cdef7c4bab8bd675297d8e'),\n",
       "  'name': 'Facebook',\n",
       "  'category_code': 'social',\n",
       "  'founded_year': 2004},\n",
       " {'_id': ObjectId('52cdef7c4bab8bd675298140'),\n",
       "  'name': 'WeGame',\n",
       "  'category_code': 'web',\n",
       "  'founded_year': 1840}]"
      ]
     },
     "execution_count": 80,
     "metadata": {},
     "output_type": "execute_result"
    }
   ],
   "source": [
    "list(colec.find({'name': {'$in': ['WeGame', 'Facebook']}},\n",
    "                {'name':True, 'category_code': True, 'founded_year': True}))"
   ]
  },
  {
   "cell_type": "code",
   "execution_count": 87,
   "id": "05ce38fe",
   "metadata": {},
   "outputs": [
    {
     "data": {
      "text/plain": [
       "[{'_id': ObjectId('52cdef7c4bab8bd675297d8e'),\n",
       "  'name': 'Facebook',\n",
       "  'category_code': 'social',\n",
       "  'founded_year': 2004},\n",
       " {'_id': ObjectId('52cdef7c4bab8bd675298334'),\n",
       "  'name': 'FaceTec',\n",
       "  'category_code': 'software',\n",
       "  'founded_year': 2002}]"
      ]
     },
     "execution_count": 87,
     "metadata": {},
     "output_type": "execute_result"
    }
   ],
   "source": [
    "# ¿como sacar facebook asi?\n",
    "\n",
    "list(colec.find({'name': {'$regex': '^Face'}},\n",
    "                {'name':True, 'category_code': True, 'founded_year': True}).limit(2))\n"
   ]
  },
  {
   "cell_type": "markdown",
   "id": "3a5a081e",
   "metadata": {},
   "source": [
    "### Geoqueries"
   ]
  },
  {
   "cell_type": "code",
   "execution_count": 94,
   "id": "fc1ac2f4",
   "metadata": {},
   "outputs": [],
   "source": [
    "# documentos que contengan oficinas, devuelve solo el nombre y el array de oficinas\n",
    "\n",
    "al_menos_1_ofi=colec.find({'offices': {'$not': {'$size': 0}}},\n",
    "                         \n",
    "                          {'_id':0, 'name':1, 'offices':1}\n",
    "                         )"
   ]
  },
  {
   "cell_type": "code",
   "execution_count": 95,
   "id": "fda7a05e",
   "metadata": {},
   "outputs": [
    {
     "data": {
      "text/html": [
       "<div>\n",
       "<style scoped>\n",
       "    .dataframe tbody tr th:only-of-type {\n",
       "        vertical-align: middle;\n",
       "    }\n",
       "\n",
       "    .dataframe tbody tr th {\n",
       "        vertical-align: top;\n",
       "    }\n",
       "\n",
       "    .dataframe thead th {\n",
       "        text-align: right;\n",
       "    }\n",
       "</style>\n",
       "<table border=\"1\" class=\"dataframe\">\n",
       "  <thead>\n",
       "    <tr style=\"text-align: right;\">\n",
       "      <th></th>\n",
       "      <th>name</th>\n",
       "      <th>offices</th>\n",
       "    </tr>\n",
       "  </thead>\n",
       "  <tbody>\n",
       "    <tr>\n",
       "      <th>0</th>\n",
       "      <td>Wetpaint</td>\n",
       "      <td>[{'description': '', 'address1': '710 - 2nd Av...</td>\n",
       "    </tr>\n",
       "    <tr>\n",
       "      <th>1</th>\n",
       "      <td>AdventNet</td>\n",
       "      <td>[{'description': 'Headquarters', 'address1': '...</td>\n",
       "    </tr>\n",
       "    <tr>\n",
       "      <th>2</th>\n",
       "      <td>Zoho</td>\n",
       "      <td>[{'description': 'Headquarters', 'address1': '...</td>\n",
       "    </tr>\n",
       "    <tr>\n",
       "      <th>3</th>\n",
       "      <td>Digg</td>\n",
       "      <td>[{'description': None, 'address1': '135 Missis...</td>\n",
       "    </tr>\n",
       "    <tr>\n",
       "      <th>4</th>\n",
       "      <td>Facebook</td>\n",
       "      <td>[{'description': 'Headquarters', 'address1': '...</td>\n",
       "    </tr>\n",
       "  </tbody>\n",
       "</table>\n",
       "</div>"
      ],
      "text/plain": [
       "        name                                            offices\n",
       "0   Wetpaint  [{'description': '', 'address1': '710 - 2nd Av...\n",
       "1  AdventNet  [{'description': 'Headquarters', 'address1': '...\n",
       "2       Zoho  [{'description': 'Headquarters', 'address1': '...\n",
       "3       Digg  [{'description': None, 'address1': '135 Missis...\n",
       "4   Facebook  [{'description': 'Headquarters', 'address1': '..."
      ]
     },
     "execution_count": 95,
     "metadata": {},
     "output_type": "execute_result"
    }
   ],
   "source": [
    "df=pd.DataFrame(al_menos_1_ofi)\n",
    "\n",
    "df=df.dropna()\n",
    "\n",
    "df.head()"
   ]
  },
  {
   "cell_type": "code",
   "execution_count": 96,
   "id": "4b6ea2d9",
   "metadata": {},
   "outputs": [],
   "source": [
    "# extraer la primera oficina\n",
    "\n",
    "def get_first(data):\n",
    "    \n",
    "    data=data.offices\n",
    "    \n",
    "    principal=None\n",
    "    \n",
    "    if data[0]['latitude'] and data[0]['longitude']:\n",
    "        \n",
    "        # esto ya es una geoquery\n",
    "        \n",
    "        principal={\n",
    "            'type': 'Point',\n",
    "            'coordinates': [data[0]['longitude'], data[0]['latitude']]\n",
    "        }\n",
    "        \n",
    "    \n",
    "    return {'total_offices': len(data),\n",
    "            'lat': data[0]['latitude'],\n",
    "            'lng': data[0]['longitude'],\n",
    "            'principal': principal}"
   ]
  },
  {
   "cell_type": "code",
   "execution_count": 97,
   "id": "ca153d3d",
   "metadata": {},
   "outputs": [
    {
     "data": {
      "text/html": [
       "<div>\n",
       "<style scoped>\n",
       "    .dataframe tbody tr th:only-of-type {\n",
       "        vertical-align: middle;\n",
       "    }\n",
       "\n",
       "    .dataframe tbody tr th {\n",
       "        vertical-align: top;\n",
       "    }\n",
       "\n",
       "    .dataframe thead th {\n",
       "        text-align: right;\n",
       "    }\n",
       "</style>\n",
       "<table border=\"1\" class=\"dataframe\">\n",
       "  <thead>\n",
       "    <tr style=\"text-align: right;\">\n",
       "      <th></th>\n",
       "      <th>total_offices</th>\n",
       "      <th>lat</th>\n",
       "      <th>lng</th>\n",
       "      <th>principal</th>\n",
       "    </tr>\n",
       "  </thead>\n",
       "  <tbody>\n",
       "    <tr>\n",
       "      <th>0</th>\n",
       "      <td>2.0</td>\n",
       "      <td>47.603122</td>\n",
       "      <td>-122.333253</td>\n",
       "      <td>{'type': 'Point', 'coordinates': [-122.333253,...</td>\n",
       "    </tr>\n",
       "    <tr>\n",
       "      <th>1</th>\n",
       "      <td>1.0</td>\n",
       "      <td>37.692934</td>\n",
       "      <td>-121.904945</td>\n",
       "      <td>{'type': 'Point', 'coordinates': [-121.904945,...</td>\n",
       "    </tr>\n",
       "    <tr>\n",
       "      <th>2</th>\n",
       "      <td>1.0</td>\n",
       "      <td>37.692934</td>\n",
       "      <td>-121.904945</td>\n",
       "      <td>{'type': 'Point', 'coordinates': [-121.904945,...</td>\n",
       "    </tr>\n",
       "    <tr>\n",
       "      <th>3</th>\n",
       "      <td>1.0</td>\n",
       "      <td>37.764726</td>\n",
       "      <td>-122.394523</td>\n",
       "      <td>{'type': 'Point', 'coordinates': [-122.394523,...</td>\n",
       "    </tr>\n",
       "    <tr>\n",
       "      <th>4</th>\n",
       "      <td>3.0</td>\n",
       "      <td>37.416050</td>\n",
       "      <td>-122.151801</td>\n",
       "      <td>{'type': 'Point', 'coordinates': [-122.151801,...</td>\n",
       "    </tr>\n",
       "  </tbody>\n",
       "</table>\n",
       "</div>"
      ],
      "text/plain": [
       "   total_offices        lat         lng  \\\n",
       "0            2.0  47.603122 -122.333253   \n",
       "1            1.0  37.692934 -121.904945   \n",
       "2            1.0  37.692934 -121.904945   \n",
       "3            1.0  37.764726 -122.394523   \n",
       "4            3.0  37.416050 -122.151801   \n",
       "\n",
       "                                           principal  \n",
       "0  {'type': 'Point', 'coordinates': [-122.333253,...  \n",
       "1  {'type': 'Point', 'coordinates': [-121.904945,...  \n",
       "2  {'type': 'Point', 'coordinates': [-121.904945,...  \n",
       "3  {'type': 'Point', 'coordinates': [-122.394523,...  \n",
       "4  {'type': 'Point', 'coordinates': [-122.151801,...  "
      ]
     },
     "execution_count": 97,
     "metadata": {},
     "output_type": "execute_result"
    }
   ],
   "source": [
    "first_office=df[['offices']].apply(get_first, result_type='expand', axis=1)\n",
    "\n",
    "first_office.head()"
   ]
  },
  {
   "cell_type": "code",
   "execution_count": 98,
   "id": "9981bc6a",
   "metadata": {},
   "outputs": [
    {
     "data": {
      "text/html": [
       "<div>\n",
       "<style scoped>\n",
       "    .dataframe tbody tr th:only-of-type {\n",
       "        vertical-align: middle;\n",
       "    }\n",
       "\n",
       "    .dataframe tbody tr th {\n",
       "        vertical-align: top;\n",
       "    }\n",
       "\n",
       "    .dataframe thead th {\n",
       "        text-align: right;\n",
       "    }\n",
       "</style>\n",
       "<table border=\"1\" class=\"dataframe\">\n",
       "  <thead>\n",
       "    <tr style=\"text-align: right;\">\n",
       "      <th></th>\n",
       "      <th>name</th>\n",
       "      <th>total_offices</th>\n",
       "      <th>lat</th>\n",
       "      <th>lng</th>\n",
       "      <th>principal</th>\n",
       "    </tr>\n",
       "  </thead>\n",
       "  <tbody>\n",
       "    <tr>\n",
       "      <th>0</th>\n",
       "      <td>Wetpaint</td>\n",
       "      <td>2.0</td>\n",
       "      <td>47.603122</td>\n",
       "      <td>-122.333253</td>\n",
       "      <td>{'type': 'Point', 'coordinates': [-122.333253,...</td>\n",
       "    </tr>\n",
       "    <tr>\n",
       "      <th>1</th>\n",
       "      <td>AdventNet</td>\n",
       "      <td>1.0</td>\n",
       "      <td>37.692934</td>\n",
       "      <td>-121.904945</td>\n",
       "      <td>{'type': 'Point', 'coordinates': [-121.904945,...</td>\n",
       "    </tr>\n",
       "    <tr>\n",
       "      <th>2</th>\n",
       "      <td>Zoho</td>\n",
       "      <td>1.0</td>\n",
       "      <td>37.692934</td>\n",
       "      <td>-121.904945</td>\n",
       "      <td>{'type': 'Point', 'coordinates': [-121.904945,...</td>\n",
       "    </tr>\n",
       "    <tr>\n",
       "      <th>3</th>\n",
       "      <td>Digg</td>\n",
       "      <td>1.0</td>\n",
       "      <td>37.764726</td>\n",
       "      <td>-122.394523</td>\n",
       "      <td>{'type': 'Point', 'coordinates': [-122.394523,...</td>\n",
       "    </tr>\n",
       "    <tr>\n",
       "      <th>4</th>\n",
       "      <td>Facebook</td>\n",
       "      <td>3.0</td>\n",
       "      <td>37.416050</td>\n",
       "      <td>-122.151801</td>\n",
       "      <td>{'type': 'Point', 'coordinates': [-122.151801,...</td>\n",
       "    </tr>\n",
       "  </tbody>\n",
       "</table>\n",
       "</div>"
      ],
      "text/plain": [
       "        name  total_offices        lat         lng  \\\n",
       "0   Wetpaint            2.0  47.603122 -122.333253   \n",
       "1  AdventNet            1.0  37.692934 -121.904945   \n",
       "2       Zoho            1.0  37.692934 -121.904945   \n",
       "3       Digg            1.0  37.764726 -122.394523   \n",
       "4   Facebook            3.0  37.416050 -122.151801   \n",
       "\n",
       "                                           principal  \n",
       "0  {'type': 'Point', 'coordinates': [-122.333253,...  \n",
       "1  {'type': 'Point', 'coordinates': [-121.904945,...  \n",
       "2  {'type': 'Point', 'coordinates': [-121.904945,...  \n",
       "3  {'type': 'Point', 'coordinates': [-122.394523,...  \n",
       "4  {'type': 'Point', 'coordinates': [-122.151801,...  "
      ]
     },
     "execution_count": 98,
     "metadata": {},
     "output_type": "execute_result"
    }
   ],
   "source": [
    "first_office=first_office.dropna()\n",
    "\n",
    "df=pd.concat([df, first_office], axis=1).drop('offices', axis=1)\n",
    "\n",
    "df=df.dropna()\n",
    "\n",
    "df.head()"
   ]
  },
  {
   "cell_type": "code",
   "execution_count": null,
   "id": "79428353",
   "metadata": {},
   "outputs": [],
   "source": [
    "#df.to_json('../data/oficinas.json')"
   ]
  },
  {
   "cell_type": "code",
   "execution_count": 99,
   "id": "479d9e52",
   "metadata": {},
   "outputs": [
    {
     "data": {
      "text/plain": [
       "<pymongo.results.InsertManyResult at 0x11e35a7c0>"
      ]
     },
     "execution_count": 99,
     "metadata": {},
     "output_type": "execute_result"
    }
   ],
   "source": [
    "db.first_office.insert_many(df.to_dict('records'))  # tol dataframe pa mongo"
   ]
  },
  {
   "cell_type": "code",
   "execution_count": 101,
   "id": "06e2a013",
   "metadata": {},
   "outputs": [
    {
     "data": {
      "text/plain": [
       "'principal_2dsphere'"
      ]
     },
     "execution_count": 101,
     "metadata": {},
     "output_type": "execute_result"
    }
   ],
   "source": [
    "db.first_office.create_index([('principal', '2dsphere')])"
   ]
  },
  {
   "cell_type": "code",
   "execution_count": 104,
   "id": "7908dfad",
   "metadata": {},
   "outputs": [],
   "source": [
    "# encuentra los elementos dentro de cierto radio, geoquery\n",
    "\n",
    "\n",
    "def find_near(array, radio=1000):\n",
    "    \n",
    "    return db.first_office.find({'principal': {\n",
    "                                                '$near': {'$geometry': {'type': 'Point', \n",
    "                                                                        'coordinates': array},\n",
    "                                                          '$maxDistance': radio}\n",
    "    \n",
    "                                }})"
   ]
  },
  {
   "cell_type": "code",
   "execution_count": 105,
   "id": "e4b7c626",
   "metadata": {},
   "outputs": [
    {
     "data": {
      "text/html": [
       "<div>\n",
       "<style scoped>\n",
       "    .dataframe tbody tr th:only-of-type {\n",
       "        vertical-align: middle;\n",
       "    }\n",
       "\n",
       "    .dataframe tbody tr th {\n",
       "        vertical-align: top;\n",
       "    }\n",
       "\n",
       "    .dataframe thead th {\n",
       "        text-align: right;\n",
       "    }\n",
       "</style>\n",
       "<table border=\"1\" class=\"dataframe\">\n",
       "  <thead>\n",
       "    <tr style=\"text-align: right;\">\n",
       "      <th></th>\n",
       "      <th>_id</th>\n",
       "      <th>name</th>\n",
       "      <th>total_offices</th>\n",
       "      <th>lat</th>\n",
       "      <th>lng</th>\n",
       "      <th>principal</th>\n",
       "    </tr>\n",
       "  </thead>\n",
       "  <tbody>\n",
       "    <tr>\n",
       "      <th>0</th>\n",
       "      <td>62aafb1c1762c4d459a466f9</td>\n",
       "      <td>SpaBooker</td>\n",
       "      <td>1.0</td>\n",
       "      <td>40.738567</td>\n",
       "      <td>-73.987199</td>\n",
       "      <td>{'type': 'Point', 'coordinates': [-73.987199, ...</td>\n",
       "    </tr>\n",
       "    <tr>\n",
       "      <th>1</th>\n",
       "      <td>62aafb1c1762c4d459a454d1</td>\n",
       "      <td>HealthiNation</td>\n",
       "      <td>1.0</td>\n",
       "      <td>40.739341</td>\n",
       "      <td>-73.988357</td>\n",
       "      <td>{'type': 'Point', 'coordinates': [-73.988357, ...</td>\n",
       "    </tr>\n",
       "    <tr>\n",
       "      <th>2</th>\n",
       "      <td>62aafb1c1762c4d459a450b9</td>\n",
       "      <td>Special Ops Media</td>\n",
       "      <td>1.0</td>\n",
       "      <td>40.737721</td>\n",
       "      <td>-73.987725</td>\n",
       "      <td>{'type': 'Point', 'coordinates': [-73.987725, ...</td>\n",
       "    </tr>\n",
       "    <tr>\n",
       "      <th>3</th>\n",
       "      <td>62aafb1c1762c4d459a46d4b</td>\n",
       "      <td>Mashable</td>\n",
       "      <td>1.0</td>\n",
       "      <td>40.740154</td>\n",
       "      <td>-73.986742</td>\n",
       "      <td>{'type': 'Point', 'coordinates': [-73.9867417,...</td>\n",
       "    </tr>\n",
       "    <tr>\n",
       "      <th>4</th>\n",
       "      <td>62aafb1c1762c4d459a45e50</td>\n",
       "      <td>Return Path</td>\n",
       "      <td>1.0</td>\n",
       "      <td>40.740207</td>\n",
       "      <td>-73.987002</td>\n",
       "      <td>{'type': 'Point', 'coordinates': [-73.987002, ...</td>\n",
       "    </tr>\n",
       "  </tbody>\n",
       "</table>\n",
       "</div>"
      ],
      "text/plain": [
       "                        _id               name  total_offices        lat  \\\n",
       "0  62aafb1c1762c4d459a466f9          SpaBooker            1.0  40.738567   \n",
       "1  62aafb1c1762c4d459a454d1      HealthiNation            1.0  40.739341   \n",
       "2  62aafb1c1762c4d459a450b9  Special Ops Media            1.0  40.737721   \n",
       "3  62aafb1c1762c4d459a46d4b           Mashable            1.0  40.740154   \n",
       "4  62aafb1c1762c4d459a45e50        Return Path            1.0  40.740207   \n",
       "\n",
       "         lng                                          principal  \n",
       "0 -73.987199  {'type': 'Point', 'coordinates': [-73.987199, ...  \n",
       "1 -73.988357  {'type': 'Point', 'coordinates': [-73.988357, ...  \n",
       "2 -73.987725  {'type': 'Point', 'coordinates': [-73.987725, ...  \n",
       "3 -73.986742  {'type': 'Point', 'coordinates': [-73.9867417,...  \n",
       "4 -73.987002  {'type': 'Point', 'coordinates': [-73.987002, ...  "
      ]
     },
     "execution_count": 105,
     "metadata": {},
     "output_type": "execute_result"
    }
   ],
   "source": [
    "park_avenue=[-73.987308, 40.738935]   # geopunto\n",
    "\n",
    "radio=10000\n",
    "\n",
    "n_ofi=find_near(park_avenue, radio)\n",
    "\n",
    "pd.DataFrame(n_ofi).head()"
   ]
  },
  {
   "cell_type": "code",
   "execution_count": null,
   "id": "ebb3a121",
   "metadata": {},
   "outputs": [],
   "source": []
  },
  {
   "cell_type": "code",
   "execution_count": null,
   "id": "958eb501",
   "metadata": {},
   "outputs": [],
   "source": []
  },
  {
   "cell_type": "code",
   "execution_count": null,
   "id": "0f5f4495",
   "metadata": {},
   "outputs": [],
   "source": []
  }
 ],
 "metadata": {
  "kernelspec": {
   "display_name": "clase",
   "language": "python",
   "name": "clase"
  },
  "language_info": {
   "codemirror_mode": {
    "name": "ipython",
    "version": 3
   },
   "file_extension": ".py",
   "mimetype": "text/x-python",
   "name": "python",
   "nbconvert_exporter": "python",
   "pygments_lexer": "ipython3",
   "version": "3.9.7"
  },
  "varInspector": {
   "cols": {
    "lenName": 16,
    "lenType": 16,
    "lenVar": 40
   },
   "kernels_config": {
    "python": {
     "delete_cmd_postfix": "",
     "delete_cmd_prefix": "del ",
     "library": "var_list.py",
     "varRefreshCmd": "print(var_dic_list())"
    },
    "r": {
     "delete_cmd_postfix": ") ",
     "delete_cmd_prefix": "rm(",
     "library": "var_list.r",
     "varRefreshCmd": "cat(var_dic_list()) "
    }
   },
   "types_to_exclude": [
    "module",
    "function",
    "builtin_function_or_method",
    "instance",
    "_Feature"
   ],
   "window_display": false
  }
 },
 "nbformat": 4,
 "nbformat_minor": 5
}
