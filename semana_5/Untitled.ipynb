{
 "cells": [
  {
   "cell_type": "code",
   "execution_count": 1,
   "id": "1b2d3f96",
   "metadata": {},
   "outputs": [],
   "source": [
    "import pandas as pd"
   ]
  },
  {
   "cell_type": "code",
   "execution_count": 5,
   "id": "1883ce56",
   "metadata": {},
   "outputs": [],
   "source": [
    "df=pd.read_clipboard()"
   ]
  },
  {
   "cell_type": "code",
   "execution_count": 6,
   "id": "3c536ccc",
   "metadata": {},
   "outputs": [
    {
     "data": {
      "text/html": [
       "<div>\n",
       "<style scoped>\n",
       "    .dataframe tbody tr th:only-of-type {\n",
       "        vertical-align: middle;\n",
       "    }\n",
       "\n",
       "    .dataframe tbody tr th {\n",
       "        vertical-align: top;\n",
       "    }\n",
       "\n",
       "    .dataframe thead th {\n",
       "        text-align: right;\n",
       "    }\n",
       "</style>\n",
       "<table border=\"1\" class=\"dataframe\">\n",
       "  <thead>\n",
       "    <tr style=\"text-align: right;\">\n",
       "      <th></th>\n",
       "      <th>Tipo</th>\n",
       "      <th>Clase</th>\n",
       "      <th>Notas</th>\n",
       "      <th>Ejemplo</th>\n",
       "    </tr>\n",
       "  </thead>\n",
       "  <tbody>\n",
       "    <tr>\n",
       "      <th>0</th>\n",
       "      <td>str</td>\n",
       "      <td>Cadena</td>\n",
       "      <td>Inmutable</td>\n",
       "      <td>'Cadena'</td>\n",
       "    </tr>\n",
       "    <tr>\n",
       "      <th>1</th>\n",
       "      <td>unicode</td>\n",
       "      <td>Cadena</td>\n",
       "      <td>Versión Unicode de str</td>\n",
       "      <td>u'Cadena'</td>\n",
       "    </tr>\n",
       "    <tr>\n",
       "      <th>2</th>\n",
       "      <td>list</td>\n",
       "      <td>Secuencia</td>\n",
       "      <td>Mutable, puede contener objetos de diversos tipos</td>\n",
       "      <td>[4.0, 'Cadena', True]</td>\n",
       "    </tr>\n",
       "    <tr>\n",
       "      <th>3</th>\n",
       "      <td>tuple</td>\n",
       "      <td>Secuencia</td>\n",
       "      <td>Inmutable, puede contener objetos de diversos ...</td>\n",
       "      <td>(4.0, 'Cadena', True)</td>\n",
       "    </tr>\n",
       "    <tr>\n",
       "      <th>4</th>\n",
       "      <td>set</td>\n",
       "      <td>Conjunto</td>\n",
       "      <td>Mutable, sin orden, no contiene duplicados</td>\n",
       "      <td>{4.0, 'Cadena', True}</td>\n",
       "    </tr>\n",
       "  </tbody>\n",
       "</table>\n",
       "</div>"
      ],
      "text/plain": [
       "      Tipo      Clase                                              Notas  \\\n",
       "0      str     Cadena                                          Inmutable   \n",
       "1  unicode     Cadena                             Versión Unicode de str   \n",
       "2     list  Secuencia  Mutable, puede contener objetos de diversos tipos   \n",
       "3    tuple  Secuencia  Inmutable, puede contener objetos de diversos ...   \n",
       "4      set   Conjunto         Mutable, sin orden, no contiene duplicados   \n",
       "\n",
       "                 Ejemplo  \n",
       "0               'Cadena'  \n",
       "1              u'Cadena'  \n",
       "2  [4.0, 'Cadena', True]  \n",
       "3  (4.0, 'Cadena', True)  \n",
       "4  {4.0, 'Cadena', True}  "
      ]
     },
     "execution_count": 6,
     "metadata": {},
     "output_type": "execute_result"
    }
   ],
   "source": [
    "df.head()"
   ]
  },
  {
   "cell_type": "code",
   "execution_count": 15,
   "id": "5882fb2c",
   "metadata": {},
   "outputs": [
    {
     "data": {
      "text/html": [
       "<div>\n",
       "<style scoped>\n",
       "    .dataframe tbody tr th:only-of-type {\n",
       "        vertical-align: middle;\n",
       "    }\n",
       "\n",
       "    .dataframe tbody tr th {\n",
       "        vertical-align: top;\n",
       "    }\n",
       "\n",
       "    .dataframe thead th {\n",
       "        text-align: right;\n",
       "    }\n",
       "</style>\n",
       "<table border=\"1\" class=\"dataframe\">\n",
       "  <thead>\n",
       "    <tr style=\"text-align: right;\">\n",
       "      <th></th>\n",
       "      <th>0</th>\n",
       "      <th>1</th>\n",
       "    </tr>\n",
       "  </thead>\n",
       "  <tbody>\n",
       "    <tr>\n",
       "      <th>0</th>\n",
       "      <td>Control de autoridades</td>\n",
       "      <td>Proyectos Wikimedia  Datos: Q28865  Multimedia...</td>\n",
       "    </tr>\n",
       "  </tbody>\n",
       "</table>\n",
       "</div>"
      ],
      "text/plain": [
       "                        0                                                  1\n",
       "0  Control de autoridades  Proyectos Wikimedia  Datos: Q28865  Multimedia..."
      ]
     },
     "execution_count": 15,
     "metadata": {},
     "output_type": "execute_result"
    }
   ],
   "source": [
    "pd.read_html('https://es.wikipedia.org/wiki/Python')[5]"
   ]
  },
  {
   "cell_type": "code",
   "execution_count": null,
   "id": "06cbf1d0",
   "metadata": {},
   "outputs": [],
   "source": []
  }
 ],
 "metadata": {
  "kernelspec": {
   "display_name": "clase",
   "language": "python",
   "name": "clase"
  },
  "language_info": {
   "codemirror_mode": {
    "name": "ipython",
    "version": 3
   },
   "file_extension": ".py",
   "mimetype": "text/x-python",
   "name": "python",
   "nbconvert_exporter": "python",
   "pygments_lexer": "ipython3",
   "version": "3.9.7"
  }
 },
 "nbformat": 4,
 "nbformat_minor": 5
}
