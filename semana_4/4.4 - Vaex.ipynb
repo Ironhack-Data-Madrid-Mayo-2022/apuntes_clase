{
 "cells": [
  {
   "cell_type": "markdown",
   "metadata": {},
   "source": [
    "# 4.4 - Vaex\n",
    "\n",
    "\n",
    "![vaex](images/vaex.png)\n",
    "\n",
    "$$$$\n",
    "\n",
    "\n",
    "[Vaex](https://vaex.io/docs/index.html) es una librería de python library para dataframes (lazy Out-of-Core DataFrames), de manera similar a Pandas. Nos permite visualizar y explorar datos tabulares, calcular medidas de tendencia central como la media, la desviación standard, moda, etc.., a una velocidad de $10^{9}$ filas/registros por segundo. Vaex usa mapeo de memoria, política de ci¡opia cero en memoria,  y la llamada computación lazy para mejor rendimeiento, sin gastar memoria.\n",
    "\n",
    "**¿Por qué Vaex?**\n",
    "\n",
    "+ Rendimiento: trabaja con grandes cantidades de datos, pudiendo procesar $10^{9}$ filas/registros por segundo\n",
    "\n",
    "+ Columnas virtuales/lazy: computa al vuelo, sin gastar memoria\n",
    "\n",
    "+ Eficiente a nivel de memoria: no realiza copias en memoria cuando filtra/selecciona/samplea.\n",
    "\n",
    "+ Visualizacion: directamente soportada\n",
    "\n",
    "\n",
    "\n",
    "https://towardsdatascience.com/how-to-analyse-100s-of-gbs-of-data-on-your-laptop-with-python-f83363dda94\n",
    "\n",
    "**Data:** https://vaex.io/docs/datasets.html\n",
    "\n",
    "**si no plotea...:** https://stackoverflow.com/questions/57323126/how-to-do-interactive-2d-scatter-plot-zoom-point-selection-in-vaex"
   ]
  },
  {
   "cell_type": "code",
   "execution_count": null,
   "metadata": {},
   "outputs": [],
   "source": [
    "%pip install vaex"
   ]
  },
  {
   "cell_type": "code",
   "execution_count": 1,
   "metadata": {},
   "outputs": [],
   "source": [
    "import vaex\n",
    "\n",
    "import numpy as np\n",
    "import pylab as plt\n",
    "%matplotlib inline\n",
    "import seaborn\n",
    "\n",
    "import warnings\n",
    "warnings.filterwarnings('ignore')"
   ]
  },
  {
   "cell_type": "code",
   "execution_count": 3,
   "metadata": {},
   "outputs": [
    {
     "name": "stdout",
     "output_type": "stream",
     "text": [
      "-rw-r--r--@ 1 iudh  staff    12G 20 jun  2021 ../data/yellow_taxi_2015_f32s.hdf5\n",
      "CPU times: user 4.22 ms, sys: 19.1 ms, total: 23.3 ms\n",
      "Wall time: 158 ms\n"
     ]
    }
   ],
   "source": [
    "%%time\n",
    "\n",
    "# tamaño del archivo\n",
    "\n",
    "!ls -l -h ../data/yellow_taxi_2015_f32s.hdf5"
   ]
  },
  {
   "cell_type": "code",
   "execution_count": 4,
   "metadata": {},
   "outputs": [
    {
     "name": "stdout",
     "output_type": "stream",
     "text": [
      "CPU times: user 320 ms, sys: 89.1 ms, total: 409 ms\n",
      "Wall time: 529 ms\n"
     ]
    },
    {
     "data": {
      "text/html": [
       "<table>\n",
       "<thead>\n",
       "<tr><th>#                                      </th><th>vendor_id  </th><th>pickup_datetime              </th><th>dropoff_datetime             </th><th>passenger_count  </th><th>payment_type  </th><th>trip_distance  </th><th>pickup_longitude  </th><th>pickup_latitude  </th><th>rate_code  </th><th>store_and_fwd_flag  </th><th>dropoff_longitude  </th><th>dropoff_latitude  </th><th>fare_amount  </th><th>surcharge  </th><th>mta_tax  </th><th>tip_amount  </th><th>tolls_amount  </th><th>total_amount  </th></tr>\n",
       "</thead>\n",
       "<tbody>\n",
       "<tr><td><i style='opacity: 0.6'>0</i>          </td><td>VTS        </td><td>2014-12-16 02:26:00.000000000</td><td>2014-12-16 02:28:00.000000000</td><td>1                </td><td>CSH           </td><td>1.09           </td><td>-73.986725        </td><td>40.75642         </td><td>1.0        </td><td>nan                 </td><td>-73.99646          </td><td>40.742893         </td><td>5.0          </td><td>0.5        </td><td>0.5      </td><td>0.0         </td><td>0.0           </td><td>6.0           </td></tr>\n",
       "<tr><td><i style='opacity: 0.6'>1</i>          </td><td>VTS        </td><td>2014-12-15 18:23:00.000000000</td><td>2014-12-15 18:58:00.000000000</td><td>2                </td><td>              </td><td>6.28           </td><td>-74.00419         </td><td>40.72119         </td><td>1.0        </td><td>nan                 </td><td>-73.97             </td><td>nan               </td><td>nan          </td><td>nan        </td><td>nan      </td><td>nan         </td><td>nan           </td><td>nan           </td></tr>\n",
       "<tr><td><i style='opacity: 0.6'>2</i>          </td><td>VTS        </td><td>2015-01-15 19:05:39.000000000</td><td>2015-01-15 19:23:42.000000000</td><td>1                </td><td>1             </td><td>1.59           </td><td>-73.9939          </td><td>40.75011         </td><td>1.0        </td><td>0.0                 </td><td>-73.974785         </td><td>40.750618         </td><td>12.0         </td><td>1.0        </td><td>0.5      </td><td>3.25        </td><td>0.0           </td><td>17.05         </td></tr>\n",
       "<tr><td><i style='opacity: 0.6'>3</i>          </td><td>CMT        </td><td>2015-01-10 20:33:38.000000000</td><td>2015-01-10 20:53:28.000000000</td><td>1                </td><td>1             </td><td>3.3            </td><td>-74.00165         </td><td>40.724243        </td><td>1.0        </td><td>0.0                 </td><td>-73.994415         </td><td>40.75911          </td><td>14.5         </td><td>0.5        </td><td>0.5      </td><td>2.0         </td><td>0.0           </td><td>17.8          </td></tr>\n",
       "<tr><td><i style='opacity: 0.6'>4</i>          </td><td>CMT        </td><td>2015-01-10 20:33:38.000000000</td><td>2015-01-10 20:43:41.000000000</td><td>1                </td><td>2             </td><td>1.8            </td><td>-73.96334         </td><td>40.802788        </td><td>1.0        </td><td>0.0                 </td><td>-73.95182          </td><td>40.824413         </td><td>9.5          </td><td>0.5        </td><td>0.5      </td><td>0.0         </td><td>0.0           </td><td>10.8          </td></tr>\n",
       "<tr><td>...                                    </td><td>...        </td><td>...                          </td><td>...                          </td><td>...              </td><td>...           </td><td>...            </td><td>...               </td><td>...              </td><td>...        </td><td>...                 </td><td>...                </td><td>...               </td><td>...          </td><td>...        </td><td>...      </td><td>...         </td><td>...           </td><td>...           </td></tr>\n",
       "<tr><td><i style='opacity: 0.6'>146,112,986</i></td><td>VTS        </td><td>2015-12-31 23:59:56.000000000</td><td>2016-01-01 00:08:18.000000000</td><td>5                </td><td>1             </td><td>1.2            </td><td>-73.99381         </td><td>40.72087         </td><td>1.0        </td><td>0.0                 </td><td>-73.98621          </td><td>40.72247          </td><td>7.5          </td><td>0.5        </td><td>0.5      </td><td>1.76        </td><td>0.0           </td><td>10.56         </td></tr>\n",
       "<tr><td><i style='opacity: 0.6'>146,112,987</i></td><td>CMT        </td><td>2015-12-31 23:59:58.000000000</td><td>2016-01-01 00:05:19.000000000</td><td>2                </td><td>2             </td><td>2.0            </td><td>-73.96527         </td><td>40.76028         </td><td>1.0        </td><td>0.0                 </td><td>-73.939514         </td><td>40.752388         </td><td>7.5          </td><td>0.5        </td><td>0.5      </td><td>0.0         </td><td>0.0           </td><td>8.8           </td></tr>\n",
       "<tr><td><i style='opacity: 0.6'>146,112,988</i></td><td>CMT        </td><td>2015-12-31 23:59:59.000000000</td><td>2016-01-01 00:12:55.000000000</td><td>2                </td><td>2             </td><td>3.8            </td><td>-73.9873          </td><td>40.73908         </td><td>1.0        </td><td>0.0                 </td><td>-73.98867          </td><td>40.6933           </td><td>13.5         </td><td>0.5        </td><td>0.5      </td><td>0.0         </td><td>0.0           </td><td>14.8          </td></tr>\n",
       "<tr><td><i style='opacity: 0.6'>146,112,989</i></td><td>VTS        </td><td>2015-12-31 23:59:59.000000000</td><td>2016-01-01 00:10:26.000000000</td><td>1                </td><td>2             </td><td>1.96           </td><td>-73.99756         </td><td>40.725693        </td><td>1.0        </td><td>0.0                 </td><td>-74.01712          </td><td>40.705322         </td><td>8.5          </td><td>0.5        </td><td>0.5      </td><td>0.0         </td><td>0.0           </td><td>9.8           </td></tr>\n",
       "<tr><td><i style='opacity: 0.6'>146,112,990</i></td><td>VTS        </td><td>2015-12-31 23:59:59.000000000</td><td>2016-01-01 00:21:30.000000000</td><td>1                </td><td>1             </td><td>1.06           </td><td>-73.9844          </td><td>40.767258        </td><td>1.0        </td><td>0.0                 </td><td>-73.99098          </td><td>40.76057          </td><td>13.5         </td><td>0.5        </td><td>0.5      </td><td>2.96        </td><td>0.0           </td><td>17.76         </td></tr>\n",
       "</tbody>\n",
       "</table>"
      ],
      "text/plain": [
       "#            vendor_id    pickup_datetime                dropoff_datetime               passenger_count    payment_type    trip_distance    pickup_longitude    pickup_latitude    rate_code    store_and_fwd_flag    dropoff_longitude    dropoff_latitude    fare_amount    surcharge    mta_tax    tip_amount    tolls_amount    total_amount\n",
       "0            VTS          2014-12-16 02:26:00.000000000  2014-12-16 02:28:00.000000000  1                  CSH             1.09             -73.986725          40.75642           1.0          nan                   -73.99646            40.742893           5.0            0.5          0.5        0.0           0.0             6.0\n",
       "1            VTS          2014-12-15 18:23:00.000000000  2014-12-15 18:58:00.000000000  2                                  6.28             -74.00419           40.72119           1.0          nan                   -73.97               nan                 nan            nan          nan        nan           nan             nan\n",
       "2            VTS          2015-01-15 19:05:39.000000000  2015-01-15 19:23:42.000000000  1                  1               1.59             -73.9939            40.75011           1.0          0.0                   -73.974785           40.750618           12.0           1.0          0.5        3.25          0.0             17.05\n",
       "3            CMT          2015-01-10 20:33:38.000000000  2015-01-10 20:53:28.000000000  1                  1               3.3              -74.00165           40.724243          1.0          0.0                   -73.994415           40.75911            14.5           0.5          0.5        2.0           0.0             17.8\n",
       "4            CMT          2015-01-10 20:33:38.000000000  2015-01-10 20:43:41.000000000  1                  2               1.8              -73.96334           40.802788          1.0          0.0                   -73.95182            40.824413           9.5            0.5          0.5        0.0           0.0             10.8\n",
       "...          ...          ...                            ...                            ...                ...             ...              ...                 ...                ...          ...                   ...                  ...                 ...            ...          ...        ...           ...             ...\n",
       "146,112,986  VTS          2015-12-31 23:59:56.000000000  2016-01-01 00:08:18.000000000  5                  1               1.2              -73.99381           40.72087           1.0          0.0                   -73.98621            40.72247            7.5            0.5          0.5        1.76          0.0             10.56\n",
       "146,112,987  CMT          2015-12-31 23:59:58.000000000  2016-01-01 00:05:19.000000000  2                  2               2.0              -73.96527           40.76028           1.0          0.0                   -73.939514           40.752388           7.5            0.5          0.5        0.0           0.0             8.8\n",
       "146,112,988  CMT          2015-12-31 23:59:59.000000000  2016-01-01 00:12:55.000000000  2                  2               3.8              -73.9873            40.73908           1.0          0.0                   -73.98867            40.6933             13.5           0.5          0.5        0.0           0.0             14.8\n",
       "146,112,989  VTS          2015-12-31 23:59:59.000000000  2016-01-01 00:10:26.000000000  1                  2               1.96             -73.99756           40.725693          1.0          0.0                   -74.01712            40.705322           8.5            0.5          0.5        0.0           0.0             9.8\n",
       "146,112,990  VTS          2015-12-31 23:59:59.000000000  2016-01-01 00:21:30.000000000  1                  1               1.06             -73.9844            40.767258          1.0          0.0                   -73.99098            40.76057            13.5           0.5          0.5        2.96          0.0             17.76"
      ]
     },
     "execution_count": 4,
     "metadata": {},
     "output_type": "execute_result"
    }
   ],
   "source": [
    "%%time\n",
    "\n",
    "# leer archivo\n",
    "\n",
    "df=vaex.open('../data/yellow_taxi_2015_f32s.hdf5')\n",
    "\n",
    "df"
   ]
  },
  {
   "cell_type": "code",
   "execution_count": 5,
   "metadata": {},
   "outputs": [
    {
     "name": "stdout",
     "output_type": "stream",
     "text": [
      "CPU times: user 485 ms, sys: 28.4 ms, total: 514 ms\n",
      "Wall time: 555 ms\n"
     ]
    },
    {
     "data": {
      "application/vnd.jupyter.widget-view+json": {
       "model_id": "0a5e875fad4c45929526da12d7650c5e",
       "version_major": 2,
       "version_minor": 0
      },
      "text/plain": [
       "Heatmap(children=[ToolsToolbar(interact_value=None, supports_normalize=False, template='<template>\\n  <v-toolb…"
      ]
     },
     "metadata": {},
     "output_type": "display_data"
    }
   ],
   "source": [
    "%%time\n",
    "\n",
    "df.plot_widget(df.pickup_longitude,\n",
    "               df.pickup_latitude,\n",
    "               backend='bqplot',\n",
    "               shape=512,\n",
    "               limits=[[-74.05, -73.75], [40.58, 40.90]],\n",
    "               f='log1p', \n",
    "               colormap='plasma')"
   ]
  },
  {
   "cell_type": "code",
   "execution_count": 7,
   "metadata": {},
   "outputs": [
    {
     "name": "stdout",
     "output_type": "stream",
     "text": [
      "CPU times: user 66.2 ms, sys: 11.5 ms, total: 77.7 ms\n",
      "Wall time: 74.4 ms\n"
     ]
    },
    {
     "data": {
      "application/vnd.jupyter.widget-view+json": {
       "model_id": "df75ab8af8b646c79d7cfba6c7ab9209",
       "version_major": 2,
       "version_minor": 0
      },
      "text/plain": [
       "Heatmap(children=[ToolsToolbar(interact_value=None, supports_normalize=False, template='<template>\\n  <v-toolb…"
      ]
     },
     "metadata": {},
     "output_type": "display_data"
    }
   ],
   "source": [
    "%%time\n",
    "\n",
    "df.plot_widget(df.dropoff_longitude,\n",
    "               df.dropoff_latitude,\n",
    "               backend='bqplot',\n",
    "               shape=512,\n",
    "               limits=[[-74.05, -73.75], [40.58, 40.90]],\n",
    "               f='log1p', \n",
    "               colormap='plasma')"
   ]
  },
  {
   "cell_type": "code",
   "execution_count": 6,
   "metadata": {},
   "outputs": [
    {
     "name": "stdout",
     "output_type": "stream",
     "text": [
      "CPU times: user 2min 6s, sys: 9.18 s, total: 2min 16s\n",
      "Wall time: 27.1 s\n"
     ]
    },
    {
     "data": {
      "text/html": [
       "<div>\n",
       "<style scoped>\n",
       "    .dataframe tbody tr th:only-of-type {\n",
       "        vertical-align: middle;\n",
       "    }\n",
       "\n",
       "    .dataframe tbody tr th {\n",
       "        vertical-align: top;\n",
       "    }\n",
       "\n",
       "    .dataframe thead th {\n",
       "        text-align: right;\n",
       "    }\n",
       "</style>\n",
       "<table border=\"1\" class=\"dataframe\">\n",
       "  <thead>\n",
       "    <tr style=\"text-align: right;\">\n",
       "      <th></th>\n",
       "      <th>vendor_id</th>\n",
       "      <th>pickup_datetime</th>\n",
       "      <th>dropoff_datetime</th>\n",
       "      <th>passenger_count</th>\n",
       "      <th>payment_type</th>\n",
       "      <th>trip_distance</th>\n",
       "      <th>pickup_longitude</th>\n",
       "      <th>pickup_latitude</th>\n",
       "      <th>rate_code</th>\n",
       "      <th>store_and_fwd_flag</th>\n",
       "      <th>dropoff_longitude</th>\n",
       "      <th>dropoff_latitude</th>\n",
       "      <th>fare_amount</th>\n",
       "      <th>surcharge</th>\n",
       "      <th>mta_tax</th>\n",
       "      <th>tip_amount</th>\n",
       "      <th>tolls_amount</th>\n",
       "      <th>total_amount</th>\n",
       "    </tr>\n",
       "  </thead>\n",
       "  <tbody>\n",
       "    <tr>\n",
       "      <th>data_type</th>\n",
       "      <td>string</td>\n",
       "      <td>datetime64[ns]</td>\n",
       "      <td>datetime64[ns]</td>\n",
       "      <td>int64</td>\n",
       "      <td>string</td>\n",
       "      <td>float32</td>\n",
       "      <td>float32</td>\n",
       "      <td>float32</td>\n",
       "      <td>float32</td>\n",
       "      <td>float32</td>\n",
       "      <td>float32</td>\n",
       "      <td>float32</td>\n",
       "      <td>float32</td>\n",
       "      <td>float32</td>\n",
       "      <td>float32</td>\n",
       "      <td>float32</td>\n",
       "      <td>float32</td>\n",
       "      <td>float32</td>\n",
       "    </tr>\n",
       "    <tr>\n",
       "      <th>count</th>\n",
       "      <td>146112991</td>\n",
       "      <td>146112991</td>\n",
       "      <td>146112991</td>\n",
       "      <td>146112991</td>\n",
       "      <td>146112991</td>\n",
       "      <td>146112991</td>\n",
       "      <td>146112991</td>\n",
       "      <td>146112991</td>\n",
       "      <td>146112991</td>\n",
       "      <td>146112989</td>\n",
       "      <td>146112991</td>\n",
       "      <td>146112990</td>\n",
       "      <td>146112990</td>\n",
       "      <td>146112990</td>\n",
       "      <td>146112990</td>\n",
       "      <td>146112990</td>\n",
       "      <td>146112990</td>\n",
       "      <td>146112990</td>\n",
       "    </tr>\n",
       "    <tr>\n",
       "      <th>NA</th>\n",
       "      <td>0</td>\n",
       "      <td>0</td>\n",
       "      <td>0</td>\n",
       "      <td>0</td>\n",
       "      <td>0</td>\n",
       "      <td>0</td>\n",
       "      <td>0</td>\n",
       "      <td>0</td>\n",
       "      <td>0</td>\n",
       "      <td>2</td>\n",
       "      <td>0</td>\n",
       "      <td>1</td>\n",
       "      <td>1</td>\n",
       "      <td>1</td>\n",
       "      <td>1</td>\n",
       "      <td>1</td>\n",
       "      <td>1</td>\n",
       "      <td>1</td>\n",
       "    </tr>\n",
       "    <tr>\n",
       "      <th>mean</th>\n",
       "      <td>--</td>\n",
       "      <td>1970-01-01T00:01:25.835533096</td>\n",
       "      <td>1970-01-01T00:00:05.863547737</td>\n",
       "      <td>1.6806633573054433</td>\n",
       "      <td>--</td>\n",
       "      <td>13.137274561802968</td>\n",
       "      <td>-72.80689147618534</td>\n",
       "      <td>40.10771423265474</td>\n",
       "      <td>1.0420616124407445</td>\n",
       "      <td>0.008331969719680431</td>\n",
       "      <td>-72.85359844626947</td>\n",
       "      <td>40.13439191319037</td>\n",
       "      <td>12.938776600018072</td>\n",
       "      <td>0.3142660957767585</td>\n",
       "      <td>0.4975636310707298</td>\n",
       "      <td>1.728441680843036</td>\n",
       "      <td>0.3077738357453542</td>\n",
       "      <td>16.096247205005444</td>\n",
       "    </tr>\n",
       "    <tr>\n",
       "      <th>std</th>\n",
       "      <td>--</td>\n",
       "      <td>9085350715086012.0</td>\n",
       "      <td>9222741932040236.0</td>\n",
       "      <td>1.333365</td>\n",
       "      <td>--</td>\n",
       "      <td>19875.099777</td>\n",
       "      <td>9.220263</td>\n",
       "      <td>5.078433</td>\n",
       "      <td>0.668078</td>\n",
       "      <td>0.090899</td>\n",
       "      <td>9.03923</td>\n",
       "      <td>4.979399</td>\n",
       "      <td>124.599442</td>\n",
       "      <td>0.531459</td>\n",
       "      <td>0.05008</td>\n",
       "      <td>326.836721</td>\n",
       "      <td>1.664408</td>\n",
       "      <td>356.993551</td>\n",
       "    </tr>\n",
       "    <tr>\n",
       "      <th>min</th>\n",
       "      <td>--</td>\n",
       "      <td>2014-12-15T18:23:50.043213824</td>\n",
       "      <td>1899-12-31T23:59:43.370698752</td>\n",
       "      <td>0</td>\n",
       "      <td>--</td>\n",
       "      <td>-40840124.0</td>\n",
       "      <td>-874.002625</td>\n",
       "      <td>-78.194679</td>\n",
       "      <td>1.0</td>\n",
       "      <td>0.0</td>\n",
       "      <td>-781.833313</td>\n",
       "      <td>-78.194679</td>\n",
       "      <td>-496.0</td>\n",
       "      <td>-79.0</td>\n",
       "      <td>-3.0</td>\n",
       "      <td>-440.0</td>\n",
       "      <td>-99.0</td>\n",
       "      <td>-496.299988</td>\n",
       "    </tr>\n",
       "    <tr>\n",
       "      <th>max</th>\n",
       "      <td>--</td>\n",
       "      <td>2016-01-01T00:00:49.632313344</td>\n",
       "      <td>2253-08-23T08:00:13.061652480</td>\n",
       "      <td>9</td>\n",
       "      <td>--</td>\n",
       "      <td>198623008.0</td>\n",
       "      <td>172.600006</td>\n",
       "      <td>404.866669</td>\n",
       "      <td>99.0</td>\n",
       "      <td>1.0</td>\n",
       "      <td>172.600006</td>\n",
       "      <td>483.450012</td>\n",
       "      <td>825998.625</td>\n",
       "      <td>999.98999</td>\n",
       "      <td>91.0</td>\n",
       "      <td>3950588.75</td>\n",
       "      <td>1901.400024</td>\n",
       "      <td>3950611.5</td>\n",
       "    </tr>\n",
       "  </tbody>\n",
       "</table>\n",
       "</div>"
      ],
      "text/plain": [
       "           vendor_id                pickup_datetime  \\\n",
       "data_type     string                 datetime64[ns]   \n",
       "count      146112991                      146112991   \n",
       "NA                 0                              0   \n",
       "mean              --  1970-01-01T00:01:25.835533096   \n",
       "std               --             9085350715086012.0   \n",
       "min               --  2014-12-15T18:23:50.043213824   \n",
       "max               --  2016-01-01T00:00:49.632313344   \n",
       "\n",
       "                        dropoff_datetime     passenger_count payment_type  \\\n",
       "data_type                 datetime64[ns]               int64       string   \n",
       "count                          146112991           146112991    146112991   \n",
       "NA                                     0                   0            0   \n",
       "mean       1970-01-01T00:00:05.863547737  1.6806633573054433           --   \n",
       "std                   9222741932040236.0            1.333365           --   \n",
       "min        1899-12-31T23:59:43.370698752                   0           --   \n",
       "max        2253-08-23T08:00:13.061652480                   9           --   \n",
       "\n",
       "                trip_distance    pickup_longitude    pickup_latitude  \\\n",
       "data_type             float32             float32            float32   \n",
       "count               146112991           146112991          146112991   \n",
       "NA                          0                   0                  0   \n",
       "mean       13.137274561802968  -72.80689147618534  40.10771423265474   \n",
       "std              19875.099777            9.220263           5.078433   \n",
       "min               -40840124.0         -874.002625         -78.194679   \n",
       "max               198623008.0          172.600006         404.866669   \n",
       "\n",
       "                    rate_code    store_and_fwd_flag   dropoff_longitude  \\\n",
       "data_type             float32               float32             float32   \n",
       "count               146112991             146112989           146112991   \n",
       "NA                          0                     2                   0   \n",
       "mean       1.0420616124407445  0.008331969719680431  -72.85359844626947   \n",
       "std                  0.668078              0.090899             9.03923   \n",
       "min                       1.0                   0.0         -781.833313   \n",
       "max                      99.0                   1.0          172.600006   \n",
       "\n",
       "            dropoff_latitude         fare_amount           surcharge  \\\n",
       "data_type            float32             float32             float32   \n",
       "count              146112990           146112990           146112990   \n",
       "NA                         1                   1                   1   \n",
       "mean       40.13439191319037  12.938776600018072  0.3142660957767585   \n",
       "std                 4.979399          124.599442            0.531459   \n",
       "min               -78.194679              -496.0               -79.0   \n",
       "max               483.450012          825998.625           999.98999   \n",
       "\n",
       "                      mta_tax         tip_amount        tolls_amount  \\\n",
       "data_type             float32            float32             float32   \n",
       "count               146112990          146112990           146112990   \n",
       "NA                          1                  1                   1   \n",
       "mean       0.4975636310707298  1.728441680843036  0.3077738357453542   \n",
       "std                   0.05008         326.836721            1.664408   \n",
       "min                      -3.0             -440.0               -99.0   \n",
       "max                      91.0         3950588.75         1901.400024   \n",
       "\n",
       "                 total_amount  \n",
       "data_type             float32  \n",
       "count               146112990  \n",
       "NA                          1  \n",
       "mean       16.096247205005444  \n",
       "std                356.993551  \n",
       "min               -496.299988  \n",
       "max                 3950611.5  "
      ]
     },
     "execution_count": 6,
     "metadata": {},
     "output_type": "execute_result"
    }
   ],
   "source": [
    "%%time\n",
    "df.describe()"
   ]
  },
  {
   "cell_type": "code",
   "execution_count": null,
   "metadata": {},
   "outputs": [],
   "source": []
  }
 ],
 "metadata": {
  "finalized": {
   "timestamp": 1655976436445,
   "trusted": true
  },
  "kernelspec": {
   "display_name": "ironcomes",
   "language": "python",
   "name": "ironcomes"
  },
  "language_info": {
   "codemirror_mode": {
    "name": "ipython",
    "version": 3
   },
   "file_extension": ".py",
   "mimetype": "text/x-python",
   "name": "python",
   "nbconvert_exporter": "python",
   "pygments_lexer": "ipython3",
   "version": "3.9.12"
  },
  "varInspector": {
   "cols": {
    "lenName": 16,
    "lenType": 16,
    "lenVar": 40
   },
   "kernels_config": {
    "python": {
     "delete_cmd_postfix": "",
     "delete_cmd_prefix": "del ",
     "library": "var_list.py",
     "varRefreshCmd": "print(var_dic_list())"
    },
    "r": {
     "delete_cmd_postfix": ") ",
     "delete_cmd_prefix": "rm(",
     "library": "var_list.r",
     "varRefreshCmd": "cat(var_dic_list()) "
    }
   },
   "types_to_exclude": [
    "module",
    "function",
    "builtin_function_or_method",
    "instance",
    "_Feature"
   ],
   "window_display": false
  }
 },
 "nbformat": 4,
 "nbformat_minor": 4
}
