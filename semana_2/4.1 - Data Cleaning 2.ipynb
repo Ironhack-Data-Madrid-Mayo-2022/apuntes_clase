{
 "cells": [
  {
   "cell_type": "markdown",
   "id": "2d305db2",
   "metadata": {},
   "source": [
    "# 4.1 - Data Cleaning 2\n",
    "\n",
    "\n",
    "![cleaning2](images/data_cleaning_cycle.avif)"
   ]
  },
  {
   "cell_type": "markdown",
   "id": "f74b9014",
   "metadata": {},
   "source": [
    "# Ejemplo 1 - Airbnb data\n",
    "\n",
    "\n",
    "En esta limpieza nos centraremos en tres conceptos:\n",
    "\n",
    "+ Valores nulos.\n",
    "+ Datos inconsistentes \n",
    "+ Valores atípicos (Outliers)"
   ]
  },
  {
   "cell_type": "markdown",
   "id": "01169cd0",
   "metadata": {},
   "source": [
    "Primero importamos librerias y los datos."
   ]
  },
  {
   "cell_type": "code",
   "execution_count": null,
   "id": "6dc45ead",
   "metadata": {},
   "outputs": [],
   "source": [
    "%pip install ipython\n",
    "%pip install seaborn"
   ]
  },
  {
   "cell_type": "code",
   "execution_count": 1,
   "id": "5704994d",
   "metadata": {},
   "outputs": [],
   "source": [
    "# librerias\n",
    "\n",
    "import pandas as pd\n",
    "pd.set_option('display.max_columns', None)\n",
    "\n",
    "import numpy as np\n",
    "\n",
    "import warnings\n",
    "warnings.filterwarnings('ignore')\n",
    "\n",
    "# para pintar\n",
    "import pylab as plt\n",
    "import seaborn as sns\n",
    "\n",
    "# para que salga el grafico\n",
    "%matplotlib inline"
   ]
  },
  {
   "cell_type": "code",
   "execution_count": 2,
   "id": "b4ab466c",
   "metadata": {},
   "outputs": [
    {
     "data": {
      "text/html": [
       "<div>\n",
       "<style scoped>\n",
       "    .dataframe tbody tr th:only-of-type {\n",
       "        vertical-align: middle;\n",
       "    }\n",
       "\n",
       "    .dataframe tbody tr th {\n",
       "        vertical-align: top;\n",
       "    }\n",
       "\n",
       "    .dataframe thead th {\n",
       "        text-align: right;\n",
       "    }\n",
       "</style>\n",
       "<table border=\"1\" class=\"dataframe\">\n",
       "  <thead>\n",
       "    <tr style=\"text-align: right;\">\n",
       "      <th></th>\n",
       "      <th>id</th>\n",
       "      <th>name</th>\n",
       "      <th>host_id</th>\n",
       "      <th>host_name</th>\n",
       "      <th>neighbourhood_group</th>\n",
       "      <th>neighbourhood</th>\n",
       "      <th>latitude</th>\n",
       "      <th>longitude</th>\n",
       "      <th>room_type</th>\n",
       "      <th>price</th>\n",
       "      <th>minimum_nights</th>\n",
       "      <th>number_of_reviews</th>\n",
       "      <th>last_review</th>\n",
       "      <th>reviews_per_month</th>\n",
       "      <th>calculated_host_listings_count</th>\n",
       "      <th>availability_365</th>\n",
       "    </tr>\n",
       "  </thead>\n",
       "  <tbody>\n",
       "    <tr>\n",
       "      <th>0</th>\n",
       "      <td>2539</td>\n",
       "      <td>Clean &amp; quiet apt home by the park</td>\n",
       "      <td>2787</td>\n",
       "      <td>John</td>\n",
       "      <td>Brooklyn</td>\n",
       "      <td>Kensington</td>\n",
       "      <td>40.64749</td>\n",
       "      <td>-73.97237</td>\n",
       "      <td>Private room</td>\n",
       "      <td>149</td>\n",
       "      <td>1</td>\n",
       "      <td>9</td>\n",
       "      <td>2018-10-19</td>\n",
       "      <td>0.21</td>\n",
       "      <td>6</td>\n",
       "      <td>365</td>\n",
       "    </tr>\n",
       "    <tr>\n",
       "      <th>1</th>\n",
       "      <td>2595</td>\n",
       "      <td>Skylit Midtown Castle</td>\n",
       "      <td>2845</td>\n",
       "      <td>Jennifer</td>\n",
       "      <td>Manhattan</td>\n",
       "      <td>Midtown</td>\n",
       "      <td>40.75362</td>\n",
       "      <td>-73.98377</td>\n",
       "      <td>Entire home/apt</td>\n",
       "      <td>225</td>\n",
       "      <td>1</td>\n",
       "      <td>45</td>\n",
       "      <td>2019-05-21</td>\n",
       "      <td>0.38</td>\n",
       "      <td>2</td>\n",
       "      <td>355</td>\n",
       "    </tr>\n",
       "    <tr>\n",
       "      <th>2</th>\n",
       "      <td>3647</td>\n",
       "      <td>THE VILLAGE OF HARLEM....NEW YORK !</td>\n",
       "      <td>4632</td>\n",
       "      <td>Elisabeth</td>\n",
       "      <td>Manhattan</td>\n",
       "      <td>Harlem</td>\n",
       "      <td>40.80902</td>\n",
       "      <td>-73.94190</td>\n",
       "      <td>Private room</td>\n",
       "      <td>150</td>\n",
       "      <td>3</td>\n",
       "      <td>0</td>\n",
       "      <td>NaN</td>\n",
       "      <td>NaN</td>\n",
       "      <td>1</td>\n",
       "      <td>365</td>\n",
       "    </tr>\n",
       "    <tr>\n",
       "      <th>3</th>\n",
       "      <td>3831</td>\n",
       "      <td>Cozy Entire Floor of Brownstone</td>\n",
       "      <td>4869</td>\n",
       "      <td>LisaRoxanne</td>\n",
       "      <td>Brooklyn</td>\n",
       "      <td>Clinton Hill</td>\n",
       "      <td>40.68514</td>\n",
       "      <td>-73.95976</td>\n",
       "      <td>Entire home/apt</td>\n",
       "      <td>89</td>\n",
       "      <td>1</td>\n",
       "      <td>270</td>\n",
       "      <td>2019-07-05</td>\n",
       "      <td>4.64</td>\n",
       "      <td>1</td>\n",
       "      <td>194</td>\n",
       "    </tr>\n",
       "    <tr>\n",
       "      <th>4</th>\n",
       "      <td>5022</td>\n",
       "      <td>Entire Apt: Spacious Studio/Loft by central park</td>\n",
       "      <td>7192</td>\n",
       "      <td>Laura</td>\n",
       "      <td>Manhattan</td>\n",
       "      <td>East Harlem</td>\n",
       "      <td>40.79851</td>\n",
       "      <td>-73.94399</td>\n",
       "      <td>Entire home/apt</td>\n",
       "      <td>80</td>\n",
       "      <td>10</td>\n",
       "      <td>9</td>\n",
       "      <td>2018-11-19</td>\n",
       "      <td>0.10</td>\n",
       "      <td>1</td>\n",
       "      <td>0</td>\n",
       "    </tr>\n",
       "  </tbody>\n",
       "</table>\n",
       "</div>"
      ],
      "text/plain": [
       "     id                                              name  host_id  \\\n",
       "0  2539                Clean & quiet apt home by the park     2787   \n",
       "1  2595                             Skylit Midtown Castle     2845   \n",
       "2  3647               THE VILLAGE OF HARLEM....NEW YORK !     4632   \n",
       "3  3831                   Cozy Entire Floor of Brownstone     4869   \n",
       "4  5022  Entire Apt: Spacious Studio/Loft by central park     7192   \n",
       "\n",
       "     host_name neighbourhood_group neighbourhood  latitude  longitude  \\\n",
       "0         John            Brooklyn    Kensington  40.64749  -73.97237   \n",
       "1     Jennifer           Manhattan       Midtown  40.75362  -73.98377   \n",
       "2    Elisabeth           Manhattan        Harlem  40.80902  -73.94190   \n",
       "3  LisaRoxanne            Brooklyn  Clinton Hill  40.68514  -73.95976   \n",
       "4        Laura           Manhattan   East Harlem  40.79851  -73.94399   \n",
       "\n",
       "         room_type  price  minimum_nights  number_of_reviews last_review  \\\n",
       "0     Private room    149               1                  9  2018-10-19   \n",
       "1  Entire home/apt    225               1                 45  2019-05-21   \n",
       "2     Private room    150               3                  0         NaN   \n",
       "3  Entire home/apt     89               1                270  2019-07-05   \n",
       "4  Entire home/apt     80              10                  9  2018-11-19   \n",
       "\n",
       "   reviews_per_month  calculated_host_listings_count  availability_365  \n",
       "0               0.21                               6               365  \n",
       "1               0.38                               2               355  \n",
       "2                NaN                               1               365  \n",
       "3               4.64                               1               194  \n",
       "4               0.10                               1                 0  "
      ]
     },
     "execution_count": 2,
     "metadata": {},
     "output_type": "execute_result"
    }
   ],
   "source": [
    "# se cargan los datos\n",
    "\n",
    "airbnb_ori=pd.read_csv('../data/AB_NYC_2019.csv')\n",
    "\n",
    "airbnb=airbnb_ori.copy()\n",
    "\n",
    "airbnb.head()"
   ]
  },
  {
   "cell_type": "markdown",
   "id": "064e3d91",
   "metadata": {},
   "source": [
    "**EDA**\n",
    "\n",
    "Se comienza la exploracion de los datos."
   ]
  },
  {
   "cell_type": "code",
   "execution_count": 3,
   "id": "8a5c78fa",
   "metadata": {},
   "outputs": [
    {
     "data": {
      "text/html": [
       "<div>\n",
       "<style scoped>\n",
       "    .dataframe tbody tr th:only-of-type {\n",
       "        vertical-align: middle;\n",
       "    }\n",
       "\n",
       "    .dataframe tbody tr th {\n",
       "        vertical-align: top;\n",
       "    }\n",
       "\n",
       "    .dataframe thead th {\n",
       "        text-align: right;\n",
       "    }\n",
       "</style>\n",
       "<table border=\"1\" class=\"dataframe\">\n",
       "  <thead>\n",
       "    <tr style=\"text-align: right;\">\n",
       "      <th></th>\n",
       "      <th>count</th>\n",
       "      <th>mean</th>\n",
       "      <th>std</th>\n",
       "      <th>min</th>\n",
       "      <th>25%</th>\n",
       "      <th>50%</th>\n",
       "      <th>75%</th>\n",
       "      <th>max</th>\n",
       "    </tr>\n",
       "  </thead>\n",
       "  <tbody>\n",
       "    <tr>\n",
       "      <th>id</th>\n",
       "      <td>48895.0</td>\n",
       "      <td>1.901714e+07</td>\n",
       "      <td>1.098311e+07</td>\n",
       "      <td>2539.00000</td>\n",
       "      <td>9.471945e+06</td>\n",
       "      <td>1.967728e+07</td>\n",
       "      <td>2.915218e+07</td>\n",
       "      <td>3.648724e+07</td>\n",
       "    </tr>\n",
       "    <tr>\n",
       "      <th>host_id</th>\n",
       "      <td>48895.0</td>\n",
       "      <td>6.762001e+07</td>\n",
       "      <td>7.861097e+07</td>\n",
       "      <td>2438.00000</td>\n",
       "      <td>7.822033e+06</td>\n",
       "      <td>3.079382e+07</td>\n",
       "      <td>1.074344e+08</td>\n",
       "      <td>2.743213e+08</td>\n",
       "    </tr>\n",
       "    <tr>\n",
       "      <th>latitude</th>\n",
       "      <td>48895.0</td>\n",
       "      <td>4.072895e+01</td>\n",
       "      <td>5.453008e-02</td>\n",
       "      <td>40.49979</td>\n",
       "      <td>4.069010e+01</td>\n",
       "      <td>4.072307e+01</td>\n",
       "      <td>4.076311e+01</td>\n",
       "      <td>4.091306e+01</td>\n",
       "    </tr>\n",
       "    <tr>\n",
       "      <th>longitude</th>\n",
       "      <td>48895.0</td>\n",
       "      <td>-7.395217e+01</td>\n",
       "      <td>4.615674e-02</td>\n",
       "      <td>-74.24442</td>\n",
       "      <td>-7.398307e+01</td>\n",
       "      <td>-7.395568e+01</td>\n",
       "      <td>-7.393627e+01</td>\n",
       "      <td>-7.371299e+01</td>\n",
       "    </tr>\n",
       "    <tr>\n",
       "      <th>price</th>\n",
       "      <td>48895.0</td>\n",
       "      <td>1.527207e+02</td>\n",
       "      <td>2.401542e+02</td>\n",
       "      <td>0.00000</td>\n",
       "      <td>6.900000e+01</td>\n",
       "      <td>1.060000e+02</td>\n",
       "      <td>1.750000e+02</td>\n",
       "      <td>1.000000e+04</td>\n",
       "    </tr>\n",
       "    <tr>\n",
       "      <th>minimum_nights</th>\n",
       "      <td>48895.0</td>\n",
       "      <td>7.029962e+00</td>\n",
       "      <td>2.051055e+01</td>\n",
       "      <td>1.00000</td>\n",
       "      <td>1.000000e+00</td>\n",
       "      <td>3.000000e+00</td>\n",
       "      <td>5.000000e+00</td>\n",
       "      <td>1.250000e+03</td>\n",
       "    </tr>\n",
       "    <tr>\n",
       "      <th>number_of_reviews</th>\n",
       "      <td>48895.0</td>\n",
       "      <td>2.327447e+01</td>\n",
       "      <td>4.455058e+01</td>\n",
       "      <td>0.00000</td>\n",
       "      <td>1.000000e+00</td>\n",
       "      <td>5.000000e+00</td>\n",
       "      <td>2.400000e+01</td>\n",
       "      <td>6.290000e+02</td>\n",
       "    </tr>\n",
       "    <tr>\n",
       "      <th>reviews_per_month</th>\n",
       "      <td>38843.0</td>\n",
       "      <td>1.373221e+00</td>\n",
       "      <td>1.680442e+00</td>\n",
       "      <td>0.01000</td>\n",
       "      <td>1.900000e-01</td>\n",
       "      <td>7.200000e-01</td>\n",
       "      <td>2.020000e+00</td>\n",
       "      <td>5.850000e+01</td>\n",
       "    </tr>\n",
       "    <tr>\n",
       "      <th>calculated_host_listings_count</th>\n",
       "      <td>48895.0</td>\n",
       "      <td>7.143982e+00</td>\n",
       "      <td>3.295252e+01</td>\n",
       "      <td>1.00000</td>\n",
       "      <td>1.000000e+00</td>\n",
       "      <td>1.000000e+00</td>\n",
       "      <td>2.000000e+00</td>\n",
       "      <td>3.270000e+02</td>\n",
       "    </tr>\n",
       "    <tr>\n",
       "      <th>availability_365</th>\n",
       "      <td>48895.0</td>\n",
       "      <td>1.127813e+02</td>\n",
       "      <td>1.316223e+02</td>\n",
       "      <td>0.00000</td>\n",
       "      <td>0.000000e+00</td>\n",
       "      <td>4.500000e+01</td>\n",
       "      <td>2.270000e+02</td>\n",
       "      <td>3.650000e+02</td>\n",
       "    </tr>\n",
       "  </tbody>\n",
       "</table>\n",
       "</div>"
      ],
      "text/plain": [
       "                                  count          mean           std  \\\n",
       "id                              48895.0  1.901714e+07  1.098311e+07   \n",
       "host_id                         48895.0  6.762001e+07  7.861097e+07   \n",
       "latitude                        48895.0  4.072895e+01  5.453008e-02   \n",
       "longitude                       48895.0 -7.395217e+01  4.615674e-02   \n",
       "price                           48895.0  1.527207e+02  2.401542e+02   \n",
       "minimum_nights                  48895.0  7.029962e+00  2.051055e+01   \n",
       "number_of_reviews               48895.0  2.327447e+01  4.455058e+01   \n",
       "reviews_per_month               38843.0  1.373221e+00  1.680442e+00   \n",
       "calculated_host_listings_count  48895.0  7.143982e+00  3.295252e+01   \n",
       "availability_365                48895.0  1.127813e+02  1.316223e+02   \n",
       "\n",
       "                                       min           25%           50%  \\\n",
       "id                              2539.00000  9.471945e+06  1.967728e+07   \n",
       "host_id                         2438.00000  7.822033e+06  3.079382e+07   \n",
       "latitude                          40.49979  4.069010e+01  4.072307e+01   \n",
       "longitude                        -74.24442 -7.398307e+01 -7.395568e+01   \n",
       "price                              0.00000  6.900000e+01  1.060000e+02   \n",
       "minimum_nights                     1.00000  1.000000e+00  3.000000e+00   \n",
       "number_of_reviews                  0.00000  1.000000e+00  5.000000e+00   \n",
       "reviews_per_month                  0.01000  1.900000e-01  7.200000e-01   \n",
       "calculated_host_listings_count     1.00000  1.000000e+00  1.000000e+00   \n",
       "availability_365                   0.00000  0.000000e+00  4.500000e+01   \n",
       "\n",
       "                                         75%           max  \n",
       "id                              2.915218e+07  3.648724e+07  \n",
       "host_id                         1.074344e+08  2.743213e+08  \n",
       "latitude                        4.076311e+01  4.091306e+01  \n",
       "longitude                      -7.393627e+01 -7.371299e+01  \n",
       "price                           1.750000e+02  1.000000e+04  \n",
       "minimum_nights                  5.000000e+00  1.250000e+03  \n",
       "number_of_reviews               2.400000e+01  6.290000e+02  \n",
       "reviews_per_month               2.020000e+00  5.850000e+01  \n",
       "calculated_host_listings_count  2.000000e+00  3.270000e+02  \n",
       "availability_365                2.270000e+02  3.650000e+02  "
      ]
     },
     "execution_count": 3,
     "metadata": {},
     "output_type": "execute_result"
    }
   ],
   "source": [
    "airbnb.describe().T"
   ]
  },
  {
   "cell_type": "code",
   "execution_count": 4,
   "id": "1ee56d8d",
   "metadata": {},
   "outputs": [
    {
     "name": "stdout",
     "output_type": "stream",
     "text": [
      "<class 'pandas.core.frame.DataFrame'>\n",
      "RangeIndex: 48895 entries, 0 to 48894\n",
      "Data columns (total 16 columns):\n",
      " #   Column                          Non-Null Count  Dtype  \n",
      "---  ------                          --------------  -----  \n",
      " 0   id                              48895 non-null  int64  \n",
      " 1   name                            48879 non-null  object \n",
      " 2   host_id                         48895 non-null  int64  \n",
      " 3   host_name                       48874 non-null  object \n",
      " 4   neighbourhood_group             48895 non-null  object \n",
      " 5   neighbourhood                   48895 non-null  object \n",
      " 6   latitude                        48895 non-null  float64\n",
      " 7   longitude                       48895 non-null  float64\n",
      " 8   room_type                       48895 non-null  object \n",
      " 9   price                           48895 non-null  int64  \n",
      " 10  minimum_nights                  48895 non-null  int64  \n",
      " 11  number_of_reviews               48895 non-null  int64  \n",
      " 12  last_review                     38843 non-null  object \n",
      " 13  reviews_per_month               38843 non-null  float64\n",
      " 14  calculated_host_listings_count  48895 non-null  int64  \n",
      " 15  availability_365                48895 non-null  int64  \n",
      "dtypes: float64(3), int64(7), object(6)\n",
      "memory usage: 23.5 MB\n"
     ]
    }
   ],
   "source": [
    "airbnb.info(memory_usage='deep')"
   ]
  },
  {
   "cell_type": "markdown",
   "id": "4b210040",
   "metadata": {},
   "source": [
    "**Columnas numericas**"
   ]
  },
  {
   "cell_type": "code",
   "execution_count": 5,
   "id": "3cdc0645",
   "metadata": {},
   "outputs": [
    {
     "data": {
      "text/plain": [
       "Index(['id', 'host_id', 'latitude', 'longitude', 'price', 'minimum_nights',\n",
       "       'number_of_reviews', 'reviews_per_month',\n",
       "       'calculated_host_listings_count', 'availability_365'],\n",
       "      dtype='object')"
      ]
     },
     "execution_count": 5,
     "metadata": {},
     "output_type": "execute_result"
    }
   ],
   "source": [
    "num_df=airbnb.select_dtypes(exclude='object')\n",
    "\n",
    "num_df.columns"
   ]
  },
  {
   "cell_type": "markdown",
   "id": "db0bdecd",
   "metadata": {},
   "source": [
    "**Columnas categoricas**"
   ]
  },
  {
   "cell_type": "code",
   "execution_count": 6,
   "id": "5f8bc625",
   "metadata": {},
   "outputs": [
    {
     "data": {
      "text/plain": [
       "Index(['name', 'host_name', 'neighbourhood_group', 'neighbourhood',\n",
       "       'room_type', 'last_review'],\n",
       "      dtype='object')"
      ]
     },
     "execution_count": 6,
     "metadata": {},
     "output_type": "execute_result"
    }
   ],
   "source": [
    "cat_df=airbnb.select_dtypes(include='object')\n",
    "\n",
    "cat_df.columns"
   ]
  },
  {
   "cell_type": "markdown",
   "id": "47d1ce43",
   "metadata": {},
   "source": [
    "## Valores Nulos"
   ]
  },
  {
   "cell_type": "code",
   "execution_count": 7,
   "id": "e434e364",
   "metadata": {},
   "outputs": [
    {
     "data": {
      "text/plain": [
       "name                    16\n",
       "host_name               21\n",
       "last_review          10052\n",
       "reviews_per_month    10052\n",
       "dtype: int64"
      ]
     },
     "execution_count": 7,
     "metadata": {},
     "output_type": "execute_result"
    }
   ],
   "source": [
    "nan_cols=airbnb.isna().sum()   # serie con indice las columnas y valores los nulos\n",
    "\n",
    "nan_cols[nan_cols>0]"
   ]
  },
  {
   "cell_type": "code",
   "execution_count": 8,
   "id": "10c39c46",
   "metadata": {},
   "outputs": [
    {
     "data": {
      "text/plain": [
       "name                  0.032723\n",
       "host_name             0.042949\n",
       "last_review          20.558339\n",
       "reviews_per_month    20.558339\n",
       "dtype: float64"
      ]
     },
     "execution_count": 8,
     "metadata": {},
     "output_type": "execute_result"
    }
   ],
   "source": [
    "nan_cols=airbnb.isna().mean() * 100\n",
    "\n",
    "nan_cols[nan_cols>0]"
   ]
  },
  {
   "cell_type": "code",
   "execution_count": 9,
   "id": "696eefdb",
   "metadata": {},
   "outputs": [
    {
     "data": {
      "image/png": "[encoded data removed]",
      "text/plain": [
       "<Figure size 720x432 with 1 Axes>"
      ]
     },
     "metadata": {
      "needs_background": "light"
     },
     "output_type": "display_data"
    }
   ],
   "source": [
    "# grafico de nulos en el dataframe\n",
    "\n",
    "plt.figure(figsize=(10, 6))\n",
    "\n",
    "sns.heatmap(airbnb.isna(), # mapa de calor\n",
    "            yticklabels=False,\n",
    "            cmap='viridis',\n",
    "            cbar=False)\n",
    "\n",
    "plt.show();"
   ]
  },
  {
   "cell_type": "code",
   "execution_count": 10,
   "id": "7ab58ee0",
   "metadata": {},
   "outputs": [],
   "source": [
    "def check_nan(df: pd.DataFrame) -> None:\n",
    "    \n",
    "    nan_cols=airbnb.isna().mean() * 100\n",
    "\n",
    "    display(f'N nan cols: {len(nan_cols[nan_cols>0])}')\n",
    "    display(nan_cols[nan_cols>0])\n",
    "    \n",
    "    plt.figure(figsize=(10, 6))\n",
    "\n",
    "    sns.heatmap(airbnb.isna(), # mapa de calor\n",
    "                yticklabels=False,\n",
    "                cmap='viridis',\n",
    "                cbar=False)\n",
    "\n",
    "    plt.show();"
   ]
  },
  {
   "cell_type": "code",
   "execution_count": 11,
   "id": "1231d901",
   "metadata": {},
   "outputs": [
    {
     "data": {
      "text/plain": [
       "'N nan cols: 4'"
      ]
     },
     "metadata": {},
     "output_type": "display_data"
    },
    {
     "data": {
      "text/plain": [
       "name                  0.032723\n",
       "host_name             0.042949\n",
       "last_review          20.558339\n",
       "reviews_per_month    20.558339\n",
       "dtype: float64"
      ]
     },
     "metadata": {},
     "output_type": "display_data"
    },
    {
     "data": {
      "image/png": "[encoded data removed]",
      "text/plain": [
       "<Figure size 720x432 with 1 Axes>"
      ]
     },
     "metadata": {
      "needs_background": "light"
     },
     "output_type": "display_data"
    }
   ],
   "source": [
    "check_nan(airbnb)"
   ]
  },
  {
   "cell_type": "markdown",
   "id": "83d80298",
   "metadata": {},
   "source": [
    "**¿Qué hacemos con estos valores?**"
   ]
  },
  {
   "cell_type": "code",
   "execution_count": 12,
   "id": "6b1c9631",
   "metadata": {},
   "outputs": [],
   "source": [
    "# podemos borrar algunas columnas\n",
    "\n",
    "cols=['id', 'host_id', 'host_name']\n",
    "\n",
    "airbnb.drop(cols, axis=1, inplace=True)"
   ]
  },
  {
   "cell_type": "code",
   "execution_count": 13,
   "id": "d40d4332",
   "metadata": {},
   "outputs": [
    {
     "data": {
      "text/plain": [
       "0"
      ]
     },
     "execution_count": 13,
     "metadata": {},
     "output_type": "execute_result"
    }
   ],
   "source": [
    "airbnb['price'].isna().sum()"
   ]
  },
  {
   "cell_type": "code",
   "execution_count": 14,
   "id": "1fa24959",
   "metadata": {},
   "outputs": [],
   "source": [
    "# borrar borrar filas con nulos en cierta columna\n",
    "\n",
    "airbnb['price'].dropna(inplace=True)"
   ]
  },
  {
   "cell_type": "code",
   "execution_count": 15,
   "id": "87f41640",
   "metadata": {},
   "outputs": [],
   "source": [
    "# borrar borrar filas con nulos en varias columnas a la vez\n",
    "\n",
    "airbnb.dropna(inplace=True, subset=['price', 'latitude', 'longitude'])"
   ]
  },
  {
   "cell_type": "code",
   "execution_count": 16,
   "id": "a0bec826",
   "metadata": {},
   "outputs": [],
   "source": [
    "# rellenar con la media\n",
    "\n",
    "airbnb['price'].fillna(airbnb['price'].mean() , inplace=True)"
   ]
  },
  {
   "cell_type": "code",
   "execution_count": 17,
   "id": "13b14b31",
   "metadata": {},
   "outputs": [],
   "source": [
    "# rellenar con la mediana\n",
    "\n",
    "airbnb['price'].fillna(airbnb['price'].median() , inplace=True)"
   ]
  },
  {
   "cell_type": "code",
   "execution_count": 18,
   "id": "0808c6bd",
   "metadata": {},
   "outputs": [
    {
     "data": {
      "text/plain": [
       "0    149\n",
       "1    225\n",
       "2    150\n",
       "3     89\n",
       "4     80\n",
       "Name: price, dtype: int64"
      ]
     },
     "execution_count": 18,
     "metadata": {},
     "output_type": "execute_result"
    }
   ],
   "source": [
    "# backward/forward fill, normalmente para series temporales\n",
    "\n",
    "airbnb['price'].bfill()\n",
    "airbnb['price'].ffill().head()"
   ]
  },
  {
   "cell_type": "code",
   "execution_count": 19,
   "id": "a2420abc",
   "metadata": {},
   "outputs": [],
   "source": [
    "# podemos rellenar en un subconjunto de columnas\n",
    "\n",
    "airbnb.fillna({'reviews_per_month': 0, 'name': 'unknown'}, inplace=True)"
   ]
  },
  {
   "cell_type": "code",
   "execution_count": null,
   "id": "addb2847",
   "metadata": {},
   "outputs": [],
   "source": [
    "#airbnb.fillna(dict(zip(nan_cols[nan_cols>0].index, ['unknown'])), inplace=True)"
   ]
  },
  {
   "cell_type": "code",
   "execution_count": 20,
   "id": "266d8721",
   "metadata": {},
   "outputs": [
    {
     "data": {
      "text/plain": [
       "last_review    20.558339\n",
       "dtype: float64"
      ]
     },
     "execution_count": 20,
     "metadata": {},
     "output_type": "execute_result"
    }
   ],
   "source": [
    "nan_cols=airbnb.isna().mean() * 100\n",
    "\n",
    "nan_cols[nan_cols>0]"
   ]
  },
  {
   "cell_type": "code",
   "execution_count": null,
   "id": "6a64cc03",
   "metadata": {},
   "outputs": [],
   "source": [
    "nan_cols[nan_cols>0].index  # lista con el nombre de las columnas que tienen nulos"
   ]
  },
  {
   "cell_type": "code",
   "execution_count": null,
   "id": "d82515a7",
   "metadata": {},
   "outputs": [],
   "source": [
    "# lista de valores para rellenar\n",
    "\n",
    "lst=['unknown', 'None', 0]"
   ]
  },
  {
   "cell_type": "code",
   "execution_count": null,
   "id": "9e2a693b",
   "metadata": {},
   "outputs": [],
   "source": [
    "dictio=dict(zip(nan_cols[nan_cols>0].index, lst))  # diccionario para rellenar diferente columnas\n",
    "\n",
    "dictio"
   ]
  },
  {
   "cell_type": "code",
   "execution_count": null,
   "id": "edaca11b",
   "metadata": {},
   "outputs": [],
   "source": [
    "airbnb.fillna(dictio, inplace=True)"
   ]
  },
  {
   "cell_type": "markdown",
   "id": "048be86d",
   "metadata": {},
   "source": [
    "**para categorias, una estragia puede ser rellenar con el valor mas frecuente**"
   ]
  },
  {
   "cell_type": "code",
   "execution_count": 21,
   "id": "b40dc11b",
   "metadata": {},
   "outputs": [
    {
     "data": {
      "text/plain": [
       "'N nan cols: 1'"
      ]
     },
     "metadata": {},
     "output_type": "display_data"
    },
    {
     "data": {
      "text/plain": [
       "last_review    20.558339\n",
       "dtype: float64"
      ]
     },
     "metadata": {},
     "output_type": "display_data"
    },
    {
     "data": {
      "image/png": "[encoded data removed]",
      "text/plain": [
       "<Figure size 720x432 with 1 Axes>"
      ]
     },
     "metadata": {
      "needs_background": "light"
     },
     "output_type": "display_data"
    }
   ],
   "source": [
    "check_nan(airbnb)"
   ]
  },
  {
   "cell_type": "markdown",
   "id": "bde46b1a",
   "metadata": {},
   "source": [
    "## Datos inconsistentes \n",
    "\n",
    "\n",
    "**Fechas**"
   ]
  },
  {
   "cell_type": "code",
   "execution_count": 22,
   "id": "645a7615",
   "metadata": {},
   "outputs": [
    {
     "name": "stdout",
     "output_type": "stream",
     "text": [
      "<class 'pandas.core.frame.DataFrame'>\n",
      "RangeIndex: 48895 entries, 0 to 48894\n",
      "Data columns (total 13 columns):\n",
      " #   Column                          Non-Null Count  Dtype  \n",
      "---  ------                          --------------  -----  \n",
      " 0   name                            48895 non-null  object \n",
      " 1   neighbourhood_group             48895 non-null  object \n",
      " 2   neighbourhood                   48895 non-null  object \n",
      " 3   latitude                        48895 non-null  float64\n",
      " 4   longitude                       48895 non-null  float64\n",
      " 5   room_type                       48895 non-null  object \n",
      " 6   price                           48895 non-null  int64  \n",
      " 7   minimum_nights                  48895 non-null  int64  \n",
      " 8   number_of_reviews               48895 non-null  int64  \n",
      " 9   last_review                     38843 non-null  object \n",
      " 10  reviews_per_month               48895 non-null  float64\n",
      " 11  calculated_host_listings_count  48895 non-null  int64  \n",
      " 12  availability_365                48895 non-null  int64  \n",
      "dtypes: float64(3), int64(5), object(5)\n",
      "memory usage: 4.8+ MB\n"
     ]
    }
   ],
   "source": [
    "airbnb.info()"
   ]
  },
  {
   "cell_type": "code",
   "execution_count": 31,
   "id": "912298a1",
   "metadata": {},
   "outputs": [
    {
     "data": {
      "text/plain": [
       "numpy.datetime64"
      ]
     },
     "execution_count": 31,
     "metadata": {},
     "output_type": "execute_result"
    }
   ],
   "source": [
    "airbnb.last_review=pd.to_datetime(airbnb.last_review, format='%Y-%m-%d')\n",
    "\n",
    "airbnb.last_review.dtype.type"
   ]
  },
  {
   "cell_type": "code",
   "execution_count": 32,
   "id": "c16a3b25",
   "metadata": {},
   "outputs": [
    {
     "name": "stdout",
     "output_type": "stream",
     "text": [
      "<class 'pandas.core.frame.DataFrame'>\n",
      "RangeIndex: 48895 entries, 0 to 48894\n",
      "Data columns (total 13 columns):\n",
      " #   Column                          Non-Null Count  Dtype         \n",
      "---  ------                          --------------  -----         \n",
      " 0   name                            48895 non-null  object        \n",
      " 1   neighbourhood_group             48895 non-null  object        \n",
      " 2   neighbourhood                   48895 non-null  object        \n",
      " 3   latitude                        48895 non-null  float64       \n",
      " 4   longitude                       48895 non-null  float64       \n",
      " 5   room_type                       48895 non-null  object        \n",
      " 6   price                           48895 non-null  int64         \n",
      " 7   minimum_nights                  48895 non-null  int64         \n",
      " 8   number_of_reviews               48895 non-null  int64         \n",
      " 9   last_review                     38843 non-null  datetime64[ns]\n",
      " 10  reviews_per_month               48895 non-null  float64       \n",
      " 11  calculated_host_listings_count  48895 non-null  int64         \n",
      " 12  availability_365                48895 non-null  int64         \n",
      "dtypes: datetime64[ns](1), float64(3), int64(5), object(4)\n",
      "memory usage: 4.8+ MB\n"
     ]
    }
   ],
   "source": [
    "airbnb.info()"
   ]
  },
  {
   "cell_type": "code",
   "execution_count": 33,
   "id": "7b9b89aa",
   "metadata": {},
   "outputs": [],
   "source": [
    "# asumimos que estan en orden\n",
    "\n",
    "airbnb.last_review.ffill(inplace=True)"
   ]
  },
  {
   "cell_type": "code",
   "execution_count": 34,
   "id": "c7b0e819",
   "metadata": {},
   "outputs": [
    {
     "data": {
      "text/plain": [
       "0   2018-10-19\n",
       "1   2019-05-21\n",
       "2   2019-05-21\n",
       "3   2019-07-05\n",
       "4   2018-11-19\n",
       "5   2019-06-22\n",
       "6   2017-10-05\n",
       "7   2019-06-24\n",
       "8   2017-07-21\n",
       "9   2019-06-09\n",
       "Name: last_review, dtype: datetime64[ns]"
      ]
     },
     "execution_count": 34,
     "metadata": {},
     "output_type": "execute_result"
    }
   ],
   "source": [
    "airbnb.last_review.head(10)"
   ]
  },
  {
   "cell_type": "code",
   "execution_count": 35,
   "id": "9a0dcd83",
   "metadata": {},
   "outputs": [
    {
     "data": {
      "text/plain": [
       "'N nan cols: 0'"
      ]
     },
     "metadata": {},
     "output_type": "display_data"
    },
    {
     "data": {
      "text/plain": [
       "Series([], dtype: float64)"
      ]
     },
     "metadata": {},
     "output_type": "display_data"
    },
    {
     "data": {
      "image/png": "[encoded data removed]",
      "text/plain": [
       "<Figure size 720x432 with 1 Axes>"
      ]
     },
     "metadata": {
      "needs_background": "light"
     },
     "output_type": "display_data"
    }
   ],
   "source": [
    "check_nan(airbnb)"
   ]
  },
  {
   "cell_type": "markdown",
   "id": "4e463f22",
   "metadata": {},
   "source": [
    "**Arreglando errores en strings**"
   ]
  },
  {
   "cell_type": "code",
   "execution_count": 37,
   "id": "78e96760",
   "metadata": {},
   "outputs": [
    {
     "data": {
      "text/plain": [
       "Manhattan        21661\n",
       "Brooklyn         20104\n",
       "Queens            5666\n",
       "Bronx             1091\n",
       "Staten Island      373\n",
       "Name: neighbourhood_group, dtype: int64"
      ]
     },
     "execution_count": 37,
     "metadata": {},
     "output_type": "execute_result"
    }
   ],
   "source": [
    "airbnb.neighbourhood_group.value_counts()"
   ]
  },
  {
   "cell_type": "code",
   "execution_count": 49,
   "id": "bd79e903",
   "metadata": {},
   "outputs": [],
   "source": [
    "# introduzco un error en los datos\n",
    "\n",
    "mal_index=airbnb.sample(2, random_state=42).index  # una muestra de 2 filas (random state es la semilla==>misma muestra cada vez que se ejecuta)\n",
    "\n",
    "mal_escrito=['manhattatata', 'brookkkllklk']\n",
    "\n",
    "airbnb.loc[mal_index, 'neighbourhood_group']=mal_escrito"
   ]
  },
  {
   "cell_type": "code",
   "execution_count": 50,
   "id": "ecd05fdc",
   "metadata": {},
   "outputs": [
    {
     "data": {
      "text/plain": [
       "Manhattan        21661\n",
       "Brooklyn         20103\n",
       "Queens            5665\n",
       "Bronx             1091\n",
       "Staten Island      373\n",
       "manhattatata         1\n",
       "brookkkllklk         1\n",
       "Name: neighbourhood_group, dtype: int64"
      ]
     },
     "execution_count": 50,
     "metadata": {},
     "output_type": "execute_result"
    }
   ],
   "source": [
    "airbnb.neighbourhood_group.value_counts()"
   ]
  },
  {
   "cell_type": "code",
   "execution_count": 52,
   "id": "7e5b1de9",
   "metadata": {},
   "outputs": [],
   "source": [
    "airbnb.neighbourhood_group.replace(['manhattatata', 'brookkkllklk'], \n",
    "                                   ['Manhattan', 'Brooklyn'],\n",
    "                                   inplace=True)"
   ]
  },
  {
   "cell_type": "code",
   "execution_count": 56,
   "id": "c33b2971",
   "metadata": {},
   "outputs": [
    {
     "data": {
      "text/plain": [
       "Manhattan        21662\n",
       "Brooklyn         20104\n",
       "Queens            5665\n",
       "Bronx             1091\n",
       "Staten Island      373\n",
       "Name: neighbourhood_group, dtype: int64"
      ]
     },
     "execution_count": 56,
     "metadata": {},
     "output_type": "execute_result"
    }
   ],
   "source": [
    "airbnb.neighbourhood_group.value_counts()"
   ]
  },
  {
   "cell_type": "markdown",
   "id": "0154cbed",
   "metadata": {},
   "source": [
    "**ejemplo:** Busqueda de filas que contengan una palabra clave"
   ]
  },
  {
   "cell_type": "code",
   "execution_count": 59,
   "id": "88583e7b",
   "metadata": {},
   "outputs": [
    {
     "data": {
      "text/html": [
       "<div>\n",
       "<style scoped>\n",
       "    .dataframe tbody tr th:only-of-type {\n",
       "        vertical-align: middle;\n",
       "    }\n",
       "\n",
       "    .dataframe tbody tr th {\n",
       "        vertical-align: top;\n",
       "    }\n",
       "\n",
       "    .dataframe thead th {\n",
       "        text-align: right;\n",
       "    }\n",
       "</style>\n",
       "<table border=\"1\" class=\"dataframe\">\n",
       "  <thead>\n",
       "    <tr style=\"text-align: right;\">\n",
       "      <th></th>\n",
       "      <th>name</th>\n",
       "      <th>neighbourhood_group</th>\n",
       "      <th>neighbourhood</th>\n",
       "      <th>latitude</th>\n",
       "      <th>longitude</th>\n",
       "      <th>room_type</th>\n",
       "      <th>price</th>\n",
       "      <th>minimum_nights</th>\n",
       "      <th>number_of_reviews</th>\n",
       "      <th>last_review</th>\n",
       "      <th>reviews_per_month</th>\n",
       "      <th>calculated_host_listings_count</th>\n",
       "      <th>availability_365</th>\n",
       "    </tr>\n",
       "  </thead>\n",
       "  <tbody>\n",
       "    <tr>\n",
       "      <th>19733</th>\n",
       "      <td>Noisy room next to Prospect Park</td>\n",
       "      <td>Brooklyn</td>\n",
       "      <td>Prospect-Lefferts Gardens</td>\n",
       "      <td>40.65762</td>\n",
       "      <td>-73.96129</td>\n",
       "      <td>Private room</td>\n",
       "      <td>500</td>\n",
       "      <td>1</td>\n",
       "      <td>0</td>\n",
       "      <td>2018-10-21</td>\n",
       "      <td>0.00</td>\n",
       "      <td>1</td>\n",
       "      <td>89</td>\n",
       "    </tr>\n",
       "    <tr>\n",
       "      <th>23857</th>\n",
       "      <td>Small Homey Studio in a Big Noisy City</td>\n",
       "      <td>Manhattan</td>\n",
       "      <td>Harlem</td>\n",
       "      <td>40.81703</td>\n",
       "      <td>-73.93691</td>\n",
       "      <td>Entire home/apt</td>\n",
       "      <td>84</td>\n",
       "      <td>2</td>\n",
       "      <td>3</td>\n",
       "      <td>2017-06-28</td>\n",
       "      <td>0.12</td>\n",
       "      <td>1</td>\n",
       "      <td>0</td>\n",
       "    </tr>\n",
       "    <tr>\n",
       "      <th>35343</th>\n",
       "      <td>My wife is not used to the noisy environment. How</td>\n",
       "      <td>Manhattan</td>\n",
       "      <td>Financial District</td>\n",
       "      <td>40.70535</td>\n",
       "      <td>-74.01277</td>\n",
       "      <td>Entire home/apt</td>\n",
       "      <td>200</td>\n",
       "      <td>1</td>\n",
       "      <td>0</td>\n",
       "      <td>2019-06-17</td>\n",
       "      <td>0.00</td>\n",
       "      <td>1</td>\n",
       "      <td>0</td>\n",
       "    </tr>\n",
       "  </tbody>\n",
       "</table>\n",
       "</div>"
      ],
      "text/plain": [
       "                                                    name neighbourhood_group  \\\n",
       "19733                   Noisy room next to Prospect Park            Brooklyn   \n",
       "23857             Small Homey Studio in a Big Noisy City           Manhattan   \n",
       "35343  My wife is not used to the noisy environment. How           Manhattan   \n",
       "\n",
       "                   neighbourhood  latitude  longitude        room_type  price  \\\n",
       "19733  Prospect-Lefferts Gardens  40.65762  -73.96129     Private room    500   \n",
       "23857                     Harlem  40.81703  -73.93691  Entire home/apt     84   \n",
       "35343         Financial District  40.70535  -74.01277  Entire home/apt    200   \n",
       "\n",
       "       minimum_nights  number_of_reviews last_review  reviews_per_month  \\\n",
       "19733               1                  0  2018-10-21               0.00   \n",
       "23857               2                  3  2017-06-28               0.12   \n",
       "35343               1                  0  2019-06-17               0.00   \n",
       "\n",
       "       calculated_host_listings_count  availability_365  \n",
       "19733                               1                89  \n",
       "23857                               1                 0  \n",
       "35343                               1                 0  "
      ]
     },
     "execution_count": 59,
     "metadata": {},
     "output_type": "execute_result"
    }
   ],
   "source": [
    "# usando regex\n",
    "\n",
    "key_word='[Nn]oisy'\n",
    "\n",
    "select=airbnb[airbnb.name.str.contains(key_word, regex=True)]\n",
    "\n",
    "select"
   ]
  },
  {
   "cell_type": "code",
   "execution_count": 64,
   "id": "da422bb4",
   "metadata": {},
   "outputs": [
    {
     "data": {
      "text/html": [
       "<div>\n",
       "<style scoped>\n",
       "    .dataframe tbody tr th:only-of-type {\n",
       "        vertical-align: middle;\n",
       "    }\n",
       "\n",
       "    .dataframe tbody tr th {\n",
       "        vertical-align: top;\n",
       "    }\n",
       "\n",
       "    .dataframe thead th {\n",
       "        text-align: right;\n",
       "    }\n",
       "</style>\n",
       "<table border=\"1\" class=\"dataframe\">\n",
       "  <thead>\n",
       "    <tr style=\"text-align: right;\">\n",
       "      <th></th>\n",
       "      <th>name</th>\n",
       "      <th>neighbourhood_group</th>\n",
       "      <th>neighbourhood</th>\n",
       "      <th>latitude</th>\n",
       "      <th>longitude</th>\n",
       "      <th>room_type</th>\n",
       "      <th>price</th>\n",
       "      <th>minimum_nights</th>\n",
       "      <th>number_of_reviews</th>\n",
       "      <th>last_review</th>\n",
       "      <th>reviews_per_month</th>\n",
       "      <th>calculated_host_listings_count</th>\n",
       "      <th>availability_365</th>\n",
       "    </tr>\n",
       "  </thead>\n",
       "  <tbody>\n",
       "    <tr>\n",
       "      <th>7026</th>\n",
       "      <td>Simple, sweet in NOLITA-NYC</td>\n",
       "      <td>Manhattan</td>\n",
       "      <td>Chinatown</td>\n",
       "      <td>40.71848</td>\n",
       "      <td>-73.99549</td>\n",
       "      <td>Private room</td>\n",
       "      <td>80</td>\n",
       "      <td>3</td>\n",
       "      <td>153</td>\n",
       "      <td>2019-06-25</td>\n",
       "      <td>2.90</td>\n",
       "      <td>1</td>\n",
       "      <td>238</td>\n",
       "    </tr>\n",
       "    <tr>\n",
       "      <th>7837</th>\n",
       "      <td>Peaceful room in sweet neighborhood</td>\n",
       "      <td>Queens</td>\n",
       "      <td>Ridgewood</td>\n",
       "      <td>40.70399</td>\n",
       "      <td>-73.91195</td>\n",
       "      <td>Private room</td>\n",
       "      <td>46</td>\n",
       "      <td>4</td>\n",
       "      <td>17</td>\n",
       "      <td>2018-09-08</td>\n",
       "      <td>0.39</td>\n",
       "      <td>2</td>\n",
       "      <td>262</td>\n",
       "    </tr>\n",
       "    <tr>\n",
       "      <th>9298</th>\n",
       "      <td>Charming , sweet , and cozy Manhattan apartment.</td>\n",
       "      <td>Manhattan</td>\n",
       "      <td>Upper East Side</td>\n",
       "      <td>40.76533</td>\n",
       "      <td>-73.96163</td>\n",
       "      <td>Entire home/apt</td>\n",
       "      <td>270</td>\n",
       "      <td>4</td>\n",
       "      <td>44</td>\n",
       "      <td>2019-07-02</td>\n",
       "      <td>0.92</td>\n",
       "      <td>1</td>\n",
       "      <td>335</td>\n",
       "    </tr>\n",
       "    <tr>\n",
       "      <th>9474</th>\n",
       "      <td>Park Slope sweet cozy home! Wifi!</td>\n",
       "      <td>Brooklyn</td>\n",
       "      <td>Park Slope</td>\n",
       "      <td>40.67560</td>\n",
       "      <td>-73.97781</td>\n",
       "      <td>Private room</td>\n",
       "      <td>89</td>\n",
       "      <td>5</td>\n",
       "      <td>102</td>\n",
       "      <td>2019-06-19</td>\n",
       "      <td>2.17</td>\n",
       "      <td>1</td>\n",
       "      <td>255</td>\n",
       "    </tr>\n",
       "    <tr>\n",
       "      <th>10556</th>\n",
       "      <td>home, sweet home :-)  English, русский,  עברית</td>\n",
       "      <td>Queens</td>\n",
       "      <td>Fresh Meadows</td>\n",
       "      <td>40.74267</td>\n",
       "      <td>-73.78737</td>\n",
       "      <td>Entire home/apt</td>\n",
       "      <td>100</td>\n",
       "      <td>1</td>\n",
       "      <td>59</td>\n",
       "      <td>2019-06-09</td>\n",
       "      <td>1.58</td>\n",
       "      <td>3</td>\n",
       "      <td>132</td>\n",
       "    </tr>\n",
       "  </tbody>\n",
       "</table>\n",
       "</div>"
      ],
      "text/plain": [
       "                                                   name neighbourhood_group  \\\n",
       "7026                        Simple, sweet in NOLITA-NYC           Manhattan   \n",
       "7837                Peaceful room in sweet neighborhood              Queens   \n",
       "9298   Charming , sweet , and cozy Manhattan apartment.           Manhattan   \n",
       "9474                  Park Slope sweet cozy home! Wifi!            Brooklyn   \n",
       "10556    home, sweet home :-)  English, русский,  עברית              Queens   \n",
       "\n",
       "         neighbourhood  latitude  longitude        room_type  price  \\\n",
       "7026         Chinatown  40.71848  -73.99549     Private room     80   \n",
       "7837         Ridgewood  40.70399  -73.91195     Private room     46   \n",
       "9298   Upper East Side  40.76533  -73.96163  Entire home/apt    270   \n",
       "9474        Park Slope  40.67560  -73.97781     Private room     89   \n",
       "10556    Fresh Meadows  40.74267  -73.78737  Entire home/apt    100   \n",
       "\n",
       "       minimum_nights  number_of_reviews last_review  reviews_per_month  \\\n",
       "7026                3                153  2019-06-25               2.90   \n",
       "7837                4                 17  2018-09-08               0.39   \n",
       "9298                4                 44  2019-07-02               0.92   \n",
       "9474                5                102  2019-06-19               2.17   \n",
       "10556               1                 59  2019-06-09               1.58   \n",
       "\n",
       "       calculated_host_listings_count  availability_365  \n",
       "7026                                1               238  \n",
       "7837                                2               262  \n",
       "9298                                1               335  \n",
       "9474                                1               255  \n",
       "10556                               3               132  "
      ]
     },
     "execution_count": 64,
     "metadata": {},
     "output_type": "execute_result"
    }
   ],
   "source": [
    "airbnb[airbnb.name.str.contains('sweet')].head()"
   ]
  },
  {
   "cell_type": "code",
   "execution_count": 65,
   "id": "3e84e93b",
   "metadata": {},
   "outputs": [
    {
     "data": {
      "text/plain": [
       "(48895, 13)"
      ]
     },
     "execution_count": 65,
     "metadata": {},
     "output_type": "execute_result"
    }
   ],
   "source": [
    "airbnb.shape"
   ]
  },
  {
   "cell_type": "code",
   "execution_count": 68,
   "id": "48d8e959",
   "metadata": {},
   "outputs": [
    {
     "data": {
      "text/plain": [
       "(48892, 13)"
      ]
     },
     "execution_count": 68,
     "metadata": {},
     "output_type": "execute_result"
    }
   ],
   "source": [
    "airbnb.drop(index=select.index, inplace=True)\n",
    "\n",
    "airbnb.shape"
   ]
  },
  {
   "cell_type": "code",
   "execution_count": 71,
   "id": "d760bc9d",
   "metadata": {},
   "outputs": [
    {
     "data": {
      "text/plain": [
       "False"
      ]
     },
     "execution_count": 71,
     "metadata": {},
     "output_type": "execute_result"
    }
   ],
   "source": [
    "# comprobar duplicados\n",
    "\n",
    "airbnb.duplicated().any()  # ¿hay alguno?, si True sí, entonces drop_duplicates()"
   ]
  },
  {
   "cell_type": "markdown",
   "id": "ddaaced3",
   "metadata": {},
   "source": [
    "**Cambio del tipo de dato, optimizacion de memoria**"
   ]
  },
  {
   "cell_type": "code",
   "execution_count": 72,
   "id": "35efbe32",
   "metadata": {},
   "outputs": [
    {
     "name": "stdout",
     "output_type": "stream",
     "text": [
      "<class 'pandas.core.frame.DataFrame'>\n",
      "Int64Index: 48892 entries, 0 to 48894\n",
      "Data columns (total 13 columns):\n",
      " #   Column                          Non-Null Count  Dtype         \n",
      "---  ------                          --------------  -----         \n",
      " 0   name                            48892 non-null  object        \n",
      " 1   neighbourhood_group             48892 non-null  object        \n",
      " 2   neighbourhood                   48892 non-null  object        \n",
      " 3   latitude                        48892 non-null  float64       \n",
      " 4   longitude                       48892 non-null  float64       \n",
      " 5   room_type                       48892 non-null  object        \n",
      " 6   price                           48892 non-null  int64         \n",
      " 7   minimum_nights                  48892 non-null  int64         \n",
      " 8   number_of_reviews               48892 non-null  int64         \n",
      " 9   last_review                     48892 non-null  datetime64[ns]\n",
      " 10  reviews_per_month               48892 non-null  float64       \n",
      " 11  calculated_host_listings_count  48892 non-null  int64         \n",
      " 12  availability_365                48892 non-null  int64         \n",
      "dtypes: datetime64[ns](1), float64(3), int64(5), object(4)\n",
      "memory usage: 17.8 MB\n"
     ]
    }
   ],
   "source": [
    "airbnb.info(memory_usage='deep')"
   ]
  },
  {
   "cell_type": "code",
   "execution_count": 73,
   "id": "8c1daa35",
   "metadata": {},
   "outputs": [
    {
     "name": "stdout",
     "output_type": "stream",
     "text": [
      "name\n",
      "neighbourhood_group\n",
      "neighbourhood\n",
      "latitude\n",
      "longitude\n",
      "room_type\n",
      "price\n",
      "minimum_nights\n",
      "number_of_reviews\n",
      "last_review\n",
      "reviews_per_month\n",
      "calculated_host_listings_count\n",
      "availability_365\n"
     ]
    }
   ],
   "source": [
    "for c in airbnb:\n",
    "    print(c)"
   ]
  },
  {
   "cell_type": "code",
   "execution_count": 74,
   "id": "a7772dac",
   "metadata": {},
   "outputs": [
    {
     "name": "stdout",
     "output_type": "stream",
     "text": [
      "<class 'pandas.core.frame.DataFrame'>\n",
      "Int64Index: 48892 entries, 0 to 48894\n",
      "Data columns (total 13 columns):\n",
      " #   Column                          Non-Null Count  Dtype         \n",
      "---  ------                          --------------  -----         \n",
      " 0   name                            48892 non-null  category      \n",
      " 1   neighbourhood_group             48892 non-null  category      \n",
      " 2   neighbourhood                   48892 non-null  category      \n",
      " 3   latitude                        48892 non-null  float64       \n",
      " 4   longitude                       48892 non-null  float64       \n",
      " 5   room_type                       48892 non-null  category      \n",
      " 6   price                           48892 non-null  int64         \n",
      " 7   minimum_nights                  48892 non-null  int64         \n",
      " 8   number_of_reviews               48892 non-null  int64         \n",
      " 9   last_review                     48892 non-null  datetime64[ns]\n",
      " 10  reviews_per_month               48892 non-null  float64       \n",
      " 11  calculated_host_listings_count  48892 non-null  int64         \n",
      " 12  availability_365                48892 non-null  int64         \n",
      "dtypes: category(4), datetime64[ns](1), float64(3), int64(5)\n",
      "memory usage: 9.5 MB\n"
     ]
    }
   ],
   "source": [
    "for c in airbnb.select_dtypes('object').columns:\n",
    "    \n",
    "    airbnb[c]=airbnb[c].astype('category')\n",
    "\n",
    "    \n",
    "    \n",
    "airbnb.info(memory_usage='deep') "
   ]
  },
  {
   "cell_type": "code",
   "execution_count": 76,
   "id": "829f056f",
   "metadata": {},
   "outputs": [
    {
     "data": {
      "text/plain": [
       "str"
      ]
     },
     "execution_count": 76,
     "metadata": {},
     "output_type": "execute_result"
    }
   ],
   "source": [
    "type(airbnb.name[0])"
   ]
  },
  {
   "cell_type": "code",
   "execution_count": 77,
   "id": "440c7d95",
   "metadata": {},
   "outputs": [
    {
     "name": "stdout",
     "output_type": "stream",
     "text": [
      "<class 'pandas.core.frame.DataFrame'>\n",
      "Int64Index: 48892 entries, 0 to 48894\n",
      "Data columns (total 13 columns):\n",
      " #   Column                          Non-Null Count  Dtype         \n",
      "---  ------                          --------------  -----         \n",
      " 0   name                            48892 non-null  category      \n",
      " 1   neighbourhood_group             48892 non-null  category      \n",
      " 2   neighbourhood                   48892 non-null  category      \n",
      " 3   latitude                        48892 non-null  float64       \n",
      " 4   longitude                       48892 non-null  float64       \n",
      " 5   room_type                       48892 non-null  category      \n",
      " 6   price                           48892 non-null  int16         \n",
      " 7   minimum_nights                  48892 non-null  int16         \n",
      " 8   number_of_reviews               48892 non-null  int16         \n",
      " 9   last_review                     48892 non-null  datetime64[ns]\n",
      " 10  reviews_per_month               48892 non-null  float64       \n",
      " 11  calculated_host_listings_count  48892 non-null  int16         \n",
      " 12  availability_365                48892 non-null  int16         \n",
      "dtypes: category(4), datetime64[ns](1), float64(3), int16(5)\n",
      "memory usage: 9.2 MB\n"
     ]
    }
   ],
   "source": [
    "for c in airbnb.select_dtypes('integer').columns:\n",
    "    \n",
    "    airbnb[c]=pd.to_numeric(airbnb[c], downcast='integer')\n",
    "\n",
    "    \n",
    "    \n",
    "airbnb.info(memory_usage='deep')"
   ]
  },
  {
   "cell_type": "code",
   "execution_count": 78,
   "id": "be02f217",
   "metadata": {},
   "outputs": [
    {
     "name": "stdout",
     "output_type": "stream",
     "text": [
      "<class 'pandas.core.frame.DataFrame'>\n",
      "Int64Index: 48892 entries, 0 to 48894\n",
      "Data columns (total 13 columns):\n",
      " #   Column                          Non-Null Count  Dtype         \n",
      "---  ------                          --------------  -----         \n",
      " 0   name                            48892 non-null  category      \n",
      " 1   neighbourhood_group             48892 non-null  category      \n",
      " 2   neighbourhood                   48892 non-null  category      \n",
      " 3   latitude                        48892 non-null  float32       \n",
      " 4   longitude                       48892 non-null  float32       \n",
      " 5   room_type                       48892 non-null  category      \n",
      " 6   price                           48892 non-null  int16         \n",
      " 7   minimum_nights                  48892 non-null  int16         \n",
      " 8   number_of_reviews               48892 non-null  int16         \n",
      " 9   last_review                     48892 non-null  datetime64[ns]\n",
      " 10  reviews_per_month               48892 non-null  float32       \n",
      " 11  calculated_host_listings_count  48892 non-null  int16         \n",
      " 12  availability_365                48892 non-null  int16         \n",
      "dtypes: category(4), datetime64[ns](1), float32(3), int16(5)\n",
      "memory usage: 8.6 MB\n"
     ]
    }
   ],
   "source": [
    "for c in airbnb.select_dtypes('float').columns:\n",
    "    \n",
    "    airbnb[c]=pd.to_numeric(airbnb[c], downcast='float')\n",
    "\n",
    "    \n",
    "    \n",
    "airbnb.info(memory_usage='deep')"
   ]
  },
  {
   "cell_type": "code",
   "execution_count": 79,
   "id": "e23d338f",
   "metadata": {},
   "outputs": [
    {
     "name": "stdout",
     "output_type": "stream",
     "text": [
      "<class 'pandas.core.frame.DataFrame'>\n",
      "RangeIndex: 48895 entries, 0 to 48894\n",
      "Data columns (total 16 columns):\n",
      " #   Column                          Non-Null Count  Dtype  \n",
      "---  ------                          --------------  -----  \n",
      " 0   id                              48895 non-null  int64  \n",
      " 1   name                            48879 non-null  object \n",
      " 2   host_id                         48895 non-null  int64  \n",
      " 3   host_name                       48874 non-null  object \n",
      " 4   neighbourhood_group             48895 non-null  object \n",
      " 5   neighbourhood                   48895 non-null  object \n",
      " 6   latitude                        48895 non-null  float64\n",
      " 7   longitude                       48895 non-null  float64\n",
      " 8   room_type                       48895 non-null  object \n",
      " 9   price                           48895 non-null  int64  \n",
      " 10  minimum_nights                  48895 non-null  int64  \n",
      " 11  number_of_reviews               48895 non-null  int64  \n",
      " 12  last_review                     38843 non-null  object \n",
      " 13  reviews_per_month               38843 non-null  float64\n",
      " 14  calculated_host_listings_count  48895 non-null  int64  \n",
      " 15  availability_365                48895 non-null  int64  \n",
      "dtypes: float64(3), int64(7), object(6)\n",
      "memory usage: 23.5 MB\n"
     ]
    }
   ],
   "source": [
    "airbnb_ori.info(memory_usage='deep')"
   ]
  },
  {
   "cell_type": "markdown",
   "id": "caefe701",
   "metadata": {},
   "source": [
    "## Outliers"
   ]
  },
  {
   "cell_type": "code",
   "execution_count": 81,
   "id": "29ba2313",
   "metadata": {},
   "outputs": [
    {
     "data": {
      "text/plain": [
       "count    48892.000000\n",
       "mean       152.714023\n",
       "std        240.156106\n",
       "min          0.000000\n",
       "25%         69.000000\n",
       "50%        106.000000\n",
       "75%        175.000000\n",
       "max      10000.000000\n",
       "Name: price, dtype: float64"
      ]
     },
     "execution_count": 81,
     "metadata": {},
     "output_type": "execute_result"
    }
   ],
   "source": [
    "# outliers\n",
    "\n",
    "airbnb.price.describe()"
   ]
  },
  {
   "cell_type": "code",
   "execution_count": 84,
   "id": "d8d2f8bb",
   "metadata": {},
   "outputs": [
    {
     "data": {
      "text/html": [
       "<div>\n",
       "<style scoped>\n",
       "    .dataframe tbody tr th:only-of-type {\n",
       "        vertical-align: middle;\n",
       "    }\n",
       "\n",
       "    .dataframe tbody tr th {\n",
       "        vertical-align: top;\n",
       "    }\n",
       "\n",
       "    .dataframe thead th {\n",
       "        text-align: right;\n",
       "    }\n",
       "</style>\n",
       "<table border=\"1\" class=\"dataframe\">\n",
       "  <thead>\n",
       "    <tr style=\"text-align: right;\">\n",
       "      <th></th>\n",
       "      <th>name</th>\n",
       "      <th>neighbourhood_group</th>\n",
       "      <th>neighbourhood</th>\n",
       "      <th>latitude</th>\n",
       "      <th>longitude</th>\n",
       "      <th>room_type</th>\n",
       "      <th>price</th>\n",
       "      <th>minimum_nights</th>\n",
       "      <th>number_of_reviews</th>\n",
       "      <th>last_review</th>\n",
       "      <th>reviews_per_month</th>\n",
       "      <th>calculated_host_listings_count</th>\n",
       "      <th>availability_365</th>\n",
       "    </tr>\n",
       "  </thead>\n",
       "  <tbody>\n",
       "    <tr>\n",
       "      <th>9151</th>\n",
       "      <td>Furnished room in Astoria apartment</td>\n",
       "      <td>Queens</td>\n",
       "      <td>Astoria</td>\n",
       "      <td>40.768101</td>\n",
       "      <td>-73.916512</td>\n",
       "      <td>Private room</td>\n",
       "      <td>10000</td>\n",
       "      <td>100</td>\n",
       "      <td>2</td>\n",
       "      <td>2016-02-13</td>\n",
       "      <td>0.04</td>\n",
       "      <td>1</td>\n",
       "      <td>0</td>\n",
       "    </tr>\n",
       "    <tr>\n",
       "      <th>17692</th>\n",
       "      <td>Luxury 1 bedroom apt. -stunning Manhattan views</td>\n",
       "      <td>Brooklyn</td>\n",
       "      <td>Greenpoint</td>\n",
       "      <td>40.732601</td>\n",
       "      <td>-73.957390</td>\n",
       "      <td>Entire home/apt</td>\n",
       "      <td>10000</td>\n",
       "      <td>5</td>\n",
       "      <td>5</td>\n",
       "      <td>2017-07-27</td>\n",
       "      <td>0.16</td>\n",
       "      <td>1</td>\n",
       "      <td>0</td>\n",
       "    </tr>\n",
       "    <tr>\n",
       "      <th>29238</th>\n",
       "      <td>1-BR Lincoln Center</td>\n",
       "      <td>Manhattan</td>\n",
       "      <td>Upper West Side</td>\n",
       "      <td>40.772129</td>\n",
       "      <td>-73.986649</td>\n",
       "      <td>Entire home/apt</td>\n",
       "      <td>10000</td>\n",
       "      <td>30</td>\n",
       "      <td>0</td>\n",
       "      <td>2019-06-01</td>\n",
       "      <td>0.00</td>\n",
       "      <td>1</td>\n",
       "      <td>83</td>\n",
       "    </tr>\n",
       "  </tbody>\n",
       "</table>\n",
       "</div>"
      ],
      "text/plain": [
       "                                                  name neighbourhood_group  \\\n",
       "9151               Furnished room in Astoria apartment              Queens   \n",
       "17692  Luxury 1 bedroom apt. -stunning Manhattan views            Brooklyn   \n",
       "29238                              1-BR Lincoln Center           Manhattan   \n",
       "\n",
       "         neighbourhood   latitude  longitude        room_type  price  \\\n",
       "9151           Astoria  40.768101 -73.916512     Private room  10000   \n",
       "17692       Greenpoint  40.732601 -73.957390  Entire home/apt  10000   \n",
       "29238  Upper West Side  40.772129 -73.986649  Entire home/apt  10000   \n",
       "\n",
       "       minimum_nights  number_of_reviews last_review  reviews_per_month  \\\n",
       "9151              100                  2  2016-02-13               0.04   \n",
       "17692               5                  5  2017-07-27               0.16   \n",
       "29238              30                  0  2019-06-01               0.00   \n",
       "\n",
       "       calculated_host_listings_count  availability_365  \n",
       "9151                                1                 0  \n",
       "17692                               1                 0  \n",
       "29238                               1                83  "
      ]
     },
     "execution_count": 84,
     "metadata": {},
     "output_type": "execute_result"
    }
   ],
   "source": [
    "airbnb[airbnb.price==max(airbnb.price)]"
   ]
  },
  {
   "cell_type": "code",
   "execution_count": 87,
   "id": "23d3cadf",
   "metadata": {},
   "outputs": [
    {
     "data": {
      "image/png": "[encoded data removed]",
      "text/plain": [
       "<Figure size 720x432 with 1 Axes>"
      ]
     },
     "metadata": {
      "needs_background": "light"
     },
     "output_type": "display_data"
    }
   ],
   "source": [
    "plt.figure(figsize=(10, 6))\n",
    "\n",
    "airbnb.price.hist(bins=100)\n",
    "\n",
    "plt.ylabel('# Count')\n",
    "plt.xlabel('Price');"
   ]
  },
  {
   "cell_type": "code",
   "execution_count": 89,
   "id": "efd96147",
   "metadata": {},
   "outputs": [
    {
     "data": {
      "image/png": "[encoded data removed]",
      "text/plain": [
       "<Figure size 720x432 with 1 Axes>"
      ]
     },
     "metadata": {
      "needs_background": "light"
     },
     "output_type": "display_data"
    }
   ],
   "source": [
    "plt.figure(figsize=(10, 6))\n",
    "\n",
    "airbnb.boxplot(column=['price']);"
   ]
  },
  {
   "cell_type": "code",
   "execution_count": 90,
   "id": "3ce74fc1",
   "metadata": {},
   "outputs": [
    {
     "data": {
      "text/plain": [
       "count    48892.000000\n",
       "mean       152.714023\n",
       "std        240.156106\n",
       "min          0.000000\n",
       "25%         69.000000\n",
       "50%        106.000000\n",
       "75%        175.000000\n",
       "max      10000.000000\n",
       "Name: price, dtype: float64"
      ]
     },
     "execution_count": 90,
     "metadata": {},
     "output_type": "execute_result"
    }
   ],
   "source": [
    "airbnb.price.describe()"
   ]
  },
  {
   "cell_type": "code",
   "execution_count": 91,
   "id": "ffb55fc0",
   "metadata": {},
   "outputs": [
    {
     "data": {
      "image/png": "[encoded data removed]",
      "text/plain": [
       "<Figure size 720x432 with 1 Axes>"
      ]
     },
     "metadata": {
      "needs_background": "light"
     },
     "output_type": "display_data"
    }
   ],
   "source": [
    "plt.figure(figsize=(10, 6))\n",
    "\n",
    "data=airbnb[airbnb.price<350].price\n",
    "\n",
    "data.hist(bins=100)\n",
    "\n",
    "plt.ylabel('# Count')\n",
    "plt.xlabel('Price');"
   ]
  },
  {
   "cell_type": "code",
   "execution_count": 93,
   "id": "caf2fedc",
   "metadata": {},
   "outputs": [
    {
     "data": {
      "image/png": "[encoded data removed]",
      "text/plain": [
       "<Figure size 720x432 with 1 Axes>"
      ]
     },
     "metadata": {
      "needs_background": "light"
     },
     "output_type": "display_data"
    }
   ],
   "source": [
    "plt.figure(figsize=(10, 6))\n",
    "\n",
    "airbnb[airbnb.price<350].boxplot(column=['price']);"
   ]
  },
  {
   "cell_type": "markdown",
   "id": "b8c69c83",
   "metadata": {},
   "source": [
    "**depende del contexto**"
   ]
  },
  {
   "cell_type": "code",
   "execution_count": 98,
   "id": "0b328d4f",
   "metadata": {},
   "outputs": [
    {
     "data": {
      "image/png": "[encoded data removed]",
      "text/plain": [
       "<Figure size 720x432 with 1 Axes>"
      ]
     },
     "metadata": {
      "needs_background": "light"
     },
     "output_type": "display_data"
    }
   ],
   "source": [
    "plt.figure(figsize=(10, 6))\n",
    "\n",
    "airbnb.neighbourhood_group.value_counts().plot.bar();"
   ]
  },
  {
   "cell_type": "code",
   "execution_count": 99,
   "id": "1845cbfd",
   "metadata": {},
   "outputs": [
    {
     "data": {
      "text/html": [
       "<div>\n",
       "<style scoped>\n",
       "    .dataframe tbody tr th:only-of-type {\n",
       "        vertical-align: middle;\n",
       "    }\n",
       "\n",
       "    .dataframe tbody tr th {\n",
       "        vertical-align: top;\n",
       "    }\n",
       "\n",
       "    .dataframe thead th {\n",
       "        text-align: right;\n",
       "    }\n",
       "</style>\n",
       "<table border=\"1\" class=\"dataframe\">\n",
       "  <thead>\n",
       "    <tr style=\"text-align: right;\">\n",
       "      <th></th>\n",
       "      <th>count</th>\n",
       "      <th>mean</th>\n",
       "      <th>std</th>\n",
       "      <th>min</th>\n",
       "      <th>25%</th>\n",
       "      <th>50%</th>\n",
       "      <th>75%</th>\n",
       "      <th>max</th>\n",
       "      <th>IQR</th>\n",
       "      <th>IQR1.5</th>\n",
       "    </tr>\n",
       "  </thead>\n",
       "  <tbody>\n",
       "    <tr>\n",
       "      <th>latitude</th>\n",
       "      <td>48892.0</td>\n",
       "      <td>40.730591</td>\n",
       "      <td>0.054554</td>\n",
       "      <td>40.499790</td>\n",
       "      <td>40.690102</td>\n",
       "      <td>40.723074</td>\n",
       "      <td>40.763113</td>\n",
       "      <td>40.913059</td>\n",
       "      <td>0.073011</td>\n",
       "      <td>40.872630</td>\n",
       "    </tr>\n",
       "    <tr>\n",
       "      <th>longitude</th>\n",
       "      <td>48892.0</td>\n",
       "      <td>-73.969963</td>\n",
       "      <td>0.049468</td>\n",
       "      <td>-74.244423</td>\n",
       "      <td>-73.983070</td>\n",
       "      <td>-73.955681</td>\n",
       "      <td>-73.936272</td>\n",
       "      <td>-73.712990</td>\n",
       "      <td>0.046799</td>\n",
       "      <td>-73.866074</td>\n",
       "    </tr>\n",
       "    <tr>\n",
       "      <th>price</th>\n",
       "      <td>48892.0</td>\n",
       "      <td>152.714023</td>\n",
       "      <td>240.156106</td>\n",
       "      <td>0.000000</td>\n",
       "      <td>69.000000</td>\n",
       "      <td>106.000000</td>\n",
       "      <td>175.000000</td>\n",
       "      <td>10000.000000</td>\n",
       "      <td>106.000000</td>\n",
       "      <td>334.000000</td>\n",
       "    </tr>\n",
       "    <tr>\n",
       "      <th>minimum_nights</th>\n",
       "      <td>48892.0</td>\n",
       "      <td>7.030312</td>\n",
       "      <td>20.511130</td>\n",
       "      <td>1.000000</td>\n",
       "      <td>1.000000</td>\n",
       "      <td>3.000000</td>\n",
       "      <td>5.000000</td>\n",
       "      <td>1250.000000</td>\n",
       "      <td>4.000000</td>\n",
       "      <td>11.000000</td>\n",
       "    </tr>\n",
       "    <tr>\n",
       "      <th>number_of_reviews</th>\n",
       "      <td>48892.0</td>\n",
       "      <td>23.275832</td>\n",
       "      <td>44.551606</td>\n",
       "      <td>0.000000</td>\n",
       "      <td>1.000000</td>\n",
       "      <td>5.000000</td>\n",
       "      <td>24.000000</td>\n",
       "      <td>629.000000</td>\n",
       "      <td>23.000000</td>\n",
       "      <td>58.500000</td>\n",
       "    </tr>\n",
       "    <tr>\n",
       "      <th>reviews_per_month</th>\n",
       "      <td>48892.0</td>\n",
       "      <td>1.090972</td>\n",
       "      <td>1.597223</td>\n",
       "      <td>0.000000</td>\n",
       "      <td>0.040000</td>\n",
       "      <td>0.370000</td>\n",
       "      <td>1.580000</td>\n",
       "      <td>58.500000</td>\n",
       "      <td>1.540000</td>\n",
       "      <td>3.890000</td>\n",
       "    </tr>\n",
       "    <tr>\n",
       "      <th>calculated_host_listings_count</th>\n",
       "      <td>48892.0</td>\n",
       "      <td>7.144359</td>\n",
       "      <td>32.953495</td>\n",
       "      <td>1.000000</td>\n",
       "      <td>1.000000</td>\n",
       "      <td>1.000000</td>\n",
       "      <td>2.000000</td>\n",
       "      <td>327.000000</td>\n",
       "      <td>1.000000</td>\n",
       "      <td>3.500000</td>\n",
       "    </tr>\n",
       "    <tr>\n",
       "      <th>availability_365</th>\n",
       "      <td>48892.0</td>\n",
       "      <td>112.786427</td>\n",
       "      <td>131.624306</td>\n",
       "      <td>0.000000</td>\n",
       "      <td>0.000000</td>\n",
       "      <td>45.000000</td>\n",
       "      <td>227.000000</td>\n",
       "      <td>365.000000</td>\n",
       "      <td>227.000000</td>\n",
       "      <td>567.500000</td>\n",
       "    </tr>\n",
       "  </tbody>\n",
       "</table>\n",
       "</div>"
      ],
      "text/plain": [
       "                                  count        mean         std        min  \\\n",
       "latitude                        48892.0   40.730591    0.054554  40.499790   \n",
       "longitude                       48892.0  -73.969963    0.049468 -74.244423   \n",
       "price                           48892.0  152.714023  240.156106   0.000000   \n",
       "minimum_nights                  48892.0    7.030312   20.511130   1.000000   \n",
       "number_of_reviews               48892.0   23.275832   44.551606   0.000000   \n",
       "reviews_per_month               48892.0    1.090972    1.597223   0.000000   \n",
       "calculated_host_listings_count  48892.0    7.144359   32.953495   1.000000   \n",
       "availability_365                48892.0  112.786427  131.624306   0.000000   \n",
       "\n",
       "                                      25%         50%         75%  \\\n",
       "latitude                        40.690102   40.723074   40.763113   \n",
       "longitude                      -73.983070  -73.955681  -73.936272   \n",
       "price                           69.000000  106.000000  175.000000   \n",
       "minimum_nights                   1.000000    3.000000    5.000000   \n",
       "number_of_reviews                1.000000    5.000000   24.000000   \n",
       "reviews_per_month                0.040000    0.370000    1.580000   \n",
       "calculated_host_listings_count   1.000000    1.000000    2.000000   \n",
       "availability_365                 0.000000   45.000000  227.000000   \n",
       "\n",
       "                                         max         IQR      IQR1.5  \n",
       "latitude                           40.913059    0.073011   40.872630  \n",
       "longitude                         -73.712990    0.046799  -73.866074  \n",
       "price                           10000.000000  106.000000  334.000000  \n",
       "minimum_nights                   1250.000000    4.000000   11.000000  \n",
       "number_of_reviews                 629.000000   23.000000   58.500000  \n",
       "reviews_per_month                  58.500000    1.540000    3.890000  \n",
       "calculated_host_listings_count    327.000000    1.000000    3.500000  \n",
       "availability_365                  365.000000  227.000000  567.500000  "
      ]
     },
     "execution_count": 99,
     "metadata": {},
     "output_type": "execute_result"
    }
   ],
   "source": [
    "stats=airbnb.describe().T\n",
    "\n",
    "stats['IQR']=stats['75%']-stats['25%']\n",
    "\n",
    "stats['IQR1.5']=1.5 * stats['IQR']+stats['75%']\n",
    "\n",
    "stats"
   ]
  },
  {
   "cell_type": "code",
   "execution_count": 100,
   "id": "85a038d8",
   "metadata": {},
   "outputs": [
    {
     "data": {
      "text/html": [
       "<div>\n",
       "<style scoped>\n",
       "    .dataframe tbody tr th:only-of-type {\n",
       "        vertical-align: middle;\n",
       "    }\n",
       "\n",
       "    .dataframe tbody tr th {\n",
       "        vertical-align: top;\n",
       "    }\n",
       "\n",
       "    .dataframe thead th {\n",
       "        text-align: right;\n",
       "    }\n",
       "</style>\n",
       "<table border=\"1\" class=\"dataframe\">\n",
       "  <thead>\n",
       "    <tr style=\"text-align: right;\">\n",
       "      <th></th>\n",
       "      <th>name</th>\n",
       "      <th>neighbourhood_group</th>\n",
       "      <th>neighbourhood</th>\n",
       "      <th>latitude</th>\n",
       "      <th>longitude</th>\n",
       "      <th>room_type</th>\n",
       "      <th>price</th>\n",
       "      <th>minimum_nights</th>\n",
       "      <th>number_of_reviews</th>\n",
       "      <th>last_review</th>\n",
       "      <th>reviews_per_month</th>\n",
       "      <th>calculated_host_listings_count</th>\n",
       "      <th>availability_365</th>\n",
       "      <th>night_price</th>\n",
       "    </tr>\n",
       "  </thead>\n",
       "  <tbody>\n",
       "    <tr>\n",
       "      <th>0</th>\n",
       "      <td>Clean &amp; quiet apt home by the park</td>\n",
       "      <td>Brooklyn</td>\n",
       "      <td>Kensington</td>\n",
       "      <td>40.647491</td>\n",
       "      <td>-73.972366</td>\n",
       "      <td>Private room</td>\n",
       "      <td>149</td>\n",
       "      <td>1</td>\n",
       "      <td>9</td>\n",
       "      <td>2018-10-19</td>\n",
       "      <td>0.21</td>\n",
       "      <td>6</td>\n",
       "      <td>365</td>\n",
       "      <td>149.0</td>\n",
       "    </tr>\n",
       "    <tr>\n",
       "      <th>1</th>\n",
       "      <td>Skylit Midtown Castle</td>\n",
       "      <td>Manhattan</td>\n",
       "      <td>Midtown</td>\n",
       "      <td>40.753620</td>\n",
       "      <td>-73.983772</td>\n",
       "      <td>Entire home/apt</td>\n",
       "      <td>225</td>\n",
       "      <td>1</td>\n",
       "      <td>45</td>\n",
       "      <td>2019-05-21</td>\n",
       "      <td>0.38</td>\n",
       "      <td>2</td>\n",
       "      <td>355</td>\n",
       "      <td>225.0</td>\n",
       "    </tr>\n",
       "    <tr>\n",
       "      <th>2</th>\n",
       "      <td>THE VILLAGE OF HARLEM....NEW YORK !</td>\n",
       "      <td>Manhattan</td>\n",
       "      <td>Harlem</td>\n",
       "      <td>40.809021</td>\n",
       "      <td>-73.941902</td>\n",
       "      <td>Private room</td>\n",
       "      <td>150</td>\n",
       "      <td>3</td>\n",
       "      <td>0</td>\n",
       "      <td>2019-05-21</td>\n",
       "      <td>0.00</td>\n",
       "      <td>1</td>\n",
       "      <td>365</td>\n",
       "      <td>50.0</td>\n",
       "    </tr>\n",
       "    <tr>\n",
       "      <th>3</th>\n",
       "      <td>Cozy Entire Floor of Brownstone</td>\n",
       "      <td>Brooklyn</td>\n",
       "      <td>Clinton Hill</td>\n",
       "      <td>40.685139</td>\n",
       "      <td>-73.959763</td>\n",
       "      <td>Entire home/apt</td>\n",
       "      <td>89</td>\n",
       "      <td>1</td>\n",
       "      <td>270</td>\n",
       "      <td>2019-07-05</td>\n",
       "      <td>4.64</td>\n",
       "      <td>1</td>\n",
       "      <td>194</td>\n",
       "      <td>89.0</td>\n",
       "    </tr>\n",
       "    <tr>\n",
       "      <th>4</th>\n",
       "      <td>Entire Apt: Spacious Studio/Loft by central park</td>\n",
       "      <td>Manhattan</td>\n",
       "      <td>East Harlem</td>\n",
       "      <td>40.798512</td>\n",
       "      <td>-73.943993</td>\n",
       "      <td>Entire home/apt</td>\n",
       "      <td>80</td>\n",
       "      <td>10</td>\n",
       "      <td>9</td>\n",
       "      <td>2018-11-19</td>\n",
       "      <td>0.10</td>\n",
       "      <td>1</td>\n",
       "      <td>0</td>\n",
       "      <td>8.0</td>\n",
       "    </tr>\n",
       "  </tbody>\n",
       "</table>\n",
       "</div>"
      ],
      "text/plain": [
       "                                               name neighbourhood_group  \\\n",
       "0                Clean & quiet apt home by the park            Brooklyn   \n",
       "1                             Skylit Midtown Castle           Manhattan   \n",
       "2               THE VILLAGE OF HARLEM....NEW YORK !           Manhattan   \n",
       "3                   Cozy Entire Floor of Brownstone            Brooklyn   \n",
       "4  Entire Apt: Spacious Studio/Loft by central park           Manhattan   \n",
       "\n",
       "  neighbourhood   latitude  longitude        room_type  price  minimum_nights  \\\n",
       "0    Kensington  40.647491 -73.972366     Private room    149               1   \n",
       "1       Midtown  40.753620 -73.983772  Entire home/apt    225               1   \n",
       "2        Harlem  40.809021 -73.941902     Private room    150               3   \n",
       "3  Clinton Hill  40.685139 -73.959763  Entire home/apt     89               1   \n",
       "4   East Harlem  40.798512 -73.943993  Entire home/apt     80              10   \n",
       "\n",
       "   number_of_reviews last_review  reviews_per_month  \\\n",
       "0                  9  2018-10-19               0.21   \n",
       "1                 45  2019-05-21               0.38   \n",
       "2                  0  2019-05-21               0.00   \n",
       "3                270  2019-07-05               4.64   \n",
       "4                  9  2018-11-19               0.10   \n",
       "\n",
       "   calculated_host_listings_count  availability_365  night_price  \n",
       "0                               6               365        149.0  \n",
       "1                               2               355        225.0  \n",
       "2                               1               365         50.0  \n",
       "3                               1               194         89.0  \n",
       "4                               1                 0          8.0  "
      ]
     },
     "execution_count": 100,
     "metadata": {},
     "output_type": "execute_result"
    }
   ],
   "source": [
    "airbnb['night_price']=airbnb.price / airbnb.minimum_nights\n",
    "\n",
    "airbnb.head()"
   ]
  },
  {
   "cell_type": "code",
   "execution_count": 103,
   "id": "d9c0a54e",
   "metadata": {},
   "outputs": [
    {
     "data": {
      "image/png": "[encoded data removed]",
      "text/plain": [
       "<Figure size 720x432 with 1 Axes>"
      ]
     },
     "metadata": {
      "needs_background": "light"
     },
     "output_type": "display_data"
    }
   ],
   "source": [
    "plt.figure(figsize=(10, 6))\n",
    "airbnb[airbnb.price<350].boxplot(column=['night_price']);"
   ]
  },
  {
   "cell_type": "code",
   "execution_count": 104,
   "id": "2ec957e1",
   "metadata": {},
   "outputs": [
    {
     "data": {
      "image/png": "[encoded data removed]",
      "text/plain": [
       "<Figure size 720x432 with 1 Axes>"
      ]
     },
     "metadata": {
      "needs_background": "light"
     },
     "output_type": "display_data"
    }
   ],
   "source": [
    "plt.figure(figsize=(10, 6))\n",
    "\n",
    "airbnb[airbnb.price<350].night_price.hist(bins=100)\n",
    "\n",
    "plt.ylabel('# Count')\n",
    "plt.xlabel('Price');"
   ]
  },
  {
   "cell_type": "code",
   "execution_count": 105,
   "id": "6820a75c",
   "metadata": {},
   "outputs": [
    {
     "data": {
      "text/plain": [
       "(48892, 14)"
      ]
     },
     "execution_count": 105,
     "metadata": {},
     "output_type": "execute_result"
    }
   ],
   "source": [
    "airbnb.shape"
   ]
  },
  {
   "cell_type": "code",
   "execution_count": 106,
   "id": "1516f5e4",
   "metadata": {},
   "outputs": [
    {
     "data": {
      "text/plain": [
       "(48895, 16)"
      ]
     },
     "execution_count": 106,
     "metadata": {},
     "output_type": "execute_result"
    }
   ],
   "source": [
    "airbnb_ori.shape"
   ]
  },
  {
   "cell_type": "markdown",
   "id": "fc025a43",
   "metadata": {},
   "source": [
    "# Ejemplo 2 - House Data\n"
   ]
  },
  {
   "cell_type": "markdown",
   "id": "1a33887b",
   "metadata": {},
   "source": [
    "**Cargamos los datos**"
   ]
  },
  {
   "cell_type": "code",
   "execution_count": null,
   "id": "2d223bba",
   "metadata": {},
   "outputs": [],
   "source": []
  },
  {
   "cell_type": "markdown",
   "id": "b7cd51d8",
   "metadata": {},
   "source": [
    "**EDA**"
   ]
  },
  {
   "cell_type": "code",
   "execution_count": null,
   "id": "a896b5d2",
   "metadata": {},
   "outputs": [],
   "source": []
  },
  {
   "cell_type": "code",
   "execution_count": null,
   "id": "70fcb26d",
   "metadata": {},
   "outputs": [],
   "source": []
  },
  {
   "cell_type": "markdown",
   "id": "4646b10d",
   "metadata": {},
   "source": [
    "**Columnas numericas**"
   ]
  },
  {
   "cell_type": "code",
   "execution_count": null,
   "id": "f8b7f6c4",
   "metadata": {},
   "outputs": [],
   "source": []
  },
  {
   "cell_type": "markdown",
   "id": "caa10edc",
   "metadata": {},
   "source": [
    "**Columnas categoricas**"
   ]
  },
  {
   "cell_type": "code",
   "execution_count": null,
   "id": "0c5d0d64",
   "metadata": {},
   "outputs": [],
   "source": []
  },
  {
   "cell_type": "markdown",
   "id": "b2e584fc",
   "metadata": {},
   "source": [
    "## Valores Nulos"
   ]
  },
  {
   "cell_type": "code",
   "execution_count": null,
   "id": "239239e3",
   "metadata": {},
   "outputs": [],
   "source": []
  },
  {
   "cell_type": "code",
   "execution_count": null,
   "id": "f7120743",
   "metadata": {},
   "outputs": [],
   "source": []
  },
  {
   "cell_type": "code",
   "execution_count": null,
   "id": "c7a5acc9",
   "metadata": {},
   "outputs": [],
   "source": []
  },
  {
   "cell_type": "code",
   "execution_count": null,
   "id": "fd839a0f",
   "metadata": {},
   "outputs": [],
   "source": []
  },
  {
   "cell_type": "code",
   "execution_count": null,
   "id": "2398f45e",
   "metadata": {},
   "outputs": [],
   "source": []
  },
  {
   "cell_type": "code",
   "execution_count": null,
   "id": "2cf26138",
   "metadata": {},
   "outputs": [],
   "source": []
  },
  {
   "cell_type": "code",
   "execution_count": null,
   "id": "e56d15e5",
   "metadata": {},
   "outputs": [],
   "source": []
  },
  {
   "cell_type": "code",
   "execution_count": null,
   "id": "82373d2c",
   "metadata": {},
   "outputs": [],
   "source": []
  },
  {
   "cell_type": "code",
   "execution_count": null,
   "id": "eabddae9",
   "metadata": {},
   "outputs": [],
   "source": []
  },
  {
   "cell_type": "code",
   "execution_count": null,
   "id": "1f10bcd7",
   "metadata": {},
   "outputs": [],
   "source": []
  },
  {
   "cell_type": "code",
   "execution_count": null,
   "id": "4386d79d",
   "metadata": {},
   "outputs": [],
   "source": []
  },
  {
   "cell_type": "code",
   "execution_count": null,
   "id": "e61b9274",
   "metadata": {},
   "outputs": [],
   "source": []
  },
  {
   "cell_type": "code",
   "execution_count": null,
   "id": "0eec1134",
   "metadata": {},
   "outputs": [],
   "source": []
  },
  {
   "cell_type": "code",
   "execution_count": null,
   "id": "70cb894e",
   "metadata": {},
   "outputs": [],
   "source": []
  },
  {
   "cell_type": "code",
   "execution_count": null,
   "id": "b13efca5",
   "metadata": {},
   "outputs": [],
   "source": []
  },
  {
   "cell_type": "code",
   "execution_count": null,
   "id": "c657b7ea",
   "metadata": {},
   "outputs": [],
   "source": []
  },
  {
   "cell_type": "code",
   "execution_count": null,
   "id": "56816791",
   "metadata": {},
   "outputs": [],
   "source": []
  },
  {
   "cell_type": "code",
   "execution_count": null,
   "id": "c9fd661c",
   "metadata": {},
   "outputs": [],
   "source": []
  },
  {
   "cell_type": "code",
   "execution_count": null,
   "id": "e3cb9874",
   "metadata": {},
   "outputs": [],
   "source": []
  },
  {
   "cell_type": "code",
   "execution_count": null,
   "id": "b97ecbf7",
   "metadata": {},
   "outputs": [],
   "source": []
  },
  {
   "cell_type": "code",
   "execution_count": null,
   "id": "d590d26b",
   "metadata": {},
   "outputs": [],
   "source": []
  }
 ],
 "metadata": {
  "kernelspec": {
   "display_name": "clase",
   "language": "python",
   "name": "clase"
  },
  "language_info": {
   "codemirror_mode": {
    "name": "ipython",
    "version": 3
   },
   "file_extension": ".py",
   "mimetype": "text/x-python",
   "name": "python",
   "nbconvert_exporter": "python",
   "pygments_lexer": "ipython3",
   "version": "3.9.7"
  }
 },
 "nbformat": 4,
 "nbformat_minor": 5
}
