{
 "cells": [
  {
   "cell_type": "markdown",
   "metadata": {},
   "source": [
    "# 4.4 - Vaex\n",
    "\n",
    "\n",
    "![vaex](images/vaex.png)\n",
    "\n",
    "$$$$\n",
    "\n",
    "\n",
    "[Vaex](https://vaex.io/docs/index.html) es una librería de python library para dataframes (lazy Out-of-Core DataFrames), de manera similar a Pandas. Nos permite visualizar y explorar datos tabulares, calcular medidas de tendencia central como la media, la desviación standard, moda, etc.., a una velocidad de $10^{9}$ filas/registros por segundo. Vaex usa mapeo de memoria, política de ci¡opia cero en memoria,  y la llamada computación lazy para mejor rendimeiento, sin gastar memoria.\n",
    "\n",
    "**¿Por qué Vaex?**\n",
    "\n",
    "+ Rendimiento: trabaja con grandes cantidades de datos, pudiendo procesar $10^{9}$ filas/registros por segundo\n",
    "\n",
    "+ Columnas virtuales/lazy: computa al vuelo, sin gastar memoria\n",
    "\n",
    "+ Eficiente a nivel de memoria: no realiza copias en memoria cuando filtra/selecciona/samplea.\n",
    "\n",
    "+ Visualizacion: directamente soportada\n",
    "\n",
    "\n",
    "\n",
    "https://towardsdatascience.com/how-to-analyse-100s-of-gbs-of-data-on-your-laptop-with-python-f83363dda94\n",
    "\n",
    "**Data:** https://vaex.io/docs/datasets.html\n",
    "\n",
    "**si no plotea...:** https://stackoverflow.com/questions/57323126/how-to-do-interactive-2d-scatter-plot-zoom-point-selection-in-vaex"
   ]
  },
  {
   "cell_type": "code",
   "execution_count": null,
   "metadata": {},
   "outputs": [],
   "source": []
  },
  {
   "cell_type": "code",
   "execution_count": null,
   "metadata": {},
   "outputs": [],
   "source": []
  },
  {
   "cell_type": "code",
   "execution_count": null,
   "metadata": {},
   "outputs": [],
   "source": []
  },
  {
   "cell_type": "code",
   "execution_count": null,
   "metadata": {},
   "outputs": [],
   "source": []
  },
  {
   "cell_type": "code",
   "execution_count": null,
   "metadata": {},
   "outputs": [],
   "source": []
  },
  {
   "cell_type": "code",
   "execution_count": null,
   "metadata": {},
   "outputs": [],
   "source": []
  },
  {
   "cell_type": "code",
   "execution_count": null,
   "metadata": {},
   "outputs": [],
   "source": []
  }
 ],
 "metadata": {
  "kernelspec": {
   "display_name": "tensor",
   "language": "python",
   "name": "tensor"
  },
  "language_info": {
   "codemirror_mode": {
    "name": "ipython",
    "version": 3
   },
   "file_extension": ".py",
   "mimetype": "text/x-python",
   "name": "python",
   "nbconvert_exporter": "python",
   "pygments_lexer": "ipython3",
   "version": "3.8.13"
  },
  "varInspector": {
   "cols": {
    "lenName": 16,
    "lenType": 16,
    "lenVar": 40
   },
   "kernels_config": {
    "python": {
     "delete_cmd_postfix": "",
     "delete_cmd_prefix": "del ",
     "library": "var_list.py",
     "varRefreshCmd": "print(var_dic_list())"
    },
    "r": {
     "delete_cmd_postfix": ") ",
     "delete_cmd_prefix": "rm(",
     "library": "var_list.r",
     "varRefreshCmd": "cat(var_dic_list()) "
    }
   },
   "types_to_exclude": [
    "module",
    "function",
    "builtin_function_or_method",
    "instance",
    "_Feature"
   ],
   "window_display": false
  }
 },
 "nbformat": 4,
 "nbformat_minor": 4
}
