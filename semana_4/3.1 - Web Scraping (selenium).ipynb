{
 "cells": [
  {
   "cell_type": "markdown",
   "metadata": {},
   "source": [
    "# 3.1 - Web Scraping (selenium)\n",
    "\n",
    "**[Documentación](https://selenium-python.readthedocs.io/)**\n",
    "\n",
    "$$$$\n",
    "\n",
    "![selenium](images/selenium.png)\n",
    "\n",
    "$$$$\n",
    "\n",
    "Selenium es un entorno de pruebas de software para aplicaciones basadas en la web. Selenium provee una herramienta de grabar/reproducir para crear pruebas sin usar un lenguaje de scripting para pruebas (Selenium IDE). Incluye también un lenguaje específico de dominio para pruebas (Selenese) para escribir pruebas en un amplio número de lenguajes de programación populares incluyendo Java, C#, Ruby, Groovy, Perl, Php y Python. Las pruebas pueden ejecutarse entonces usando la mayoría de los navegadores web modernos en diferentes sistemas operativos como Windows, Linux y OSX.\n",
    "\n",
    "Selenium fue originalmente desarrollado por Jason Huggins en 2004 y pronto se unieron al esfuerzo otras personas especialistas en pruebas y programación. Es un software de código abierto bajo la licencia apache 2.0 que puede ser descargada y usada sin cargo. El nombre proviene de una broma hecha por Huggins burlándose de un competidor llamado Mercury (mercurio) diciendo que el envenenamiento por mercurio puede ser curado tomando complementos de Selenium. Los participantes tomaron el nombre y siguieron con él. Existen otros proyectos que se desarrollan alrededor de Selenium como Selenium Grid, para probar concurrencia de múltiples pruebas concurrentes de clientes remotos o locales, así como Flash Selenium para probar programas escritos en Adobe Flex o Selenium Silverlight.\n",
    "\n",
    "\n",
    "### Componentes\n",
    "\n",
    "**Selenium IDE**\n",
    "\n",
    "Selenium IDE es un entorno de desarrollo integrado para pruebas con Selenium. Está implementado como una extensión de Firefox y permite grabar, editar y depurar pruebas. Originalmente se le conoció como Selenium Recorder.\n",
    "\n",
    "Se pueden desarrollar automáticamente scripts al crear una grabación y de esa manera se puede editar manualmente con sentencias y comandos para que la reproducción de nuestra grabación sea correcta\n",
    "\n",
    "Los scripts se generan en Selanese, un lenguaje de scripting especial para Selenium. Selanese provee comandos que ejecutan acciones sobre objetos en el navegador, como hacer clic en un enlace, seleccionar de una lista de opciones, verificar la presencia de un texto en particular así como para tomar la totalidad de la página producto de las acciones.\n",
    "\n",
    "Características:\n",
    "\n",
    "+ Grabación y reproducción fácil\n",
    "+ Selección inteligente de campos usando ID, nombre o XPath según se necesite.\n",
    "+ Compleción automática de los comandos de Selenium más comunes.\n",
    "+ Pruebas de revisión cruzada\n",
    "+ Depuración y puntos de verificación (breakpoint)\n",
    "+ Almacenar las pruebas como Selanese, Ruby, Java y otros formatos.\n",
    "+ Soporte al archivo user-extensions.js\n",
    "+ Opción para asertar el título de la página.\n",
    "+ Opción de modificarle a la medida con el uso de complementos\n",
    "\n",
    "\n",
    "**Selenium Client API**\n",
    "\n",
    "Interfaz de programación de aplicaciones (API) de clientes Como alternativa a escribir pruebas en Selanese, las pruebas pueden escribirse en varios lenguajes de programación, éstos se comunican con Selenium mediante llamadas a los métodos de Selenium Client API. Actualmente Selenium provee API para Java, C#, Ruby y Python. Con Selenium 2 se presentó una nueva API de clientes, con WebDriver como componente central, aunque la anterior API puede seguirse usando llamando a la clase Selenium.\n",
    "\n",
    "\n",
    "**Selenium Remote Control**\n",
    "\n",
    "Selenium Remote Control (RC) es un servidor escrito en Java que acepta comandos al navegador vía HTTP. RC hace posible escribir pruebas automatizadas para aplicaciones web, en cualquier lenguaje de programación lo que permite una mejor integración de Selenium a entornos de prueba existentes. Para hacer la escritura de pruebas más fácil, Selenium actualmente provee controladores de dispositivos para PHP, Python, Ruby,.NET, Perl y Java. El controlador de Java puede usarse para Javascript vía el motor Rhino. Selenium Remote Control fue una refactorización de Driven Selenium o Selenium B, la versión original lanzaba directamente un proceso para el navegador en cuestión desde el lenguaje de prueba; el protocolo de cable (confusamente llamado Selanese también en aquel tiempo) fue reimplementado al portarse a cada lenguaje. Después de la refactorización, hubo un proceso intermediario demonio entre el script controlador y el navegador. Los beneficios incluyeron la capacidad de controlar navegadores remotos y reducir la necesidad de portar el código a un número creciente de lenguajes. Con la liberación de Selenium 2, Selenium RC fue oficialmente descartado en favor de Selenium WebDriver.\n",
    "\n",
    "\n",
    "**Selenium WebDriver**\n",
    "\n",
    "Selenium WebDriver es el sucesor de Selenium RC. Selenium WebDriver acepta comandos (enviados en Selenese o vía el API de cliente) y los envía a un navegador. Esto se implementa a través de un controlador del navegador específico para cada navegador que envía los comandos y trae los resultados de regreso. La mayoría de los controladores del navegador lanzan y acceden a la aplicación de navegador (como Mozilla Firefox o Internet Explorer), pero también hay un controlador para HtmlUnit que simula un navegador. A diferencia de Selenium 1, donde el servidor Selenium RC era indispensable, en Selenium WebDriver no se requiere de un servidor especial para ejecutar las pruebas, en vez de ello WebDriver inicia una instancia del navegador y lo controla; sin embargo puede usarse Selenium Grid (ver abajo) para ejecutar pruebas en sistemas remotos (ver más abajo). Desde inicios de 2012, Simon Stewart de Google (inventor del WebDriver) y David Burns de la Fundación Mozilla se encuentran negociando con el W3C que WebDriver se convierta en un estándar de Internet, como tal Selenium-Webdriver (Selenium 2.0) apunta a ser la implementación de referencia del estándar WebDriver en varios lenguajes de programación. Selenium-WebDriver está completamente implementado y soportado en Java, Ruby, Python y C#. En la práctica, esto significa que la API de Selenium 2.0 tiene significativamente menos llamadas que el API de Selenium 1.0. Donde Selenium 1.0 intentaba proveer una interfaz rica en muchas operaciones, Selenium 2.0 intenta proveer de los bloques de construcción básicos con los cuales los desarrolladores puedan programar su propio lenguaje específico de dominio. Uno de ellos ya existe y es el proyecto Watir en Ruby que tiene una historia rica en buen diseño. Watir-WebDriver implementa el API de Watir como un envolvente del Selenium-Webdriver en Ruby. Watir-WebDriver se crea de forma completamente automática, basado en las especificaciones del WebDriver y HTML.\n",
    "\n",
    "**Selenium Grid**\n",
    "\n",
    "Selenium Grid es un servidor que permite usar instancias de navegador ejecutándose en máquinas remotas. Con Selenium Grid, uno de los servidores actúa como concentrador. Las pruebas contactan al concentrador para obtener acceso a instancias de navegadores; el concentrador lleva una lista de instancias de los navegadores (Nodos de WebDriver) y permiten a las pruebas usar estas instancias. Selenium Grid permite ejecutar pruebas en paralelo en múltiples máquinas y manejar diferentes versiones y configuraciones de manera centralizada."
   ]
  },
  {
   "cell_type": "markdown",
   "metadata": {},
   "source": [
    "Nosotros usaremos fundamentalmente el Webdriver en Python.\n",
    "\n",
    "https://chromedriver.chromium.org/downloads"
   ]
  },
  {
   "cell_type": "code",
   "execution_count": null,
   "metadata": {},
   "outputs": [],
   "source": [
    "%conda install -c conda-forge selenium\n",
    "%pip install selenium"
   ]
  },
  {
   "cell_type": "code",
   "execution_count": 1,
   "metadata": {},
   "outputs": [],
   "source": [
    "from selenium import webdriver"
   ]
  },
  {
   "cell_type": "code",
   "execution_count": null,
   "metadata": {
    "scrolled": false
   },
   "outputs": [],
   "source": [
    "#help(webdriver)"
   ]
  },
  {
   "cell_type": "code",
   "execution_count": 4,
   "metadata": {},
   "outputs": [
    {
     "name": "stderr",
     "output_type": "stream",
     "text": [
      "2022-06-22 10:33:01,888 [11459] WARNING  py.warnings:109: [JupyterRequire] /var/folders/fv/zc4lh9sn7bnf55fy6jhl0k900000gn/T/ipykernel_11459/3444454902.py:3: DeprecationWarning: executable_path has been deprecated, please pass in a Service object\n",
      "  driver=webdriver.Chrome(PATH)  # abre pestaña de chrome\n",
      "\n"
     ]
    }
   ],
   "source": [
    "PATH='driver/chromedriver'      # ruta al archivo del driver\n",
    "\n",
    "driver=webdriver.Chrome(PATH)  # abre pestaña de chrome"
   ]
  },
  {
   "cell_type": "code",
   "execution_count": null,
   "metadata": {},
   "outputs": [],
   "source": [
    "driver.get('https://www.google.es')   # entra en google"
   ]
  },
  {
   "cell_type": "markdown",
   "metadata": {},
   "source": [
    "**Si no has descargado el driver para Google, o el geckodriver para Firefox, puedes manejarlo para Chrome con esta librería.**"
   ]
  },
  {
   "cell_type": "code",
   "execution_count": null,
   "metadata": {},
   "outputs": [],
   "source": [
    "%pip install webdriver-manager"
   ]
  },
  {
   "cell_type": "code",
   "execution_count": 2,
   "metadata": {},
   "outputs": [],
   "source": [
    "from webdriver_manager.chrome import ChromeDriverManager"
   ]
  },
  {
   "cell_type": "code",
   "execution_count": 3,
   "metadata": {},
   "outputs": [
    {
     "name": "stderr",
     "output_type": "stream",
     "text": [
      "\n",
      "\n",
      "====== WebDriver manager ======\n",
      "Current google-chrome version is 103.0.5060\n",
      "Get LATEST chromedriver version for 103.0.5060 google-chrome\n",
      "Driver [/Users/iudh/.wdm/drivers/chromedriver/mac64_m1/103.0.5060.24/chromedriver] found in cache\n",
      "2022-06-22 10:32:28,294 [11459] WARNING  py.warnings:109: [JupyterRequire] /var/folders/fv/zc4lh9sn7bnf55fy6jhl0k900000gn/T/ipykernel_11459/972378174.py:3: DeprecationWarning: executable_path has been deprecated, please pass in a Service object\n",
      "  webdriver.Chrome(PATH).get('https://www.google.es')\n",
      "\n"
     ]
    }
   ],
   "source": [
    "PATH=ChromeDriverManager().install()\n",
    "\n",
    "webdriver.Chrome(PATH).get('https://www.google.es')"
   ]
  },
  {
   "cell_type": "markdown",
   "metadata": {},
   "source": [
    "### Realizando una búsqueda en Google\n",
    "\n",
    "Importamos `time` para el manejo de los tiempos dentro del código. Haremos una búsqueda en Google y extraeremos los enlaces de los resultados."
   ]
  },
  {
   "cell_type": "code",
   "execution_count": 9,
   "metadata": {},
   "outputs": [],
   "source": [
    "import time\n",
    "\n",
    "import warnings\n",
    "warnings.filterwarnings('ignore')"
   ]
  },
  {
   "cell_type": "code",
   "execution_count": 10,
   "metadata": {},
   "outputs": [],
   "source": [
    "URL='https://www.google.com/search?q='"
   ]
  },
  {
   "cell_type": "code",
   "execution_count": 11,
   "metadata": {},
   "outputs": [],
   "source": [
    "busqueda='machine learning'"
   ]
  },
  {
   "cell_type": "code",
   "execution_count": 12,
   "metadata": {},
   "outputs": [],
   "source": [
    "PATH='driver/chromedriver'\n",
    "\n",
    "\n",
    "driver=webdriver.Chrome(PATH)\n",
    "\n",
    "driver.get(URL + busqueda)\n",
    "\n",
    "time.sleep(2)\n",
    "\n",
    "driver.find_element_by_xpath('//*[@id=\"L2AGLb\"]').click()"
   ]
  },
  {
   "cell_type": "code",
   "execution_count": 23,
   "metadata": {},
   "outputs": [
    {
     "data": {
      "text/plain": [
       "'https://www.google.es/intl/es/about/products?tab=wh'"
      ]
     },
     "execution_count": 23,
     "metadata": {},
     "output_type": "execute_result"
    }
   ],
   "source": [
    "driver.find_elements_by_tag_name('a')[10].get_attribute('href')"
   ]
  },
  {
   "cell_type": "code",
   "execution_count": 24,
   "metadata": {},
   "outputs": [
    {
     "data": {
      "text/plain": [
       "[None,\n",
       " 'https://support.google.com/websearch/answer/181196?hl=es',\n",
       " None,\n",
       " 'https://policies.google.com/technologies/cookies?utm_source=ucbs&hl=es',\n",
       " None,\n",
       " 'https://policies.google.com/privacy?hl=es&fg=1&utm_source=ucbs',\n",
       " 'https://policies.google.com/terms?hl=es&fg=1&utm_source=ucbs',\n",
       " 'https://www.google.com/webhp?hl=es&sa=X&ved=0ahUKEwixpLT008D4AhUzgf0HHeXvCu0QPAgT',\n",
       " 'https://support.google.com/websearch/answer/106230?hl=es',\n",
       " 'https://www.google.com/search?q=machine%20learning#',\n",
       " 'https://www.google.es/intl/es/about/products?tab=wh',\n",
       " 'https://accounts.google.com/ServiceLogin?hl=es&passive=true&continue=https://www.google.com/search%3Fq%3Dmachine%2520learning&ec=GAZAAQ',\n",
       " 'https://www.google.com/search?q=machine+learning&source=lnms&tbm=isch&sa=X&ved=2ahUKEwixpLT008D4AhUzgf0HHeXvCu0Q_AUoAXoECAEQAw',\n",
       " 'https://www.google.com/search?q=machine+learning&source=lnms&tbm=nws&sa=X&ved=2ahUKEwixpLT008D4AhUzgf0HHeXvCu0Q_AUoAnoECAEQBA',\n",
       " 'https://www.google.com/search?q=machine+learning&source=lnms&tbm=vid&sa=X&ved=2ahUKEwixpLT008D4AhUzgf0HHeXvCu0Q_AUoA3oECAEQBQ',\n",
       " 'https://www.google.com/search?q=machine+learning&source=lnms&tbm=bks&sa=X&ved=2ahUKEwixpLT008D4AhUzgf0HHeXvCu0Q_AUoBHoECAEQBg',\n",
       " 'https://maps.google.com/maps?q=machine+learning&um=1&ie=UTF-8&sa=X&ved=2ahUKEwixpLT008D4AhUzgf0HHeXvCu0Q_AUoAHoECAEQCg',\n",
       " 'https://www.google.com/search?q=machine+learning&source=lnms&tbm=shop&sa=X&ved=2ahUKEwixpLT008D4AhUzgf0HHeXvCu0Q_AUoAXoECAEQCw',\n",
       " 'https://www.google.com/flights?q=machine+learning&source=lnms&tbm=flm&sa=X&ved=2ahUKEwixpLT008D4AhUzgf0HHeXvCu0Q_AUoAnoECAEQDA',\n",
       " 'https://www.google.com/finance?sa=X&ved=2ahUKEwixpLT008D4AhUzgf0HHeXvCu0Q_AUoA3oECAEQDQ',\n",
       " 'https://www.google.com/search?q=machine+learning&source=lnt&tbs=lr:lang_1es&lr=lang_es&sa=X&ved=2ahUKEwixpLT008D4AhUzgf0HHeXvCu0QpwV6BAgBEBU',\n",
       " 'https://www.google.com/search?q=machine+learning&source=lnt&tbs=qdr:h&sa=X&ved=2ahUKEwixpLT008D4AhUzgf0HHeXvCu0QpwV6BAgBEBo',\n",
       " 'https://www.google.com/search?q=machine+learning&source=lnt&tbs=qdr:d&sa=X&ved=2ahUKEwixpLT008D4AhUzgf0HHeXvCu0QpwV6BAgBEBs',\n",
       " 'https://www.google.com/search?q=machine+learning&source=lnt&tbs=qdr:w&sa=X&ved=2ahUKEwixpLT008D4AhUzgf0HHeXvCu0QpwV6BAgBEBw',\n",
       " 'https://www.google.com/search?q=machine+learning&source=lnt&tbs=qdr:m&sa=X&ved=2ahUKEwixpLT008D4AhUzgf0HHeXvCu0QpwV6BAgBEB0',\n",
       " 'https://www.google.com/search?q=machine+learning&source=lnt&tbs=qdr:y&sa=X&ved=2ahUKEwixpLT008D4AhUzgf0HHeXvCu0QpwV6BAgBEB4',\n",
       " 'https://www.google.com/search?q=machine+learning&source=lnt&tbs=li:1&sa=X&ved=2ahUKEwixpLT008D4AhUzgf0HHeXvCu0QpwV6BAgBECU',\n",
       " 'https://www.google.com/preferences?hl=es&prev=https://www.google.com/search?q%3Dmachine%2Blearning',\n",
       " 'https://www.google.com/history/optout?hl=es',\n",
       " 'https://www.google.com/history/privacyadvisor/search/unauth?utm_source=googlemenu',\n",
       " 'https://www.google.com/safesearch?prev=https://www.google.com/search?q%3Dmachine%2Blearning',\n",
       " 'https://www.google.com/preferences?hl=es&prev=https://www.google.com/search?q%3Dmachine%2Blearning#languages',\n",
       " 'https://www.google.com/advanced_search?q=machine+learning&hl=es',\n",
       " 'https://support.google.com/websearch/?p=dsrp_search_hc&hl=es',\n",
       " 'https://www.bbva.com/es/machine-learning-que-es-y-como-funciona/',\n",
       " 'https://webcache.googleusercontent.com/search?q=cache:sg-vHeRH6NkJ:https://www.bbva.com/es/machine-learning-que-es-y-como-funciona/+&cd=1&hl=es&ct=clnk&gl=es',\n",
       " 'https://www.iberdrola.com/innovacion/machine-learning-aprendizaje-automatico',\n",
       " 'https://webcache.googleusercontent.com/search?q=cache:bnuv9LYz5WwJ:https://www.iberdrola.com/innovacion/machine-learning-aprendizaje-automatico+&cd=3&hl=es&ct=clnk&gl=es',\n",
       " 'https://www.google.com/search?q=%C2%BFQu%C3%A9+es+un+machine+learning%3F&sa=X&ved=2ahUKEwixpLT008D4AhUzgf0HHeXvCu0Qzmd6BAgaEAU',\n",
       " 'https://www.cognodata.com/machine-learning-ejemplos-diarios/',\n",
       " 'https://www.google.com/search?q=%C2%BFQu%C3%A9+es+machine+learning+ejemplos%3F&sa=X&ved=2ahUKEwixpLT008D4AhUzgf0HHeXvCu0Qzmd6BAgbEAU',\n",
       " 'https://www.bancofinandina.com/finanblog/noticias/2020/01/03/que-es-machine-learning-y-como-funciona',\n",
       " 'https://www.google.com/search?q=%C2%BFC%C3%B3mo+se+aplica+el+machine+learning%3F&sa=X&ved=2ahUKEwixpLT008D4AhUzgf0HHeXvCu0Qzmd6BAgfEAU',\n",
       " 'https://www.sas.com/es_es/insights/analytics/machine-learning.html',\n",
       " 'https://webcache.googleusercontent.com/search?q=cache:OZD5r5K0QZ0J:https://www.sas.com/es_es/insights/analytics/machine-learning.html+&cd=10&hl=es&ct=clnk&gl=es',\n",
       " 'https://www.google.com/search?q=%C2%BFCu%C3%A1les+son+las+caracter%C3%ADsticas+de+machine+learning%3F&sa=X&ved=2ahUKEwixpLT008D4AhUzgf0HHeXvCu0Qzmd6BAggEAU',\n",
       " 'https://www.google.com/search?q=machine%20learning#',\n",
       " 'https://www.iberdrola.com/innovacion/machine-learning-aprendizaje-automatico',\n",
       " 'https://webcache.googleusercontent.com/search?q=cache:bnuv9LYz5WwJ:https://www.iberdrola.com/innovacion/machine-learning-aprendizaje-automatico+&cd=11&hl=es&ct=clnk&gl=es',\n",
       " 'https://cleverdata.io/que-es-machine-learning-big-data/',\n",
       " 'https://webcache.googleusercontent.com/search?q=cache:zj-9vQV12SsJ:https://cleverdata.io/que-es-machine-learning-big-data/+&cd=12&hl=es&ct=clnk&gl=es',\n",
       " 'https://es.wikipedia.org/wiki/Aprendizaje_autom%C3%A1tico',\n",
       " 'https://webcache.googleusercontent.com/search?q=cache:0Kxprw-uXBYJ:https://es.wikipedia.org/wiki/Aprendizaje_autom%25C3%25A1tico+&cd=13&hl=es&ct=clnk&gl=es',\n",
       " 'https://www.google.com/search?q=related:https://es.wikipedia.org/wiki/Aprendizaje_autom%25C3%25A1tico+machine+learning&sa=X&ved=2ahUKEwixpLT008D4AhUzgf0HHeXvCu0QH3oECC8QCQ',\n",
       " 'https://es.wikipedia.org/wiki/Aprendizaje_autom%C3%A1tico#Resumen',\n",
       " 'https://es.wikipedia.org/wiki/Aprendizaje_autom%C3%A1tico#Tipos_de_algoritmos',\n",
       " 'https://es.wikipedia.org/wiki/Aprendizaje_autom%C3%A1tico#Conocimiento',\n",
       " 'https://es.wikipedia.org/wiki/Aprendizaje_autom%C3%A1tico#Software',\n",
       " 'https://www.alimarket.es/logistica/noticia/353776/el-machine-learning-hara-a-consum-ganar-en-eficiencia',\n",
       " 'https://www.nobbot.com/futuro/memoria-de-las-galaxias/',\n",
       " 'https://www.google.com/search?q=machine+learning&tbm=nws&source=univ&tbo=u&sa=X&ved=2ahUKEwixpLT008D4AhUzgf0HHeXvCu0Qt8YBegQIJhAD',\n",
       " 'https://www.ibm.com/es-es/cloud/learn/machine-learning',\n",
       " 'https://webcache.googleusercontent.com/search?q=cache:XCKfPJuG_OUJ:https://www.ibm.com/es-es/cloud/learn/machine-learning+&cd=16&hl=es&ct=clnk&gl=es',\n",
       " 'https://www.ibm.com/es-es/cloud/learn/machine-learning#toc-diferencia-wfg2Rrnx',\n",
       " 'https://www.ibm.com/es-es/cloud/learn/machine-learning#toc-mtodos-de--jJ9aK-QI',\n",
       " 'https://www.ibm.com/mx-es/analytics/machine-learning',\n",
       " 'https://webcache.googleusercontent.com/search?q=cache:B9HktNFZYA0J:https://www.ibm.com/mx-es/analytics/machine-learning+&cd=17&hl=es&ct=clnk&gl=es',\n",
       " 'https://www.youtube.com/watch?v=oGdmSshtVWw',\n",
       " 'https://www.youtube.com/watch?v=bFQmEx9T29U',\n",
       " 'https://www.youtube.com/watch?v=6iVUKYgOihQ',\n",
       " 'https://www.google.com/search?tbm=vid&q=machine+learning&sa=X&ved=2ahUKEwixpLT008D4AhUzgf0HHeXvCu0Q8ccDegQIRhAD',\n",
       " 'https://www.sas.com/es_es/insights/analytics/machine-learning.html',\n",
       " 'https://webcache.googleusercontent.com/search?q=cache:OZD5r5K0QZ0J:https://www.sas.com/es_es/insights/analytics/machine-learning.html+&cd=21&hl=es&ct=clnk&gl=es',\n",
       " 'https://datascientest.com/es/machine-learning-definicion-funcionamiento-usos',\n",
       " 'https://www.google.com/search?q=Python+Machine+Learning&stick=H4sIAAAAAAAAAOOQUeLVT9c3NEwqLyhKy4s3NRLLTUzOyMxLVchJTSzKy8xLV8jJTCrKjxJAFz_FiKoTxk82N0nLic_NQ5IvTi7KMoPx0w1Kigvy0uH6UyoKkyvM04zg8jnGSUZFJkD1PCC-UVJeWnpSWQbc-GIDM0uDpCq48eaFhvHmeSWnGLn0c_UNjCoyiowtfjGK-UKd64PijQYWxkWs4gGVJRn5eQroSm6xSTKYfmxlSvuyTm_3KhYBzk-Tcw6f6VNep3I5EAB_OsWeKQEAAA&sa=X&ved=2ahUKEwixpLT008D4AhUzgf0HHeXvCu0Qs9oBKAB6BAg2EAI',\n",
       " 'https://www.google.com/search?q=Hands-On+Machine+Learning+with+Scikit-Learn+and+TensorFlow:+Concepts,+Tools,+and+Techniques+to+Build+Intelligent+Systems&stick=H4sIAAAAAAAAAOOQUeLVT9c3NEw2N0nLic_NMxLLTUzOyMxLVchJTSzKy8xLV8jJTCrKjxJAFz_FCNGZVF5QlJYXbwrjw0xCki9OLsoyg_HTDUqKC_LS4fpTKgqTK8zTjODyOcZJRkUmQPU8IL5RUl5aelJZBtz4YgMzS4OkKrjx5oWG8eZ5JacYufRz9Q2MKjKKjC1-MYr5Qp3rg-KNBhbGRawVHol5KcW6_nkKGIrKM0syFIKTM7MzS3TBggpApQohqXnF-UVuOfnlVgrO-XnJqQUlxToKIfn5OUAKoiA5Iy-zsDS1WKEkX8GpNDMnRcEzryQ1JyczPTWvRCG4srgkNbf4Fpskg-nHVqa0L-v0dq9iEeD8NDnn8Jk-5XUqlwMBo4uSyYoBAAA&sa=X&ved=2ahUKEwixpLT008D4AhUzgf0HHeXvCu0Qs9oBKAF6BAg2EAM',\n",
       " 'https://www.google.com/search?q=MACHINE+LEARNING+FOR+DUMMIES&stick=H4sIAAAAAAAAAOOQUeLVT9c3NEwqLyhOLsoyMxLLTUzOyMxLVchJTSzKy8xLV8jJTCrKjxJAFz_FCNdZlJYXbwrjJ5ubpOXE5-YhyYNNhvHTDUqKC_LS4fpTKgqTK8zTjODyOcZJRkUmQPU8IL5RUl5aelJZBtz4YgMzS4OkKrjx5oWG8eZ5JacYufRz9Q2MKjKKjC1-MYr5Qp3rg-KNBhbGRawyvo7OHp5-rgo-ro5Bfp5-7gpu_kEKLqG-vp6uwbfYJBlMP7YypX1Zp7d7FYsA56fJOYfP9CmvU7kcCAB9P5SbLgEAAA&sa=X&ved=2ahUKEwixpLT008D4AhUzgf0HHeXvCu0Qs9oBKAJ6BAg2EAQ',\n",
       " 'https://www.google.com/search?q=Machine+Learning:+Guia+Paso+a+Paso+Para+Implementar+Algoritmos+de+Machine+Learning+Con+Python+(Machine+Learning+En+Espanol/+Machine+Learning+in+Spanish)&stick=H4sIAAAAAAAAAOOQUeLVT9c3NEw3KCkuyEtPNxLLTUzOyMxLVchJTSzKy8xLV8jJTCrKjxJAFz_FCNGZVF5QlJYXbwrjJ5ubpOXE5-YhyRcnF2WZwfgwm2D8lIrC5ArzNCO4fI5xklGRCVA9D4hvlJSXlp5UlgE3vtjAzNIgqQpuvHmhYbx5XskpRi79XH0Do4qMImOLX4xivlDn-qB4o4GFcRHrDEZ0SSsF99LMRIWAxOJ8BSgVkFiUqOCZW5CTmpuaV5JYpOCYk55flFmSm1-skJKqgGG8c36eQkBlSQaQ0sCQdM1TcC0uSMzLz9HH1JmZpxAMlMssztC8xSbJYPqxlSntyzq93atYBDg_Tc45fKZPeZ3K5UAAMwHak6sBAAA&sa=X&ved=2ahUKEwixpLT008D4AhUzgf0HHeXvCu0Qs9oBKAN6BAg2EAU',\n",
       " 'https://www.google.com/search?q=Deep+Learning+with+Python&stick=H4sIAAAAAAAAAOOQUeLVT9c3NEypKEyuME8zMhLLTUzOyMxLVchJTSzKy8xLV8jJTCrKjxJAFz_FCNGZVF5QlJYXbwrjJ5ubpOXE5-YhyRcnF2WZwfjpBiXFBXnpcP0wm-HyOcZJRkUmQPU8IL5RUl5aelJZBtz4YgMzS4OkKrjx5oWG8eZ5JacYufRz9Q2MKjKKjC1-MYr5Qp3rg-KNBhbGRaySLqmpBQiJ8sySDIWAypKM_LxbbJIMph9bmdK-rNPbvYpFgPPT5JzDZ_qU16lcDgQAvLeaGysBAAA&sa=X&ved=2ahUKEwixpLT008D4AhUzgf0HHeXvCu0Qs9oBKAR6BAg2EAY',\n",
       " 'https://www.google.com/search?q=Machine+Learning+For+Absolute+Beginners&stick=H4sIAAAAAAAAAOOQUeLVT9c3NEzPMU4yKjIxMxLLTUzOyMxLVchJTSzKy8xLV8jJTCrKjxJAFz_FCNGZVF5QlJYXbwrjJ5ubpOXE5-YhyRcnF2WZwfjpBiXFBXnpcP0pFYXJFeZpRnB5qEtOMfKA-EZJeWnpSWUZcOOLDcwsDZKq4MabFxrGm-eVnGLk0s_VNzCqyCgytvjFKOYLda4PijcaWBgXsapjyLnlFyk4JhXn55SWpCo4paZn5uWlFhXfYpNkMP3YypT2ZZ3e7lUsApyfJuccPtOnvE7lciAAo4o-ejkBAAA&sa=X&ved=2ahUKEwixpLT008D4AhUzgf0HHeXvCu0Qs9oBKAV6BAg2EAc',\n",
       " 'https://www.google.com/search?q=Machine+Learning+libro&stick=H4sIAAAAAAAAAOOQMRLLTUzOyMxLVchJTSzKy8xLV8jJTCrKjxJAFz_FyKufrm9omFReUJSWF28K4yebm6TlxOfmIckXJxdlmcH46QYlxQV56XD9KRWFyRXmaUZw-RzjJKMiE6B6HhDfKCkvLT2pLANufLGBmaVBUhXcePNCw3jzvJJTjFz6ufoGRhUZRcYWvxjFfKHO9UHxRgML4yJWHHK32CQZTD-2MqV9Wae3exWLAOenyTmHz_Qpr1O5HAgA1zsDthkBAAA&sa=X&ved=2ahUKEwixpLT008D4AhUzgf0HHeXvCu0Q4qYDegQINhAI',\n",
       " 'https://www.google.com/search?q=machine%20learning#',\n",
       " 'https://www.google.com/search?q=Machine+Learning+curso&sa=X&ved=2ahUKEwixpLT008D4AhUzgf0HHeXvCu0Q1QJ6BAg8EAE',\n",
       " 'https://www.google.com/search?q=Machine+Learning+ejemplos&sa=X&ved=2ahUKEwixpLT008D4AhUzgf0HHeXvCu0Q1QJ6BAg-EAE',\n",
       " 'https://www.google.com/search?q=Machine+Learning+wikipedia&sa=X&ved=2ahUKEwixpLT008D4AhUzgf0HHeXvCu0Q1QJ6BAhAEAE',\n",
       " 'https://www.google.com/search?q=Machine+Learning+como+empezar&sa=X&ved=2ahUKEwixpLT008D4AhUzgf0HHeXvCu0Q1QJ6BAhBEAE',\n",
       " 'https://www.google.com/search?q=Machine+Learning+PDF&sa=X&ved=2ahUKEwixpLT008D4AhUzgf0HHeXvCu0Q1QJ6BAhDEAE',\n",
       " 'https://www.google.com/search?q=Machine+Learning+(ML)&sa=X&ved=2ahUKEwixpLT008D4AhUzgf0HHeXvCu0Q1QJ6BAhFEAE',\n",
       " 'https://www.google.com/search?q=Machine+learning+algoritmos&sa=X&ved=2ahUKEwixpLT008D4AhUzgf0HHeXvCu0Q1QJ6BAhHEAE',\n",
       " 'https://www.google.com/search?q=Machine+Learning+Deep+Learning&sa=X&ved=2ahUKEwixpLT008D4AhUzgf0HHeXvCu0Q1QJ6BAhIEAE',\n",
       " 'https://www.google.com/search?q=machine+learning&ei=u9SyYvHaKrOC9u8P5d-r6A4&start=10&sa=N&ved=2ahUKEwixpLT008D4AhUzgf0HHeXvCu0Q8tMDegQIARA9',\n",
       " 'https://www.google.com/search?q=machine+learning&ei=u9SyYvHaKrOC9u8P5d-r6A4&start=20&sa=N&ved=2ahUKEwixpLT008D4AhUzgf0HHeXvCu0Q8tMDegQIARA_',\n",
       " 'https://www.google.com/search?q=machine+learning&ei=u9SyYvHaKrOC9u8P5d-r6A4&start=30&sa=N&ved=2ahUKEwixpLT008D4AhUzgf0HHeXvCu0Q8tMDegQIARBB',\n",
       " 'https://www.google.com/search?q=machine+learning&ei=u9SyYvHaKrOC9u8P5d-r6A4&start=40&sa=N&ved=2ahUKEwixpLT008D4AhUzgf0HHeXvCu0Q8tMDegQIARBD',\n",
       " 'https://www.google.com/search?q=machine+learning&ei=u9SyYvHaKrOC9u8P5d-r6A4&start=50&sa=N&ved=2ahUKEwixpLT008D4AhUzgf0HHeXvCu0Q8tMDegQIARBF',\n",
       " 'https://www.google.com/search?q=machine+learning&ei=u9SyYvHaKrOC9u8P5d-r6A4&start=60&sa=N&ved=2ahUKEwixpLT008D4AhUzgf0HHeXvCu0Q8tMDegQIARBH',\n",
       " 'https://www.google.com/search?q=machine+learning&ei=u9SyYvHaKrOC9u8P5d-r6A4&start=70&sa=N&ved=2ahUKEwixpLT008D4AhUzgf0HHeXvCu0Q8tMDegQIARBJ',\n",
       " 'https://www.google.com/search?q=machine+learning&ei=u9SyYvHaKrOC9u8P5d-r6A4&start=80&sa=N&ved=2ahUKEwixpLT008D4AhUzgf0HHeXvCu0Q8tMDegQIARBL',\n",
       " 'https://www.google.com/search?q=machine+learning&ei=u9SyYvHaKrOC9u8P5d-r6A4&start=90&sa=N&ved=2ahUKEwixpLT008D4AhUzgf0HHeXvCu0Q8tMDegQIARBN',\n",
       " 'https://www.google.com/search?q=machine+learning&ei=u9SyYvHaKrOC9u8P5d-r6A4&start=10&sa=N&ved=2ahUKEwixpLT008D4AhUzgf0HHeXvCu0Q8NMDegQIARBP',\n",
       " 'https://www.google.com/search?q=machine%20learning#',\n",
       " 'https://support.google.com/websearch/?p=ws_results_help&hl=es&fg=1',\n",
       " 'https://www.google.com/search?q=machine%20learning#',\n",
       " 'https://policies.google.com/privacy?hl=es&fg=1',\n",
       " 'https://policies.google.com/terms?hl=es&fg=1']"
      ]
     },
     "execution_count": 24,
     "metadata": {},
     "output_type": "execute_result"
    }
   ],
   "source": [
    "links=[e.get_attribute('href') for e in driver.find_elements_by_tag_name('a')]\n",
    "\n",
    "links"
   ]
  },
  {
   "cell_type": "code",
   "execution_count": 29,
   "metadata": {},
   "outputs": [],
   "source": [
    "driver.quit()"
   ]
  },
  {
   "cell_type": "code",
   "execution_count": 26,
   "metadata": {},
   "outputs": [
    {
     "data": {
      "text/plain": [
       "[None,\n",
       " 'https://support.google.com/websearch/answer/181196?hl=es',\n",
       " None,\n",
       " 'https://policies.google.com/technologies/cookies?utm_source=ucbs&hl=es',\n",
       " None,\n",
       " 'https://policies.google.com/privacy?hl=es&fg=1&utm_source=ucbs',\n",
       " 'https://policies.google.com/terms?hl=es&fg=1&utm_source=ucbs',\n",
       " 'https://www.google.com/webhp?hl=es&sa=X&ved=0ahUKEwixpLT008D4AhUzgf0HHeXvCu0QPAgT',\n",
       " 'https://support.google.com/websearch/answer/106230?hl=es',\n",
       " 'https://www.google.com/search?q=machine%20learning#']"
      ]
     },
     "execution_count": 26,
     "metadata": {},
     "output_type": "execute_result"
    }
   ],
   "source": [
    "links[:10]"
   ]
  },
  {
   "cell_type": "markdown",
   "metadata": {},
   "source": [
    "### Ejemplo Linkedin (perfiles)"
   ]
  },
  {
   "cell_type": "code",
   "execution_count": 30,
   "metadata": {},
   "outputs": [],
   "source": [
    "from selenium.webdriver.chrome.options import Options\n",
    "\n",
    "\n",
    "# opciones del driver\n",
    "\n",
    "opciones=Options()\n",
    "\n",
    "# quita la bandera de ser robot\n",
    "opciones.add_experimental_option('excludeSwitches', ['enable-automation'])\n",
    "opciones.add_experimental_option('useAutomationExtension', False)\n",
    "\n",
    "\n",
    "\n",
    "opciones.add_argument('user-data-dir=selenium')    # mantiene las coockies\n"
   ]
  },
  {
   "cell_type": "code",
   "execution_count": 27,
   "metadata": {},
   "outputs": [
    {
     "data": {
      "text/plain": [
       "<html><head>\n",
       "<script type=\"text/javascript\">\n",
       "window.onload = function() {\n",
       "  // Parse the tracking code from cookies.\n",
       "  var trk = \"bf\";\n",
       "  var trkInfo = \"bf\";\n",
       "  var cookies = document.cookie.split(\"; \");\n",
       "  for (var i = 0; i < cookies.length; ++i) {\n",
       "    if ((cookies[i].indexOf(\"trkCode=\") == 0) && (cookies[i].length > 8)) {\n",
       "      trk = cookies[i].substring(8);\n",
       "    }\n",
       "    else if ((cookies[i].indexOf(\"trkInfo=\") == 0) && (cookies[i].length > 8)) {\n",
       "      trkInfo = cookies[i].substring(8);\n",
       "    }\n",
       "  }\n",
       "\n",
       "  if (window.location.protocol == \"http:\") {\n",
       "    // If \"sl\" cookie is set, redirect to https.\n",
       "    for (var i = 0; i < cookies.length; ++i) {\n",
       "      if ((cookies[i].indexOf(\"sl=\") == 0) && (cookies[i].length > 3)) {\n",
       "        window.location.href = \"https:\" + window.location.href.substring(window.location.protocol.length);\n",
       "        return;\n",
       "      }\n",
       "    }\n",
       "  }\n",
       "\n",
       "  // Get the new domain. For international domains such as\n",
       "  // fr.linkedin.com, we convert it to www.linkedin.com\n",
       "  // treat .cn similar to .com here\n",
       "  var domain = location.host;\n",
       "  if (domain != \"www.linkedin.com\" && domain != \"www.linkedin.cn\") {\n",
       "    var subdomainIndex = location.host.indexOf(\".linkedin\");\n",
       "    if (subdomainIndex != -1) {\n",
       "      domain = \"www\" + location.host.substring(subdomainIndex);\n",
       "    }\n",
       "  }\n",
       "\n",
       "  window.location.href = \"https://\" + domain + \"/authwall?trk=\" + trk + \"&trkInfo=\" + trkInfo +\n",
       "      \"&original_referer=\" + document.referrer.substr(0, 200) +\n",
       "      \"&sessionRedirect=\" + encodeURIComponent(window.location.href);\n",
       "}\n",
       "</script>\n",
       "</head></html>"
      ]
     },
     "execution_count": 27,
     "metadata": {},
     "output_type": "execute_result"
    }
   ],
   "source": [
    "import requests as req\n",
    "\n",
    "from bs4 import BeautifulSoup as bs\n",
    "\n",
    "\n",
    "url='https://www.linkedin.com/in/yonatan-rodriguez/'\n",
    "\n",
    "html=req.get(url).text\n",
    "\n",
    "bs(html, 'html.parser')"
   ]
  },
  {
   "cell_type": "code",
   "execution_count": 33,
   "metadata": {},
   "outputs": [],
   "source": [
    "#driver=webdriver.Chrome(PATH, options=opciones)\n",
    "\n",
    "#driver.get(url)"
   ]
  },
  {
   "cell_type": "markdown",
   "metadata": {},
   "source": [
    "### Ejemplo ESPN\n",
    "\n",
    "https://www.espn.com/soccer/competitions"
   ]
  },
  {
   "cell_type": "code",
   "execution_count": 42,
   "metadata": {},
   "outputs": [],
   "source": [
    "url='https://www.espn.com/soccer/competitions'"
   ]
  },
  {
   "cell_type": "code",
   "execution_count": 60,
   "metadata": {},
   "outputs": [],
   "source": [
    "driver=webdriver.Chrome(PATH)\n",
    "\n",
    "driver.get(url)"
   ]
  },
  {
   "cell_type": "code",
   "execution_count": 61,
   "metadata": {},
   "outputs": [],
   "source": [
    "# aceptar cookies\n",
    "\n",
    "acepto=driver.find_element_by_xpath('//*[@id=\"onetrust-accept-btn-handler\"]')\n",
    "\n",
    "acepto.click()\n",
    "\n",
    "time.sleep(4)"
   ]
  },
  {
   "cell_type": "code",
   "execution_count": 62,
   "metadata": {},
   "outputs": [],
   "source": [
    "# equipos españa\n",
    "\n",
    "teams=driver.find_element_by_xpath('//*[@id=\"fittPageContainer\"]/div[3]/div/div[1]/div/div[2]/div[2]/div/div[4]/div/section/div/div/span[2]/a')\n",
    "\n",
    "teams.click()\n",
    "\n",
    "time.sleep(4)"
   ]
  },
  {
   "cell_type": "code",
   "execution_count": 63,
   "metadata": {},
   "outputs": [],
   "source": [
    "# atm\n",
    "\n",
    "atm_stats=driver.find_element_by_xpath('//*[@id=\"fittPageContainer\"]/div[3]/div/div[1]/div[1]/div[2]/div[1]/div/div[3]/div/section/div/div/span[2]/a')\n",
    "\n",
    "atm_stats.click()\n",
    "\n",
    "time.sleep(4)"
   ]
  },
  {
   "cell_type": "code",
   "execution_count": 64,
   "metadata": {},
   "outputs": [],
   "source": [
    "# performance\n",
    "\n",
    "performance=driver.find_element_by_css_selector('#fittPageContainer > div.StickyContainer > div.page-container.cf > div > div.layout__column.layout__column--1 > section > div > div.tabs__wrapper.mv5 > nav > ul > li:nth-child(2) > a')\n",
    "\n",
    "performance.click()"
   ]
  },
  {
   "cell_type": "code",
   "execution_count": 65,
   "metadata": {},
   "outputs": [
    {
     "data": {
      "text/plain": [
       "'https://www.espn.com/soccer/team/stats/_/id/1068/league/ESP.1/view/discipline'"
      ]
     },
     "execution_count": 65,
     "metadata": {},
     "output_type": "execute_result"
    }
   ],
   "source": [
    "driver.current_url"
   ]
  },
  {
   "cell_type": "code",
   "execution_count": 70,
   "metadata": {},
   "outputs": [
    {
     "data": {
      "text/plain": [
       "[['1', 'Geoffrey Kondogbia', '28', '11', '2', '17'],\n",
       " ['2', 'Stefan Savic', '28', '12', '0', '12'],\n",
       " ['3', 'Mario Hermoso', '26', '6', '1', '9'],\n",
       " ['4', 'Felipe', '26', '5', '1', '8'],\n",
       " ['', 'José Giménez', '24', '8', '0', '8'],\n",
       " ['6', 'Rodrigo De Paul', '36', '7', '0', '7'],\n",
       " ['', 'Daniel Wass', '20', '7', '0', '7'],\n",
       " ['8', 'Koke', '31', '6', '0', '6'],\n",
       " ['9', 'Yannick Carrasco', '34', '5', '0', '5'],\n",
       " ['', 'Renan Lodi', '29', '5', '0', '5'],\n",
       " ['', 'Reinildo Mandava', '17', '5', '0', '5'],\n",
       " ['12', 'Héctor Herrera', '21', '4', '0', '4'],\n",
       " ['', 'Sime Vrsaljko', '21', '4', '0', '4'],\n",
       " ['14', 'Jan Oblak', '38', '1', '0', '1'],\n",
       " ['', 'Benjamin Lecomte', '0', '1', '0', '1'],\n",
       " ['16', 'Sergio Diez', '0', '0', '0', '0'],\n",
       " ['', 'Joan Rojas', '0', '0', '0', '0'],\n",
       " ['', 'Ibrahima Camara', '0', '0', '0', '0'],\n",
       " ['', 'Manu Lama', '0', '0', '0', '0'],\n",
       " ['', 'Marco Moreno', '0', '0', '0', '0'],\n",
       " ['', 'Antonio Gomis', '0', '0', '0', '0']]"
      ]
     },
     "execution_count": 70,
     "metadata": {},
     "output_type": "execute_result"
    }
   ],
   "source": [
    "tabla=driver.find_element_by_tag_name('tbody')\n",
    "\n",
    "filas=tabla.find_elements_by_tag_name('tr')\n",
    "\n",
    "data=[]\n",
    "\n",
    "\n",
    "for f in filas:\n",
    "    \n",
    "    elementos=f.find_elements_by_tag_name('td')\n",
    "    \n",
    "    tmp=[]\n",
    "    \n",
    "    for e in elementos:\n",
    "        \n",
    "        tmp.append(e.text)\n",
    "        \n",
    "    data.append(tmp)\n",
    "    \n",
    "data"
   ]
  },
  {
   "cell_type": "code",
   "execution_count": 72,
   "metadata": {},
   "outputs": [
    {
     "data": {
      "text/plain": [
       "[['1', 'Geoffrey Kondogbia', '28', '11', '2', '17'],\n",
       " ['2', 'Stefan Savic', '28', '12', '0', '12'],\n",
       " ['3', 'Mario Hermoso', '26', '6', '1', '9'],\n",
       " ['4', 'Felipe', '26', '5', '1', '8'],\n",
       " ['', 'José Giménez', '24', '8', '0', '8'],\n",
       " ['6', 'Rodrigo De Paul', '36', '7', '0', '7'],\n",
       " ['', 'Daniel Wass', '20', '7', '0', '7'],\n",
       " ['8', 'Koke', '31', '6', '0', '6'],\n",
       " ['9', 'Yannick Carrasco', '34', '5', '0', '5'],\n",
       " ['', 'Renan Lodi', '29', '5', '0', '5'],\n",
       " ['', 'Reinildo Mandava', '17', '5', '0', '5'],\n",
       " ['12', 'Héctor Herrera', '21', '4', '0', '4'],\n",
       " ['', 'Sime Vrsaljko', '21', '4', '0', '4'],\n",
       " ['14', 'Jan Oblak', '38', '1', '0', '1'],\n",
       " ['', 'Benjamin Lecomte', '0', '1', '0', '1'],\n",
       " ['16', 'Sergio Diez', '0', '0', '0', '0'],\n",
       " ['', 'Joan Rojas', '0', '0', '0', '0'],\n",
       " ['', 'Ibrahima Camara', '0', '0', '0', '0'],\n",
       " ['', 'Manu Lama', '0', '0', '0', '0'],\n",
       " ['', 'Marco Moreno', '0', '0', '0', '0'],\n",
       " ['', 'Antonio Gomis', '0', '0', '0', '0']]"
      ]
     },
     "execution_count": 72,
     "metadata": {},
     "output_type": "execute_result"
    }
   ],
   "source": [
    "data=[[e.text for e in f.find_elements_by_tag_name('td')] for f in tabla.find_elements_by_tag_name('tr')]\n",
    "\n",
    "data"
   ]
  },
  {
   "cell_type": "code",
   "execution_count": 73,
   "metadata": {},
   "outputs": [
    {
     "data": {
      "text/plain": [
       "['RK', 'NAME', 'P', 'YC', 'RC', 'PTS']"
      ]
     },
     "execution_count": 73,
     "metadata": {},
     "output_type": "execute_result"
    }
   ],
   "source": [
    "cabeceras=driver.find_element_by_tag_name('thead')\n",
    "\n",
    "cabeceras=[c.text for c in cabeceras.find_elements_by_tag_name('th')]\n",
    "\n",
    "cabeceras"
   ]
  },
  {
   "cell_type": "code",
   "execution_count": 74,
   "metadata": {},
   "outputs": [
    {
     "data": {
      "text/html": [
       "<div>\n",
       "<style scoped>\n",
       "    .dataframe tbody tr th:only-of-type {\n",
       "        vertical-align: middle;\n",
       "    }\n",
       "\n",
       "    .dataframe tbody tr th {\n",
       "        vertical-align: top;\n",
       "    }\n",
       "\n",
       "    .dataframe thead th {\n",
       "        text-align: right;\n",
       "    }\n",
       "</style>\n",
       "<table border=\"1\" class=\"dataframe\">\n",
       "  <thead>\n",
       "    <tr style=\"text-align: right;\">\n",
       "      <th></th>\n",
       "      <th>RK</th>\n",
       "      <th>NAME</th>\n",
       "      <th>P</th>\n",
       "      <th>YC</th>\n",
       "      <th>RC</th>\n",
       "      <th>PTS</th>\n",
       "    </tr>\n",
       "  </thead>\n",
       "  <tbody>\n",
       "    <tr>\n",
       "      <th>0</th>\n",
       "      <td>1</td>\n",
       "      <td>Geoffrey Kondogbia</td>\n",
       "      <td>28</td>\n",
       "      <td>11</td>\n",
       "      <td>2</td>\n",
       "      <td>17</td>\n",
       "    </tr>\n",
       "    <tr>\n",
       "      <th>1</th>\n",
       "      <td>2</td>\n",
       "      <td>Stefan Savic</td>\n",
       "      <td>28</td>\n",
       "      <td>12</td>\n",
       "      <td>0</td>\n",
       "      <td>12</td>\n",
       "    </tr>\n",
       "    <tr>\n",
       "      <th>2</th>\n",
       "      <td>3</td>\n",
       "      <td>Mario Hermoso</td>\n",
       "      <td>26</td>\n",
       "      <td>6</td>\n",
       "      <td>1</td>\n",
       "      <td>9</td>\n",
       "    </tr>\n",
       "    <tr>\n",
       "      <th>3</th>\n",
       "      <td>4</td>\n",
       "      <td>Felipe</td>\n",
       "      <td>26</td>\n",
       "      <td>5</td>\n",
       "      <td>1</td>\n",
       "      <td>8</td>\n",
       "    </tr>\n",
       "    <tr>\n",
       "      <th>4</th>\n",
       "      <td></td>\n",
       "      <td>José Giménez</td>\n",
       "      <td>24</td>\n",
       "      <td>8</td>\n",
       "      <td>0</td>\n",
       "      <td>8</td>\n",
       "    </tr>\n",
       "    <tr>\n",
       "      <th>5</th>\n",
       "      <td>6</td>\n",
       "      <td>Rodrigo De Paul</td>\n",
       "      <td>36</td>\n",
       "      <td>7</td>\n",
       "      <td>0</td>\n",
       "      <td>7</td>\n",
       "    </tr>\n",
       "    <tr>\n",
       "      <th>6</th>\n",
       "      <td></td>\n",
       "      <td>Daniel Wass</td>\n",
       "      <td>20</td>\n",
       "      <td>7</td>\n",
       "      <td>0</td>\n",
       "      <td>7</td>\n",
       "    </tr>\n",
       "    <tr>\n",
       "      <th>7</th>\n",
       "      <td>8</td>\n",
       "      <td>Koke</td>\n",
       "      <td>31</td>\n",
       "      <td>6</td>\n",
       "      <td>0</td>\n",
       "      <td>6</td>\n",
       "    </tr>\n",
       "    <tr>\n",
       "      <th>8</th>\n",
       "      <td>9</td>\n",
       "      <td>Yannick Carrasco</td>\n",
       "      <td>34</td>\n",
       "      <td>5</td>\n",
       "      <td>0</td>\n",
       "      <td>5</td>\n",
       "    </tr>\n",
       "    <tr>\n",
       "      <th>9</th>\n",
       "      <td></td>\n",
       "      <td>Renan Lodi</td>\n",
       "      <td>29</td>\n",
       "      <td>5</td>\n",
       "      <td>0</td>\n",
       "      <td>5</td>\n",
       "    </tr>\n",
       "    <tr>\n",
       "      <th>10</th>\n",
       "      <td></td>\n",
       "      <td>Reinildo Mandava</td>\n",
       "      <td>17</td>\n",
       "      <td>5</td>\n",
       "      <td>0</td>\n",
       "      <td>5</td>\n",
       "    </tr>\n",
       "    <tr>\n",
       "      <th>11</th>\n",
       "      <td>12</td>\n",
       "      <td>Héctor Herrera</td>\n",
       "      <td>21</td>\n",
       "      <td>4</td>\n",
       "      <td>0</td>\n",
       "      <td>4</td>\n",
       "    </tr>\n",
       "    <tr>\n",
       "      <th>12</th>\n",
       "      <td></td>\n",
       "      <td>Sime Vrsaljko</td>\n",
       "      <td>21</td>\n",
       "      <td>4</td>\n",
       "      <td>0</td>\n",
       "      <td>4</td>\n",
       "    </tr>\n",
       "    <tr>\n",
       "      <th>13</th>\n",
       "      <td>14</td>\n",
       "      <td>Jan Oblak</td>\n",
       "      <td>38</td>\n",
       "      <td>1</td>\n",
       "      <td>0</td>\n",
       "      <td>1</td>\n",
       "    </tr>\n",
       "    <tr>\n",
       "      <th>14</th>\n",
       "      <td></td>\n",
       "      <td>Benjamin Lecomte</td>\n",
       "      <td>0</td>\n",
       "      <td>1</td>\n",
       "      <td>0</td>\n",
       "      <td>1</td>\n",
       "    </tr>\n",
       "    <tr>\n",
       "      <th>15</th>\n",
       "      <td>16</td>\n",
       "      <td>Sergio Diez</td>\n",
       "      <td>0</td>\n",
       "      <td>0</td>\n",
       "      <td>0</td>\n",
       "      <td>0</td>\n",
       "    </tr>\n",
       "    <tr>\n",
       "      <th>16</th>\n",
       "      <td></td>\n",
       "      <td>Joan Rojas</td>\n",
       "      <td>0</td>\n",
       "      <td>0</td>\n",
       "      <td>0</td>\n",
       "      <td>0</td>\n",
       "    </tr>\n",
       "    <tr>\n",
       "      <th>17</th>\n",
       "      <td></td>\n",
       "      <td>Ibrahima Camara</td>\n",
       "      <td>0</td>\n",
       "      <td>0</td>\n",
       "      <td>0</td>\n",
       "      <td>0</td>\n",
       "    </tr>\n",
       "    <tr>\n",
       "      <th>18</th>\n",
       "      <td></td>\n",
       "      <td>Manu Lama</td>\n",
       "      <td>0</td>\n",
       "      <td>0</td>\n",
       "      <td>0</td>\n",
       "      <td>0</td>\n",
       "    </tr>\n",
       "    <tr>\n",
       "      <th>19</th>\n",
       "      <td></td>\n",
       "      <td>Marco Moreno</td>\n",
       "      <td>0</td>\n",
       "      <td>0</td>\n",
       "      <td>0</td>\n",
       "      <td>0</td>\n",
       "    </tr>\n",
       "    <tr>\n",
       "      <th>20</th>\n",
       "      <td></td>\n",
       "      <td>Antonio Gomis</td>\n",
       "      <td>0</td>\n",
       "      <td>0</td>\n",
       "      <td>0</td>\n",
       "      <td>0</td>\n",
       "    </tr>\n",
       "  </tbody>\n",
       "</table>\n",
       "</div>"
      ],
      "text/plain": [
       "    RK                NAME   P  YC RC PTS\n",
       "0    1  Geoffrey Kondogbia  28  11  2  17\n",
       "1    2        Stefan Savic  28  12  0  12\n",
       "2    3       Mario Hermoso  26   6  1   9\n",
       "3    4              Felipe  26   5  1   8\n",
       "4             José Giménez  24   8  0   8\n",
       "5    6     Rodrigo De Paul  36   7  0   7\n",
       "6              Daniel Wass  20   7  0   7\n",
       "7    8                Koke  31   6  0   6\n",
       "8    9    Yannick Carrasco  34   5  0   5\n",
       "9               Renan Lodi  29   5  0   5\n",
       "10        Reinildo Mandava  17   5  0   5\n",
       "11  12      Héctor Herrera  21   4  0   4\n",
       "12           Sime Vrsaljko  21   4  0   4\n",
       "13  14           Jan Oblak  38   1  0   1\n",
       "14        Benjamin Lecomte   0   1  0   1\n",
       "15  16         Sergio Diez   0   0  0   0\n",
       "16              Joan Rojas   0   0  0   0\n",
       "17         Ibrahima Camara   0   0  0   0\n",
       "18               Manu Lama   0   0  0   0\n",
       "19            Marco Moreno   0   0  0   0\n",
       "20           Antonio Gomis   0   0  0   0"
      ]
     },
     "execution_count": 74,
     "metadata": {},
     "output_type": "execute_result"
    }
   ],
   "source": [
    "import pandas as pd\n",
    "\n",
    "df=pd.DataFrame(data, columns=cabeceras)\n",
    "\n",
    "df"
   ]
  },
  {
   "cell_type": "code",
   "execution_count": 75,
   "metadata": {},
   "outputs": [],
   "source": [
    "driver.quit()"
   ]
  },
  {
   "cell_type": "code",
   "execution_count": null,
   "metadata": {},
   "outputs": [],
   "source": []
  }
 ],
 "metadata": {
  "kernelspec": {
   "display_name": "clase",
   "language": "python",
   "name": "clase"
  },
  "language_info": {
   "codemirror_mode": {
    "name": "ipython",
    "version": 3
   },
   "file_extension": ".py",
   "mimetype": "text/x-python",
   "name": "python",
   "nbconvert_exporter": "python",
   "pygments_lexer": "ipython3",
   "version": "3.9.7"
  },
  "varInspector": {
   "cols": {
    "lenName": 16,
    "lenType": 16,
    "lenVar": 40
   },
   "kernels_config": {
    "python": {
     "delete_cmd_postfix": "",
     "delete_cmd_prefix": "del ",
     "library": "var_list.py",
     "varRefreshCmd": "print(var_dic_list())"
    },
    "r": {
     "delete_cmd_postfix": ") ",
     "delete_cmd_prefix": "rm(",
     "library": "var_list.r",
     "varRefreshCmd": "cat(var_dic_list()) "
    }
   },
   "types_to_exclude": [
    "module",
    "function",
    "builtin_function_or_method",
    "instance",
    "_Feature"
   ],
   "window_display": false
  }
 },
 "nbformat": 4,
 "nbformat_minor": 4
}
