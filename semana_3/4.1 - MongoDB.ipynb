{
 "cells": [
  {
   "cell_type": "markdown",
   "id": "296c3fa2",
   "metadata": {},
   "source": [
    "# 4.1 - MongoDB\n",
    "\n",
    "![mongo](images/mongodb.jpeg)\n",
    "\n",
    "https://docs.mongodb.com/manual/administration/install-community/\n",
    "\n",
    "https://docs.mongodb.com/compass/current/install/\n",
    "\n",
    "MongoDB es una base de datos orientada a documentos. Esto quiere decir que en lugar de guardar los datos en registros, guarda los datos en documentos. Estos documentos son almacenados en BSON, que es una representación binaria de JSON.\n",
    "\n",
    "Una de las diferencias más importantes con respecto a las bases de datos relacionales, es que no es necesario seguir un esquema. Los documentos de una misma colección, concepto similar a una tabla de una base de datos relacional, pueden tener esquemas diferentes.\n"
   ]
  },
  {
   "cell_type": "code",
   "execution_count": 1,
   "id": "d686b82b",
   "metadata": {},
   "outputs": [
    {
     "name": "stdout",
     "output_type": "stream",
     "text": [
      "Requirement already satisfied: pymongo in /Users/iudh/miniforge3/envs/clase/lib/python3.9/site-packages (4.1.0)\n",
      "Note: you may need to restart the kernel to use updated packages.\n"
     ]
    }
   ],
   "source": [
    "%pip install pymongo"
   ]
  },
  {
   "cell_type": "code",
   "execution_count": 2,
   "id": "b53f90eb",
   "metadata": {},
   "outputs": [],
   "source": [
    "from pymongo import MongoClient\n",
    "\n",
    "import warnings\n",
    "warnings.filterwarnings('ignore')"
   ]
  },
  {
   "cell_type": "code",
   "execution_count": 4,
   "id": "87c2662e",
   "metadata": {},
   "outputs": [
    {
     "data": {
      "text/plain": [
       "MongoClient(host=['localhost:27017'], document_class=dict, tz_aware=False, connect=True)"
      ]
     },
     "execution_count": 4,
     "metadata": {},
     "output_type": "execute_result"
    }
   ],
   "source": [
    "cliente=MongoClient('mongodb://localhost:27017')    # esto es el cursor/motor\n",
    "\n",
    "cliente"
   ]
  },
  {
   "cell_type": "code",
   "execution_count": 5,
   "id": "0eff5667",
   "metadata": {},
   "outputs": [
    {
     "data": {
      "text/plain": [
       "['admin',\n",
       " 'arbbot',\n",
       " 'companies',\n",
       " 'complete_exchange_matches',\n",
       " 'config',\n",
       " 'ironcomes',\n",
       " 'local',\n",
       " 'telegram_messages']"
      ]
     },
     "execution_count": 5,
     "metadata": {},
     "output_type": "execute_result"
    }
   ],
   "source": [
    "cliente.list_database_names()   # lista de las bases de datos"
   ]
  },
  {
   "cell_type": "code",
   "execution_count": 6,
   "id": "882a8427",
   "metadata": {},
   "outputs": [],
   "source": [
    "db=cliente.nueva_db   # nueva base de datos"
   ]
  },
  {
   "cell_type": "code",
   "execution_count": 7,
   "id": "ae026dc9",
   "metadata": {},
   "outputs": [
    {
     "data": {
      "text/plain": [
       "['admin',\n",
       " 'arbbot',\n",
       " 'companies',\n",
       " 'complete_exchange_matches',\n",
       " 'config',\n",
       " 'ironcomes',\n",
       " 'local',\n",
       " 'telegram_messages']"
      ]
     },
     "execution_count": 7,
     "metadata": {},
     "output_type": "execute_result"
    }
   ],
   "source": [
    "cliente.list_database_names()  "
   ]
  },
  {
   "cell_type": "code",
   "execution_count": 8,
   "id": "af4151db",
   "metadata": {},
   "outputs": [],
   "source": [
    "colec=db.n_colec   # nueva coleccion"
   ]
  },
  {
   "cell_type": "code",
   "execution_count": 9,
   "id": "bc989056",
   "metadata": {},
   "outputs": [
    {
     "data": {
      "text/plain": [
       "[]"
      ]
     },
     "execution_count": 9,
     "metadata": {},
     "output_type": "execute_result"
    }
   ],
   "source": [
    "db.list_collection_names()    # lista de las colecciones"
   ]
  },
  {
   "cell_type": "code",
   "execution_count": 11,
   "id": "85c8002d",
   "metadata": {},
   "outputs": [
    {
     "data": {
      "text/plain": [
       "<pymongo.results.InsertOneResult at 0x103c6b6d0>"
      ]
     },
     "execution_count": 11,
     "metadata": {},
     "output_type": "execute_result"
    }
   ],
   "source": [
    "# insertar datos\n",
    "\n",
    "\n",
    "dictio={'nombre': 'poepe', 'edad': 22}\n",
    "\n",
    "colec.insert_one(dictio)"
   ]
  },
  {
   "cell_type": "code",
   "execution_count": 12,
   "id": "6afb0b69",
   "metadata": {},
   "outputs": [
    {
     "data": {
      "text/plain": [
       "['n_colec']"
      ]
     },
     "execution_count": 12,
     "metadata": {},
     "output_type": "execute_result"
    }
   ],
   "source": [
    "db.list_collection_names()"
   ]
  },
  {
   "cell_type": "code",
   "execution_count": 13,
   "id": "f4320811",
   "metadata": {},
   "outputs": [
    {
     "data": {
      "text/plain": [
       "['admin',\n",
       " 'arbbot',\n",
       " 'companies',\n",
       " 'complete_exchange_matches',\n",
       " 'config',\n",
       " 'ironcomes',\n",
       " 'local',\n",
       " 'nueva_db',\n",
       " 'telegram_messages']"
      ]
     },
     "execution_count": 13,
     "metadata": {},
     "output_type": "execute_result"
    }
   ],
   "source": [
    "cliente.list_database_names()"
   ]
  },
  {
   "cell_type": "code",
   "execution_count": 14,
   "id": "812407c3",
   "metadata": {},
   "outputs": [
    {
     "data": {
      "text/plain": [
       "<pymongo.results.InsertManyResult at 0x104455310>"
      ]
     },
     "execution_count": 14,
     "metadata": {},
     "output_type": "execute_result"
    }
   ],
   "source": [
    "# insertar varios\n",
    "\n",
    "# insert into colec (columnas) values (valores);\n",
    "\n",
    "\n",
    "json=[{'nombre': 'Ana', 'edad': 24},\n",
    "      {'_id': 20, 'actividad': 'natacion', 'hora': '22:00', 'lugar': 'jultayu'}]\n",
    "\n",
    "colec.insert_many(json)"
   ]
  },
  {
   "cell_type": "code",
   "execution_count": 17,
   "id": "e54fc648",
   "metadata": {},
   "outputs": [
    {
     "data": {
      "text/plain": [
       "<pymongo.results.InsertManyResult at 0x104317e50>"
      ]
     },
     "execution_count": 17,
     "metadata": {},
     "output_type": "execute_result"
    }
   ],
   "source": [
    "json=[{'nombre': 'Ana', 'edad': 24},\n",
    "      {'_id': 22, 'actividad': 'natacion', 'hora': '22:00', 'lugar': 'jultayu'}]\n",
    "\n",
    "colec.insert_many(json)"
   ]
  },
  {
   "cell_type": "code",
   "execution_count": 18,
   "id": "0dcf515f",
   "metadata": {},
   "outputs": [
    {
     "data": {
      "text/plain": [
       "<pymongo.cursor.Cursor at 0x10445a760>"
      ]
     },
     "execution_count": 18,
     "metadata": {},
     "output_type": "execute_result"
    }
   ],
   "source": [
    "# llamar a la base de datos, como el select\n",
    "\n",
    "colec.find()  # select * from colec"
   ]
  },
  {
   "cell_type": "code",
   "execution_count": 21,
   "id": "51f1daf9",
   "metadata": {},
   "outputs": [
    {
     "data": {
      "text/plain": [
       "[{'_id': ObjectId('62aaddb31762c4d459a44934'), 'nombre': 'poepe', 'edad': 22},\n",
       " {'_id': ObjectId('62aadea21762c4d459a44935'), 'nombre': 'Ana', 'edad': 24},\n",
       " {'_id': 20, 'actividad': 'natacion', 'hora': '22:00', 'lugar': 'jultayu'},\n",
       " {'_id': ObjectId('62aaded01762c4d459a44936'), 'nombre': 'Ana', 'edad': 24},\n",
       " {'_id': ObjectId('62aadede1762c4d459a44937'), 'nombre': 'Ana', 'edad': 24},\n",
       " {'_id': 21, 'actividad': 'natacion', 'hora': '22:00', 'lugar': 'jultayu'},\n",
       " {'_id': ObjectId('62aadf481762c4d459a44938'), 'nombre': 'Ana', 'edad': 24},\n",
       " {'_id': 22, 'actividad': 'natacion', 'hora': '22:00', 'lugar': 'jultayu'}]"
      ]
     },
     "execution_count": 21,
     "metadata": {},
     "output_type": "execute_result"
    }
   ],
   "source": [
    "list(colec.find())"
   ]
  },
  {
   "cell_type": "code",
   "execution_count": 23,
   "id": "45b50423",
   "metadata": {},
   "outputs": [],
   "source": [
    "c=list(colec.find())"
   ]
  },
  {
   "cell_type": "code",
   "execution_count": 27,
   "id": "20e41237",
   "metadata": {},
   "outputs": [
    {
     "data": {
      "text/plain": [
       "dict_values([20, 'natacion', '22:00', 'jultayu'])"
      ]
     },
     "execution_count": 27,
     "metadata": {},
     "output_type": "execute_result"
    }
   ],
   "source": [
    "c[2].values()"
   ]
  },
  {
   "cell_type": "code",
   "execution_count": 29,
   "id": "b258470c",
   "metadata": {},
   "outputs": [
    {
     "data": {
      "text/plain": [
       "<pymongo.results.InsertManyResult at 0x1057eb1f0>"
      ]
     },
     "execution_count": 29,
     "metadata": {},
     "output_type": "execute_result"
    }
   ],
   "source": [
    "json=[{'nombre': 'Ana', 'edad': 42},\n",
    "      {'nombre': 'Juan', 'edad': 30},\n",
    "      {'nombre': 'Maria', 'edad': 12},\n",
    "      {'nombre': 'Joase', 'edad': 5},\n",
    "      {'nombre': 'Hola', 'edad': 70},\n",
    "      ]\n",
    "\n",
    "colec.insert_many(json)"
   ]
  },
  {
   "cell_type": "markdown",
   "id": "1de9d520",
   "metadata": {},
   "source": [
    "### Queries"
   ]
  },
  {
   "cell_type": "code",
   "execution_count": 30,
   "id": "308bdc0f",
   "metadata": {},
   "outputs": [
    {
     "data": {
      "text/plain": [
       "[{'_id': ObjectId('62aaddb31762c4d459a44934'), 'nombre': 'poepe', 'edad': 22},\n",
       " {'_id': ObjectId('62aadea21762c4d459a44935'), 'nombre': 'Ana', 'edad': 24},\n",
       " {'_id': 20, 'actividad': 'natacion', 'hora': '22:00', 'lugar': 'jultayu'},\n",
       " {'_id': ObjectId('62aaded01762c4d459a44936'), 'nombre': 'Ana', 'edad': 24},\n",
       " {'_id': ObjectId('62aadede1762c4d459a44937'), 'nombre': 'Ana', 'edad': 24},\n",
       " {'_id': 21, 'actividad': 'natacion', 'hora': '22:00', 'lugar': 'jultayu'},\n",
       " {'_id': ObjectId('62aadf481762c4d459a44938'), 'nombre': 'Ana', 'edad': 24},\n",
       " {'_id': 22, 'actividad': 'natacion', 'hora': '22:00', 'lugar': 'jultayu'},\n",
       " {'_id': ObjectId('62aae52a1762c4d459a44939'), 'nombre': 'Ana', 'edad': 42},\n",
       " {'_id': ObjectId('62aae52a1762c4d459a4493a'), 'nombre': 'Juan', 'edad': 30},\n",
       " {'_id': ObjectId('62aae52a1762c4d459a4493b'), 'nombre': 'Maria', 'edad': 12},\n",
       " {'_id': ObjectId('62aae52a1762c4d459a4493c'), 'nombre': 'Joase', 'edad': 5},\n",
       " {'_id': ObjectId('62aae52a1762c4d459a4493d'), 'nombre': 'Hola', 'edad': 70},\n",
       " {'_id': ObjectId('62aae5341762c4d459a4493e'), 'nombre': 'Ana', 'edad': 42},\n",
       " {'_id': ObjectId('62aae5341762c4d459a4493f'), 'nombre': 'Juan', 'edad': 30},\n",
       " {'_id': ObjectId('62aae5341762c4d459a44940'), 'nombre': 'Maria', 'edad': 12},\n",
       " {'_id': ObjectId('62aae5341762c4d459a44941'), 'nombre': 'Joase', 'edad': 5},\n",
       " {'_id': ObjectId('62aae5341762c4d459a44942'), 'nombre': 'Hola', 'edad': 70}]"
      ]
     },
     "execution_count": 30,
     "metadata": {},
     "output_type": "execute_result"
    }
   ],
   "source": [
    "list(colec.find())"
   ]
  },
  {
   "cell_type": "code",
   "execution_count": 31,
   "id": "52107153",
   "metadata": {},
   "outputs": [
    {
     "data": {
      "text/plain": [
       "[{'_id': ObjectId('62aae52a1762c4d459a4493b'), 'nombre': 'Maria', 'edad': 12},\n",
       " {'_id': ObjectId('62aae5341762c4d459a44940'), 'nombre': 'Maria', 'edad': 12}]"
      ]
     },
     "execution_count": 31,
     "metadata": {},
     "output_type": "execute_result"
    }
   ],
   "source": [
    "list(colec.find({'edad': 12}))"
   ]
  },
  {
   "cell_type": "code",
   "execution_count": 32,
   "id": "dbfc33db",
   "metadata": {},
   "outputs": [
    {
     "data": {
      "text/plain": [
       "[{'_id': ObjectId('62aadea21762c4d459a44935'), 'nombre': 'Ana', 'edad': 24},\n",
       " {'_id': ObjectId('62aaded01762c4d459a44936'), 'nombre': 'Ana', 'edad': 24},\n",
       " {'_id': ObjectId('62aadede1762c4d459a44937'), 'nombre': 'Ana', 'edad': 24},\n",
       " {'_id': ObjectId('62aadf481762c4d459a44938'), 'nombre': 'Ana', 'edad': 24},\n",
       " {'_id': ObjectId('62aae52a1762c4d459a44939'), 'nombre': 'Ana', 'edad': 42},\n",
       " {'_id': ObjectId('62aae5341762c4d459a4493e'), 'nombre': 'Ana', 'edad': 42}]"
      ]
     },
     "execution_count": 32,
     "metadata": {},
     "output_type": "execute_result"
    }
   ],
   "source": [
    "list(colec.find({'nombre': 'Ana'}))   # equivalente sql: select * from colec where nombre = Ana;"
   ]
  },
  {
   "cell_type": "code",
   "execution_count": 33,
   "id": "b2294eb5",
   "metadata": {},
   "outputs": [
    {
     "data": {
      "text/plain": [
       "[{'_id': ObjectId('62aaddb31762c4d459a44934'), 'nombre': 'poepe', 'edad': 22},\n",
       " {'_id': ObjectId('62aadea21762c4d459a44935'), 'nombre': 'Ana', 'edad': 24},\n",
       " {'_id': ObjectId('62aaded01762c4d459a44936'), 'nombre': 'Ana', 'edad': 24},\n",
       " {'_id': ObjectId('62aadede1762c4d459a44937'), 'nombre': 'Ana', 'edad': 24},\n",
       " {'_id': ObjectId('62aadf481762c4d459a44938'), 'nombre': 'Ana', 'edad': 24},\n",
       " {'_id': ObjectId('62aae52a1762c4d459a44939'), 'nombre': 'Ana', 'edad': 42},\n",
       " {'_id': ObjectId('62aae52a1762c4d459a4493a'), 'nombre': 'Juan', 'edad': 30},\n",
       " {'_id': ObjectId('62aae52a1762c4d459a4493b'), 'nombre': 'Maria', 'edad': 12},\n",
       " {'_id': ObjectId('62aae52a1762c4d459a4493d'), 'nombre': 'Hola', 'edad': 70},\n",
       " {'_id': ObjectId('62aae5341762c4d459a4493e'), 'nombre': 'Ana', 'edad': 42},\n",
       " {'_id': ObjectId('62aae5341762c4d459a4493f'), 'nombre': 'Juan', 'edad': 30},\n",
       " {'_id': ObjectId('62aae5341762c4d459a44940'), 'nombre': 'Maria', 'edad': 12},\n",
       " {'_id': ObjectId('62aae5341762c4d459a44942'), 'nombre': 'Hola', 'edad': 70}]"
      ]
     },
     "execution_count": 33,
     "metadata": {},
     "output_type": "execute_result"
    }
   ],
   "source": [
    "list(colec.find({'edad': {'$gte': 12}})) # equivalente sql: select * from colec where edad >= 12;"
   ]
  },
  {
   "cell_type": "code",
   "execution_count": 34,
   "id": "347ac0ff",
   "metadata": {},
   "outputs": [
    {
     "data": {
      "text/plain": [
       "[{'_id': ObjectId('62aaddb31762c4d459a44934'), 'nombre': 'poepe', 'edad': 22},\n",
       " {'_id': ObjectId('62aadea21762c4d459a44935'), 'nombre': 'Ana', 'edad': 24},\n",
       " {'_id': ObjectId('62aaded01762c4d459a44936'), 'nombre': 'Ana', 'edad': 24},\n",
       " {'_id': ObjectId('62aadede1762c4d459a44937'), 'nombre': 'Ana', 'edad': 24},\n",
       " {'_id': ObjectId('62aadf481762c4d459a44938'), 'nombre': 'Ana', 'edad': 24},\n",
       " {'_id': ObjectId('62aae52a1762c4d459a44939'), 'nombre': 'Ana', 'edad': 42},\n",
       " {'_id': ObjectId('62aae52a1762c4d459a4493a'), 'nombre': 'Juan', 'edad': 30},\n",
       " {'_id': ObjectId('62aae52a1762c4d459a4493d'), 'nombre': 'Hola', 'edad': 70},\n",
       " {'_id': ObjectId('62aae5341762c4d459a4493e'), 'nombre': 'Ana', 'edad': 42},\n",
       " {'_id': ObjectId('62aae5341762c4d459a4493f'), 'nombre': 'Juan', 'edad': 30},\n",
       " {'_id': ObjectId('62aae5341762c4d459a44942'), 'nombre': 'Hola', 'edad': 70}]"
      ]
     },
     "execution_count": 34,
     "metadata": {},
     "output_type": "execute_result"
    }
   ],
   "source": [
    "list(colec.find({'edad': {'$gt': 12}}))# equivalente sql: select * from colec where edad > 12;"
   ]
  },
  {
   "cell_type": "code",
   "execution_count": 35,
   "id": "18f2b6d7",
   "metadata": {},
   "outputs": [
    {
     "data": {
      "text/plain": [
       "[{'_id': ObjectId('62aaddb31762c4d459a44934'), 'nombre': 'poepe', 'edad': 22},\n",
       " {'_id': ObjectId('62aadea21762c4d459a44935'), 'nombre': 'Ana', 'edad': 24},\n",
       " {'_id': ObjectId('62aaded01762c4d459a44936'), 'nombre': 'Ana', 'edad': 24},\n",
       " {'_id': ObjectId('62aadede1762c4d459a44937'), 'nombre': 'Ana', 'edad': 24},\n",
       " {'_id': ObjectId('62aadf481762c4d459a44938'), 'nombre': 'Ana', 'edad': 24},\n",
       " {'_id': ObjectId('62aae52a1762c4d459a4493b'), 'nombre': 'Maria', 'edad': 12},\n",
       " {'_id': ObjectId('62aae52a1762c4d459a4493c'), 'nombre': 'Joase', 'edad': 5},\n",
       " {'_id': ObjectId('62aae5341762c4d459a44940'), 'nombre': 'Maria', 'edad': 12},\n",
       " {'_id': ObjectId('62aae5341762c4d459a44941'), 'nombre': 'Joase', 'edad': 5}]"
      ]
     },
     "execution_count": 35,
     "metadata": {},
     "output_type": "execute_result"
    }
   ],
   "source": [
    "list(colec.find({'edad': {'$lte': 24}}))# equivalente sql: select * from colec where edad <= 24;"
   ]
  },
  {
   "cell_type": "code",
   "execution_count": 36,
   "id": "834043b6",
   "metadata": {},
   "outputs": [
    {
     "data": {
      "text/plain": [
       "[{'_id': ObjectId('62aaddb31762c4d459a44934'), 'nombre': 'poepe', 'edad': 22},\n",
       " {'_id': ObjectId('62aae52a1762c4d459a4493b'), 'nombre': 'Maria', 'edad': 12},\n",
       " {'_id': ObjectId('62aae52a1762c4d459a4493c'), 'nombre': 'Joase', 'edad': 5},\n",
       " {'_id': ObjectId('62aae5341762c4d459a44940'), 'nombre': 'Maria', 'edad': 12},\n",
       " {'_id': ObjectId('62aae5341762c4d459a44941'), 'nombre': 'Joase', 'edad': 5}]"
      ]
     },
     "execution_count": 36,
     "metadata": {},
     "output_type": "execute_result"
    }
   ],
   "source": [
    "list(colec.find({'edad': {'$lt': 24}}))# equivalente sql: select * from colec where edad < 24;"
   ]
  },
  {
   "cell_type": "code",
   "execution_count": 37,
   "id": "27846ebb",
   "metadata": {},
   "outputs": [
    {
     "data": {
      "text/plain": [
       "[{'_id': ObjectId('62aaddb31762c4d459a44934'), 'nombre': 'poepe', 'edad': 22},\n",
       " {'_id': ObjectId('62aae52a1762c4d459a4493b'), 'nombre': 'Maria', 'edad': 12},\n",
       " {'_id': ObjectId('62aae52a1762c4d459a4493c'), 'nombre': 'Joase', 'edad': 5}]"
      ]
     },
     "execution_count": 37,
     "metadata": {},
     "output_type": "execute_result"
    }
   ],
   "source": [
    "list(colec.find({'edad': {'$lt': 24}}).limit(3)  )    # equivalente sql: select * from colec where edad < 24 limit 3;"
   ]
  },
  {
   "cell_type": "code",
   "execution_count": 40,
   "id": "0442338a",
   "metadata": {},
   "outputs": [
    {
     "data": {
      "text/plain": [
       "[{'_id': ObjectId('62aaddb31762c4d459a44934'), 'nombre': 'poepe', 'edad': 22},\n",
       " {'_id': ObjectId('62aae5341762c4d459a44940'), 'nombre': 'Maria', 'edad': 12},\n",
       " {'_id': ObjectId('62aae52a1762c4d459a4493b'), 'nombre': 'Maria', 'edad': 12}]"
      ]
     },
     "execution_count": 40,
     "metadata": {},
     "output_type": "execute_result"
    }
   ],
   "source": [
    "list(colec.find({'edad': {'$lt': 24}}).sort('edad', -1).limit(3))  \n",
    "# equivalente sql: select * from colec where edad < 24 order by edad desc limit 3;"
   ]
  },
  {
   "cell_type": "code",
   "execution_count": 50,
   "id": "dce6127a",
   "metadata": {},
   "outputs": [
    {
     "data": {
      "text/plain": [
       "[{'_id': '', 'count': 18}]"
      ]
     },
     "execution_count": 50,
     "metadata": {},
     "output_type": "execute_result"
    }
   ],
   "source": [
    "list(colec.aggregate([\n",
    "    {\"$group\" : {'_id':'', 'count':{'$sum': 1}}}\n",
    "]))\n",
    "\n",
    "\n",
    "# select count(*) from colec group by _id;   # por cada id suma 1"
   ]
  },
  {
   "cell_type": "code",
   "execution_count": 51,
   "id": "cb1b6794",
   "metadata": {},
   "outputs": [
    {
     "data": {
      "text/plain": [
       "<pymongo.results.DeleteResult at 0x1065f47f0>"
      ]
     },
     "execution_count": 51,
     "metadata": {},
     "output_type": "execute_result"
    }
   ],
   "source": [
    "# borrar documento\n",
    "\n",
    "\n",
    "colec.delete_one({'_id': 20})"
   ]
  },
  {
   "cell_type": "code",
   "execution_count": 52,
   "id": "bd5b3f2d",
   "metadata": {},
   "outputs": [
    {
     "data": {
      "text/plain": [
       "[{'_id': ObjectId('62aaddb31762c4d459a44934'), 'nombre': 'poepe', 'edad': 22},\n",
       " {'_id': ObjectId('62aadea21762c4d459a44935'), 'nombre': 'Ana', 'edad': 24},\n",
       " {'_id': ObjectId('62aaded01762c4d459a44936'), 'nombre': 'Ana', 'edad': 24},\n",
       " {'_id': ObjectId('62aadede1762c4d459a44937'), 'nombre': 'Ana', 'edad': 24},\n",
       " {'_id': 21, 'actividad': 'natacion', 'hora': '22:00', 'lugar': 'jultayu'},\n",
       " {'_id': ObjectId('62aadf481762c4d459a44938'), 'nombre': 'Ana', 'edad': 24},\n",
       " {'_id': 22, 'actividad': 'natacion', 'hora': '22:00', 'lugar': 'jultayu'},\n",
       " {'_id': ObjectId('62aae52a1762c4d459a44939'), 'nombre': 'Ana', 'edad': 42},\n",
       " {'_id': ObjectId('62aae52a1762c4d459a4493a'), 'nombre': 'Juan', 'edad': 30},\n",
       " {'_id': ObjectId('62aae52a1762c4d459a4493b'), 'nombre': 'Maria', 'edad': 12},\n",
       " {'_id': ObjectId('62aae52a1762c4d459a4493c'), 'nombre': 'Joase', 'edad': 5},\n",
       " {'_id': ObjectId('62aae52a1762c4d459a4493d'), 'nombre': 'Hola', 'edad': 70},\n",
       " {'_id': ObjectId('62aae5341762c4d459a4493e'), 'nombre': 'Ana', 'edad': 42},\n",
       " {'_id': ObjectId('62aae5341762c4d459a4493f'), 'nombre': 'Juan', 'edad': 30},\n",
       " {'_id': ObjectId('62aae5341762c4d459a44940'), 'nombre': 'Maria', 'edad': 12},\n",
       " {'_id': ObjectId('62aae5341762c4d459a44941'), 'nombre': 'Joase', 'edad': 5},\n",
       " {'_id': ObjectId('62aae5341762c4d459a44942'), 'nombre': 'Hola', 'edad': 70}]"
      ]
     },
     "execution_count": 52,
     "metadata": {},
     "output_type": "execute_result"
    }
   ],
   "source": [
    "list(colec.find())"
   ]
  },
  {
   "cell_type": "code",
   "execution_count": 53,
   "id": "509215c5",
   "metadata": {},
   "outputs": [
    {
     "data": {
      "text/plain": [
       "<pymongo.results.DeleteResult at 0x1067aafa0>"
      ]
     },
     "execution_count": 53,
     "metadata": {},
     "output_type": "execute_result"
    }
   ],
   "source": [
    "colec.delete_many({'nombre': 'Ana'})   # delete from colec where nombre=Ana;"
   ]
  },
  {
   "cell_type": "code",
   "execution_count": 54,
   "id": "3596c61e",
   "metadata": {},
   "outputs": [
    {
     "data": {
      "text/plain": [
       "[{'_id': ObjectId('62aaddb31762c4d459a44934'), 'nombre': 'poepe', 'edad': 22},\n",
       " {'_id': 21, 'actividad': 'natacion', 'hora': '22:00', 'lugar': 'jultayu'},\n",
       " {'_id': 22, 'actividad': 'natacion', 'hora': '22:00', 'lugar': 'jultayu'},\n",
       " {'_id': ObjectId('62aae52a1762c4d459a4493a'), 'nombre': 'Juan', 'edad': 30},\n",
       " {'_id': ObjectId('62aae52a1762c4d459a4493b'), 'nombre': 'Maria', 'edad': 12},\n",
       " {'_id': ObjectId('62aae52a1762c4d459a4493c'), 'nombre': 'Joase', 'edad': 5},\n",
       " {'_id': ObjectId('62aae52a1762c4d459a4493d'), 'nombre': 'Hola', 'edad': 70},\n",
       " {'_id': ObjectId('62aae5341762c4d459a4493f'), 'nombre': 'Juan', 'edad': 30},\n",
       " {'_id': ObjectId('62aae5341762c4d459a44940'), 'nombre': 'Maria', 'edad': 12},\n",
       " {'_id': ObjectId('62aae5341762c4d459a44941'), 'nombre': 'Joase', 'edad': 5},\n",
       " {'_id': ObjectId('62aae5341762c4d459a44942'), 'nombre': 'Hola', 'edad': 70}]"
      ]
     },
     "execution_count": 54,
     "metadata": {},
     "output_type": "execute_result"
    }
   ],
   "source": [
    "list(colec.find())"
   ]
  },
  {
   "cell_type": "code",
   "execution_count": 55,
   "id": "d3462603",
   "metadata": {},
   "outputs": [],
   "source": [
    "colec.drop()"
   ]
  },
  {
   "cell_type": "code",
   "execution_count": 57,
   "id": "bb1ec1ca",
   "metadata": {
    "scrolled": false
   },
   "outputs": [
    {
     "data": {
      "text/plain": [
       "[]"
      ]
     },
     "execution_count": 57,
     "metadata": {},
     "output_type": "execute_result"
    }
   ],
   "source": [
    "db.list_collection_names()"
   ]
  },
  {
   "cell_type": "markdown",
   "id": "289b7900",
   "metadata": {},
   "source": [
    "### DB Companies"
   ]
  },
  {
   "cell_type": "code",
   "execution_count": 58,
   "id": "1300b322",
   "metadata": {},
   "outputs": [],
   "source": [
    "db=cliente.companies   # cliente.base_de_datos"
   ]
  },
  {
   "cell_type": "code",
   "execution_count": 59,
   "id": "7250f5eb",
   "metadata": {},
   "outputs": [],
   "source": [
    "colec=db.companies     # base_de_datos.coleccion"
   ]
  },
  {
   "cell_type": "code",
   "execution_count": 63,
   "id": "f6ce8287",
   "metadata": {
    "scrolled": false
   },
   "outputs": [],
   "source": [
    "#list(colec.find().limit(1))"
   ]
  },
  {
   "cell_type": "code",
   "execution_count": 71,
   "id": "2dcfd691",
   "metadata": {},
   "outputs": [
    {
     "data": {
      "text/plain": [
       "[{'name': 'Nokaut', 'category_code': 'ecommerce'},\n",
       " {'name': 'Atlantic BT', 'category_code': 'web'},\n",
       " {'name': 'Gambolio', 'category_code': 'web'},\n",
       " {'name': 'Kicker Films', 'category_code': 'ecommerce'},\n",
       " {'name': 'iGuiders', 'category_code': 'web'},\n",
       " {'name': 'Optemo', 'category_code': 'web'},\n",
       " {'name': 'Zoomission', 'category_code': 'web'},\n",
       " {'name': 'Eazeeloans', 'category_code': 'web'},\n",
       " {'name': 'DocASAP', 'category_code': 'web'},\n",
       " {'name': 'goBookmaker', 'category_code': 'web'}]"
      ]
     },
     "execution_count": 71,
     "metadata": {},
     "output_type": "execute_result"
    }
   ],
   "source": [
    "list(colec.find({'$or': [{'category_code': 'web'}, \n",
    "                         {'category_code': 'ecommerce'}]},\n",
    "               \n",
    "               {'_id': False, 'name':True, 'category_code': True}\n",
    "               \n",
    "               ))[-10:]"
   ]
  },
  {
   "cell_type": "code",
   "execution_count": 74,
   "id": "39053424",
   "metadata": {},
   "outputs": [
    {
     "data": {
      "text/plain": [
       "[{'name': 'SmallWorlds', 'category_code': 'web', 'founded_year': 1800},\n",
       " {'name': 'WeGame', 'category_code': 'web', 'founded_year': 1840},\n",
       " {'name': 'The Economist Group', 'category_code': 'web', 'founded_year': 1843},\n",
       " {'name': 'Elsevier', 'category_code': 'web', 'founded_year': 1880},\n",
       " {'name': 'Los Angeles Times Media Group',\n",
       "  'category_code': 'web',\n",
       "  'founded_year': 1881},\n",
       " {'name': 'National Geographic', 'category_code': 'web', 'founded_year': 1888},\n",
       " {'name': 'Financial Times', 'category_code': 'web', 'founded_year': 1888},\n",
       " {'name': 'PA SportsTicker', 'category_code': 'web', 'founded_year': 1909},\n",
       " {'name': 'Nielsen', 'category_code': 'web', 'founded_year': 1922},\n",
       " {'name': 'Consumers Union', 'category_code': 'web', 'founded_year': 1936}]"
      ]
     },
     "execution_count": 74,
     "metadata": {},
     "output_type": "execute_result"
    }
   ],
   "source": [
    "list(colec.find({'$and': [{'category_code': 'web'}, \n",
    "                          {'founded_year': {'$lte': 2002}}]},\n",
    "               \n",
    "               {'_id': False, 'name':True, 'category_code': True, 'founded_year': True}\n",
    "               \n",
    "               ).sort('founded_year', 1).limit(10)\n",
    "    \n",
    "    )"
   ]
  },
  {
   "cell_type": "code",
   "execution_count": 76,
   "id": "2e4f4e5c",
   "metadata": {},
   "outputs": [
    {
     "data": {
      "text/html": [
       "<div>\n",
       "<style scoped>\n",
       "    .dataframe tbody tr th:only-of-type {\n",
       "        vertical-align: middle;\n",
       "    }\n",
       "\n",
       "    .dataframe tbody tr th {\n",
       "        vertical-align: top;\n",
       "    }\n",
       "\n",
       "    .dataframe thead th {\n",
       "        text-align: right;\n",
       "    }\n",
       "</style>\n",
       "<table border=\"1\" class=\"dataframe\">\n",
       "  <thead>\n",
       "    <tr style=\"text-align: right;\">\n",
       "      <th></th>\n",
       "      <th>_id</th>\n",
       "      <th>name</th>\n",
       "      <th>category_code</th>\n",
       "      <th>founded_year</th>\n",
       "    </tr>\n",
       "  </thead>\n",
       "  <tbody>\n",
       "    <tr>\n",
       "      <th>0</th>\n",
       "      <td>52cdef7d4bab8bd675298b5a</td>\n",
       "      <td>SmallWorlds</td>\n",
       "      <td>web</td>\n",
       "      <td>1800</td>\n",
       "    </tr>\n",
       "    <tr>\n",
       "      <th>1</th>\n",
       "      <td>52cdef7c4bab8bd675298140</td>\n",
       "      <td>WeGame</td>\n",
       "      <td>web</td>\n",
       "      <td>1840</td>\n",
       "    </tr>\n",
       "    <tr>\n",
       "      <th>2</th>\n",
       "      <td>52cdef7d4bab8bd675298a13</td>\n",
       "      <td>The Economist Group</td>\n",
       "      <td>web</td>\n",
       "      <td>1843</td>\n",
       "    </tr>\n",
       "    <tr>\n",
       "      <th>3</th>\n",
       "      <td>52cdef7f4bab8bd67529c22d</td>\n",
       "      <td>Elsevier</td>\n",
       "      <td>web</td>\n",
       "      <td>1880</td>\n",
       "    </tr>\n",
       "    <tr>\n",
       "      <th>4</th>\n",
       "      <td>52cdef7c4bab8bd67529834c</td>\n",
       "      <td>Los Angeles Times Media Group</td>\n",
       "      <td>web</td>\n",
       "      <td>1881</td>\n",
       "    </tr>\n",
       "  </tbody>\n",
       "</table>\n",
       "</div>"
      ],
      "text/plain": [
       "                        _id                           name category_code  \\\n",
       "0  52cdef7d4bab8bd675298b5a                    SmallWorlds           web   \n",
       "1  52cdef7c4bab8bd675298140                         WeGame           web   \n",
       "2  52cdef7d4bab8bd675298a13            The Economist Group           web   \n",
       "3  52cdef7f4bab8bd67529c22d                       Elsevier           web   \n",
       "4  52cdef7c4bab8bd67529834c  Los Angeles Times Media Group           web   \n",
       "\n",
       "   founded_year  \n",
       "0          1800  \n",
       "1          1840  \n",
       "2          1843  \n",
       "3          1880  \n",
       "4          1881  "
      ]
     },
     "execution_count": 76,
     "metadata": {},
     "output_type": "execute_result"
    }
   ],
   "source": [
    "import pandas as pd\n",
    "\n",
    "df=pd.DataFrame(list(colec.find({'$and': [{'category_code': 'web'}, \n",
    "                          {'founded_year': {'$lte': 2002}}]},\n",
    "               \n",
    "               {'name':True, 'category_code': True, 'founded_year': True}\n",
    "               \n",
    "               ).sort('founded_year', 1).limit(10)\n",
    "    \n",
    "    ))\n",
    "\n",
    "\n",
    "df.head()"
   ]
  },
  {
   "cell_type": "code",
   "execution_count": 80,
   "id": "941b2853",
   "metadata": {},
   "outputs": [
    {
     "data": {
      "text/plain": [
       "[{'_id': ObjectId('52cdef7c4bab8bd675297d8e'),\n",
       "  'name': 'Facebook',\n",
       "  'category_code': 'social',\n",
       "  'founded_year': 2004},\n",
       " {'_id': ObjectId('52cdef7c4bab8bd675298140'),\n",
       "  'name': 'WeGame',\n",
       "  'category_code': 'web',\n",
       "  'founded_year': 1840}]"
      ]
     },
     "execution_count": 80,
     "metadata": {},
     "output_type": "execute_result"
    }
   ],
   "source": [
    "list(colec.find({'name': {'$in': ['WeGame', 'Facebook']}},\n",
    "                {'name':True, 'category_code': True, 'founded_year': True}))"
   ]
  },
  {
   "cell_type": "code",
   "execution_count": 87,
   "id": "c8d09015",
   "metadata": {},
   "outputs": [
    {
     "data": {
      "text/plain": [
       "[{'_id': ObjectId('52cdef7c4bab8bd675297d8e'),\n",
       "  'name': 'Facebook',\n",
       "  'category_code': 'social',\n",
       "  'founded_year': 2004},\n",
       " {'_id': ObjectId('52cdef7c4bab8bd675298334'),\n",
       "  'name': 'FaceTec',\n",
       "  'category_code': 'software',\n",
       "  'founded_year': 2002}]"
      ]
     },
     "execution_count": 87,
     "metadata": {},
     "output_type": "execute_result"
    }
   ],
   "source": [
    "# ¿como sacar facebook asi?\n",
    "\n",
    "list(colec.find({'name': {'$regex': '^Face'}},\n",
    "                {'name':True, 'category_code': True, 'founded_year': True}).limit(2))\n"
   ]
  },
  {
   "cell_type": "markdown",
   "id": "3a5a081e",
   "metadata": {},
   "source": [
    "### Geoqueries"
   ]
  },
  {
   "cell_type": "code",
   "execution_count": null,
   "id": "fc1ac2f4",
   "metadata": {},
   "outputs": [],
   "source": []
  },
  {
   "cell_type": "code",
   "execution_count": null,
   "id": "fda7a05e",
   "metadata": {},
   "outputs": [],
   "source": []
  },
  {
   "cell_type": "code",
   "execution_count": null,
   "id": "4b6ea2d9",
   "metadata": {},
   "outputs": [],
   "source": []
  },
  {
   "cell_type": "code",
   "execution_count": null,
   "id": "ca153d3d",
   "metadata": {},
   "outputs": [],
   "source": []
  },
  {
   "cell_type": "code",
   "execution_count": null,
   "id": "9981bc6a",
   "metadata": {},
   "outputs": [],
   "source": []
  },
  {
   "cell_type": "code",
   "execution_count": null,
   "id": "79428353",
   "metadata": {},
   "outputs": [],
   "source": []
  },
  {
   "cell_type": "code",
   "execution_count": null,
   "id": "479d9e52",
   "metadata": {},
   "outputs": [],
   "source": []
  },
  {
   "cell_type": "code",
   "execution_count": null,
   "id": "06e2a013",
   "metadata": {},
   "outputs": [],
   "source": []
  },
  {
   "cell_type": "code",
   "execution_count": null,
   "id": "7908dfad",
   "metadata": {},
   "outputs": [],
   "source": []
  },
  {
   "cell_type": "code",
   "execution_count": null,
   "id": "e4b7c626",
   "metadata": {},
   "outputs": [],
   "source": []
  },
  {
   "cell_type": "raw",
   "id": "a9aabd9e",
   "metadata": {},
   "source": []
  },
  {
   "cell_type": "code",
   "execution_count": null,
   "id": "7c15673c",
   "metadata": {},
   "outputs": [],
   "source": []
  },
  {
   "cell_type": "code",
   "execution_count": null,
   "id": "2d246b8d",
   "metadata": {},
   "outputs": [],
   "source": []
  },
  {
   "cell_type": "code",
   "execution_count": null,
   "id": "ebb3a121",
   "metadata": {},
   "outputs": [],
   "source": []
  },
  {
   "cell_type": "code",
   "execution_count": null,
   "id": "958eb501",
   "metadata": {},
   "outputs": [],
   "source": []
  },
  {
   "cell_type": "code",
   "execution_count": null,
   "id": "0f5f4495",
   "metadata": {},
   "outputs": [],
   "source": []
  }
 ],
 "metadata": {
  "kernelspec": {
   "display_name": "clase",
   "language": "python",
   "name": "clase"
  },
  "language_info": {
   "codemirror_mode": {
    "name": "ipython",
    "version": 3
   },
   "file_extension": ".py",
   "mimetype": "text/x-python",
   "name": "python",
   "nbconvert_exporter": "python",
   "pygments_lexer": "ipython3",
   "version": "3.9.7"
  },
  "varInspector": {
   "cols": {
    "lenName": 16,
    "lenType": 16,
    "lenVar": 40
   },
   "kernels_config": {
    "python": {
     "delete_cmd_postfix": "",
     "delete_cmd_prefix": "del ",
     "library": "var_list.py",
     "varRefreshCmd": "print(var_dic_list())"
    },
    "r": {
     "delete_cmd_postfix": ") ",
     "delete_cmd_prefix": "rm(",
     "library": "var_list.r",
     "varRefreshCmd": "cat(var_dic_list()) "
    }
   },
   "types_to_exclude": [
    "module",
    "function",
    "builtin_function_or_method",
    "instance",
    "_Feature"
   ],
   "window_display": false
  }
 },
 "nbformat": 4,
 "nbformat_minor": 5
}
