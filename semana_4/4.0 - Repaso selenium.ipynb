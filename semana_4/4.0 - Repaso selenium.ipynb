{
 "cells": [
  {
   "cell_type": "code",
   "execution_count": 1,
   "id": "8e06f64f",
   "metadata": {},
   "outputs": [],
   "source": [
    "from selenium import webdriver\n",
    "from selenium.webdriver.chrome.options import Options\n",
    "from webdriver_manager.chrome import ChromeDriverManager\n",
    "\n",
    "import warnings\n",
    "warnings.filterwarnings('ignore')"
   ]
  },
  {
   "cell_type": "code",
   "execution_count": 2,
   "id": "7fed2d5c",
   "metadata": {},
   "outputs": [],
   "source": [
    "# opciones del driver\n",
    "\n",
    "opciones=Options()\n",
    "\n",
    "# quita la bandera de ser robot\n",
    "opciones.add_experimental_option('excludeSwitches', ['enable-automation'])\n",
    "opciones.add_experimental_option('useAutomationExtension', False)\n",
    "\n",
    "opciones.headless=False   # si True, no aparece la ventana (headless=no visible)\n",
    "\n",
    "opciones.add_argument('--start-maximized')         # comienza maximizado"
   ]
  },
  {
   "cell_type": "code",
   "execution_count": 3,
   "id": "db17f922",
   "metadata": {},
   "outputs": [
    {
     "name": "stderr",
     "output_type": "stream",
     "text": [
      "\n",
      "\n",
      "====== WebDriver manager ======\n",
      "Current google-chrome version is 103.0.5060\n",
      "Get LATEST chromedriver version for 103.0.5060 google-chrome\n",
      "Driver [/Users/iudh/.wdm/drivers/chromedriver/mac64_m1/103.0.5060.53/chromedriver] found in cache\n"
     ]
    }
   ],
   "source": [
    "PATH=ChromeDriverManager().install()  #'driver/chromedriver' "
   ]
  },
  {
   "cell_type": "markdown",
   "id": "fa387be8",
   "metadata": {},
   "source": [
    "### Ejemplo 1"
   ]
  },
  {
   "cell_type": "code",
   "execution_count": 4,
   "id": "e8260fab",
   "metadata": {},
   "outputs": [],
   "source": [
    "url = 'https://github.com/trending/developers'"
   ]
  },
  {
   "cell_type": "code",
   "execution_count": 5,
   "id": "6a165c0e",
   "metadata": {},
   "outputs": [],
   "source": [
    "driver=webdriver.Chrome(PATH, options=opciones)\n",
    "\n",
    "driver.get(url)"
   ]
  },
  {
   "cell_type": "code",
   "execution_count": 6,
   "id": "87915664",
   "metadata": {},
   "outputs": [],
   "source": [
    "nombres=[e.text for e in driver.find_elements_by_class_name('h3.lh-condensed')]"
   ]
  },
  {
   "cell_type": "code",
   "execution_count": 10,
   "id": "22b91921",
   "metadata": {},
   "outputs": [],
   "source": [
    "alias=[e.text for e in driver.find_elements_by_class_name('f4.text-normal.mb-1')]"
   ]
  },
  {
   "cell_type": "code",
   "execution_count": 11,
   "id": "420cd615",
   "metadata": {},
   "outputs": [
    {
     "data": {
      "text/plain": [
       "[('Stephen Celis', 'stephencelis'),\n",
       " ('Mark Baker', 'MarkBaker'),\n",
       " ('Diego Muracciole', 'diegomura'),\n",
       " ('Matthias Fey', 'rusty1s'),\n",
       " ('Earle F. Philhower, III', 'earlephilhower'),\n",
       " ('Olivier Halligon', 'AliSoftware'),\n",
       " ('MinJae Kwon', 'mingrammer'),\n",
       " ('Manuel Kaufmann', 'humitos'),\n",
       " ('Ahmet Alp Balkan', 'ahmetb'),\n",
       " ('William Durand', 'willdurand'),\n",
       " ('Patricio Palladino', 'alcuadrado'),\n",
       " ('Ryan Bates', 'ryanb'),\n",
       " ('Damodar Lohani', 'lohanidamodar'),\n",
       " ('Jaco', 'jacogr'),\n",
       " ('James N', 'atomiks'),\n",
       " ('Alexander Veysov', 'snakers4'),\n",
       " ('moxey.eth', 'jxom'),\n",
       " ('ChristopherHX', 'jonataslaw'),\n",
       " ('Jonny Borges', 'rogpeppe'),\n",
       " ('Roger Peppe', 'android10'),\n",
       " ('Fernando Cejas', 'ry'),\n",
       " ('Ryan Dahl', 'skyzh'),\n",
       " ('Alex Chi', 'Milad-Akarie'),\n",
       " ('Milad akarie', 'manucorporat')]"
      ]
     },
     "execution_count": 11,
     "metadata": {},
     "output_type": "execute_result"
    }
   ],
   "source": [
    "list(zip(nombres, alias))"
   ]
  },
  {
   "cell_type": "code",
   "execution_count": 13,
   "id": "3f8a9eef",
   "metadata": {},
   "outputs": [],
   "source": [
    "driver.quit()"
   ]
  },
  {
   "cell_type": "markdown",
   "id": "ceb8b6ef",
   "metadata": {},
   "source": [
    "### Ejemplo 2"
   ]
  },
  {
   "cell_type": "code",
   "execution_count": 14,
   "id": "aca0609d",
   "metadata": {},
   "outputs": [],
   "source": [
    "url='https://twitter.com/neilhimself?ref_src=twsrc%5Egoogle%7Ctwcamp%5Eserp%7Ctwgr%5Eauthor'"
   ]
  },
  {
   "cell_type": "code",
   "execution_count": 15,
   "id": "95b3d6b0",
   "metadata": {},
   "outputs": [],
   "source": [
    "driver=webdriver.Chrome(PATH, options=opciones)\n",
    "\n",
    "driver.get(url)"
   ]
  },
  {
   "cell_type": "code",
   "execution_count": 20,
   "id": "023422ae",
   "metadata": {},
   "outputs": [],
   "source": [
    "elemento=driver.find_element_by_xpath('//*[@id=\"react-root\"]/div/div/div[2]/main/div/div/div/div[1]/div/div[2]/div/div/section/div')"
   ]
  },
  {
   "cell_type": "code",
   "execution_count": 21,
   "id": "3a48d605",
   "metadata": {},
   "outputs": [
    {
     "data": {
      "text/plain": [
       "'Cronología: Tweets de Neil Gaiman'"
      ]
     },
     "execution_count": 21,
     "metadata": {},
     "output_type": "execute_result"
    }
   ],
   "source": [
    "elemento.get_attribute('aria-label')"
   ]
  },
  {
   "cell_type": "code",
   "execution_count": 24,
   "id": "6bdc2f05",
   "metadata": {},
   "outputs": [
    {
     "data": {
      "text/plain": [
       "897"
      ]
     },
     "execution_count": 24,
     "metadata": {},
     "output_type": "execute_result"
    }
   ],
   "source": [
    "n_tweets=len(elemento.find_elements_by_tag_name('div'))\n",
    "\n",
    "n_tweets"
   ]
  },
  {
   "cell_type": "code",
   "execution_count": 25,
   "id": "4f9fad5e",
   "metadata": {},
   "outputs": [
    {
     "data": {
      "text/plain": [
       "'182,1 mil Tweets'"
      ]
     },
     "execution_count": 25,
     "metadata": {},
     "output_type": "execute_result"
    }
   ],
   "source": [
    "driver.find_element_by_xpath('//*[@id=\"react-root\"]/div/div/div[2]/main/div/div/div/div[1]/div/div[1]/div[1]/div/div/div/div/div[2]/div/div').text"
   ]
  },
  {
   "cell_type": "code",
   "execution_count": 26,
   "id": "25a7c788",
   "metadata": {},
   "outputs": [],
   "source": [
    "driver.quit()"
   ]
  },
  {
   "cell_type": "code",
   "execution_count": null,
   "id": "54d0dafc",
   "metadata": {},
   "outputs": [],
   "source": []
  }
 ],
 "metadata": {
  "kernelspec": {
   "display_name": "clase",
   "language": "python",
   "name": "clase"
  },
  "language_info": {
   "codemirror_mode": {
    "name": "ipython",
    "version": 3
   },
   "file_extension": ".py",
   "mimetype": "text/x-python",
   "name": "python",
   "nbconvert_exporter": "python",
   "pygments_lexer": "ipython3",
   "version": "3.9.7"
  }
 },
 "nbformat": 4,
 "nbformat_minor": 5
}
