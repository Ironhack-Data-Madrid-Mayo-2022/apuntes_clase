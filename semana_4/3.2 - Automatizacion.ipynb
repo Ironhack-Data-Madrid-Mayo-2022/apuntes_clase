{
 "cells": [
  {
   "cell_type": "markdown",
   "metadata": {},
   "source": [
    "# 3.2- Automatización\n",
    "\n",
    "![automatizacion](images/automatizacion.png)"
   ]
  },
  {
   "cell_type": "markdown",
   "metadata": {},
   "source": [
    "Selenium automatiza los navegadores. Principalmente, es para la automatización de aplicaciones web con fines de pruebas, pero ciertamente no se limita a eso. Las tareas aburridas de administración basadas en web pueden ser automatizadas.\n",
    "\n",
    "Veremos como realizar estas automatizaciones y además ocultar nuestro driver para que parezca una persona."
   ]
  },
  {
   "cell_type": "markdown",
   "metadata": {},
   "source": [
    "**Librerias**"
   ]
  },
  {
   "cell_type": "code",
   "execution_count": null,
   "metadata": {},
   "outputs": [],
   "source": [
    "from selenium import webdriver # driver de selenium\n",
    "\n",
    "import time   # para manejar tiempo\n",
    "\n",
    "import pandas as pd"
   ]
  },
  {
   "cell_type": "markdown",
   "metadata": {},
   "source": [
    "### Opciones del driver\n",
    "\n",
    "https://peter.sh/experiments/chromium-command-line-switches/\n"
   ]
  },
  {
   "cell_type": "code",
   "execution_count": null,
   "metadata": {},
   "outputs": [],
   "source": [
    "from selenium.webdriver.chrome.options import Options"
   ]
  },
  {
   "cell_type": "code",
   "execution_count": null,
   "metadata": {},
   "outputs": [],
   "source": [
    "# opciones del driver\n",
    "\n",
    "opciones=Options()\n",
    "\n",
    "# quita la bandera de ser robot\n",
    "opciones.add_experimental_option('excludeSwitches', ['enable-automation'])\n",
    "opciones.add_experimental_option('useAutomationExtension', False)\n",
    "\n",
    "opciones.headless=False   # si True, no aparece la ventana (headless=no visible)\n",
    "\n",
    "opciones.add_argument('--start-maximized')         # comienza maximizado\n",
    "\n",
    "opciones.add_extension('driver/adblock.crx')       # adblocker\n",
    "\n",
    "#opciones.add_argument('user-data-dir=selenium')    # mantiene las coockies\n",
    "\n",
    "\n",
    "#opciones.add_argument('--incognito')              # incognito\n",
    " \n",
    "#opciones.add_argument('--no-proxy-server')                 # sin proxy\n",
    "#opciones.add_argument('proxy-server=106.122.8.54:3128')    # proxy custom"
   ]
  },
  {
   "cell_type": "markdown",
   "metadata": {},
   "source": [
    "### Creando usuario random\n",
    "\n",
    "https://pypi.org/project/fake-useragent/"
   ]
  },
  {
   "cell_type": "code",
   "execution_count": null,
   "metadata": {},
   "outputs": [],
   "source": [
    "%pip install fake-useragent"
   ]
  },
  {
   "cell_type": "code",
   "execution_count": null,
   "metadata": {},
   "outputs": [],
   "source": [
    "from fake_useragent import UserAgent\n",
    "\n",
    "usuario=UserAgent().random\n",
    "\n",
    "print(usuario)\n",
    "\n",
    "#opciones.add_argument(f'user-agent={usuario}')"
   ]
  },
  {
   "cell_type": "markdown",
   "metadata": {},
   "source": [
    "### Editando el archivo chromedriver\n",
    "\n",
    "\n",
    "Distil web monitor comprueba el patrón de regex  \"[a-z]dc_\", y el chromedriver tiene una variable que cumple con dicho patrón \"cdc_\". Esto hace posible la detección del driver en la red por parte de los monitores.\n",
    "\n",
    "\n",
    "**Cambiando la string cdc_**\n",
    "\n",
    "Podemos editar el chromedriver usando Vim, escribiendo en terminal:\n",
    "\n",
    "`vim /ruta/al/chromedriver`\n",
    "\n",
    "Una ver abierto el Vim, verás muchas **@** en el archivo. En el editor realizamos los siguientes pasos:\n",
    "\n",
    "+ Vamos a reemplazar la string `cdc_` todas las veces que aparece escribiendo: `%s/cdc_/arm_/g`. arm_ es solo un ejemplo, se puede sustituir con cualquier string con la condición de que se mantenga la longitud, si no el driver fallará.\n",
    "\n",
    "+ Para guardar los cambios y salir de Vim se escribe: `:wq!` y presiona Enter. Para salir sin guardar `:q!`.\n"
   ]
  },
  {
   "cell_type": "code",
   "execution_count": null,
   "metadata": {},
   "outputs": [],
   "source": [
    "from webdriver_manager.chrome import ChromeDriverManager\n",
    "\n",
    "PATH='driver/chromedriver'  #ChromeDriverManager().install()"
   ]
  },
  {
   "cell_type": "markdown",
   "metadata": {},
   "source": [
    "### Linkedin "
   ]
  },
  {
   "cell_type": "code",
   "execution_count": null,
   "metadata": {},
   "outputs": [],
   "source": [
    "#url='https://www.linkedin.com/in/yonatan-rodriguez/'"
   ]
  },
  {
   "cell_type": "code",
   "execution_count": null,
   "metadata": {},
   "outputs": [],
   "source": [
    "#driver=webdriver.Chrome(PATH, options=opciones)\n",
    "\n",
    "#driver.get(url)"
   ]
  },
  {
   "cell_type": "code",
   "execution_count": null,
   "metadata": {},
   "outputs": [],
   "source": [
    "#nombre = driver.find_element_by_xpath('//*[@id=\"ember34\"]/div[2]/div[2]/div[1]/div[1]/h1')\n",
    "\n",
    "#nombre.text"
   ]
  },
  {
   "cell_type": "code",
   "execution_count": null,
   "metadata": {},
   "outputs": [],
   "source": [
    "#driver.quit()"
   ]
  },
  {
   "cell_type": "markdown",
   "metadata": {},
   "source": [
    "### Ejemplo Cuevana\n",
    "\n",
    "https://ww3.cuevana.pro/"
   ]
  },
  {
   "cell_type": "code",
   "execution_count": null,
   "metadata": {},
   "outputs": [],
   "source": [
    "from selenium import webdriver # driver de selenium\n",
    "\n",
    "import time   # para manejar tiempo\n",
    "\n",
    "from selenium.webdriver.chrome.options import Options\n",
    "\n",
    "from selenium.webdriver.common.by import By   # para buscar segun tag, id, class, etc...\n",
    "\n",
    "from selenium.webdriver.support.ui import WebDriverWait   # es para esperar\n",
    "\n",
    "from selenium.webdriver.support import expected_conditions as EC  # condiciones esperadas...\n",
    "\n",
    "from selenium.webdriver import ActionChains as AC   # acciones encadenadas, rollo doble click\n",
    "\n",
    "from selenium.webdriver.common.keys import Keys  # manejar teclas\n",
    "\n",
    "\n",
    "import warnings\n",
    "warnings.filterwarnings('ignore')"
   ]
  },
  {
   "cell_type": "code",
   "execution_count": null,
   "metadata": {},
   "outputs": [],
   "source": [
    "opciones=Options()\n",
    "\n",
    "# quita la bandera de ser robot\n",
    "opciones.add_experimental_option('excludeSwitches', ['enable-automation'])\n",
    "opciones.add_experimental_option('useAutomationExtension', False)\n",
    "\n",
    "opciones.headless=False   # si True, no aparece la ventana (headless=no visible)\n",
    "\n",
    "opciones.add_argument('--start-maximized')         # comienza maximizado\n",
    "\n",
    "opciones.add_extension('driver/adblock.crx')       # adblocker\n",
    "\n",
    "opciones.add_argument('user-data-dir=selenium')    # mantiene las coockies\n"
   ]
  },
  {
   "cell_type": "code",
   "execution_count": null,
   "metadata": {},
   "outputs": [],
   "source": [
    "url='https://ww3.cuevana.pro/'\n",
    "\n",
    "#PATH='driver/chromedriver'\n",
    "\n",
    "from webdriver_manager.chrome import ChromeDriverManager\n",
    "\n",
    "PATH=ChromeDriverManager().install()"
   ]
  },
  {
   "cell_type": "code",
   "execution_count": null,
   "metadata": {},
   "outputs": [],
   "source": [
    "driver=webdriver.Chrome(PATH)\n",
    "\n",
    "driver.get(url)\n",
    "\n",
    "time.sleep(2)\n",
    "# busqueda de serie\n",
    "busqueda=driver.find_element_by_xpath('/html/body/header/div[2]/div/ul/li[2]/a')\n",
    "busqueda.click()\n",
    "\n",
    "time.sleep(2)\n",
    "texto=driver.find_element_by_xpath('/html/body/main/div/input')\n",
    "texto.send_keys('hellsing')\n",
    "texto.send_keys(Keys.ENTER)\n",
    "\n",
    "time.sleep(2)\n",
    "# se escoje la primera serie\n",
    "primer_resultado=driver.find_element_by_xpath('/html/body/main/div/div/section[2]/div/div/div[1]/a/div[1]/figure/img')\n",
    "primer_resultado.click()\n",
    "\n",
    "time.sleep(2)\n",
    "# se escoje el primer capitulo\n",
    "primer_cap=driver.find_element_by_xpath('/html/body/main/div/article/div/div[2]/ul/li[1]/div[1]/a')\n",
    "primer_cap.click()\n",
    "\n",
    "\n",
    "# scroll, codigo javascript\n",
    "driver.execute_script('window.scrollTo(0, document.body.scrollHeight);')\n",
    "\n",
    "time.sleep(3)\n",
    "entrar=driver.find_element_by_xpath('//*[@id=\"player\"]/div[2]/div[1]')\n",
    "entrar.click()\n",
    "\n",
    "\n",
    "# cambiar de frame, de html\n",
    "iframe=driver.find_element_by_xpath('//*[@id=\"video-embed\"]')\n",
    "\n",
    "driver.switch_to.frame(iframe)\n",
    "\n",
    "time.sleep(3)\n",
    "\n",
    "iframe=driver.find_element_by_xpath('/html/body/iframe[1]')\n",
    "\n",
    "driver.switch_to.frame(iframe)\n",
    "\n",
    "time.sleep(2)\n",
    "\n",
    "# darle al play\n",
    "play=driver.find_element_by_xpath('//*[@id=\"mediaplayer\"]/div[2]/div[13]/div[1]/div')\n",
    "AC(driver).double_click(play).perform()\n",
    "\n",
    "time.sleep(2)\n",
    "driver.switch_to.window(driver.window_handles[1])\n",
    "driver.close()\n",
    "driver.switch_to.window(driver.window_handles[0])\n",
    "\n",
    "iframe=driver.find_element_by_xpath('//*[@id=\"video-embed\"]')\n",
    "driver.switch_to.frame(iframe)\n",
    "\n",
    "time.sleep(2)\n",
    "iframe=driver.find_element_by_xpath('/html/body/iframe[1]')\n",
    "driver.switch_to.frame(iframe)\n",
    "\n",
    "time.sleep(2)\n",
    "play=driver.find_element_by_xpath('//*[@id=\"mediaplayer\"]/div[2]/div[13]/div[1]/div')\n",
    "AC(driver).double_click(play).perform()\n",
    "\n",
    "time.sleep(2)\n",
    "try:\n",
    "    driver.switch_to.window(driver.window_handles[1])\n",
    "    driver.close()\n",
    "    driver.switch_to.window(driver.window_handles[0])\n",
    "except:\n",
    "    print('ya')\n",
    "    \n",
    "# poner pantalla completa\n",
    "video=driver.find_element_by_xpath('//*[@id=\"mediaplayer\"]/div[2]/div[4]/video')\n",
    "\n",
    "AC(driver).double_click(video).perform()\n",
    "\n",
    "# ahora si al play\n",
    "time.sleep(8)\n",
    "driver.find_element_by_xpath('//*[@id=\"mediaplayer\"]/div[2]/div[13]/div[4]/div[2]/div[1]').click()\n",
    "\n",
    "tiempo=driver.find_element_by_xpath('//*[@id=\"mediaplayer\"]/div[2]/div[13]/div[4]/div[2]/div[10]').text\n",
    "time.sleep(5)\n",
    "\n",
    "if tiempo==driver.find_element_by_xpath('//*[@id=\"mediaplayer\"]/div[2]/div[13]/div[4]/div[2]/div[10]').text:\n",
    "    driver.find_element_by_xpath('//*[@id=\"mediaplayer\"]/div[2]/div[13]/div[4]/div[2]/div[1]').click()\n",
    "\n",
    "\n",
    "# medir tiempo y cambio de capitulo\n",
    "# lo sacais si quereis"
   ]
  },
  {
   "cell_type": "code",
   "execution_count": null,
   "metadata": {},
   "outputs": [],
   "source": [
    "#driver.quit()"
   ]
  },
  {
   "cell_type": "code",
   "execution_count": null,
   "metadata": {},
   "outputs": [],
   "source": []
  }
 ],
 "metadata": {
  "finalized": {
   "timestamp": 1618416077763,
   "trusted": true
  },
  "kernelspec": {
   "display_name": "clase",
   "language": "python",
   "name": "clase"
  },
  "language_info": {
   "codemirror_mode": {
    "name": "ipython",
    "version": 3
   },
   "file_extension": ".py",
   "mimetype": "text/x-python",
   "name": "python",
   "nbconvert_exporter": "python",
   "pygments_lexer": "ipython3",
   "version": "3.9.7"
  },
  "varInspector": {
   "cols": {
    "lenName": 16,
    "lenType": 16,
    "lenVar": 40
   },
   "kernels_config": {
    "python": {
     "delete_cmd_postfix": "",
     "delete_cmd_prefix": "del ",
     "library": "var_list.py",
     "varRefreshCmd": "print(var_dic_list())"
    },
    "r": {
     "delete_cmd_postfix": ") ",
     "delete_cmd_prefix": "rm(",
     "library": "var_list.r",
     "varRefreshCmd": "cat(var_dic_list()) "
    }
   },
   "types_to_exclude": [
    "module",
    "function",
    "builtin_function_or_method",
    "instance",
    "_Feature"
   ],
   "window_display": false
  }
 },
 "nbformat": 4,
 "nbformat_minor": 4
}
