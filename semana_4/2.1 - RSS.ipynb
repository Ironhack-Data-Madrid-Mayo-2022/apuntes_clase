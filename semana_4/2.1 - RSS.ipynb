{
 "cells": [
  {
   "cell_type": "markdown",
   "metadata": {},
   "source": [
    "# 2.1 - RSS\n",
    "\n",
    "$$$$\n",
    "\n",
    "![rss](images/rss.png)\n",
    "\n"
   ]
  },
  {
   "cell_type": "markdown",
   "metadata": {},
   "source": [
    "RSS son las siglas de **Really Simple Syndication**, un formato XML para distribuir contenido en la web. Se utiliza para difundir información actualizada frecuentemente a usuarios que se han suscrito a la fuente de contenidos. El formato permite distribuir contenidos sin necesidad de un navegador, utilizando programas llamados agregadores de noticias, diseñados para leer contenidos RSS. A pesar de eso, es posible utilizar el mismo navegador para ver los contenidos RSS. Las últimas versiones de los principales navegadores permiten leer los RSS sin necesidad de programas adicionales. RSS es parte de la familia de los formatos XML, desarrollado específicamente para todo tipo de sitios que se actualicen con frecuencia y por medio del cual se puede compartir la información y usarla en otros sitios web o programas. A esto se le conoce como redifusión web o sindicación web .\n",
    "\n",
    "\n",
    "En el archivo RSS simplemente están los datos de las novedades del sitio, como el título, fecha de publicación o la descripción. El programa que lea el RSS será encargado de darle estilo o apariencia a los datos que se incluyan en el archivo y presentarlos de una manera atractiva al usuario y de fácil lectura.\n",
    "\n",
    "Que RSS sea un formato basado en XML significa que el archivo RSS se compone por una serie de etiquetas definidas que tendrán un formato dado, y que respetará las reglas generales de XML. Este archivo normalmente es nombrado index.xml y se encuentra ubicado en la página principal.\n",
    "\n",
    "Vale aclarar que RSS no es un protocolo, dado que no contempla parámetros de ningún tipo. No es posible definir mediante una consulta un criterio de búsqueda. \n"
   ]
  },
  {
   "cell_type": "markdown",
   "metadata": {},
   "source": [
    "## Trabajando con RSS\n",
    "\n",
    "Normalmente, el feed del RSS corresponde a un archivo con la extensión .rss. Tenemos una herramienta perfecta para manejar ese tipo de feed."
   ]
  },
  {
   "cell_type": "code",
   "execution_count": 1,
   "metadata": {},
   "outputs": [
    {
     "name": "stdout",
     "output_type": "stream",
     "text": [
      "Requirement already satisfied: feedparser in /Users/iudh/miniforge3/envs/clase/lib/python3.9/site-packages (6.0.8)\n",
      "Requirement already satisfied: sgmllib3k in /Users/iudh/miniforge3/envs/clase/lib/python3.9/site-packages (from feedparser) (1.0.0)\n",
      "Note: you may need to restart the kernel to use updated packages.\n"
     ]
    }
   ],
   "source": [
    "%pip install feedparser"
   ]
  },
  {
   "cell_type": "code",
   "execution_count": 2,
   "metadata": {},
   "outputs": [],
   "source": [
    "import feedparser"
   ]
  },
  {
   "cell_type": "markdown",
   "metadata": {},
   "source": [
    "### Reddit RSS\n",
    "\n",
    "Para extraer el contenido, tan solo pasamos la url del RSS al feedparser."
   ]
  },
  {
   "cell_type": "code",
   "execution_count": 3,
   "metadata": {},
   "outputs": [],
   "source": [
    "reddit=feedparser.parse('https://www.reddit.com/r/news/.rss')"
   ]
  },
  {
   "cell_type": "code",
   "execution_count": 4,
   "metadata": {},
   "outputs": [
    {
     "data": {
      "text/plain": [
       "feedparser.util.FeedParserDict"
      ]
     },
     "execution_count": 4,
     "metadata": {},
     "output_type": "execute_result"
    }
   ],
   "source": [
    "type(reddit)"
   ]
  },
  {
   "cell_type": "code",
   "execution_count": 5,
   "metadata": {},
   "outputs": [
    {
     "data": {
      "text/plain": [
       "dict_keys(['bozo', 'entries', 'feed', 'headers', 'href', 'status', 'encoding', 'version', 'namespaces'])"
      ]
     },
     "execution_count": 5,
     "metadata": {},
     "output_type": "execute_result"
    }
   ],
   "source": [
    "reddit.keys()"
   ]
  },
  {
   "cell_type": "code",
   "execution_count": 8,
   "metadata": {},
   "outputs": [
    {
     "data": {
      "text/plain": [
       "dict_keys(['tags', 'updated', 'updated_parsed', 'icon', 'id', 'guidislink', 'link', 'links', 'logo', 'subtitle', 'subtitle_detail', 'title', 'title_detail'])"
      ]
     },
     "execution_count": 8,
     "metadata": {},
     "output_type": "execute_result"
    }
   ],
   "source": [
    "reddit['feed'].keys()"
   ]
  },
  {
   "cell_type": "code",
   "execution_count": 11,
   "metadata": {},
   "outputs": [
    {
     "data": {
      "text/plain": [
       "dict_keys(['authors', 'author_detail', 'href', 'author', 'tags', 'content', 'summary', 'id', 'guidislink', 'link', 'links', 'updated', 'updated_parsed', 'published', 'published_parsed', 'title', 'title_detail'])"
      ]
     },
     "execution_count": 11,
     "metadata": {},
     "output_type": "execute_result"
    }
   ],
   "source": [
    "reddit['entries'][0].keys()"
   ]
  },
  {
   "cell_type": "code",
   "execution_count": 12,
   "metadata": {},
   "outputs": [
    {
     "data": {
      "text/plain": [
       "[{'type': 'text/html',\n",
       "  'language': None,\n",
       "  'base': 'https://www.reddit.com/r/news/.rss',\n",
       "  'value': '&#32; submitted by &#32; <a href=\"https://www.reddit.com/user/SophiaHuffC\"> /u/SophiaHuffC </a> <br /> <span><a href=\"https://www.reuters.com/world/elon-musks-child-seeks-name-change-sever-ties-with-father-2022-06-21/\">[link]</a></span> &#32; <span><a href=\"https://www.reddit.com/r/news/comments/vh13qb/elon_musks_child_seeks_name_change_to_sever_ties/\">[comments]</a></span>'}]"
      ]
     },
     "execution_count": 12,
     "metadata": {},
     "output_type": "execute_result"
    }
   ],
   "source": [
    "reddit['entries'][0]['content']"
   ]
  },
  {
   "cell_type": "markdown",
   "metadata": {},
   "source": [
    "### [Nasa](https://www.nasa.gov/content/nasa-rss-feeds) RSS"
   ]
  },
  {
   "cell_type": "code",
   "execution_count": 13,
   "metadata": {},
   "outputs": [],
   "source": [
    "nasa=feedparser.parse('https://www.nasa.gov/rss/dyn/mission_pages/kepler/news/kepler-newsandfeatures-RSS.rss')"
   ]
  },
  {
   "cell_type": "code",
   "execution_count": 15,
   "metadata": {},
   "outputs": [
    {
     "data": {
      "text/plain": [
       "dict_keys(['bozo', 'entries', 'feed', 'headers', 'href', 'status', 'encoding', 'version', 'namespaces'])"
      ]
     },
     "execution_count": 15,
     "metadata": {},
     "output_type": "execute_result"
    }
   ],
   "source": [
    "nasa.keys()"
   ]
  },
  {
   "cell_type": "code",
   "execution_count": 21,
   "metadata": {},
   "outputs": [
    {
     "data": {
      "text/plain": [
       "'http://www.nasa.gov/sites/default/files/styles/1x1_cardfeed/public/thumbnails/image/exoplanet_banner_1.gif?itok=L3rCP01p'"
      ]
     },
     "execution_count": 21,
     "metadata": {},
     "output_type": "execute_result"
    }
   ],
   "source": [
    "nasa['entries'][0]['links'][-1]['href']"
   ]
  },
  {
   "cell_type": "code",
   "execution_count": 23,
   "metadata": {},
   "outputs": [
    {
     "data": {
      "text/html": [
       "<img src=\"http://www.nasa.gov/sites/default/files/styles/1x1_cardfeed/public/thumbnails/image/exoplanet_banner_1.gif?itok=L3rCP01p\"/>"
      ],
      "text/plain": [
       "<IPython.core.display.Image object>"
      ]
     },
     "metadata": {},
     "output_type": "display_data"
    }
   ],
   "source": [
    "from IPython.display import Image\n",
    "\n",
    "display(Image(url=nasa['entries'][0]['links'][-1]['href']))"
   ]
  },
  {
   "cell_type": "markdown",
   "metadata": {},
   "source": [
    "### [ForexLive](https://www.forexlive.com/rss) RSS"
   ]
  },
  {
   "cell_type": "code",
   "execution_count": 24,
   "metadata": {},
   "outputs": [],
   "source": [
    "crypto=feedparser.parse('https://www.forexlive.com/feed/cryptocurrency')"
   ]
  },
  {
   "cell_type": "code",
   "execution_count": 25,
   "metadata": {},
   "outputs": [
    {
     "data": {
      "text/plain": [
       "dict_keys(['bozo', 'entries', 'feed', 'headers', 'etag', 'href', 'status', 'encoding', 'version', 'namespaces'])"
      ]
     },
     "execution_count": 25,
     "metadata": {},
     "output_type": "execute_result"
    }
   ],
   "source": [
    "crypto.keys()"
   ]
  },
  {
   "cell_type": "code",
   "execution_count": 27,
   "metadata": {
    "scrolled": false
   },
   "outputs": [
    {
     "data": {
      "text/plain": [
       "dict_keys(['title', 'title_detail', 'comments', 'published', 'published_parsed', 'authors', 'author', 'author_detail', 'tags', 'id', 'guidislink', 'link', 'links', 'summary', 'summary_detail'])"
      ]
     },
     "execution_count": 27,
     "metadata": {},
     "output_type": "execute_result"
    }
   ],
   "source": [
    "crypto['entries'][0].keys()"
   ]
  },
  {
   "cell_type": "markdown",
   "metadata": {},
   "source": [
    "### [Unam](http://www.ssn.unam.mx) RSS\n",
    "\n",
    "A veces el RSS viene directamente en formato .xml\n",
    "\n",
    "Veremos como tratarlo."
   ]
  },
  {
   "cell_type": "code",
   "execution_count": 28,
   "metadata": {},
   "outputs": [
    {
     "name": "stdout",
     "output_type": "stream",
     "text": [
      "Requirement already satisfied: xmltodict in /Users/iudh/miniforge3/envs/clase/lib/python3.9/site-packages (0.12.0)\n",
      "Note: you may need to restart the kernel to use updated packages.\n"
     ]
    }
   ],
   "source": [
    "%pip install xmltodict"
   ]
  },
  {
   "cell_type": "code",
   "execution_count": 29,
   "metadata": {},
   "outputs": [],
   "source": [
    "import requests as req\n",
    "import xmltodict"
   ]
  },
  {
   "cell_type": "code",
   "execution_count": 34,
   "metadata": {},
   "outputs": [],
   "source": [
    "url='http://www.ssn.unam.mx/rss/ultimos-sismos.xml'\n",
    "\n",
    "data=req.get(url).text\n",
    "\n",
    "unam=xmltodict.parse(data)"
   ]
  },
  {
   "cell_type": "code",
   "execution_count": 36,
   "metadata": {},
   "outputs": [
    {
     "data": {
      "text/plain": [
       "odict_keys(['rss'])"
      ]
     },
     "execution_count": 36,
     "metadata": {},
     "output_type": "execute_result"
    }
   ],
   "source": [
    "unam.keys()"
   ]
  },
  {
   "cell_type": "code",
   "execution_count": 43,
   "metadata": {},
   "outputs": [
    {
     "data": {
      "text/plain": [
       "'http://www2.ssn.unam.mx:8080/jsp/localizacion-de-sismo.jsp?latitud=30.35&longitud=-109.54&prf=5.0 km&ma=4.0&fecha=2022-06-20&hora=18:34:54&loc=14 km al ESTE de  NACOZARI DE GARCIA, SON &evento=1'"
      ]
     },
     "execution_count": 43,
     "metadata": {},
     "output_type": "execute_result"
    }
   ],
   "source": [
    "unam['rss']['channel']['item'][0]['link']"
   ]
  },
  {
   "cell_type": "code",
   "execution_count": 44,
   "metadata": {},
   "outputs": [
    {
     "data": {
      "text/plain": [
       "15"
      ]
     },
     "execution_count": 44,
     "metadata": {},
     "output_type": "execute_result"
    }
   ],
   "source": [
    "len(unam['rss']['channel']['item'])"
   ]
  },
  {
   "cell_type": "markdown",
   "metadata": {},
   "source": [
    "También podemos pasar los datos a un dataframe:"
   ]
  },
  {
   "cell_type": "code",
   "execution_count": 45,
   "metadata": {},
   "outputs": [],
   "source": [
    "import pandas as pd"
   ]
  },
  {
   "cell_type": "code",
   "execution_count": 46,
   "metadata": {},
   "outputs": [
    {
     "data": {
      "text/html": [
       "<div>\n",
       "<style scoped>\n",
       "    .dataframe tbody tr th:only-of-type {\n",
       "        vertical-align: middle;\n",
       "    }\n",
       "\n",
       "    .dataframe tbody tr th {\n",
       "        vertical-align: top;\n",
       "    }\n",
       "\n",
       "    .dataframe thead th {\n",
       "        text-align: right;\n",
       "    }\n",
       "</style>\n",
       "<table border=\"1\" class=\"dataframe\">\n",
       "  <thead>\n",
       "    <tr style=\"text-align: right;\">\n",
       "      <th></th>\n",
       "      <th>title</th>\n",
       "      <th>description</th>\n",
       "      <th>link</th>\n",
       "      <th>geo:lat</th>\n",
       "      <th>geo:long</th>\n",
       "    </tr>\n",
       "  </thead>\n",
       "  <tbody>\n",
       "    <tr>\n",
       "      <th>0</th>\n",
       "      <td>4.0, 14 km al ESTE de  NACOZARI DE GARCIA, SON</td>\n",
       "      <td>&lt;p&gt;Fecha:2022-06-20 18:34:54 (Hora de M&amp;eacute...</td>\n",
       "      <td>http://www2.ssn.unam.mx:8080/jsp/localizacion-...</td>\n",
       "      <td>30.35</td>\n",
       "      <td>-109.54</td>\n",
       "    </tr>\n",
       "    <tr>\n",
       "      <th>1</th>\n",
       "      <td>3.6, 26 km al OESTE de  COQUIMATLAN, COL</td>\n",
       "      <td>&lt;p&gt;Fecha:2022-06-20 16:46:06 (Hora de M&amp;eacute...</td>\n",
       "      <td>http://www2.ssn.unam.mx:8080/jsp/localizacion-...</td>\n",
       "      <td>19.19</td>\n",
       "      <td>-104.06</td>\n",
       "    </tr>\n",
       "    <tr>\n",
       "      <th>2</th>\n",
       "      <td>3.3, 47 km al SUR de  UNION HIDALGO, OAX</td>\n",
       "      <td>&lt;p&gt;Fecha:2022-06-20 16:20:20 (Hora de M&amp;eacute...</td>\n",
       "      <td>http://www2.ssn.unam.mx:8080/jsp/localizacion-...</td>\n",
       "      <td>16.06</td>\n",
       "      <td>-94.76</td>\n",
       "    </tr>\n",
       "    <tr>\n",
       "      <th>3</th>\n",
       "      <td>3.0, 35 km al NORESTE de  ACAPULCO, GRO</td>\n",
       "      <td>&lt;p&gt;Fecha:2022-06-20 16:13:48 (Hora de M&amp;eacute...</td>\n",
       "      <td>http://www2.ssn.unam.mx:8080/jsp/localizacion-...</td>\n",
       "      <td>17.04</td>\n",
       "      <td>-99.62</td>\n",
       "    </tr>\n",
       "    <tr>\n",
       "      <th>4</th>\n",
       "      <td>3.5, 66 km al SUR de  TECOMAN, COL</td>\n",
       "      <td>&lt;p&gt;Fecha:2022-06-20 14:28:23 (Hora de M&amp;eacute...</td>\n",
       "      <td>http://www2.ssn.unam.mx:8080/jsp/localizacion-...</td>\n",
       "      <td>18.31</td>\n",
       "      <td>-103.85</td>\n",
       "    </tr>\n",
       "    <tr>\n",
       "      <th>5</th>\n",
       "      <td>3.4, 7 km al SURESTE de  ARRIAGA , CHIS</td>\n",
       "      <td>&lt;p&gt;Fecha:2022-06-20 14:11:43 (Hora de M&amp;eacute...</td>\n",
       "      <td>http://www2.ssn.unam.mx:8080/jsp/localizacion-...</td>\n",
       "      <td>16.2</td>\n",
       "      <td>-93.85</td>\n",
       "    </tr>\n",
       "    <tr>\n",
       "      <th>6</th>\n",
       "      <td>3.8, 18 km al NORESTE de  RIO GRANDE, OAX</td>\n",
       "      <td>&lt;p&gt;Fecha:2022-06-20 13:48:54 (Hora de M&amp;eacute...</td>\n",
       "      <td>http://www2.ssn.unam.mx:8080/jsp/localizacion-...</td>\n",
       "      <td>16.1</td>\n",
       "      <td>-97.29</td>\n",
       "    </tr>\n",
       "    <tr>\n",
       "      <th>7</th>\n",
       "      <td>3.6, 26 km al NORTE de  GPE VICTORIA(KM.43), BC</td>\n",
       "      <td>&lt;p&gt;Fecha:2022-06-20 13:27:19 (Hora de M&amp;eacute...</td>\n",
       "      <td>http://www2.ssn.unam.mx:8080/jsp/localizacion-...</td>\n",
       "      <td>32.52</td>\n",
       "      <td>-115.13</td>\n",
       "    </tr>\n",
       "    <tr>\n",
       "      <th>8</th>\n",
       "      <td>3.2, 30 km al NORTE de  VILLA DE ALVAREZ, COL</td>\n",
       "      <td>&lt;p&gt;Fecha:2022-06-20 12:46:55 (Hora de M&amp;eacute...</td>\n",
       "      <td>http://www2.ssn.unam.mx:8080/jsp/localizacion-...</td>\n",
       "      <td>19.54</td>\n",
       "      <td>-103.74</td>\n",
       "    </tr>\n",
       "    <tr>\n",
       "      <th>9</th>\n",
       "      <td>3.8, 8 km al SURESTE de  S PEDRO POCHUTLA, OAX</td>\n",
       "      <td>&lt;p&gt;Fecha:2022-06-20 11:51:59 (Hora de M&amp;eacute...</td>\n",
       "      <td>http://www2.ssn.unam.mx:8080/jsp/localizacion-...</td>\n",
       "      <td>15.7</td>\n",
       "      <td>-96.4</td>\n",
       "    </tr>\n",
       "    <tr>\n",
       "      <th>10</th>\n",
       "      <td>3.5, 64 km al NORESTE de  SANTA ROSALIA, BCS</td>\n",
       "      <td>&lt;p&gt;Fecha:2022-06-20 11:45:24 (Hora de M&amp;eacute...</td>\n",
       "      <td>http://www2.ssn.unam.mx:8080/jsp/localizacion-...</td>\n",
       "      <td>27.83</td>\n",
       "      <td>-111.93</td>\n",
       "    </tr>\n",
       "    <tr>\n",
       "      <th>11</th>\n",
       "      <td>3.5, 27 km al SURESTE de  CASIMIRO CASTILLO, JAL</td>\n",
       "      <td>&lt;p&gt;Fecha:2022-06-20 11:22:19 (Hora de M&amp;eacute...</td>\n",
       "      <td>http://www2.ssn.unam.mx:8080/jsp/localizacion-...</td>\n",
       "      <td>19.4</td>\n",
       "      <td>-104.3</td>\n",
       "    </tr>\n",
       "    <tr>\n",
       "      <th>12</th>\n",
       "      <td>3.7, 21 km al SUROESTE de  PINOTEPA NACIONAL, OAX</td>\n",
       "      <td>&lt;p&gt;Fecha:2022-06-20 10:42:20 (Hora de M&amp;eacute...</td>\n",
       "      <td>http://www2.ssn.unam.mx:8080/jsp/localizacion-...</td>\n",
       "      <td>16.27</td>\n",
       "      <td>-98.24</td>\n",
       "    </tr>\n",
       "    <tr>\n",
       "      <th>13</th>\n",
       "      <td>3.3, 32 km al NORESTE de  ACAPULCO, GRO</td>\n",
       "      <td>&lt;p&gt;Fecha:2022-06-20 09:50:44 (Hora de M&amp;eacute...</td>\n",
       "      <td>http://www2.ssn.unam.mx:8080/jsp/localizacion-...</td>\n",
       "      <td>17.14</td>\n",
       "      <td>-99.8</td>\n",
       "    </tr>\n",
       "    <tr>\n",
       "      <th>14</th>\n",
       "      <td>3.6, 84 km al SUROESTE de  HUIXTLA, CHIS</td>\n",
       "      <td>&lt;p&gt;Fecha:2022-06-20 09:42:08 (Hora de M&amp;eacute...</td>\n",
       "      <td>http://www2.ssn.unam.mx:8080/jsp/localizacion-...</td>\n",
       "      <td>14.67</td>\n",
       "      <td>-93.08</td>\n",
       "    </tr>\n",
       "  </tbody>\n",
       "</table>\n",
       "</div>"
      ],
      "text/plain": [
       "                                                title  \\\n",
       "0      4.0, 14 km al ESTE de  NACOZARI DE GARCIA, SON   \n",
       "1            3.6, 26 km al OESTE de  COQUIMATLAN, COL   \n",
       "2            3.3, 47 km al SUR de  UNION HIDALGO, OAX   \n",
       "3             3.0, 35 km al NORESTE de  ACAPULCO, GRO   \n",
       "4                  3.5, 66 km al SUR de  TECOMAN, COL   \n",
       "5             3.4, 7 km al SURESTE de  ARRIAGA , CHIS   \n",
       "6           3.8, 18 km al NORESTE de  RIO GRANDE, OAX   \n",
       "7     3.6, 26 km al NORTE de  GPE VICTORIA(KM.43), BC   \n",
       "8       3.2, 30 km al NORTE de  VILLA DE ALVAREZ, COL   \n",
       "9      3.8, 8 km al SURESTE de  S PEDRO POCHUTLA, OAX   \n",
       "10       3.5, 64 km al NORESTE de  SANTA ROSALIA, BCS   \n",
       "11   3.5, 27 km al SURESTE de  CASIMIRO CASTILLO, JAL   \n",
       "12  3.7, 21 km al SUROESTE de  PINOTEPA NACIONAL, OAX   \n",
       "13            3.3, 32 km al NORESTE de  ACAPULCO, GRO   \n",
       "14           3.6, 84 km al SUROESTE de  HUIXTLA, CHIS   \n",
       "\n",
       "                                          description  \\\n",
       "0   <p>Fecha:2022-06-20 18:34:54 (Hora de M&eacute...   \n",
       "1   <p>Fecha:2022-06-20 16:46:06 (Hora de M&eacute...   \n",
       "2   <p>Fecha:2022-06-20 16:20:20 (Hora de M&eacute...   \n",
       "3   <p>Fecha:2022-06-20 16:13:48 (Hora de M&eacute...   \n",
       "4   <p>Fecha:2022-06-20 14:28:23 (Hora de M&eacute...   \n",
       "5   <p>Fecha:2022-06-20 14:11:43 (Hora de M&eacute...   \n",
       "6   <p>Fecha:2022-06-20 13:48:54 (Hora de M&eacute...   \n",
       "7   <p>Fecha:2022-06-20 13:27:19 (Hora de M&eacute...   \n",
       "8   <p>Fecha:2022-06-20 12:46:55 (Hora de M&eacute...   \n",
       "9   <p>Fecha:2022-06-20 11:51:59 (Hora de M&eacute...   \n",
       "10  <p>Fecha:2022-06-20 11:45:24 (Hora de M&eacute...   \n",
       "11  <p>Fecha:2022-06-20 11:22:19 (Hora de M&eacute...   \n",
       "12  <p>Fecha:2022-06-20 10:42:20 (Hora de M&eacute...   \n",
       "13  <p>Fecha:2022-06-20 09:50:44 (Hora de M&eacute...   \n",
       "14  <p>Fecha:2022-06-20 09:42:08 (Hora de M&eacute...   \n",
       "\n",
       "                                                 link geo:lat geo:long  \n",
       "0   http://www2.ssn.unam.mx:8080/jsp/localizacion-...   30.35  -109.54  \n",
       "1   http://www2.ssn.unam.mx:8080/jsp/localizacion-...   19.19  -104.06  \n",
       "2   http://www2.ssn.unam.mx:8080/jsp/localizacion-...   16.06   -94.76  \n",
       "3   http://www2.ssn.unam.mx:8080/jsp/localizacion-...   17.04   -99.62  \n",
       "4   http://www2.ssn.unam.mx:8080/jsp/localizacion-...   18.31  -103.85  \n",
       "5   http://www2.ssn.unam.mx:8080/jsp/localizacion-...    16.2   -93.85  \n",
       "6   http://www2.ssn.unam.mx:8080/jsp/localizacion-...    16.1   -97.29  \n",
       "7   http://www2.ssn.unam.mx:8080/jsp/localizacion-...   32.52  -115.13  \n",
       "8   http://www2.ssn.unam.mx:8080/jsp/localizacion-...   19.54  -103.74  \n",
       "9   http://www2.ssn.unam.mx:8080/jsp/localizacion-...    15.7    -96.4  \n",
       "10  http://www2.ssn.unam.mx:8080/jsp/localizacion-...   27.83  -111.93  \n",
       "11  http://www2.ssn.unam.mx:8080/jsp/localizacion-...    19.4   -104.3  \n",
       "12  http://www2.ssn.unam.mx:8080/jsp/localizacion-...   16.27   -98.24  \n",
       "13  http://www2.ssn.unam.mx:8080/jsp/localizacion-...   17.14    -99.8  \n",
       "14  http://www2.ssn.unam.mx:8080/jsp/localizacion-...   14.67   -93.08  "
      ]
     },
     "execution_count": 46,
     "metadata": {},
     "output_type": "execute_result"
    }
   ],
   "source": [
    "pd.DataFrame(unam['rss']['channel']['item'])"
   ]
  },
  {
   "cell_type": "markdown",
   "metadata": {},
   "source": [
    "Como vemos, los datos no están organizados como nos gustaría. Procedemos a un ejemplo de transformación de los datos.\n",
    "\n"
   ]
  },
  {
   "cell_type": "markdown",
   "metadata": {},
   "source": [
    "**Ejemplo Extraer-Transformar de manera funcional:**"
   ]
  },
  {
   "cell_type": "code",
   "execution_count": 47,
   "metadata": {},
   "outputs": [],
   "source": [
    "# funcion para extraer el dict del rss\n",
    "\n",
    "def get_xml():\n",
    "    \n",
    "    url='http://www.ssn.unam.mx/rss/ultimos-sismos.xml'\n",
    "\n",
    "    data=req.get(url).text\n",
    "\n",
    "    return xmltodict.parse(data)"
   ]
  },
  {
   "cell_type": "code",
   "execution_count": 56,
   "metadata": {},
   "outputs": [],
   "source": [
    "# funcion para extraer y transformar\n",
    "\n",
    "def get_clean_data():\n",
    "    \n",
    "    dictio=get_xml()\n",
    "    \n",
    "    res=[]\n",
    "    \n",
    "    for item in dictio['rss']['channel']['item']:\n",
    "        \n",
    "        link=item['link']\n",
    "        \n",
    "        raw_data=link.split('?')[1].split('&')  # lista de strings, todas tienen el simbolo =\n",
    "        \n",
    "        data=[d.split('=') for d in raw_data]\n",
    "        \n",
    "        data={k:v for k,v in data}\n",
    "        \n",
    "        res.append(data)\n",
    "        \n",
    "    return res"
   ]
  },
  {
   "cell_type": "code",
   "execution_count": 58,
   "metadata": {},
   "outputs": [],
   "source": [
    "sismo_data=pd.DataFrame(get_clean_data())"
   ]
  },
  {
   "cell_type": "code",
   "execution_count": 60,
   "metadata": {},
   "outputs": [],
   "source": [
    "sismo_data.prf = sismo_data.prf.apply(lambda x: float(x.split(' ')[0]))"
   ]
  },
  {
   "cell_type": "code",
   "execution_count": 61,
   "metadata": {},
   "outputs": [
    {
     "data": {
      "text/html": [
       "<div>\n",
       "<style scoped>\n",
       "    .dataframe tbody tr th:only-of-type {\n",
       "        vertical-align: middle;\n",
       "    }\n",
       "\n",
       "    .dataframe tbody tr th {\n",
       "        vertical-align: top;\n",
       "    }\n",
       "\n",
       "    .dataframe thead th {\n",
       "        text-align: right;\n",
       "    }\n",
       "</style>\n",
       "<table border=\"1\" class=\"dataframe\">\n",
       "  <thead>\n",
       "    <tr style=\"text-align: right;\">\n",
       "      <th></th>\n",
       "      <th>latitud</th>\n",
       "      <th>longitud</th>\n",
       "      <th>prf</th>\n",
       "      <th>ma</th>\n",
       "      <th>fecha</th>\n",
       "      <th>hora</th>\n",
       "      <th>loc</th>\n",
       "      <th>evento</th>\n",
       "    </tr>\n",
       "  </thead>\n",
       "  <tbody>\n",
       "    <tr>\n",
       "      <th>0</th>\n",
       "      <td>13.89</td>\n",
       "      <td>-93.12</td>\n",
       "      <td>5.0</td>\n",
       "      <td>4.1</td>\n",
       "      <td>2022-06-21</td>\n",
       "      <td>03:31:52</td>\n",
       "      <td>135 km al SUROESTE de  CD HIDALGO, CHIS</td>\n",
       "      <td>1</td>\n",
       "    </tr>\n",
       "    <tr>\n",
       "      <th>1</th>\n",
       "      <td>30.35</td>\n",
       "      <td>-109.54</td>\n",
       "      <td>5.0</td>\n",
       "      <td>4.0</td>\n",
       "      <td>2022-06-20</td>\n",
       "      <td>18:34:54</td>\n",
       "      <td>14 km al ESTE de  NACOZARI DE GARCIA, SON</td>\n",
       "      <td>1</td>\n",
       "    </tr>\n",
       "    <tr>\n",
       "      <th>2</th>\n",
       "      <td>19.19</td>\n",
       "      <td>-104.06</td>\n",
       "      <td>2.0</td>\n",
       "      <td>3.6</td>\n",
       "      <td>2022-06-20</td>\n",
       "      <td>16:46:06</td>\n",
       "      <td>26 km al OESTE de  COQUIMATLAN, COL</td>\n",
       "      <td>1</td>\n",
       "    </tr>\n",
       "    <tr>\n",
       "      <th>3</th>\n",
       "      <td>16.06</td>\n",
       "      <td>-94.76</td>\n",
       "      <td>11.0</td>\n",
       "      <td>3.3</td>\n",
       "      <td>2022-06-20</td>\n",
       "      <td>16:20:20</td>\n",
       "      <td>47 km al SUR de  UNION HIDALGO, OAX</td>\n",
       "      <td>1</td>\n",
       "    </tr>\n",
       "    <tr>\n",
       "      <th>4</th>\n",
       "      <td>17.04</td>\n",
       "      <td>-99.62</td>\n",
       "      <td>37.0</td>\n",
       "      <td>3.0</td>\n",
       "      <td>2022-06-20</td>\n",
       "      <td>16:13:48</td>\n",
       "      <td>35 km al NORESTE de  ACAPULCO, GRO</td>\n",
       "      <td>1</td>\n",
       "    </tr>\n",
       "    <tr>\n",
       "      <th>5</th>\n",
       "      <td>18.31</td>\n",
       "      <td>-103.85</td>\n",
       "      <td>18.0</td>\n",
       "      <td>3.5</td>\n",
       "      <td>2022-06-20</td>\n",
       "      <td>14:28:23</td>\n",
       "      <td>66 km al SUR de  TECOMAN, COL</td>\n",
       "      <td>1</td>\n",
       "    </tr>\n",
       "    <tr>\n",
       "      <th>6</th>\n",
       "      <td>16.2</td>\n",
       "      <td>-93.85</td>\n",
       "      <td>102.0</td>\n",
       "      <td>3.4</td>\n",
       "      <td>2022-06-20</td>\n",
       "      <td>14:11:43</td>\n",
       "      <td>7 km al SURESTE de  ARRIAGA , CHIS</td>\n",
       "      <td>1</td>\n",
       "    </tr>\n",
       "    <tr>\n",
       "      <th>7</th>\n",
       "      <td>16.1</td>\n",
       "      <td>-97.29</td>\n",
       "      <td>11.0</td>\n",
       "      <td>3.8</td>\n",
       "      <td>2022-06-20</td>\n",
       "      <td>13:48:54</td>\n",
       "      <td>18 km al NORESTE de  RIO GRANDE, OAX</td>\n",
       "      <td>1</td>\n",
       "    </tr>\n",
       "    <tr>\n",
       "      <th>8</th>\n",
       "      <td>32.52</td>\n",
       "      <td>-115.13</td>\n",
       "      <td>6.0</td>\n",
       "      <td>3.6</td>\n",
       "      <td>2022-06-20</td>\n",
       "      <td>13:27:19</td>\n",
       "      <td>26 km al NORTE de  GPE VICTORIA(KM.43), BC</td>\n",
       "      <td>1</td>\n",
       "    </tr>\n",
       "    <tr>\n",
       "      <th>9</th>\n",
       "      <td>19.54</td>\n",
       "      <td>-103.74</td>\n",
       "      <td>33.0</td>\n",
       "      <td>3.2</td>\n",
       "      <td>2022-06-20</td>\n",
       "      <td>12:46:55</td>\n",
       "      <td>30 km al NORTE de  VILLA DE ALVAREZ, COL</td>\n",
       "      <td>1</td>\n",
       "    </tr>\n",
       "    <tr>\n",
       "      <th>10</th>\n",
       "      <td>15.7</td>\n",
       "      <td>-96.4</td>\n",
       "      <td>33.0</td>\n",
       "      <td>3.8</td>\n",
       "      <td>2022-06-20</td>\n",
       "      <td>11:51:59</td>\n",
       "      <td>8 km al SURESTE de  S PEDRO POCHUTLA, OAX</td>\n",
       "      <td>1</td>\n",
       "    </tr>\n",
       "    <tr>\n",
       "      <th>11</th>\n",
       "      <td>27.83</td>\n",
       "      <td>-111.93</td>\n",
       "      <td>8.0</td>\n",
       "      <td>3.5</td>\n",
       "      <td>2022-06-20</td>\n",
       "      <td>11:45:24</td>\n",
       "      <td>64 km al NORESTE de  SANTA ROSALIA, BCS</td>\n",
       "      <td>1</td>\n",
       "    </tr>\n",
       "    <tr>\n",
       "      <th>12</th>\n",
       "      <td>19.4</td>\n",
       "      <td>-104.3</td>\n",
       "      <td>43.0</td>\n",
       "      <td>3.5</td>\n",
       "      <td>2022-06-20</td>\n",
       "      <td>11:22:19</td>\n",
       "      <td>27 km al SURESTE de  CASIMIRO CASTILLO, JAL</td>\n",
       "      <td>1</td>\n",
       "    </tr>\n",
       "    <tr>\n",
       "      <th>13</th>\n",
       "      <td>16.27</td>\n",
       "      <td>-98.24</td>\n",
       "      <td>13.0</td>\n",
       "      <td>3.7</td>\n",
       "      <td>2022-06-20</td>\n",
       "      <td>10:42:20</td>\n",
       "      <td>21 km al SUROESTE de  PINOTEPA NACIONAL, OAX</td>\n",
       "      <td>1</td>\n",
       "    </tr>\n",
       "    <tr>\n",
       "      <th>14</th>\n",
       "      <td>17.14</td>\n",
       "      <td>-99.8</td>\n",
       "      <td>46.0</td>\n",
       "      <td>3.3</td>\n",
       "      <td>2022-06-20</td>\n",
       "      <td>09:50:44</td>\n",
       "      <td>32 km al NORESTE de  ACAPULCO, GRO</td>\n",
       "      <td>1</td>\n",
       "    </tr>\n",
       "  </tbody>\n",
       "</table>\n",
       "</div>"
      ],
      "text/plain": [
       "   latitud longitud    prf   ma       fecha      hora  \\\n",
       "0    13.89   -93.12    5.0  4.1  2022-06-21  03:31:52   \n",
       "1    30.35  -109.54    5.0  4.0  2022-06-20  18:34:54   \n",
       "2    19.19  -104.06    2.0  3.6  2022-06-20  16:46:06   \n",
       "3    16.06   -94.76   11.0  3.3  2022-06-20  16:20:20   \n",
       "4    17.04   -99.62   37.0  3.0  2022-06-20  16:13:48   \n",
       "5    18.31  -103.85   18.0  3.5  2022-06-20  14:28:23   \n",
       "6     16.2   -93.85  102.0  3.4  2022-06-20  14:11:43   \n",
       "7     16.1   -97.29   11.0  3.8  2022-06-20  13:48:54   \n",
       "8    32.52  -115.13    6.0  3.6  2022-06-20  13:27:19   \n",
       "9    19.54  -103.74   33.0  3.2  2022-06-20  12:46:55   \n",
       "10    15.7    -96.4   33.0  3.8  2022-06-20  11:51:59   \n",
       "11   27.83  -111.93    8.0  3.5  2022-06-20  11:45:24   \n",
       "12    19.4   -104.3   43.0  3.5  2022-06-20  11:22:19   \n",
       "13   16.27   -98.24   13.0  3.7  2022-06-20  10:42:20   \n",
       "14   17.14    -99.8   46.0  3.3  2022-06-20  09:50:44   \n",
       "\n",
       "                                              loc evento  \n",
       "0        135 km al SUROESTE de  CD HIDALGO, CHIS       1  \n",
       "1      14 km al ESTE de  NACOZARI DE GARCIA, SON       1  \n",
       "2            26 km al OESTE de  COQUIMATLAN, COL       1  \n",
       "3            47 km al SUR de  UNION HIDALGO, OAX       1  \n",
       "4             35 km al NORESTE de  ACAPULCO, GRO       1  \n",
       "5                  66 km al SUR de  TECOMAN, COL       1  \n",
       "6             7 km al SURESTE de  ARRIAGA , CHIS       1  \n",
       "7           18 km al NORESTE de  RIO GRANDE, OAX       1  \n",
       "8     26 km al NORTE de  GPE VICTORIA(KM.43), BC       1  \n",
       "9       30 km al NORTE de  VILLA DE ALVAREZ, COL       1  \n",
       "10     8 km al SURESTE de  S PEDRO POCHUTLA, OAX       1  \n",
       "11       64 km al NORESTE de  SANTA ROSALIA, BCS       1  \n",
       "12   27 km al SURESTE de  CASIMIRO CASTILLO, JAL       1  \n",
       "13  21 km al SUROESTE de  PINOTEPA NACIONAL, OAX       1  \n",
       "14            32 km al NORESTE de  ACAPULCO, GRO       1  "
      ]
     },
     "execution_count": 61,
     "metadata": {},
     "output_type": "execute_result"
    }
   ],
   "source": [
    "sismo_data"
   ]
  },
  {
   "cell_type": "code",
   "execution_count": 62,
   "metadata": {},
   "outputs": [
    {
     "name": "stdout",
     "output_type": "stream",
     "text": [
      "<class 'pandas.core.frame.DataFrame'>\n",
      "RangeIndex: 15 entries, 0 to 14\n",
      "Data columns (total 8 columns):\n",
      " #   Column    Non-Null Count  Dtype  \n",
      "---  ------    --------------  -----  \n",
      " 0   latitud   15 non-null     object \n",
      " 1   longitud  15 non-null     object \n",
      " 2   prf       15 non-null     float64\n",
      " 3   ma        15 non-null     object \n",
      " 4   fecha     15 non-null     object \n",
      " 5   hora      15 non-null     object \n",
      " 6   loc       15 non-null     object \n",
      " 7   evento    15 non-null     object \n",
      "dtypes: float64(1), object(7)\n",
      "memory usage: 1.1+ KB\n"
     ]
    }
   ],
   "source": [
    "sismo_data.info()"
   ]
  },
  {
   "cell_type": "code",
   "execution_count": null,
   "metadata": {},
   "outputs": [],
   "source": []
  },
  {
   "cell_type": "code",
   "execution_count": null,
   "metadata": {},
   "outputs": [],
   "source": []
  }
 ],
 "metadata": {
  "kernelspec": {
   "display_name": "clase",
   "language": "python",
   "name": "clase"
  },
  "language_info": {
   "codemirror_mode": {
    "name": "ipython",
    "version": 3
   },
   "file_extension": ".py",
   "mimetype": "text/x-python",
   "name": "python",
   "nbconvert_exporter": "python",
   "pygments_lexer": "ipython3",
   "version": "3.9.7"
  }
 },
 "nbformat": 4,
 "nbformat_minor": 4
}
