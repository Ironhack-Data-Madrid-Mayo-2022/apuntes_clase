{
 "cells": [
  {
   "cell_type": "markdown",
   "metadata": {},
   "source": [
    "# 5.2 - Programacion orientada a objetos\n",
    "\n",
    "![oop](images/oop.png)\n",
    "\n",
    "La programación orientada a objetos tiene otra filosofía diferente que la programación funcional. En realidad python es orientado a objetos, cada vez que se declara una variable como una lista o una string, se esta llamando a esa clase. Para verlo tan solo hace falta escribir ` help`"
   ]
  },
  {
   "cell_type": "code",
   "execution_count": 1,
   "metadata": {
    "scrolled": true
   },
   "outputs": [],
   "source": [
    "#help(str)"
   ]
  },
  {
   "cell_type": "code",
   "execution_count": 2,
   "metadata": {},
   "outputs": [],
   "source": [
    "#help(list)"
   ]
  },
  {
   "cell_type": "markdown",
   "metadata": {},
   "source": [
    "Se devuelve una descripción de ambas clases.\n",
    "\n",
    "El mayor cambio en el paradigma es que ahora los datos no son inmutables, como eran en la programación funcional, datos y funciones están encapsulados en un objeto (la clase). Cada llamada a la clase (instancia) es un objeto nuevo.\n",
    "\n",
    "![objetos](images/objetos.png)"
   ]
  },
  {
   "cell_type": "markdown",
   "metadata": {},
   "source": [
    "### Nomenclatura\n",
    "- Objeto (Object)\n",
    "    - también instancia (instance)\n",
    "    - es una entidad individual\n",
    "- Atributos (Attributes)\n",
    "    - características dadas al objeto\n",
    "    - usualmente se refiere a los datos\n",
    "- Métodos (Methods)\n",
    "    - son las funciones que pertenecen a cada objeto\n",
    "- Clase (Class)\n",
    "    - también conocido como tipo (type)\n",
    "    - es el molde, el esquema, la forma genérica para crear objetos (instancias) con la mismas características\n",
    "    \n",
    "**En python, a los atributos se accede con la sintaxis objeto.atributo y a los métodos con objeto.metodo().**"
   ]
  },
  {
   "cell_type": "code",
   "execution_count": 3,
   "metadata": {},
   "outputs": [],
   "source": [
    "# primero funcional\n",
    "\n",
    "# datos\n",
    "\n",
    "mando={'color': 'blanco',\n",
    "       \n",
    "       'dimensiones': [10, 5, 2],\n",
    "       \n",
    "       'inalambrico': True,\n",
    "       \n",
    "       'recargable': True,\n",
    "       \n",
    "       'botones': ['POWER', 'UP', 'DOWN'],\n",
    "       \n",
    "       'baterias': [{'tipo': 'AAA', 'carga':40},\n",
    "                    {'tipo': 'AAA', 'carga':60}]}"
   ]
  },
  {
   "cell_type": "code",
   "execution_count": 4,
   "metadata": {},
   "outputs": [
    {
     "data": {
      "text/plain": [
       "40"
      ]
     },
     "execution_count": 4,
     "metadata": {},
     "output_type": "execute_result"
    }
   ],
   "source": [
    "mando['baterias'][0]['carga']"
   ]
  },
  {
   "cell_type": "code",
   "execution_count": 5,
   "metadata": {},
   "outputs": [],
   "source": [
    "def funciona(m):\n",
    "    \n",
    "    if len(m['baterias'])!=2: return False\n",
    "    \n",
    "    for b in m['baterias']:\n",
    "        if b['carga']==0:\n",
    "            return False\n",
    "        \n",
    "    return True"
   ]
  },
  {
   "cell_type": "code",
   "execution_count": 6,
   "metadata": {},
   "outputs": [],
   "source": [
    "def recargar(m):\n",
    "    if m['recargable']:\n",
    "        for b in m['baterias']:\n",
    "            b['carga']=100  # sobreescribe los datos\n",
    "            \n",
    "    return m"
   ]
  },
  {
   "cell_type": "code",
   "execution_count": 7,
   "metadata": {},
   "outputs": [],
   "source": [
    "def encender(m):\n",
    "    \n",
    "    if funciona(m):\n",
    "        for btn in m['botones']:\n",
    "            if btn=='POWER':\n",
    "                return True\n",
    "            \n",
    "    return False"
   ]
  },
  {
   "cell_type": "code",
   "execution_count": 8,
   "metadata": {},
   "outputs": [
    {
     "data": {
      "text/plain": [
       "dict"
      ]
     },
     "execution_count": 8,
     "metadata": {},
     "output_type": "execute_result"
    }
   ],
   "source": [
    "type(mando)"
   ]
  },
  {
   "cell_type": "code",
   "execution_count": 9,
   "metadata": {},
   "outputs": [
    {
     "data": {
      "text/plain": [
       "{'color': 'blanco',\n",
       " 'dimensiones': [10, 5, 2],\n",
       " 'inalambrico': True,\n",
       " 'recargable': True,\n",
       " 'botones': ['POWER', 'UP', 'DOWN'],\n",
       " 'baterias': [{'tipo': 'AAA', 'carga': 40}, {'tipo': 'AAA', 'carga': 60}]}"
      ]
     },
     "execution_count": 9,
     "metadata": {},
     "output_type": "execute_result"
    }
   ],
   "source": [
    "mando"
   ]
  },
  {
   "cell_type": "code",
   "execution_count": 10,
   "metadata": {},
   "outputs": [
    {
     "data": {
      "text/plain": [
       "True"
      ]
     },
     "execution_count": 10,
     "metadata": {},
     "output_type": "execute_result"
    }
   ],
   "source": [
    "funciona(mando)"
   ]
  },
  {
   "cell_type": "code",
   "execution_count": 11,
   "metadata": {},
   "outputs": [
    {
     "data": {
      "text/plain": [
       "{'color': 'blanco',\n",
       " 'dimensiones': [10, 5, 2],\n",
       " 'inalambrico': True,\n",
       " 'recargable': True,\n",
       " 'botones': ['POWER', 'UP', 'DOWN'],\n",
       " 'baterias': [{'tipo': 'AAA', 'carga': 100}, {'tipo': 'AAA', 'carga': 100}]}"
      ]
     },
     "execution_count": 11,
     "metadata": {},
     "output_type": "execute_result"
    }
   ],
   "source": [
    "recargar(mando)"
   ]
  },
  {
   "cell_type": "code",
   "execution_count": 12,
   "metadata": {},
   "outputs": [
    {
     "data": {
      "text/plain": [
       "True"
      ]
     },
     "execution_count": 12,
     "metadata": {},
     "output_type": "execute_result"
    }
   ],
   "source": [
    "encender(mando)"
   ]
  },
  {
   "cell_type": "code",
   "execution_count": 13,
   "metadata": {},
   "outputs": [],
   "source": [
    "# ahora como objeto\n",
    "\n",
    "\n",
    "class Mando:\n",
    "    \n",
    "    def __init__(self, color, dimensiones, con_pilas=True):   # metodo constructor\n",
    "        \n",
    "        # atributos\n",
    "        self.dimensiones=dimensiones\n",
    "        self.inalambrico=True\n",
    "        self.recargable=True\n",
    "        self.botones=['P', 'U', 'D']\n",
    "        self.color=color\n",
    "        \n",
    "        if con_pilas:\n",
    "            self.baterias=[{'tipo': 'AAA', 'carga':40},\n",
    "                           {'tipo': 'AAA', 'carga':60}]\n",
    "            \n",
    "        else:\n",
    "            self.baterias=[]\n",
    "            \n",
    "            \n",
    "        \n",
    "    # metodos\n",
    "    def funciona(self):\n",
    "    \n",
    "        if len(self.baterias)!=2: return False\n",
    "\n",
    "        for b in self.baterias:\n",
    "            if b['carga']==0:\n",
    "                return False\n",
    "\n",
    "        return True\n",
    "    \n",
    "    \n",
    "    def pon_pila(self, carga=0):\n",
    "        self.baterias.append({'tipo':'AAA', 'carga': carga})\n",
    "        \n",
    "        \n",
    "    def recargar(self):\n",
    "        if self.recargable:\n",
    "            for b in self.baterias:\n",
    "                b['carga']=100"
   ]
  },
  {
   "cell_type": "code",
   "execution_count": 14,
   "metadata": {},
   "outputs": [
    {
     "name": "stdout",
     "output_type": "stream",
     "text": [
      "<__main__.Mando object at 0x10669bbb0>\n"
     ]
    }
   ],
   "source": [
    "m1=Mando('blanco', [10, 5, 2])\n",
    "\n",
    "print(m1)"
   ]
  },
  {
   "cell_type": "code",
   "execution_count": 15,
   "metadata": {},
   "outputs": [
    {
     "data": {
      "text/plain": [
       "__main__.Mando"
      ]
     },
     "execution_count": 15,
     "metadata": {},
     "output_type": "execute_result"
    }
   ],
   "source": [
    "type(m1)"
   ]
  },
  {
   "cell_type": "code",
   "execution_count": 16,
   "metadata": {},
   "outputs": [
    {
     "data": {
      "text/plain": [
       "['P', 'U', 'D']"
      ]
     },
     "execution_count": 16,
     "metadata": {},
     "output_type": "execute_result"
    }
   ],
   "source": [
    "# acceso atributos\n",
    "\n",
    "m1.botones"
   ]
  },
  {
   "cell_type": "code",
   "execution_count": 17,
   "metadata": {},
   "outputs": [
    {
     "data": {
      "text/plain": [
       "[{'tipo': 'AAA', 'carga': 40}, {'tipo': 'AAA', 'carga': 60}]"
      ]
     },
     "execution_count": 17,
     "metadata": {},
     "output_type": "execute_result"
    }
   ],
   "source": [
    "m1.baterias"
   ]
  },
  {
   "cell_type": "code",
   "execution_count": 18,
   "metadata": {},
   "outputs": [
    {
     "data": {
      "text/plain": [
       "[15, 20, 50]"
      ]
     },
     "execution_count": 18,
     "metadata": {},
     "output_type": "execute_result"
    }
   ],
   "source": [
    "m1.dimensiones=[15, 20, 50]\n",
    "\n",
    "m1.dimensiones"
   ]
  },
  {
   "cell_type": "code",
   "execution_count": 19,
   "metadata": {},
   "outputs": [
    {
     "data": {
      "text/plain": [
       "<__main__.Mando at 0x1066a68e0>"
      ]
     },
     "execution_count": 19,
     "metadata": {},
     "output_type": "execute_result"
    }
   ],
   "source": [
    "m2=Mando('negro', [15, 3, 2])\n",
    "\n",
    "m2"
   ]
  },
  {
   "cell_type": "code",
   "execution_count": 20,
   "metadata": {},
   "outputs": [
    {
     "data": {
      "text/plain": [
       "'blanco'"
      ]
     },
     "execution_count": 20,
     "metadata": {},
     "output_type": "execute_result"
    }
   ],
   "source": [
    "m1.color"
   ]
  },
  {
   "cell_type": "code",
   "execution_count": 21,
   "metadata": {},
   "outputs": [
    {
     "data": {
      "text/plain": [
       "'negro'"
      ]
     },
     "execution_count": 21,
     "metadata": {},
     "output_type": "execute_result"
    }
   ],
   "source": [
    "m2.color"
   ]
  },
  {
   "cell_type": "code",
   "execution_count": 22,
   "metadata": {},
   "outputs": [],
   "source": [
    "m2.color='blanco'"
   ]
  },
  {
   "cell_type": "code",
   "execution_count": 23,
   "metadata": {},
   "outputs": [
    {
     "data": {
      "text/plain": [
       "'blanco'"
      ]
     },
     "execution_count": 23,
     "metadata": {},
     "output_type": "execute_result"
    }
   ],
   "source": [
    "m2.color"
   ]
  },
  {
   "cell_type": "markdown",
   "metadata": {},
   "source": [
    "### Herencia (Inheritance)\n",
    "\n",
    "Imaginemos que dos clases diferentes comparten algunas características."
   ]
  },
  {
   "cell_type": "code",
   "execution_count": 24,
   "metadata": {},
   "outputs": [],
   "source": [
    "class Animal:   # clase padre/madre\n",
    "    \n",
    "    def __init__(self, nombre='', sonido=''):\n",
    "        \n",
    "        self.nombre=nombre\n",
    "        self.sonido=sonido\n",
    "        \n",
    "    def decir_nombre(self):\n",
    "        print('Mi nombre es: ', self.nombre)"
   ]
  },
  {
   "cell_type": "code",
   "execution_count": 25,
   "metadata": {},
   "outputs": [],
   "source": [
    "class Perro(Animal):   # clase hija, herencia\n",
    "    \n",
    "    def __init__(self, nombre='Inu', raza='akita'):\n",
    "        \n",
    "        Animal.__init__(self, nombre+'🐶', 'ladrar')\n",
    "        #super().__init__(self, nombre+'🐶')\n",
    "        \n",
    "        self.raza=raza"
   ]
  },
  {
   "cell_type": "code",
   "execution_count": 26,
   "metadata": {},
   "outputs": [],
   "source": [
    "a1=Animal('Garfield 🦁')\n",
    "\n",
    "a2=Perro()"
   ]
  },
  {
   "cell_type": "code",
   "execution_count": 27,
   "metadata": {},
   "outputs": [
    {
     "name": "stdout",
     "output_type": "stream",
     "text": [
      "Mi nombre es:  Garfield 🦁\n"
     ]
    }
   ],
   "source": [
    "a1.decir_nombre()"
   ]
  },
  {
   "cell_type": "code",
   "execution_count": 28,
   "metadata": {},
   "outputs": [
    {
     "name": "stdout",
     "output_type": "stream",
     "text": [
      "Mi nombre es:  Inu🐶\n"
     ]
    }
   ],
   "source": [
    "a2.decir_nombre()"
   ]
  },
  {
   "cell_type": "code",
   "execution_count": 29,
   "metadata": {},
   "outputs": [
    {
     "data": {
      "text/plain": [
       "'Garfield 🦁'"
      ]
     },
     "execution_count": 29,
     "metadata": {},
     "output_type": "execute_result"
    }
   ],
   "source": [
    "a1.nombre"
   ]
  },
  {
   "cell_type": "code",
   "execution_count": 30,
   "metadata": {},
   "outputs": [
    {
     "data": {
      "text/plain": [
       "'Inu🐶'"
      ]
     },
     "execution_count": 30,
     "metadata": {},
     "output_type": "execute_result"
    }
   ],
   "source": [
    "a2.nombre"
   ]
  },
  {
   "cell_type": "code",
   "execution_count": 31,
   "metadata": {},
   "outputs": [
    {
     "ename": "AttributeError",
     "evalue": "'Animal' object has no attribute 'raza'",
     "output_type": "error",
     "traceback": [
      "\u001b[0;31m---------------------------------------------------------------------------\u001b[0m",
      "\u001b[0;31mAttributeError\u001b[0m                            Traceback (most recent call last)",
      "Input \u001b[0;32mIn [31]\u001b[0m, in \u001b[0;36m<cell line: 1>\u001b[0;34m()\u001b[0m\n\u001b[0;32m----> 1\u001b[0m \u001b[43ma1\u001b[49m\u001b[38;5;241;43m.\u001b[39;49m\u001b[43mraza\u001b[49m\n",
      "\u001b[0;31mAttributeError\u001b[0m: 'Animal' object has no attribute 'raza'"
     ]
    }
   ],
   "source": [
    "a1.raza"
   ]
  },
  {
   "cell_type": "code",
   "execution_count": 32,
   "metadata": {},
   "outputs": [
    {
     "data": {
      "text/plain": [
       "'akita'"
      ]
     },
     "execution_count": 32,
     "metadata": {},
     "output_type": "execute_result"
    }
   ],
   "source": [
    "a2.raza"
   ]
  },
  {
   "cell_type": "code",
   "execution_count": 33,
   "metadata": {},
   "outputs": [
    {
     "data": {
      "text/plain": [
       "''"
      ]
     },
     "execution_count": 33,
     "metadata": {},
     "output_type": "execute_result"
    }
   ],
   "source": [
    "a1.sonido"
   ]
  },
  {
   "cell_type": "code",
   "execution_count": 34,
   "metadata": {},
   "outputs": [
    {
     "data": {
      "text/plain": [
       "'ladrar'"
      ]
     },
     "execution_count": 34,
     "metadata": {},
     "output_type": "execute_result"
    }
   ],
   "source": [
    "a2.sonido"
   ]
  },
  {
   "cell_type": "code",
   "execution_count": 35,
   "metadata": {},
   "outputs": [
    {
     "name": "stdout",
     "output_type": "stream",
     "text": [
      "Help on Animal in module __main__ object:\n",
      "\n",
      "class Animal(builtins.object)\n",
      " |  Animal(nombre='', sonido='')\n",
      " |  \n",
      " |  Methods defined here:\n",
      " |  \n",
      " |  __init__(self, nombre='', sonido='')\n",
      " |      Initialize self.  See help(type(self)) for accurate signature.\n",
      " |  \n",
      " |  decir_nombre(self)\n",
      " |  \n",
      " |  ----------------------------------------------------------------------\n",
      " |  Data descriptors defined here:\n",
      " |  \n",
      " |  __dict__\n",
      " |      dictionary for instance variables (if defined)\n",
      " |  \n",
      " |  __weakref__\n",
      " |      list of weak references to the object (if defined)\n",
      "\n"
     ]
    }
   ],
   "source": [
    "help(a1)"
   ]
  },
  {
   "cell_type": "code",
   "execution_count": 36,
   "metadata": {},
   "outputs": [
    {
     "name": "stdout",
     "output_type": "stream",
     "text": [
      "Help on Perro in module __main__ object:\n",
      "\n",
      "class Perro(Animal)\n",
      " |  Perro(nombre='Inu', raza='akita')\n",
      " |  \n",
      " |  Method resolution order:\n",
      " |      Perro\n",
      " |      Animal\n",
      " |      builtins.object\n",
      " |  \n",
      " |  Methods defined here:\n",
      " |  \n",
      " |  __init__(self, nombre='Inu', raza='akita')\n",
      " |      Initialize self.  See help(type(self)) for accurate signature.\n",
      " |  \n",
      " |  ----------------------------------------------------------------------\n",
      " |  Methods inherited from Animal:\n",
      " |  \n",
      " |  decir_nombre(self)\n",
      " |  \n",
      " |  ----------------------------------------------------------------------\n",
      " |  Data descriptors inherited from Animal:\n",
      " |  \n",
      " |  __dict__\n",
      " |      dictionary for instance variables (if defined)\n",
      " |  \n",
      " |  __weakref__\n",
      " |      list of weak references to the object (if defined)\n",
      "\n"
     ]
    }
   ],
   "source": [
    "help(a2)"
   ]
  },
  {
   "cell_type": "code",
   "execution_count": 37,
   "metadata": {},
   "outputs": [],
   "source": [
    "a3=Animal()"
   ]
  },
  {
   "cell_type": "code",
   "execution_count": 38,
   "metadata": {},
   "outputs": [
    {
     "data": {
      "text/plain": [
       "'ballena'"
      ]
     },
     "execution_count": 38,
     "metadata": {},
     "output_type": "execute_result"
    }
   ],
   "source": [
    "a3.nombre='ballena'\n",
    "\n",
    "a3.nombre"
   ]
  },
  {
   "cell_type": "code",
   "execution_count": 39,
   "metadata": {},
   "outputs": [
    {
     "data": {
      "text/plain": [
       "{'nombre': 'Inu🐶', 'sonido': 'ladrar', 'raza': 'akita'}"
      ]
     },
     "execution_count": 39,
     "metadata": {},
     "output_type": "execute_result"
    }
   ],
   "source": [
    "Perro().__dict__"
   ]
  },
  {
   "cell_type": "markdown",
   "metadata": {},
   "source": [
    "## Métodos dunder\n",
    "#### métodos  __especiales__  \n",
    "\n",
    "- Se les llama `dunders` por la doble barra que tienen(double underscores) \n",
    "- También se les llama método mágicos (magic methods)\n",
    "- Conecta funciones con comportamientos y operadores externos\n",
    "\n",
    "Una pequeña lista:\n",
    "\n",
    "- `__repr__` : Representación oficial de una string (cuando se imprime el objeto)\n",
    "- `__str__` : Conversion a string y print\n",
    "- `__len__` : Cuando se pasa `len` a un iterable\n",
    "\n",
    "\n",
    "#### Operadores de comparación\n",
    "- `__eq__` : ==\n",
    "- `__ne__` : !=\n",
    "- `__lt__` : <\n",
    "- `__le__` : <=\n",
    "- `__gt__` : >\n",
    "- `__ge__` : >=\n",
    "\n",
    "\n",
    "#### Operadores\n",
    "- `__add__` : +\n",
    "- `__mul__` : *\n",
    "- `__truediv__` : /\n",
    "- `__sub__` : - \n",
    "\n",
    "**Más [información](https://docs.python.org/3/library/operator.html).**"
   ]
  }
 ],
 "metadata": {
  "finalized": {
   "timestamp": 1654248923945,
   "trusted": true
  },
  "kernelspec": {
   "display_name": "clase",
   "language": "python",
   "name": "clase"
  },
  "language_info": {
   "codemirror_mode": {
    "name": "ipython",
    "version": 3
   },
   "file_extension": ".py",
   "mimetype": "text/x-python",
   "name": "python",
   "nbconvert_exporter": "python",
   "pygments_lexer": "ipython3",
   "version": "3.9.7"
  },
  "varInspector": {
   "cols": {
    "lenName": 16,
    "lenType": 16,
    "lenVar": 40
   },
   "kernels_config": {
    "python": {
     "delete_cmd_postfix": "",
     "delete_cmd_prefix": "del ",
     "library": "var_list.py",
     "varRefreshCmd": "print(var_dic_list())"
    },
    "r": {
     "delete_cmd_postfix": ") ",
     "delete_cmd_prefix": "rm(",
     "library": "var_list.r",
     "varRefreshCmd": "cat(var_dic_list()) "
    }
   },
   "types_to_exclude": [
    "module",
    "function",
    "builtin_function_or_method",
    "instance",
    "_Feature"
   ],
   "window_display": false
  }
 },
 "nbformat": 4,
 "nbformat_minor": 4
}
