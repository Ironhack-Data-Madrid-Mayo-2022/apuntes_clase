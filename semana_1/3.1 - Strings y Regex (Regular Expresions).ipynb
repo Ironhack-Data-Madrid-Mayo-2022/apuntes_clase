{
 "cells": [
  {
   "cell_type": "markdown",
   "metadata": {},
   "source": [
    "# 3.1 - Strings y Regex (Regular Expresions)"
   ]
  },
  {
   "cell_type": "markdown",
   "metadata": {},
   "source": [
    "### Métodos de strings\n",
    "\n",
    "![strings](images/strings.jpg)"
   ]
  },
  {
   "cell_type": "code",
   "execution_count": 1,
   "metadata": {},
   "outputs": [
    {
     "data": {
      "text/plain": [
       "['hola', 'estamos', 'en', 'clase', 'de', 'data.', 'hasta', 'luego']"
      ]
     },
     "execution_count": 1,
     "metadata": {},
     "output_type": "execute_result"
    }
   ],
   "source": [
    "lst=['hola', 'estamos', 'en', 'clase', 'de', 'data.', 'hasta', 'luego']\n",
    "\n",
    "lst"
   ]
  },
  {
   "cell_type": "code",
   "execution_count": 2,
   "metadata": {},
   "outputs": [
    {
     "data": {
      "text/plain": [
       "'hola👺estamos👺en👺clase👺de👺data.👺hasta👺luego'"
      ]
     },
     "execution_count": 2,
     "metadata": {},
     "output_type": "execute_result"
    }
   ],
   "source": [
    "'👺'.join(lst)"
   ]
  },
  {
   "cell_type": "code",
   "execution_count": 3,
   "metadata": {},
   "outputs": [
    {
     "data": {
      "text/plain": [
       "'hola+estamos+en+clase+de+data.+hasta+luego'"
      ]
     },
     "execution_count": 3,
     "metadata": {},
     "output_type": "execute_result"
    }
   ],
   "source": [
    "'+'.join(lst)"
   ]
  },
  {
   "cell_type": "code",
   "execution_count": 5,
   "metadata": {},
   "outputs": [
    {
     "data": {
      "text/plain": [
       "'hola estamos en clase de data. hasta luego'"
      ]
     },
     "execution_count": 5,
     "metadata": {},
     "output_type": "execute_result"
    }
   ],
   "source": [
    "texto=' '.join(lst)\n",
    "\n",
    "texto"
   ]
  },
  {
   "cell_type": "code",
   "execution_count": 6,
   "metadata": {},
   "outputs": [
    {
     "data": {
      "text/plain": [
       "str"
      ]
     },
     "execution_count": 6,
     "metadata": {},
     "output_type": "execute_result"
    }
   ],
   "source": [
    "type(texto)"
   ]
  },
  {
   "cell_type": "code",
   "execution_count": 7,
   "metadata": {},
   "outputs": [
    {
     "data": {
      "text/plain": [
       "'h'"
      ]
     },
     "execution_count": 7,
     "metadata": {},
     "output_type": "execute_result"
    }
   ],
   "source": [
    "texto[0]"
   ]
  },
  {
   "cell_type": "code",
   "execution_count": 11,
   "metadata": {},
   "outputs": [
    {
     "data": {
      "text/plain": [
       "42"
      ]
     },
     "execution_count": 11,
     "metadata": {},
     "output_type": "execute_result"
    }
   ],
   "source": [
    "len(texto)"
   ]
  },
  {
   "cell_type": "code",
   "execution_count": 12,
   "metadata": {},
   "outputs": [
    {
     "data": {
      "text/plain": [
       "'hl sao ncaed aa'"
      ]
     },
     "execution_count": 12,
     "metadata": {},
     "output_type": "execute_result"
    }
   ],
   "source": [
    "texto[0:30:2]  # slicing"
   ]
  },
  {
   "cell_type": "code",
   "execution_count": 14,
   "metadata": {},
   "outputs": [
    {
     "data": {
      "text/plain": [
       "'ogeul atsah .atad ed esalc ne somatse aloh'"
      ]
     },
     "execution_count": 14,
     "metadata": {},
     "output_type": "execute_result"
    }
   ],
   "source": [
    "texto[::-1]"
   ]
  },
  {
   "cell_type": "code",
   "execution_count": 15,
   "metadata": {},
   "outputs": [
    {
     "data": {
      "text/plain": [
       "True"
      ]
     },
     "execution_count": 15,
     "metadata": {},
     "output_type": "execute_result"
    }
   ],
   "source": [
    "texto.startswith('ho')"
   ]
  },
  {
   "cell_type": "code",
   "execution_count": 18,
   "metadata": {},
   "outputs": [
    {
     "data": {
      "text/plain": [
       "True"
      ]
     },
     "execution_count": 18,
     "metadata": {},
     "output_type": "execute_result"
    }
   ],
   "source": [
    "texto[0]=='h'"
   ]
  },
  {
   "cell_type": "code",
   "execution_count": 16,
   "metadata": {},
   "outputs": [
    {
     "data": {
      "text/plain": [
       "False"
      ]
     },
     "execution_count": 16,
     "metadata": {},
     "output_type": "execute_result"
    }
   ],
   "source": [
    "texto.endswith('.')"
   ]
  },
  {
   "cell_type": "code",
   "execution_count": 17,
   "metadata": {},
   "outputs": [
    {
     "data": {
      "text/plain": [
       "False"
      ]
     },
     "execution_count": 17,
     "metadata": {},
     "output_type": "execute_result"
    }
   ],
   "source": [
    "texto[-1]=='.'"
   ]
  },
  {
   "cell_type": "code",
   "execution_count": 20,
   "metadata": {},
   "outputs": [
    {
     "data": {
      "text/plain": [
       "'Hola estamos en clase de data. hasta luego'"
      ]
     },
     "execution_count": 20,
     "metadata": {},
     "output_type": "execute_result"
    }
   ],
   "source": [
    "texto.capitalize()  # la primera en mayuscula"
   ]
  },
  {
   "cell_type": "code",
   "execution_count": 21,
   "metadata": {},
   "outputs": [
    {
     "data": {
      "text/plain": [
       "'Hola Estamos En Clase De Data. Hasta Luego'"
      ]
     },
     "execution_count": 21,
     "metadata": {},
     "output_type": "execute_result"
    }
   ],
   "source": [
    "texto.title()"
   ]
  },
  {
   "cell_type": "code",
   "execution_count": 22,
   "metadata": {},
   "outputs": [
    {
     "data": {
      "text/plain": [
       "'HOLA ESTAMOS EN CLASE DE DATA. HASTA LUEGO'"
      ]
     },
     "execution_count": 22,
     "metadata": {},
     "output_type": "execute_result"
    }
   ],
   "source": [
    "texto.upper()"
   ]
  },
  {
   "cell_type": "code",
   "execution_count": 23,
   "metadata": {},
   "outputs": [
    {
     "data": {
      "text/plain": [
       "'hola estamos en clase de data. hasta luego'"
      ]
     },
     "execution_count": 23,
     "metadata": {},
     "output_type": "execute_result"
    }
   ],
   "source": [
    "texto.upper().lower()"
   ]
  },
  {
   "cell_type": "code",
   "execution_count": 26,
   "metadata": {
    "scrolled": false
   },
   "outputs": [],
   "source": [
    "#help(str)"
   ]
  },
  {
   "cell_type": "code",
   "execution_count": 27,
   "metadata": {},
   "outputs": [
    {
     "data": {
      "text/plain": [
       "'          hola que tal,      espacios porque quiero.  . .          '"
      ]
     },
     "execution_count": 27,
     "metadata": {},
     "output_type": "execute_result"
    }
   ],
   "source": [
    "txt='          hola que tal,      espacios porque quiero.  . .          '\n",
    "\n",
    "\n",
    "txt"
   ]
  },
  {
   "cell_type": "code",
   "execution_count": 28,
   "metadata": {},
   "outputs": [
    {
     "data": {
      "text/plain": [
       "'hola que tal,      espacios porque quiero.  . .          '"
      ]
     },
     "execution_count": 28,
     "metadata": {},
     "output_type": "execute_result"
    }
   ],
   "source": [
    "txt.lstrip()   # quita por la izq...."
   ]
  },
  {
   "cell_type": "code",
   "execution_count": 30,
   "metadata": {},
   "outputs": [
    {
     "data": {
      "text/plain": [
       "'ola que tal,      espacios porque quiero.  . .          '"
      ]
     },
     "execution_count": 30,
     "metadata": {},
     "output_type": "execute_result"
    }
   ],
   "source": [
    "txt.lstrip('          h')"
   ]
  },
  {
   "cell_type": "code",
   "execution_count": 31,
   "metadata": {},
   "outputs": [
    {
     "data": {
      "text/plain": [
       "'          hola que tal,      espacios porque quiero.  . .'"
      ]
     },
     "execution_count": 31,
     "metadata": {},
     "output_type": "execute_result"
    }
   ],
   "source": [
    "txt.rstrip()   # quita por la dcha...."
   ]
  },
  {
   "cell_type": "code",
   "execution_count": 32,
   "metadata": {},
   "outputs": [
    {
     "data": {
      "text/plain": [
       "'hola que tal,      espacios porque quiero.  . .'"
      ]
     },
     "execution_count": 32,
     "metadata": {},
     "output_type": "execute_result"
    }
   ],
   "source": [
    "txt.strip()"
   ]
  },
  {
   "cell_type": "code",
   "execution_count": 33,
   "metadata": {},
   "outputs": [
    {
     "data": {
      "text/plain": [
       "'hola que tal,      espacios porque quiero.  . .'"
      ]
     },
     "execution_count": 33,
     "metadata": {},
     "output_type": "execute_result"
    }
   ],
   "source": [
    "txt=txt.strip()\n",
    "\n",
    "txt"
   ]
  },
  {
   "cell_type": "code",
   "execution_count": 34,
   "metadata": {},
   "outputs": [
    {
     "data": {
      "text/plain": [
       "'hola que tal,espacios porque quiero.. .'"
      ]
     },
     "execution_count": 34,
     "metadata": {},
     "output_type": "execute_result"
    }
   ],
   "source": [
    "txt.replace('  ', '')   # 1º lo que hay, 2º lo que quiero"
   ]
  },
  {
   "cell_type": "code",
   "execution_count": 42,
   "metadata": {},
   "outputs": [
    {
     "data": {
      "text/plain": [
       "'C:\\\\U....\\\\n..\\\\t'"
      ]
     },
     "execution_count": 42,
     "metadata": {},
     "output_type": "execute_result"
    }
   ],
   "source": [
    "# raw (en crudo)\n",
    "\n",
    "r'C:\\U....\\n..\\t'"
   ]
  },
  {
   "cell_type": "code",
   "execution_count": 46,
   "metadata": {},
   "outputs": [
    {
     "name": "stdout",
     "output_type": "stream",
     "text": [
      "3\n"
     ]
    }
   ],
   "source": [
    "'''\n",
    "es un comentario\n",
    "\n",
    "parrafada\n",
    "'''\n",
    "\n",
    "print(3)"
   ]
  },
  {
   "cell_type": "code",
   "execution_count": 49,
   "metadata": {},
   "outputs": [
    {
     "data": {
      "text/plain": [
       "'\\n\\nNO es un comentario.\\n\\nOtra\\n'"
      ]
     },
     "execution_count": 49,
     "metadata": {},
     "output_type": "execute_result"
    }
   ],
   "source": [
    "var='''\n",
    "\n",
    "NO es un comentario.\n",
    "\n",
    "Otra\n",
    "'''\n",
    "\n",
    "var"
   ]
  },
  {
   "cell_type": "code",
   "execution_count": 51,
   "metadata": {},
   "outputs": [
    {
     "data": {
      "text/plain": [
       "'  NO es un comentario.  Otra '"
      ]
     },
     "execution_count": 51,
     "metadata": {},
     "output_type": "execute_result"
    }
   ],
   "source": [
    "var.replace('\\n', ' ')"
   ]
  },
  {
   "cell_type": "code",
   "execution_count": 52,
   "metadata": {},
   "outputs": [
    {
     "data": {
      "text/plain": [
       "29"
      ]
     },
     "execution_count": 52,
     "metadata": {},
     "output_type": "execute_result"
    }
   ],
   "source": [
    "len(var)"
   ]
  },
  {
   "cell_type": "code",
   "execution_count": 53,
   "metadata": {},
   "outputs": [
    {
     "name": "stdout",
     "output_type": "stream",
     "text": [
      "\n",
      "\n",
      "\n",
      "\n",
      "N\n",
      "O\n",
      " \n",
      "e\n",
      "s\n",
      " \n",
      "u\n",
      "n\n",
      " \n",
      "c\n",
      "o\n",
      "m\n",
      "e\n",
      "n\n",
      "t\n",
      "a\n",
      "r\n",
      "i\n",
      "o\n",
      ".\n",
      "\n",
      "\n",
      "\n",
      "\n",
      "O\n",
      "t\n",
      "r\n",
      "a\n",
      "\n",
      "\n"
     ]
    }
   ],
   "source": [
    "for letra in var:\n",
    "    print(letra)"
   ]
  },
  {
   "cell_type": "code",
   "execution_count": 56,
   "metadata": {},
   "outputs": [
    {
     "data": {
      "text/plain": [
       "['NO', 'es', 'un', 'comentario.', 'Otra']"
      ]
     },
     "execution_count": 56,
     "metadata": {},
     "output_type": "execute_result"
    }
   ],
   "source": [
    "var.split()"
   ]
  },
  {
   "cell_type": "code",
   "execution_count": 57,
   "metadata": {},
   "outputs": [
    {
     "data": {
      "text/plain": [
       "['', '', 'NO es un comentario.', '', 'Otra', '']"
      ]
     },
     "execution_count": 57,
     "metadata": {},
     "output_type": "execute_result"
    }
   ],
   "source": [
    "var.split('\\n')"
   ]
  },
  {
   "cell_type": "code",
   "execution_count": 59,
   "metadata": {},
   "outputs": [
    {
     "data": {
      "text/plain": [
       "['\\n\\nNO', 'es', 'un', 'comentario.\\n\\nOtra\\n']"
      ]
     },
     "execution_count": 59,
     "metadata": {},
     "output_type": "execute_result"
    }
   ],
   "source": [
    "var.split(' ')"
   ]
  },
  {
   "cell_type": "code",
   "execution_count": 60,
   "metadata": {},
   "outputs": [
    {
     "data": {
      "text/plain": [
       "['\\n\\nNO es un c', 'mentari', '.\\n\\nOtra\\n']"
      ]
     },
     "execution_count": 60,
     "metadata": {},
     "output_type": "execute_result"
    }
   ],
   "source": [
    "var.split('o')"
   ]
  },
  {
   "cell_type": "code",
   "execution_count": 61,
   "metadata": {},
   "outputs": [
    {
     "data": {
      "text/plain": [
       "'Neucea'"
      ]
     },
     "execution_count": 61,
     "metadata": {},
     "output_type": "execute_result"
    }
   ],
   "source": [
    "var[2:20:3]"
   ]
  },
  {
   "cell_type": "code",
   "execution_count": 64,
   "metadata": {},
   "outputs": [
    {
     "data": {
      "text/plain": [
       "['epiqugbq34iug2', 'vjdb', 'sbj', '']"
      ]
     },
     "execution_count": 64,
     "metadata": {},
     "output_type": "execute_result"
    }
   ],
   "source": [
    "'epiqugbq34iug2kvjdbksbjk'.split('k')"
   ]
  },
  {
   "cell_type": "code",
   "execution_count": 62,
   "metadata": {},
   "outputs": [
    {
     "data": {
      "text/plain": [
       "'epiqugbq34iug2😁vjdb😁sbj😁'"
      ]
     },
     "execution_count": 62,
     "metadata": {},
     "output_type": "execute_result"
    }
   ],
   "source": [
    "'😁'.join('epiqugbq34iug2kvjdbksbjk'.split('k'))"
   ]
  },
  {
   "cell_type": "code",
   "execution_count": 63,
   "metadata": {},
   "outputs": [
    {
     "data": {
      "text/plain": [
       "'epiqugbq34iug2😁vjdb😁sbj😁'"
      ]
     },
     "execution_count": 63,
     "metadata": {},
     "output_type": "execute_result"
    }
   ],
   "source": [
    "'epiqugbq34iug2kvjdbksbjk'.replace('k', '😁')"
   ]
  },
  {
   "cell_type": "code",
   "execution_count": 69,
   "metadata": {},
   "outputs": [
    {
     "data": {
      "text/plain": [
       "['', 'artO', '', '.oiratnemoc nu se ON\\n\\n']"
      ]
     },
     "execution_count": 69,
     "metadata": {},
     "output_type": "execute_result"
    }
   ],
   "source": [
    "var[::-1].split('\\n', maxsplit=3)  # tres cortes"
   ]
  },
  {
   "cell_type": "code",
   "execution_count": 71,
   "metadata": {},
   "outputs": [
    {
     "data": {
      "text/plain": [
       "True"
      ]
     },
     "execution_count": 71,
     "metadata": {},
     "output_type": "execute_result"
    }
   ],
   "source": [
    "'es' in var"
   ]
  },
  {
   "cell_type": "markdown",
   "metadata": {},
   "source": [
    "## Regex en python  🐍\n",
    "\n",
    "![regex](images/regex.jpg)"
   ]
  },
  {
   "cell_type": "markdown",
   "metadata": {},
   "source": [
    "**¿Qué es Regex?**\n",
    "\n",
    "https://regex101.com/\n",
    "\n",
    "Regex son cadenas de caracteres basadas en reglas sintácticas que permiten describir secuencias de caracteres. Así, forman parte de los lenguajes regulares, los cuales son un subgrupo de los lenguajes formales, de gran importancia para la tecnología de la información y, especialmente, para el desarrollo de software.\n",
    "\n",
    "Se buscan patrones en strings tales como:\n",
    "\n",
    "- emails\n",
    "- números de teléfono\n",
    "- números de tarjetas de crédito\n",
    "- IDs\n",
    "- fechas\n",
    "- cualquier tipo de dato que tenga un patrón definido"
   ]
  },
  {
   "cell_type": "markdown",
   "metadata": {},
   "source": [
    "Usaremos varios métodos con dos propósitos principales:\n",
    "\n",
    "- Para encontrar el patrón:\n",
    "    + search\n",
    "    + match\n",
    "    + findall\n",
    "\n",
    "\n",
    "- Para trabajar con patrones:\n",
    "    + sub\n",
    "    + split"
   ]
  },
  {
   "cell_type": "markdown",
   "metadata": {},
   "source": [
    "**Sintaxis básica de regex:**\n",
    "\n",
    "##### selección\n",
    "- `.`  : cualquier caracter excepto salto de línea\n",
    "- `\\d` : dígitos (0-9)\n",
    "- `\\D` : NO dígitos, cualquier cosa salvo un número\n",
    "- `\\w` : alfanumérico (a-z, A-Z, 0-9)\n",
    "- `\\W` : NO alfanumérico (., '¡)\n",
    "- `\\s` : espacio en blanco\n",
    "- `\\S` : cualquier cosa que NO sea un espacio en blanco\n",
    "\n",
    "##### según posición\n",
    "- `\\b` : límite de la string\n",
    "- `\\B` : NO limíte, dentro de la string\n",
    "- `^`  : principio de la string\n",
    "- `$`  : fin de la string\n",
    "\n",
    "##### según cantidad\n",
    "- `*`       : 0 o más\n",
    "- `+`       : 1 o más\n",
    "- `?`       : 0 o 1, haya o no haya\n",
    "- `{3}`     : exactamente 3, número exacto de caracteres\n",
    "- `{3,4}`   : rango de caracteres, {mínimo, máximo}\n",
    "\n",
    "##### corchetes y grupos\n",
    "- `[]`      : busca grupo de caracteres en el corchete\n",
    "- `[^ ]`    : busca grupo de caracteres que NO estén en el corchete\n",
    "- `|`       : o lógico (e.g: a|c significa el caracter a o el b)\n",
    "- `( )`     : grupo"
   ]
  },
  {
   "cell_type": "code",
   "execution_count": null,
   "metadata": {},
   "outputs": [],
   "source": [
    "%pip install regex"
   ]
  },
  {
   "cell_type": "code",
   "execution_count": 72,
   "metadata": {},
   "outputs": [],
   "source": [
    "import re"
   ]
  },
  {
   "cell_type": "code",
   "execution_count": 106,
   "metadata": {},
   "outputs": [],
   "source": [
    "texto='''Hola     Ironhack, buscamos a nuestro nuevo    analista  12  345  0.987986  😎  \n",
    "    \n",
    "    lista de contactos: \n",
    "    \n",
    "    hola@gmail.com, yo_rod_aqui@ifgsttdb.es, ih@iron.ih, yo.r.a@gmail.com\n",
    "    \n",
    "    +34666123890, 1563-454-222\n",
    "    \n",
    "    ean : 0983458721346\n",
    "\n",
    "'''"
   ]
  },
  {
   "cell_type": "code",
   "execution_count": 107,
   "metadata": {},
   "outputs": [
    {
     "data": {
      "text/plain": [
       "'Hola     Ironhack, buscamos a nuestro nuevo    analista  12  345  0.987986  😎  \\n    \\n    lista de contactos: \\n    \\n    hola@gmail.com, yo_rod_aqui@ifgsttdb.es, ih@iron.ih, yo.r.a@gmail.com\\n    \\n    +34666123890, 1563-454-222\\n    \\n    ean : 0983458721346\\n\\n'"
      ]
     },
     "execution_count": 107,
     "metadata": {},
     "output_type": "execute_result"
    }
   ],
   "source": [
    "texto"
   ]
  },
  {
   "cell_type": "markdown",
   "metadata": {},
   "source": [
    "#### Métodos:\n",
    "\n",
    "**re.search()**: Busca a través de la string el patrón dado, cualquier parte de la string\n",
    "\n",
    "- **argumentos de entrada:** patrón (regex) + string\n",
    "- **devuelve:** un objeto (span=rango de índices dentro de la str, match=elemento)"
   ]
  },
  {
   "cell_type": "code",
   "execution_count": 108,
   "metadata": {},
   "outputs": [
    {
     "data": {
      "text/plain": [
       "<re.Match object; span=(57, 59), match='12'>"
      ]
     },
     "execution_count": 108,
     "metadata": {},
     "output_type": "execute_result"
    }
   ],
   "source": [
    "patron=r'\\d+'    # numerico, 1 o mas\n",
    "\n",
    "re.search(patron, texto)"
   ]
  },
  {
   "cell_type": "code",
   "execution_count": 109,
   "metadata": {},
   "outputs": [
    {
     "data": {
      "text/plain": [
       "<re.Match object; span=(4, 9), match='     '>"
      ]
     },
     "execution_count": 109,
     "metadata": {},
     "output_type": "execute_result"
    }
   ],
   "source": [
    "patron=r'\\W+'    # NO alfanumerico, 1 o mas\n",
    "\n",
    "re.search(patron, texto)"
   ]
  },
  {
   "cell_type": "code",
   "execution_count": 110,
   "metadata": {},
   "outputs": [
    {
     "data": {
      "text/plain": [
       "<re.Match object; span=(119, 133), match='hola@gmail.com'>"
      ]
     },
     "execution_count": 110,
     "metadata": {},
     "output_type": "execute_result"
    }
   ],
   "source": [
    "patron=r'[\\w\\.]+@\\w+\\.\\w+'    # patron mail\n",
    "\n",
    "re.search(patron, texto)"
   ]
  },
  {
   "cell_type": "markdown",
   "metadata": {},
   "source": [
    "**re.match():** Busca el patrón al inicio de la string\n",
    "\n",
    "- **argumentos de entrada:** patrón (regex) + string\n",
    "- **devuelve:** un objeto (span=rango de índices dentro de la str, match=elemento)"
   ]
  },
  {
   "cell_type": "code",
   "execution_count": 111,
   "metadata": {},
   "outputs": [],
   "source": [
    "patron=r'\\w+'"
   ]
  },
  {
   "cell_type": "code",
   "execution_count": 112,
   "metadata": {},
   "outputs": [
    {
     "data": {
      "text/plain": [
       "<re.Match object; span=(0, 4), match='Hola'>"
      ]
     },
     "execution_count": 112,
     "metadata": {},
     "output_type": "execute_result"
    }
   ],
   "source": [
    "re.match(patron, texto)"
   ]
  },
  {
   "cell_type": "code",
   "execution_count": 113,
   "metadata": {},
   "outputs": [
    {
     "name": "stdout",
     "output_type": "stream",
     "text": [
      "Correcto, dentro de string\n"
     ]
    }
   ],
   "source": [
    "if re.match(patron, texto):\n",
    "    \n",
    "    print('Correcto, dentro de string')\n",
    "    \n",
    "else:\n",
    "    print('El patron que buscas no esta aqui')"
   ]
  },
  {
   "cell_type": "markdown",
   "metadata": {},
   "source": [
    "**re.findall()**: Encuentra todas las coincidencias del patrón.\n",
    "\n",
    "- **argumentos de entrada:** patrón (regex) + string\n",
    "- **devuelve:** una lista de los elementos encontrados"
   ]
  },
  {
   "cell_type": "code",
   "execution_count": 114,
   "metadata": {},
   "outputs": [
    {
     "data": {
      "text/plain": [
       "['hola@gmail.com', 'yo_rod_aqui@ifgsttdb.es', 'ih@iron.ih', 'yo.r.a@gmail.com']"
      ]
     },
     "execution_count": 114,
     "metadata": {},
     "output_type": "execute_result"
    }
   ],
   "source": [
    "patron=r'[\\w\\.]+@\\w+\\.\\w+'    # patron mail\n",
    "\n",
    "re.findall(patron, texto)"
   ]
  },
  {
   "cell_type": "code",
   "execution_count": 115,
   "metadata": {},
   "outputs": [
    {
     "data": {
      "text/plain": [
       "['12', '345', '0.987986', '34666123890', '1563', '454', '222', '0983458721346']"
      ]
     },
     "execution_count": 115,
     "metadata": {},
     "output_type": "execute_result"
    }
   ],
   "source": [
    "patron=r'\\d+\\.?\\d+'\n",
    "\n",
    "re.findall(patron, texto)"
   ]
  },
  {
   "cell_type": "code",
   "execution_count": 118,
   "metadata": {},
   "outputs": [
    {
     "data": {
      "text/plain": [
       "['+34666123890']"
      ]
     },
     "execution_count": 118,
     "metadata": {},
     "output_type": "execute_result"
    }
   ],
   "source": [
    "patron=r'[+]34\\d+'\n",
    "\n",
    "re.findall(patron, texto)"
   ]
  },
  {
   "cell_type": "markdown",
   "metadata": {},
   "source": [
    "**re.sub()**: Replaces one or many matches with a string\n",
    "\n",
    "- **argumentos de entrada:** patrón (regex) + cadena a modificar + string original\n",
    "- **devuelve:** una string modificada"
   ]
  },
  {
   "cell_type": "code",
   "execution_count": 119,
   "metadata": {},
   "outputs": [
    {
     "data": {
      "text/plain": [
       "'HolaIronhack,buscamosanuestronuevoanalista123450.987986😎\\n\\nlistadecontactos:\\n\\nhola@gmail.com,yo_rod_aqui@ifgsttdb.es,ih@iron.ih,yo.r.a@gmail.com\\n\\n+34666123890,1563-454-222\\n\\nean:0983458721346\\n\\n'"
      ]
     },
     "execution_count": 119,
     "metadata": {},
     "output_type": "execute_result"
    }
   ],
   "source": [
    "re.sub(' ', '', texto)"
   ]
  },
  {
   "cell_type": "code",
   "execution_count": 120,
   "metadata": {},
   "outputs": [
    {
     "data": {
      "text/plain": [
       "'Hola     Ironhack, buscamos a nuestro nuevo    analista      .  😎  \\n    \\n    lista de contactos: \\n    \\n    hola@gmail.com, yo_rod_aqui@ifgsttdb.es, ih@iron.ih, yo.r.a@gmail.com\\n    \\n    +, --\\n    \\n    ean : \\n\\n'"
      ]
     },
     "execution_count": 120,
     "metadata": {},
     "output_type": "execute_result"
    }
   ],
   "source": [
    "re.sub('\\d+', '', texto)  # sustituye numeros por nada es esa string"
   ]
  },
  {
   "cell_type": "code",
   "execution_count": 121,
   "metadata": {},
   "outputs": [
    {
     "data": {
      "text/plain": [
       "'HolaIronhack,buscamosanuestronuevoanalista123450.987986😎listadecontactos:hola@gmail.com,yo_rod_aqui@ifgsttdb.es,ih@iron.ih,yo.r.a@gmail.com34666123890,1563-454-222ean:0983458721346'"
      ]
     },
     "execution_count": 121,
     "metadata": {},
     "output_type": "execute_result"
    }
   ],
   "source": [
    "re.sub('[\\n +]', '', texto)  # sustituye saltos de linea y espacio"
   ]
  },
  {
   "cell_type": "code",
   "execution_count": 122,
   "metadata": {},
   "outputs": [
    {
     "data": {
      "text/plain": [
       "'Hola     Ironhack, buscamos a nuestro nuevo    analista  12  345  0.987986  😎  \\n    \\n    lista de contactos: \\n    \\n    hola que tal, hola que tal, hola que tal, hola que tal\\n    \\n    +34666123890, 1563-454-222\\n    \\n    ean : 0983458721346\\n\\n'"
      ]
     },
     "execution_count": 122,
     "metadata": {},
     "output_type": "execute_result"
    }
   ],
   "source": [
    "re.sub(r'[\\w\\.]+@\\w+\\.\\w+', 'hola que tal', texto)"
   ]
  },
  {
   "cell_type": "markdown",
   "metadata": {},
   "source": [
    "**re.split()**: Similar al split de las strings, corta la string por el patrón dado y devuelva una lista.\n",
    "\n",
    "- **argumentos de entrada:** patrón (regex) + string\n",
    "- **devuelve:** una lista"
   ]
  },
  {
   "cell_type": "code",
   "execution_count": 123,
   "metadata": {},
   "outputs": [
    {
     "data": {
      "text/plain": [
       "['Hola     Ironhack, buscamos a nuestro nuevo    analista  12  345  0.987986  😎  ',\n",
       " '    ',\n",
       " '    lista de contactos: ',\n",
       " '    ',\n",
       " '    hola@gmail.com, yo_rod_aqui@ifgsttdb.es, ih@iron.ih, yo.r.a@gmail.com',\n",
       " '    ',\n",
       " '    +34666123890, 1563-454-222',\n",
       " '    ',\n",
       " '    ean : 0983458721346',\n",
       " '',\n",
       " '']"
      ]
     },
     "execution_count": 123,
     "metadata": {},
     "output_type": "execute_result"
    }
   ],
   "source": [
    "re.split('\\n', texto)"
   ]
  },
  {
   "cell_type": "code",
   "execution_count": 124,
   "metadata": {},
   "outputs": [
    {
     "data": {
      "text/plain": [
       "['Hola     Ironhack, buscamos a nuestro nuevo    analista  ',\n",
       " '  ',\n",
       " '  ',\n",
       " '.',\n",
       " '  😎  \\n    \\n    lista de contactos: \\n    \\n    hola@gmail.com, yo_rod_aqui@ifgsttdb.es, ih@iron.ih, yo.r.a@gmail.com\\n    \\n    +',\n",
       " ', ',\n",
       " '-',\n",
       " '-',\n",
       " '\\n    \\n    ean : ',\n",
       " '\\n\\n']"
      ]
     },
     "execution_count": 124,
     "metadata": {},
     "output_type": "execute_result"
    }
   ],
   "source": [
    "re.split('\\d+', texto)"
   ]
  },
  {
   "cell_type": "code",
   "execution_count": 125,
   "metadata": {},
   "outputs": [
    {
     "data": {
      "text/plain": [
       "['Hola     Ironhack, buscamos a nuestro nuevo    analista  12  345  0.987986  😎  \\n    \\n    lista de contactos: \\n    \\n    ',\n",
       " ', ',\n",
       " ', ',\n",
       " ', ',\n",
       " '\\n    \\n    +34666123890, 1563-454-222\\n    \\n    ean : 0983458721346\\n\\n']"
      ]
     },
     "execution_count": 125,
     "metadata": {},
     "output_type": "execute_result"
    }
   ],
   "source": [
    "re.split(r'[\\w\\.]+@\\w+\\.\\w+', texto)"
   ]
  },
  {
   "cell_type": "markdown",
   "metadata": {},
   "source": [
    "#### Hasta aquí:\n",
    "\n",
    "- Además de obtener objetos y listas se puede sustituir o romper una string a partir de un patrón\n",
    "- Se pueden usar las funciones de python, por ejemplo `re.sub()` por `replace()`, o `re.split()` por `split()`"
   ]
  },
  {
   "cell_type": "markdown",
   "metadata": {},
   "source": [
    "### Más recursos\n",
    "\n",
    "**[pratica con regex101](https://regex101.com/)**\n",
    "\n",
    "[Documentación](https://docs.python.org/3/howto/regex.html)\n",
    "\n",
    "[CHEATSHEET](https://medium.com/factory-mind/regex-tutorial-a-simple-cheatsheet-by-examples-649dc1c3f285)\n",
    "\n",
    "[Tutorial datacamp](https://www.datacamp.com/community/tutorials/python-regular-expression-tutorial)\n",
    "\n",
    "https://www.dataquest.io/blog/regular-expressions-data-scientists/\n",
    "\n",
    "https://www.kaggle.com/rtatman/fraudulent-email-corpus"
   ]
  }
 ],
 "metadata": {
  "kernelspec": {
   "display_name": "clase",
   "language": "python",
   "name": "clase"
  },
  "language_info": {
   "codemirror_mode": {
    "name": "ipython",
    "version": 3
   },
   "file_extension": ".py",
   "mimetype": "text/x-python",
   "name": "python",
   "nbconvert_exporter": "python",
   "pygments_lexer": "ipython3",
   "version": "3.9.7"
  }
 },
 "nbformat": 4,
 "nbformat_minor": 4
}
